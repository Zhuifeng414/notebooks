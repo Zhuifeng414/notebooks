{
 "cells": [
  {
   "cell_type": "code",
   "execution_count": 121,
   "metadata": {
    "collapsed": false
   },
   "outputs": [],
   "source": [
    "%matplotlib inline\n",
    "import sqlite3\n",
    "import pandas as pd\n",
    "import numpy as np\n",
    "import matplotlib.pyplot as plt\n",
    "import matplotlib\n",
    "matplotlib.style.use('ggplot')\n",
    "\n",
    "db1 = '/Users/rca2t/Documents/Projects/BattellePlay/battelle.db'\n",
    "conn = sqlite3.connect(db1)\n",
    "\n",
    "# Generate table of topic edges where docs are edges\n",
    "min = 0.01 # The minimum threshold of topic concentration\n",
    "sql = '''\n",
    "SELECT a.topic_id AS ta, b.topic_id AS tb, count(a.doc_id) AS n, d.doc_label AS year\n",
    "  FROM doctopic_long a JOIN doctopic_long b ON (a.doc_id = b.doc_id) \n",
    "       JOIN doc d ON (a.doc_id = d.doc_id) \n",
    " WHERE ta != tb AND a.topic_weight >= {0} AND b.topic_weight >= {0}\n",
    " GROUP BY ta, tb, year\n",
    " ORDER BY ta, tb, year    \n",
    "'''.format(min)\n",
    "#df1 = pd.read_sql_query(sql,conn,index_col=['ta','tb']) # Very slow!\n",
    "\n",
    "pairs = pd.read_csv('pairs.txt',index_col=['ta','tb']) # Previously generated\n",
    "pairs2 = pd.read_csv('pairs.txt',index_col=['ta','tb','year']) # Previously generated()"
   ]
  },
  {
   "cell_type": "code",
   "execution_count": 175,
   "metadata": {
    "collapsed": false
   },
   "outputs": [
    {
     "data": {
      "text/html": [
       "<div>\n",
       "<table border=\"1\" class=\"dataframe\">\n",
       "  <thead>\n",
       "    <tr style=\"text-align: right;\">\n",
       "      <th></th>\n",
       "      <th>n</th>\n",
       "    </tr>\n",
       "  </thead>\n",
       "  <tbody>\n",
       "    <tr>\n",
       "      <th>count</th>\n",
       "      <td>370544.000000</td>\n",
       "    </tr>\n",
       "    <tr>\n",
       "      <th>mean</th>\n",
       "      <td>11.692512</td>\n",
       "    </tr>\n",
       "    <tr>\n",
       "      <th>std</th>\n",
       "      <td>28.437915</td>\n",
       "    </tr>\n",
       "    <tr>\n",
       "      <th>min</th>\n",
       "      <td>1.000000</td>\n",
       "    </tr>\n",
       "    <tr>\n",
       "      <th>25%</th>\n",
       "      <td>2.000000</td>\n",
       "    </tr>\n",
       "    <tr>\n",
       "      <th>50%</th>\n",
       "      <td>5.000000</td>\n",
       "    </tr>\n",
       "    <tr>\n",
       "      <th>75%</th>\n",
       "      <td>11.000000</td>\n",
       "    </tr>\n",
       "    <tr>\n",
       "      <th>max</th>\n",
       "      <td>1582.000000</td>\n",
       "    </tr>\n",
       "  </tbody>\n",
       "</table>\n",
       "</div>"
      ],
      "text/plain": [
       "                   n\n",
       "count  370544.000000\n",
       "mean       11.692512\n",
       "std        28.437915\n",
       "min         1.000000\n",
       "25%         2.000000\n",
       "50%         5.000000\n",
       "75%        11.000000\n",
       "max      1582.000000"
      ]
     },
     "execution_count": 175,
     "metadata": {},
     "output_type": "execute_result"
    }
   ],
   "source": [
    "pairs2.describe()"
   ]
  },
  {
   "cell_type": "code",
   "execution_count": 173,
   "metadata": {
    "collapsed": false
   },
   "outputs": [
    {
     "data": {
      "text/plain": [
       "<matplotlib.axes._subplots.AxesSubplot at 0x10aceaf28>"
      ]
     },
     "execution_count": 173,
     "metadata": {},
     "output_type": "execute_result"
    },
    {
     "data": {
      "image/png": "[encoded data removed]",
      "text/plain": [
       "<matplotlib.figure.Figure at 0x10ac9cbe0>"
      ]
     },
     "metadata": {},
     "output_type": "display_data"
    }
   ],
   "source": [
    "topn = pairs['n'].value_counts()\n",
    "topn[:25].plot(kind='bar')"
   ]
  },
  {
   "cell_type": "code",
   "execution_count": 122,
   "metadata": {
    "collapsed": false
   },
   "outputs": [
    {
     "data": {
      "text/html": [
       "<div>\n",
       "<table border=\"1\" class=\"dataframe\">\n",
       "  <thead>\n",
       "    <tr style=\"text-align: right;\">\n",
       "      <th></th>\n",
       "      <th>n</th>\n",
       "      <th>year</th>\n",
       "    </tr>\n",
       "  </thead>\n",
       "  <tbody>\n",
       "    <tr>\n",
       "      <th>count</th>\n",
       "      <td>370544.000000</td>\n",
       "      <td>370544.000000</td>\n",
       "    </tr>\n",
       "    <tr>\n",
       "      <th>mean</th>\n",
       "      <td>11.692512</td>\n",
       "      <td>2010.361166</td>\n",
       "    </tr>\n",
       "    <tr>\n",
       "      <th>std</th>\n",
       "      <td>28.437915</td>\n",
       "      <td>3.054802</td>\n",
       "    </tr>\n",
       "    <tr>\n",
       "      <th>min</th>\n",
       "      <td>1.000000</td>\n",
       "      <td>2005.000000</td>\n",
       "    </tr>\n",
       "    <tr>\n",
       "      <th>25%</th>\n",
       "      <td>2.000000</td>\n",
       "      <td>2008.000000</td>\n",
       "    </tr>\n",
       "    <tr>\n",
       "      <th>50%</th>\n",
       "      <td>5.000000</td>\n",
       "      <td>2011.000000</td>\n",
       "    </tr>\n",
       "    <tr>\n",
       "      <th>75%</th>\n",
       "      <td>11.000000</td>\n",
       "      <td>2013.000000</td>\n",
       "    </tr>\n",
       "    <tr>\n",
       "      <th>max</th>\n",
       "      <td>1582.000000</td>\n",
       "      <td>2015.000000</td>\n",
       "    </tr>\n",
       "  </tbody>\n",
       "</table>\n",
       "</div>"
      ],
      "text/plain": [
       "                   n           year\n",
       "count  370544.000000  370544.000000\n",
       "mean       11.692512    2010.361166\n",
       "std        28.437915       3.054802\n",
       "min         1.000000    2005.000000\n",
       "25%         2.000000    2008.000000\n",
       "50%         5.000000    2011.000000\n",
       "75%        11.000000    2013.000000\n",
       "max      1582.000000    2015.000000"
      ]
     },
     "execution_count": 122,
     "metadata": {},
     "output_type": "execute_result"
    }
   ],
   "source": [
    "pairs.describe()"
   ]
  },
  {
   "cell_type": "code",
   "execution_count": 123,
   "metadata": {
    "collapsed": false
   },
   "outputs": [
    {
     "data": {
      "text/html": [
       "<div>\n",
       "<table border=\"1\" class=\"dataframe\">\n",
       "  <thead>\n",
       "    <tr style=\"text-align: right;\">\n",
       "      <th></th>\n",
       "      <th>n</th>\n",
       "    </tr>\n",
       "  </thead>\n",
       "  <tbody>\n",
       "    <tr>\n",
       "      <th>count</th>\n",
       "      <td>370544.000000</td>\n",
       "    </tr>\n",
       "    <tr>\n",
       "      <th>mean</th>\n",
       "      <td>11.692512</td>\n",
       "    </tr>\n",
       "    <tr>\n",
       "      <th>std</th>\n",
       "      <td>28.437915</td>\n",
       "    </tr>\n",
       "    <tr>\n",
       "      <th>min</th>\n",
       "      <td>1.000000</td>\n",
       "    </tr>\n",
       "    <tr>\n",
       "      <th>25%</th>\n",
       "      <td>2.000000</td>\n",
       "    </tr>\n",
       "    <tr>\n",
       "      <th>50%</th>\n",
       "      <td>5.000000</td>\n",
       "    </tr>\n",
       "    <tr>\n",
       "      <th>75%</th>\n",
       "      <td>11.000000</td>\n",
       "    </tr>\n",
       "    <tr>\n",
       "      <th>max</th>\n",
       "      <td>1582.000000</td>\n",
       "    </tr>\n",
       "  </tbody>\n",
       "</table>\n",
       "</div>"
      ],
      "text/plain": [
       "                   n\n",
       "count  370544.000000\n",
       "mean       11.692512\n",
       "std        28.437915\n",
       "min         1.000000\n",
       "25%         2.000000\n",
       "50%         5.000000\n",
       "75%        11.000000\n",
       "max      1582.000000"
      ]
     },
     "execution_count": 123,
     "metadata": {},
     "output_type": "execute_result"
    }
   ],
   "source": [
    "\n",
    "pairs2.describe()"
   ]
  },
  {
   "cell_type": "code",
   "execution_count": 190,
   "metadata": {
    "collapsed": false
   },
   "outputs": [
    {
     "data": {
      "text/html": [
       "<div>\n",
       "<table border=\"1\" class=\"dataframe\">\n",
       "  <thead>\n",
       "    <tr style=\"text-align: right;\">\n",
       "      <th></th>\n",
       "      <th></th>\n",
       "      <th>n</th>\n",
       "    </tr>\n",
       "    <tr>\n",
       "      <th>ta</th>\n",
       "      <th>tb</th>\n",
       "      <th></th>\n",
       "    </tr>\n",
       "  </thead>\n",
       "  <tbody>\n",
       "    <tr>\n",
       "      <th rowspan=\"20\" valign=\"top\">0</th>\n",
       "      <th>1</th>\n",
       "      <td>11</td>\n",
       "    </tr>\n",
       "    <tr>\n",
       "      <th>4</th>\n",
       "      <td>11</td>\n",
       "    </tr>\n",
       "    <tr>\n",
       "      <th>8</th>\n",
       "      <td>26</td>\n",
       "    </tr>\n",
       "    <tr>\n",
       "      <th>23</th>\n",
       "      <td>15</td>\n",
       "    </tr>\n",
       "    <tr>\n",
       "      <th>26</th>\n",
       "      <td>11</td>\n",
       "    </tr>\n",
       "    <tr>\n",
       "      <th>31</th>\n",
       "      <td>21</td>\n",
       "    </tr>\n",
       "    <tr>\n",
       "      <th>38</th>\n",
       "      <td>25</td>\n",
       "    </tr>\n",
       "    <tr>\n",
       "      <th>40</th>\n",
       "      <td>16</td>\n",
       "    </tr>\n",
       "    <tr>\n",
       "      <th>45</th>\n",
       "      <td>11</td>\n",
       "    </tr>\n",
       "    <tr>\n",
       "      <th>59</th>\n",
       "      <td>13</td>\n",
       "    </tr>\n",
       "    <tr>\n",
       "      <th>80</th>\n",
       "      <td>14</td>\n",
       "    </tr>\n",
       "    <tr>\n",
       "      <th>95</th>\n",
       "      <td>12</td>\n",
       "    </tr>\n",
       "    <tr>\n",
       "      <th>114</th>\n",
       "      <td>14</td>\n",
       "    </tr>\n",
       "    <tr>\n",
       "      <th>123</th>\n",
       "      <td>13</td>\n",
       "    </tr>\n",
       "    <tr>\n",
       "      <th>136</th>\n",
       "      <td>46</td>\n",
       "    </tr>\n",
       "    <tr>\n",
       "      <th>152</th>\n",
       "      <td>23</td>\n",
       "    </tr>\n",
       "    <tr>\n",
       "      <th>174</th>\n",
       "      <td>38</td>\n",
       "    </tr>\n",
       "    <tr>\n",
       "      <th>178</th>\n",
       "      <td>11</td>\n",
       "    </tr>\n",
       "    <tr>\n",
       "      <th>188</th>\n",
       "      <td>12</td>\n",
       "    </tr>\n",
       "    <tr>\n",
       "      <th>197</th>\n",
       "      <td>20</td>\n",
       "    </tr>\n",
       "    <tr>\n",
       "      <th rowspan=\"10\" valign=\"top\">1</th>\n",
       "      <th>0</th>\n",
       "      <td>11</td>\n",
       "    </tr>\n",
       "    <tr>\n",
       "      <th>4</th>\n",
       "      <td>14</td>\n",
       "    </tr>\n",
       "    <tr>\n",
       "      <th>8</th>\n",
       "      <td>28</td>\n",
       "    </tr>\n",
       "    <tr>\n",
       "      <th>23</th>\n",
       "      <td>13</td>\n",
       "    </tr>\n",
       "    <tr>\n",
       "      <th>31</th>\n",
       "      <td>33</td>\n",
       "    </tr>\n",
       "    <tr>\n",
       "      <th>38</th>\n",
       "      <td>23</td>\n",
       "    </tr>\n",
       "    <tr>\n",
       "      <th>45</th>\n",
       "      <td>16</td>\n",
       "    </tr>\n",
       "    <tr>\n",
       "      <th>52</th>\n",
       "      <td>18</td>\n",
       "    </tr>\n",
       "    <tr>\n",
       "      <th>59</th>\n",
       "      <td>13</td>\n",
       "    </tr>\n",
       "    <tr>\n",
       "      <th>64</th>\n",
       "      <td>12</td>\n",
       "    </tr>\n",
       "    <tr>\n",
       "      <th>...</th>\n",
       "      <th>...</th>\n",
       "      <td>...</td>\n",
       "    </tr>\n",
       "    <tr>\n",
       "      <th rowspan=\"22\" valign=\"top\">198</th>\n",
       "      <th>160</th>\n",
       "      <td>11</td>\n",
       "    </tr>\n",
       "    <tr>\n",
       "      <th>163</th>\n",
       "      <td>30</td>\n",
       "    </tr>\n",
       "    <tr>\n",
       "      <th>166</th>\n",
       "      <td>12</td>\n",
       "    </tr>\n",
       "    <tr>\n",
       "      <th>167</th>\n",
       "      <td>14</td>\n",
       "    </tr>\n",
       "    <tr>\n",
       "      <th>168</th>\n",
       "      <td>23</td>\n",
       "    </tr>\n",
       "    <tr>\n",
       "      <th>169</th>\n",
       "      <td>27</td>\n",
       "    </tr>\n",
       "    <tr>\n",
       "      <th>170</th>\n",
       "      <td>14</td>\n",
       "    </tr>\n",
       "    <tr>\n",
       "      <th>171</th>\n",
       "      <td>14</td>\n",
       "    </tr>\n",
       "    <tr>\n",
       "      <th>173</th>\n",
       "      <td>11</td>\n",
       "    </tr>\n",
       "    <tr>\n",
       "      <th>174</th>\n",
       "      <td>111</td>\n",
       "    </tr>\n",
       "    <tr>\n",
       "      <th>175</th>\n",
       "      <td>28</td>\n",
       "    </tr>\n",
       "    <tr>\n",
       "      <th>176</th>\n",
       "      <td>42</td>\n",
       "    </tr>\n",
       "    <tr>\n",
       "      <th>178</th>\n",
       "      <td>12</td>\n",
       "    </tr>\n",
       "    <tr>\n",
       "      <th>182</th>\n",
       "      <td>26</td>\n",
       "    </tr>\n",
       "    <tr>\n",
       "      <th>188</th>\n",
       "      <td>18</td>\n",
       "    </tr>\n",
       "    <tr>\n",
       "      <th>189</th>\n",
       "      <td>28</td>\n",
       "    </tr>\n",
       "    <tr>\n",
       "      <th>190</th>\n",
       "      <td>12</td>\n",
       "    </tr>\n",
       "    <tr>\n",
       "      <th>191</th>\n",
       "      <td>14</td>\n",
       "    </tr>\n",
       "    <tr>\n",
       "      <th>192</th>\n",
       "      <td>12</td>\n",
       "    </tr>\n",
       "    <tr>\n",
       "      <th>194</th>\n",
       "      <td>13</td>\n",
       "    </tr>\n",
       "    <tr>\n",
       "      <th>196</th>\n",
       "      <td>24</td>\n",
       "    </tr>\n",
       "    <tr>\n",
       "      <th>197</th>\n",
       "      <td>26</td>\n",
       "    </tr>\n",
       "    <tr>\n",
       "      <th rowspan=\"8\" valign=\"top\">199</th>\n",
       "      <th>8</th>\n",
       "      <td>18</td>\n",
       "    </tr>\n",
       "    <tr>\n",
       "      <th>23</th>\n",
       "      <td>19</td>\n",
       "    </tr>\n",
       "    <tr>\n",
       "      <th>38</th>\n",
       "      <td>16</td>\n",
       "    </tr>\n",
       "    <tr>\n",
       "      <th>59</th>\n",
       "      <td>12</td>\n",
       "    </tr>\n",
       "    <tr>\n",
       "      <th>100</th>\n",
       "      <td>13</td>\n",
       "    </tr>\n",
       "    <tr>\n",
       "      <th>123</th>\n",
       "      <td>11</td>\n",
       "    </tr>\n",
       "    <tr>\n",
       "      <th>136</th>\n",
       "      <td>24</td>\n",
       "    </tr>\n",
       "    <tr>\n",
       "      <th>174</th>\n",
       "      <td>14</td>\n",
       "    </tr>\n",
       "  </tbody>\n",
       "</table>\n",
       "<p>8344 rows × 1 columns</p>\n",
       "</div>"
      ],
      "text/plain": [
       "           n\n",
       "ta  tb      \n",
       "0   1     11\n",
       "    4     11\n",
       "    8     26\n",
       "    23    15\n",
       "    26    11\n",
       "    31    21\n",
       "    38    25\n",
       "    40    16\n",
       "    45    11\n",
       "    59    13\n",
       "    80    14\n",
       "    95    12\n",
       "    114   14\n",
       "    123   13\n",
       "    136   46\n",
       "    152   23\n",
       "    174   38\n",
       "    178   11\n",
       "    188   12\n",
       "    197   20\n",
       "1   0     11\n",
       "    4     14\n",
       "    8     28\n",
       "    23    13\n",
       "    31    33\n",
       "    38    23\n",
       "    45    16\n",
       "    52    18\n",
       "    59    13\n",
       "    64    12\n",
       "...      ...\n",
       "198 160   11\n",
       "    163   30\n",
       "    166   12\n",
       "    167   14\n",
       "    168   23\n",
       "    169   27\n",
       "    170   14\n",
       "    171   14\n",
       "    173   11\n",
       "    174  111\n",
       "    175   28\n",
       "    176   42\n",
       "    178   12\n",
       "    182   26\n",
       "    188   18\n",
       "    189   28\n",
       "    190   12\n",
       "    191   14\n",
       "    192   12\n",
       "    194   13\n",
       "    196   24\n",
       "    197   26\n",
       "199 8     18\n",
       "    23    19\n",
       "    38    16\n",
       "    59    12\n",
       "    100   13\n",
       "    123   11\n",
       "    136   24\n",
       "    174   14\n",
       "\n",
       "[8344 rows x 1 columns]"
      ]
     },
     "execution_count": 190,
     "metadata": {},
     "output_type": "execute_result"
    }
   ],
   "source": [
    "year = pairs['year'] == 2009\n",
    "n = pairs['n'] > 10\n",
    "pairs[year & n][['n']]"
   ]
  },
  {
   "cell_type": "code",
   "execution_count": 134,
   "metadata": {
    "collapsed": false
   },
   "outputs": [],
   "source": [
    "# Get total counts for each year, to adjust count data\n",
    "yrtotals = pd.read_sql_query('SELECT doc_label as year, count(*) as n FROM doc GROUP BY year',conn,index_col='year')"
   ]
  },
  {
   "cell_type": "code",
   "execution_count": 152,
   "metadata": {
    "collapsed": false
   },
   "outputs": [],
   "source": [
    "# Define a new column for just acquired data\n",
    "pairs.year_total = 0"
   ]
  },
  {
   "cell_type": "code",
   "execution_count": 132,
   "metadata": {
    "collapsed": false
   },
   "outputs": [],
   "source": [
    "# Populate the new column\n",
    "for y in range(2005,2016):\n",
    "    c = yrtotals.loc[str(y)]\n",
    "    pairs.loc[pairs['year'] == y,'year_total'] = c.n"
   ]
  },
  {
   "cell_type": "code",
   "execution_count": 135,
   "metadata": {
    "collapsed": false
   },
   "outputs": [],
   "source": [
    "# Adjust the data (as percentage of total)\n",
    "pairs['adj_n'] = pairs['n'] / pairs['year_total']"
   ]
  },
  {
   "cell_type": "code",
   "execution_count": 167,
   "metadata": {
    "collapsed": false
   },
   "outputs": [
    {
     "data": {
      "text/plain": [
       "count    3.705440e+05\n",
       "mean              inf\n",
       "std               NaN\n",
       "min               inf\n",
       "25%               inf\n",
       "50%               inf\n",
       "75%               inf\n",
       "max               inf\n",
       "Name: adj_n, dtype: float64"
      ]
     },
     "execution_count": 167,
     "metadata": {},
     "output_type": "execute_result"
    }
   ],
   "source": [
    "# Look at the results ...\n",
    "pairs['adj_n'].describe()"
   ]
  },
  {
   "cell_type": "code",
   "execution_count": 166,
   "metadata": {
    "collapsed": false
   },
   "outputs": [
    {
     "data": {
      "text/plain": [
       "ta  tb\n",
       "0   3     inf\n",
       "    3     inf\n",
       "    3     inf\n",
       "    3     inf\n",
       "    3     inf\n",
       "    3     inf\n",
       "    3     inf\n",
       "    3     inf\n",
       "    3     inf\n",
       "    3     inf\n",
       "Name: adj_n, dtype: float64"
      ]
     },
     "execution_count": 166,
     "metadata": {},
     "output_type": "execute_result"
    }
   ],
   "source": [
    "pairs.iloc[0,3].adj_n"
   ]
  },
  {
   "cell_type": "code",
   "execution_count": 8,
   "metadata": {
    "collapsed": false
   },
   "outputs": [],
   "source": [
    "test1 = pairs.loc[pairs['adj_n'] > 1,'adj_n']"
   ]
  },
  {
   "cell_type": "code",
   "execution_count": 8,
   "metadata": {
    "collapsed": false
   },
   "outputs": [
    {
     "data": {
      "text/plain": [
       "count    11474.000000\n",
       "mean         2.025919\n",
       "std          1.531631\n",
       "min          1.100000\n",
       "25%          1.200000\n",
       "50%          1.500000\n",
       "75%          2.100000\n",
       "max         17.300000\n",
       "Name: adj_n, dtype: float64"
      ]
     },
     "execution_count": 8,
     "metadata": {},
     "output_type": "execute_result"
    }
   ],
   "source": [
    "test1.describe()"
   ]
  },
  {
   "cell_type": "code",
   "execution_count": 26,
   "metadata": {
    "collapsed": false
   },
   "outputs": [],
   "source": [
    "test2 = pairs.loc[pairs['adj_n'] > 2]"
   ]
  },
  {
   "cell_type": "code",
   "execution_count": 10,
   "metadata": {
    "collapsed": true
   },
   "outputs": [],
   "source": [
    "topics = pd.read_sql_query(\"SELECT topic_id, topic_alpha, topic_words FROM topic\",conn,index_col='topic_id')"
   ]
  },
  {
   "cell_type": "code",
   "execution_count": 12,
   "metadata": {
    "collapsed": false
   },
   "outputs": [
    {
     "name": "stdout",
     "output_type": "stream",
     "text": [
      "136 study important studies provide biological molecular understanding\n",
      "8 high low potential strategy due efficient application\n"
     ]
    }
   ],
   "source": [
    "w1 = topics.ix[136].topic_words\n",
    "w2 = topics.ix[8].topic_words\n",
    "print(136,w1)\n",
    "print(8,w2)"
   ]
  },
  {
   "cell_type": "code",
   "execution_count": 40,
   "metadata": {
    "collapsed": false
   },
   "outputs": [
    {
     "data": {
      "text/plain": [
       "ta  tb\n",
       "0   1      4\n",
       "    1      1\n",
       "    1      1\n",
       "    1      2\n",
       "    1     11\n",
       "    1     10\n",
       "    1     11\n",
       "    1      8\n",
       "    1     11\n",
       "    1     23\n",
       "    1      8\n",
       "Name: n, dtype: int64"
      ]
     },
     "execution_count": 40,
     "metadata": {},
     "output_type": "execute_result"
    }
   ],
   "source": [
    "pairs.ix[8,136][['year','adj_n']]\n",
    "pairs.ix[0,1].n"
   ]
  },
  {
   "cell_type": "code",
   "execution_count": 27,
   "metadata": {
    "collapsed": false
   },
   "outputs": [
    {
     "name": "stdout",
     "output_type": "stream",
     "text": [
      "No pair for 0 1\n",
      "0 methylation dna epigenetic histone gene chromatin expression\n",
      "1 binding sites motifs motif rna transcription domains\n",
      "--------------------\n",
      "No pair for 0 2\n",
      "0 methylation dna epigenetic histone gene chromatin expression\n",
      "2 compounds acid compound derivatives activity methyl nmr\n",
      "--------------------\n",
      "No pair for 0 3\n",
      "0 methylation dna epigenetic histone gene chromatin expression\n",
      "3 patients serum healthy biomarkers controls samples diagnosis\n",
      "--------------------\n",
      "No pair for 0 4\n",
      "0 methylation dna epigenetic histone gene chromatin expression\n",
      "4 protein complex yeast proteins essential assembly function\n",
      "--------------------\n",
      "No pair for 0 5\n",
      "0 methylation dna epigenetic histone gene chromatin expression\n",
      "5 aring space resolution crystals crystal protein group\n",
      "--------------------\n",
      "No pair for 0 6\n",
      "0 methylation dna epigenetic histone gene chromatin expression\n",
      "6 genes reference expression gene normalization housekeeping stable\n",
      "--------------------\n",
      "No pair for 0 7\n",
      "0 methylation dna epigenetic histone gene chromatin expression\n",
      "7 properties mechanical hydrogel strength hydrogels composite materials\n",
      "--------------------\n",
      "No pair for 0 8\n",
      "0 methylation dna epigenetic histone gene chromatin expression\n",
      "8 high low potential strategy due efficient application\n",
      "--------------------\n",
      "No pair for 0 9\n",
      "0 methylation dna epigenetic histone gene chromatin expression\n",
      "9 springer-verlag berlin heidelberg korean bioengineering biotechnology society\n",
      "--------------------\n",
      "No pair for 0 10\n",
      "0 methylation dna epigenetic histone gene chromatin expression\n",
      "10 sequencing genome reads data sequence assembly pylori\n",
      "--------------------\n"
     ]
    }
   ],
   "source": [
    "t = 0\n",
    "for i in range(200):\n",
    "    for j in range(i+1,200):\n",
    "        t += 1\n",
    "        if (t > 10):\n",
    "            break\n",
    "        try:\n",
    "            x = pairs.ix[i,j].loc['year'==2015]\n",
    "        except:\n",
    "            print('No pair for',i,j)\n",
    "            print(i,topics.ix[i].topic_words)\n",
    "            print(j,topics.ix[j].topic_words)\n",
    "            print('-'*20)\n",
    "            continue\n",
    "        v = x.adj_n\n",
    "        print(t, v.values)\n",
    "        '''\n",
    "        if (pairs.ix[i,j].adj_n > 10):            \n",
    "            print('High match for',i,j)\n",
    "            print(i,topics.ix[i].topic_words)\n",
    "            print(j,topics.ix[j].topic_words)\n",
    "            print('-'*20)            \n",
    "        '''\n",
    "        "
   ]
  },
  {
   "cell_type": "code",
   "execution_count": null,
   "metadata": {
    "collapsed": true
   },
   "outputs": [],
   "source": []
  }
 ],
 "metadata": {
  "kernelspec": {
   "display_name": "Python 3",
   "language": "python",
   "name": "python3"
  },
  "language_info": {
   "codemirror_mode": {
    "name": "ipython",
    "version": 3
   },
   "file_extension": ".py",
   "mimetype": "text/x-python",
   "name": "python",
   "nbconvert_exporter": "python",
   "pygments_lexer": "ipython3",
   "version": "3.5.1"
  }
 },
 "nbformat": 4,
 "nbformat_minor": 0
}
