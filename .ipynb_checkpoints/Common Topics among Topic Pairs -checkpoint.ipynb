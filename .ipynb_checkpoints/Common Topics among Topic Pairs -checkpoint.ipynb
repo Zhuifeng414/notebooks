{
 "cells": [
  {
   "cell_type": "code",
   "execution_count": 5,
   "metadata": {
    "collapsed": false
   },
   "outputs": [
    {
     "name": "stdout",
     "output_type": "stream",
     "text": [
      "61 76 (128, 0.6931471805599454)\n"
     ]
    }
   ],
   "source": [
    "import sqlite3\n",
    "\n",
    "db = sqlite3.connect('../battelle.db')\n",
    "cur = db.cursor()\n",
    "\n",
    "thresh = 1\n",
    "\n",
    "sql = '''\n",
    "SELECT topic_id2, js_div FROM topicpair WHERE topic_id1 = ? AND js_div < {0}\n",
    "INTERSECT\n",
    "SELECT topic_id2, js_div FROM topicpair WHERE topic_id1 = ? AND js_div < {0}\n",
    "ORDER BY js_div\n",
    "'''.format(thresh)\n",
    "\n",
    "z = 200\n",
    "for i in range(z):\n",
    "    for j in range(i+1,z):\n",
    "        for r in cur.execute(sql,[i,j]):\n",
    "            print(i,j,r)"
   ]
  },
  {
   "cell_type": "code",
   "execution_count": null,
   "metadata": {
    "collapsed": true
   },
   "outputs": [],
   "source": []
  }
 ],
 "metadata": {
  "kernelspec": {
   "display_name": "Python 3",
   "language": "python",
   "name": "python3"
  },
  "language_info": {
   "codemirror_mode": {
    "name": "ipython",
    "version": 3
   },
   "file_extension": ".py",
   "mimetype": "text/x-python",
   "name": "python",
   "nbconvert_exporter": "python",
   "pygments_lexer": "ipython3",
   "version": "3.5.1"
  }
 },
 "nbformat": 4,
 "nbformat_minor": 0
}
