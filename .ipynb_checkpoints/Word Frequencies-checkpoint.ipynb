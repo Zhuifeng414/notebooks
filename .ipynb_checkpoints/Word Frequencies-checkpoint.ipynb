{
 "cells": [
  {
   "cell_type": "code",
   "execution_count": 75,
   "metadata": {
    "collapsed": false
   },
   "outputs": [],
   "source": [
    "import sqlite3\n",
    "import pandas as pd\n",
    "\n",
    "db = sqlite3.connect('../battelle.db')\n",
    "DW = pd.read_sql_query(\"SELECT doc_id,word_id,word_str,word_count FROM docword\",db)\n",
    "D = pd.read_sql_query('SELECT doc_id,doc_label FROM doc',db)\n",
    "X = pd.merge(D,DW,on='doc_id')"
   ]
  },
  {
   "cell_type": "code",
   "execution_count": 76,
   "metadata": {
    "collapsed": false
   },
   "outputs": [],
   "source": [
    "WordsByYear = X[['word_str','doc_label','word_count']].groupby(['doc_label','word_str']).sum()\n",
    "WordTotals = X[['doc_label','word_count']].groupby(['doc_label']).sum()"
   ]
  },
  {
   "cell_type": "code",
   "execution_count": 87,
   "metadata": {
    "collapsed": false
   },
   "outputs": [
    {
     "data": {
      "text/plain": [
       "word_str\n",
       "#                11\n",
       "%               598\n",
       "&                91\n",
       "'                90\n",
       "''              144\n",
       "'Chinese          1\n",
       "'S                1\n",
       "'s              111\n",
       "*                 2\n",
       "+                50\n",
       "+/-              32\n",
       "+1                2\n",
       "+or-              4\n",
       "-                44\n",
       "-/-               2\n",
       "-0.2              1\n",
       "-1               31\n",
       "-10               3\n",
       "-12               3\n",
       "-2                3\n",
       "-2-               1\n",
       "-3                2\n",
       "-30               1\n",
       "-4                8\n",
       "-5                3\n",
       "-5-               1\n",
       "-6                5\n",
       "-7                3\n",
       "-8                2\n",
       "-85               1\n",
       "               ... \n",
       "yeasts            1\n",
       "yellow            7\n",
       "yet              21\n",
       "yield            56\n",
       "yielded          11\n",
       "yielding          4\n",
       "yields           16\n",
       "yolk              1\n",
       "young             5\n",
       "yr                1\n",
       "zebrafish         5\n",
       "zero              2\n",
       "zinc              8\n",
       "zipper            1\n",
       "zone              9\n",
       "zones             5\n",
       "zwitterionic      6\n",
       "zygotes           8\n",
       "zygotic           2\n",
       "{                32\n",
       "}                29\n",
       "~30               1\n",
       "                 5\n",
       "¡C                1\n",
       "¥                 4\n",
       "©               285\n",
       "©2005             8\n",
       "±                17\n",
       "¹-¹               1\n",
       "á                 8\n",
       "Name: word_count, dtype: int64"
      ]
     },
     "execution_count": 87,
     "metadata": {},
     "output_type": "execute_result"
    }
   ],
   "source": [
    "WordsByYear['adj_word_count'] = 0\n",
    "#WordsByYear['word_count']\n",
    "WordsByYear.loc['2005']['word_count']"
   ]
  },
  {
   "cell_type": "code",
   "execution_count": 92,
   "metadata": {
    "collapsed": false
   },
   "outputs": [
    {
     "name": "stderr",
     "output_type": "stream",
     "text": [
      "/Users/rca2t/anaconda/lib/python3.5/site-packages/ipykernel/__main__.py:7: SettingWithCopyWarning: \n",
      "A value is trying to be set on a copy of a slice from a DataFrame.\n",
      "Try using .loc[row_indexer,col_indexer] = value instead\n",
      "\n",
      "See the caveats in the documentation: http://pandas.pydata.org/pandas-docs/stable/indexing.html#indexing-view-versus-copy\n"
     ]
    },
    {
     "data": {
      "text/html": [
       "<div>\n",
       "<table border=\"1\" class=\"dataframe\">\n",
       "  <thead>\n",
       "    <tr style=\"text-align: right;\">\n",
       "      <th>word_str</th>\n",
       "      <th>!</th>\n",
       "      <th>#</th>\n",
       "      <th>$</th>\n",
       "      <th>%</th>\n",
       "      <th>&amp;</th>\n",
       "      <th>'</th>\n",
       "      <th>''</th>\n",
       "      <th>'Candidatus</th>\n",
       "      <th>'Chinese</th>\n",
       "      <th>'S</th>\n",
       "      <th>...</th>\n",
       "      <th>©2012</th>\n",
       "      <th>©2014</th>\n",
       "      <th>©2015</th>\n",
       "      <th>°</th>\n",
       "      <th>±</th>\n",
       "      <th>²</th>\n",
       "      <th>³</th>\n",
       "      <th>³2</th>\n",
       "      <th>¹-¹</th>\n",
       "      <th>á</th>\n",
       "    </tr>\n",
       "    <tr>\n",
       "      <th>doc_label</th>\n",
       "      <th></th>\n",
       "      <th></th>\n",
       "      <th></th>\n",
       "      <th></th>\n",
       "      <th></th>\n",
       "      <th></th>\n",
       "      <th></th>\n",
       "      <th></th>\n",
       "      <th></th>\n",
       "      <th></th>\n",
       "      <th></th>\n",
       "      <th></th>\n",
       "      <th></th>\n",
       "      <th></th>\n",
       "      <th></th>\n",
       "      <th></th>\n",
       "      <th></th>\n",
       "      <th></th>\n",
       "      <th></th>\n",
       "      <th></th>\n",
       "      <th></th>\n",
       "    </tr>\n",
       "  </thead>\n",
       "  <tbody>\n",
       "    <tr>\n",
       "      <th>2005</th>\n",
       "      <td>0.000000</td>\n",
       "      <td>0.000071</td>\n",
       "      <td>0.000000</td>\n",
       "      <td>0.003878</td>\n",
       "      <td>0.000590</td>\n",
       "      <td>0.000584</td>\n",
       "      <td>0.000934</td>\n",
       "      <td>0.000000e+00</td>\n",
       "      <td>0.000006</td>\n",
       "      <td>6.484622e-06</td>\n",
       "      <td>...</td>\n",
       "      <td>0.000000</td>\n",
       "      <td>0.000000</td>\n",
       "      <td>0.000000e+00</td>\n",
       "      <td>0.000000e+00</td>\n",
       "      <td>0.000110</td>\n",
       "      <td>0.000000</td>\n",
       "      <td>0.000000</td>\n",
       "      <td>0.000000</td>\n",
       "      <td>6.484622e-06</td>\n",
       "      <td>0.000052</td>\n",
       "    </tr>\n",
       "    <tr>\n",
       "      <th>2006</th>\n",
       "      <td>0.000000</td>\n",
       "      <td>0.000023</td>\n",
       "      <td>0.000009</td>\n",
       "      <td>0.003780</td>\n",
       "      <td>0.000367</td>\n",
       "      <td>0.000519</td>\n",
       "      <td>0.000790</td>\n",
       "      <td>0.000000e+00</td>\n",
       "      <td>0.000000</td>\n",
       "      <td>0.000000e+00</td>\n",
       "      <td>...</td>\n",
       "      <td>0.000000</td>\n",
       "      <td>0.000000</td>\n",
       "      <td>0.000000e+00</td>\n",
       "      <td>0.000000e+00</td>\n",
       "      <td>0.000087</td>\n",
       "      <td>0.000000</td>\n",
       "      <td>0.000000</td>\n",
       "      <td>0.000000</td>\n",
       "      <td>4.593519e-06</td>\n",
       "      <td>0.000005</td>\n",
       "    </tr>\n",
       "    <tr>\n",
       "      <th>2007</th>\n",
       "      <td>0.000004</td>\n",
       "      <td>0.000000</td>\n",
       "      <td>0.000000</td>\n",
       "      <td>0.003990</td>\n",
       "      <td>0.000297</td>\n",
       "      <td>0.000527</td>\n",
       "      <td>0.000908</td>\n",
       "      <td>0.000000e+00</td>\n",
       "      <td>0.000000</td>\n",
       "      <td>0.000000e+00</td>\n",
       "      <td>...</td>\n",
       "      <td>0.000000</td>\n",
       "      <td>0.000000</td>\n",
       "      <td>0.000000e+00</td>\n",
       "      <td>0.000000e+00</td>\n",
       "      <td>0.000088</td>\n",
       "      <td>0.000000</td>\n",
       "      <td>0.000000</td>\n",
       "      <td>0.000004</td>\n",
       "      <td>0.000000e+00</td>\n",
       "      <td>0.000000</td>\n",
       "    </tr>\n",
       "    <tr>\n",
       "      <th>2008</th>\n",
       "      <td>0.000000</td>\n",
       "      <td>0.000059</td>\n",
       "      <td>0.000000</td>\n",
       "      <td>0.003407</td>\n",
       "      <td>0.000381</td>\n",
       "      <td>0.000592</td>\n",
       "      <td>0.000630</td>\n",
       "      <td>0.000000e+00</td>\n",
       "      <td>0.000003</td>\n",
       "      <td>2.680462e-06</td>\n",
       "      <td>...</td>\n",
       "      <td>0.000000</td>\n",
       "      <td>0.000000</td>\n",
       "      <td>0.000000e+00</td>\n",
       "      <td>8.041386e-06</td>\n",
       "      <td>0.000064</td>\n",
       "      <td>0.000003</td>\n",
       "      <td>0.000003</td>\n",
       "      <td>0.000000</td>\n",
       "      <td>0.000000e+00</td>\n",
       "      <td>0.000003</td>\n",
       "    </tr>\n",
       "    <tr>\n",
       "      <th>2009</th>\n",
       "      <td>0.000003</td>\n",
       "      <td>0.000005</td>\n",
       "      <td>0.000002</td>\n",
       "      <td>0.003806</td>\n",
       "      <td>0.000428</td>\n",
       "      <td>0.000508</td>\n",
       "      <td>0.000594</td>\n",
       "      <td>0.000000e+00</td>\n",
       "      <td>0.000000</td>\n",
       "      <td>0.000000e+00</td>\n",
       "      <td>...</td>\n",
       "      <td>0.000000</td>\n",
       "      <td>0.000000</td>\n",
       "      <td>0.000000e+00</td>\n",
       "      <td>3.423983e-06</td>\n",
       "      <td>0.000055</td>\n",
       "      <td>0.000000</td>\n",
       "      <td>0.000000</td>\n",
       "      <td>0.000000</td>\n",
       "      <td>0.000000e+00</td>\n",
       "      <td>0.000003</td>\n",
       "    </tr>\n",
       "    <tr>\n",
       "      <th>2010</th>\n",
       "      <td>0.000010</td>\n",
       "      <td>0.000027</td>\n",
       "      <td>0.000003</td>\n",
       "      <td>0.004298</td>\n",
       "      <td>0.000383</td>\n",
       "      <td>0.000674</td>\n",
       "      <td>0.000545</td>\n",
       "      <td>0.000000e+00</td>\n",
       "      <td>0.000000</td>\n",
       "      <td>0.000000e+00</td>\n",
       "      <td>...</td>\n",
       "      <td>0.000000</td>\n",
       "      <td>0.000000</td>\n",
       "      <td>0.000000e+00</td>\n",
       "      <td>2.854965e-06</td>\n",
       "      <td>0.000091</td>\n",
       "      <td>0.000004</td>\n",
       "      <td>0.000000</td>\n",
       "      <td>0.000000</td>\n",
       "      <td>1.427482e-06</td>\n",
       "      <td>0.000006</td>\n",
       "    </tr>\n",
       "    <tr>\n",
       "      <th>2011</th>\n",
       "      <td>0.000012</td>\n",
       "      <td>0.000030</td>\n",
       "      <td>0.000005</td>\n",
       "      <td>0.004913</td>\n",
       "      <td>0.000308</td>\n",
       "      <td>0.000689</td>\n",
       "      <td>0.000656</td>\n",
       "      <td>1.202333e-06</td>\n",
       "      <td>0.000000</td>\n",
       "      <td>0.000000e+00</td>\n",
       "      <td>...</td>\n",
       "      <td>0.000000</td>\n",
       "      <td>0.000000</td>\n",
       "      <td>0.000000e+00</td>\n",
       "      <td>1.202333e-06</td>\n",
       "      <td>0.000044</td>\n",
       "      <td>0.000001</td>\n",
       "      <td>0.000002</td>\n",
       "      <td>0.000000</td>\n",
       "      <td>2.404667e-06</td>\n",
       "      <td>0.000000</td>\n",
       "    </tr>\n",
       "    <tr>\n",
       "      <th>2012</th>\n",
       "      <td>0.000013</td>\n",
       "      <td>0.000011</td>\n",
       "      <td>0.000002</td>\n",
       "      <td>0.004112</td>\n",
       "      <td>0.000277</td>\n",
       "      <td>0.000589</td>\n",
       "      <td>0.000483</td>\n",
       "      <td>1.142966e-06</td>\n",
       "      <td>0.000005</td>\n",
       "      <td>0.000000e+00</td>\n",
       "      <td>...</td>\n",
       "      <td>0.000014</td>\n",
       "      <td>0.000000</td>\n",
       "      <td>0.000000e+00</td>\n",
       "      <td>0.000000e+00</td>\n",
       "      <td>0.000049</td>\n",
       "      <td>0.000000</td>\n",
       "      <td>0.000000</td>\n",
       "      <td>0.000000</td>\n",
       "      <td>1.142966e-06</td>\n",
       "      <td>0.000005</td>\n",
       "    </tr>\n",
       "    <tr>\n",
       "      <th>2013</th>\n",
       "      <td>0.000011</td>\n",
       "      <td>0.000018</td>\n",
       "      <td>0.000014</td>\n",
       "      <td>0.004031</td>\n",
       "      <td>0.000327</td>\n",
       "      <td>0.000591</td>\n",
       "      <td>0.000596</td>\n",
       "      <td>1.859279e-06</td>\n",
       "      <td>0.000000</td>\n",
       "      <td>1.859279e-06</td>\n",
       "      <td>...</td>\n",
       "      <td>0.000000</td>\n",
       "      <td>0.000000</td>\n",
       "      <td>0.000000e+00</td>\n",
       "      <td>9.296393e-07</td>\n",
       "      <td>0.000061</td>\n",
       "      <td>0.000003</td>\n",
       "      <td>0.000004</td>\n",
       "      <td>0.000000</td>\n",
       "      <td>1.859279e-06</td>\n",
       "      <td>0.000003</td>\n",
       "    </tr>\n",
       "    <tr>\n",
       "      <th>2014</th>\n",
       "      <td>0.000008</td>\n",
       "      <td>0.000034</td>\n",
       "      <td>0.000003</td>\n",
       "      <td>0.003720</td>\n",
       "      <td>0.000310</td>\n",
       "      <td>0.000607</td>\n",
       "      <td>0.000551</td>\n",
       "      <td>8.412311e-07</td>\n",
       "      <td>0.000002</td>\n",
       "      <td>8.412311e-07</td>\n",
       "      <td>...</td>\n",
       "      <td>0.000000</td>\n",
       "      <td>0.000012</td>\n",
       "      <td>8.412311e-07</td>\n",
       "      <td>0.000000e+00</td>\n",
       "      <td>0.000045</td>\n",
       "      <td>0.000000</td>\n",
       "      <td>0.000000</td>\n",
       "      <td>0.000003</td>\n",
       "      <td>8.412311e-07</td>\n",
       "      <td>0.000005</td>\n",
       "    </tr>\n",
       "    <tr>\n",
       "      <th>2015</th>\n",
       "      <td>0.000000</td>\n",
       "      <td>0.000000</td>\n",
       "      <td>0.000007</td>\n",
       "      <td>0.003138</td>\n",
       "      <td>0.000264</td>\n",
       "      <td>0.000587</td>\n",
       "      <td>0.000651</td>\n",
       "      <td>0.000000e+00</td>\n",
       "      <td>0.000003</td>\n",
       "      <td>0.000000e+00</td>\n",
       "      <td>...</td>\n",
       "      <td>0.000000</td>\n",
       "      <td>0.000003</td>\n",
       "      <td>8.527257e-06</td>\n",
       "      <td>0.000000e+00</td>\n",
       "      <td>0.000046</td>\n",
       "      <td>0.000000</td>\n",
       "      <td>0.000002</td>\n",
       "      <td>0.000000</td>\n",
       "      <td>0.000000e+00</td>\n",
       "      <td>0.000002</td>\n",
       "    </tr>\n",
       "  </tbody>\n",
       "</table>\n",
       "<p>11 rows × 44326 columns</p>\n",
       "</div>"
      ],
      "text/plain": [
       "word_str          !         #         $         %         &         '  \\\n",
       "doc_label                                                               \n",
       "2005       0.000000  0.000071  0.000000  0.003878  0.000590  0.000584   \n",
       "2006       0.000000  0.000023  0.000009  0.003780  0.000367  0.000519   \n",
       "2007       0.000004  0.000000  0.000000  0.003990  0.000297  0.000527   \n",
       "2008       0.000000  0.000059  0.000000  0.003407  0.000381  0.000592   \n",
       "2009       0.000003  0.000005  0.000002  0.003806  0.000428  0.000508   \n",
       "2010       0.000010  0.000027  0.000003  0.004298  0.000383  0.000674   \n",
       "2011       0.000012  0.000030  0.000005  0.004913  0.000308  0.000689   \n",
       "2012       0.000013  0.000011  0.000002  0.004112  0.000277  0.000589   \n",
       "2013       0.000011  0.000018  0.000014  0.004031  0.000327  0.000591   \n",
       "2014       0.000008  0.000034  0.000003  0.003720  0.000310  0.000607   \n",
       "2015       0.000000  0.000000  0.000007  0.003138  0.000264  0.000587   \n",
       "\n",
       "word_str         ''   'Candidatus  'Chinese            'S    ...        ©2012  \\\n",
       "doc_label                                                    ...                \n",
       "2005       0.000934  0.000000e+00  0.000006  6.484622e-06    ...     0.000000   \n",
       "2006       0.000790  0.000000e+00  0.000000  0.000000e+00    ...     0.000000   \n",
       "2007       0.000908  0.000000e+00  0.000000  0.000000e+00    ...     0.000000   \n",
       "2008       0.000630  0.000000e+00  0.000003  2.680462e-06    ...     0.000000   \n",
       "2009       0.000594  0.000000e+00  0.000000  0.000000e+00    ...     0.000000   \n",
       "2010       0.000545  0.000000e+00  0.000000  0.000000e+00    ...     0.000000   \n",
       "2011       0.000656  1.202333e-06  0.000000  0.000000e+00    ...     0.000000   \n",
       "2012       0.000483  1.142966e-06  0.000005  0.000000e+00    ...     0.000014   \n",
       "2013       0.000596  1.859279e-06  0.000000  1.859279e-06    ...     0.000000   \n",
       "2014       0.000551  8.412311e-07  0.000002  8.412311e-07    ...     0.000000   \n",
       "2015       0.000651  0.000000e+00  0.000003  0.000000e+00    ...     0.000000   \n",
       "\n",
       "word_str      ©2014         ©2015             °         ±         ²         ³  \\\n",
       "doc_label                                                                       \n",
       "2005       0.000000  0.000000e+00  0.000000e+00  0.000110  0.000000  0.000000   \n",
       "2006       0.000000  0.000000e+00  0.000000e+00  0.000087  0.000000  0.000000   \n",
       "2007       0.000000  0.000000e+00  0.000000e+00  0.000088  0.000000  0.000000   \n",
       "2008       0.000000  0.000000e+00  8.041386e-06  0.000064  0.000003  0.000003   \n",
       "2009       0.000000  0.000000e+00  3.423983e-06  0.000055  0.000000  0.000000   \n",
       "2010       0.000000  0.000000e+00  2.854965e-06  0.000091  0.000004  0.000000   \n",
       "2011       0.000000  0.000000e+00  1.202333e-06  0.000044  0.000001  0.000002   \n",
       "2012       0.000000  0.000000e+00  0.000000e+00  0.000049  0.000000  0.000000   \n",
       "2013       0.000000  0.000000e+00  9.296393e-07  0.000061  0.000003  0.000004   \n",
       "2014       0.000012  8.412311e-07  0.000000e+00  0.000045  0.000000  0.000000   \n",
       "2015       0.000003  8.527257e-06  0.000000e+00  0.000046  0.000000  0.000002   \n",
       "\n",
       "word_str         ³2           ¹-¹         á  \n",
       "doc_label                                    \n",
       "2005       0.000000  6.484622e-06  0.000052  \n",
       "2006       0.000000  4.593519e-06  0.000005  \n",
       "2007       0.000004  0.000000e+00  0.000000  \n",
       "2008       0.000000  0.000000e+00  0.000003  \n",
       "2009       0.000000  0.000000e+00  0.000003  \n",
       "2010       0.000000  1.427482e-06  0.000006  \n",
       "2011       0.000000  2.404667e-06  0.000000  \n",
       "2012       0.000000  1.142966e-06  0.000005  \n",
       "2013       0.000000  1.859279e-06  0.000003  \n",
       "2014       0.000003  8.412311e-07  0.000005  \n",
       "2015       0.000000  0.000000e+00  0.000002  \n",
       "\n",
       "[11 rows x 44326 columns]"
      ]
     },
     "execution_count": 92,
     "metadata": {},
     "output_type": "execute_result"
    }
   ],
   "source": [
    "for year in WordTotals.index:\n",
    "    #this_year = WordsByYear.loc[year]['word_count'][0]\n",
    "    #total = WordTotals.loc[year][0]\n",
    "    #adj = (this_year / total) * 100\n",
    "    #print('year',year,'total',total,'this_year',this_year,'adj',adj)\n",
    "    #WordsByYear['adj_word_count'] = adj\n",
    "    WordsByYear.loc[year]['adj_word_count'] = WordsByYear.loc[year]['word_count'] / WordTotals.loc[year][0]\n",
    "WordsByYear1 = WordsByYear.unstack('doc_label').fillna(0)\n",
    "WBY1 = WordsByYear1['adj_word_count'].T\n",
    "WBY1"
   ]
  },
  {
   "cell_type": "code",
   "execution_count": 95,
   "metadata": {
    "collapsed": false
   },
   "outputs": [
    {
     "data": {
      "text/plain": [
       "<matplotlib.axes._subplots.AxesSubplot at 0x141857e80>"
      ]
     },
     "execution_count": 95,
     "metadata": {},
     "output_type": "execute_result"
    },
    {
     "data": {
      "image/png": "[encoded data removed]",
      "text/plain": [
       "<matplotlib.figure.Figure at 0x147105dd8>"
      ]
     },
     "metadata": {},
     "output_type": "display_data"
    }
   ],
   "source": [
    "%matplotlib inline\n",
    "WBY1.loc[:]['biosensor'].plot(kind='bar')"
   ]
  },
  {
   "cell_type": "code",
   "execution_count": 96,
   "metadata": {
    "collapsed": false
   },
   "outputs": [
    {
     "data": {
      "text/plain": [
       "<matplotlib.axes._subplots.AxesSubplot at 0x14a732f28>"
      ]
     },
     "execution_count": 96,
     "metadata": {},
     "output_type": "execute_result"
    },
    {
     "data": {
      "image/png": "[encoded data removed]",
      "text/plain": [
       "<matplotlib.figure.Figure at 0x1465056d8>"
      ]
     },
     "metadata": {},
     "output_type": "display_data"
    }
   ],
   "source": [
    "WBY1.loc[:]['protein'].plot(kind='bar')"
   ]
  },
  {
   "cell_type": "code",
   "execution_count": 97,
   "metadata": {
    "collapsed": false
   },
   "outputs": [
    {
     "data": {
      "text/plain": [
       "<matplotlib.axes._subplots.AxesSubplot at 0x14c9dce48>"
      ]
     },
     "execution_count": 97,
     "metadata": {},
     "output_type": "execute_result"
    },
    {
     "data": {
      "image/png": "[encoded data removed]",
      "text/plain": [
       "<matplotlib.figure.Figure at 0x143707ac8>"
      ]
     },
     "metadata": {},
     "output_type": "display_data"
    }
   ],
   "source": [
    "WBY1.loc[:]['proteome'].plot(kind='bar')"
   ]
  },
  {
   "cell_type": "code",
   "execution_count": 98,
   "metadata": {
    "collapsed": false
   },
   "outputs": [
    {
     "data": {
      "text/plain": [
       "<matplotlib.axes._subplots.AxesSubplot at 0x14d4fcbe0>"
      ]
     },
     "execution_count": 98,
     "metadata": {},
     "output_type": "execute_result"
    },
    {
     "data": {
      "image/png": "[encoded data removed]",
      "text/plain": [
       "<matplotlib.figure.Figure at 0x127b56358>"
      ]
     },
     "metadata": {},
     "output_type": "display_data"
    }
   ],
   "source": [
    "WBY1.loc[:]['algorithm'].plot(kind='bar')"
   ]
  },
  {
   "cell_type": "code",
   "execution_count": null,
   "metadata": {
    "collapsed": true
   },
   "outputs": [],
   "source": []
  }
 ],
 "metadata": {
  "kernelspec": {
   "display_name": "Python 3",
   "language": "python",
   "name": "python3"
  },
  "language_info": {
   "codemirror_mode": {
    "name": "ipython",
    "version": 3
   },
   "file_extension": ".py",
   "mimetype": "text/x-python",
   "name": "python",
   "nbconvert_exporter": "python",
   "pygments_lexer": "ipython3",
   "version": "3.5.1"
  }
 },
 "nbformat": 4,
 "nbformat_minor": 0
}
