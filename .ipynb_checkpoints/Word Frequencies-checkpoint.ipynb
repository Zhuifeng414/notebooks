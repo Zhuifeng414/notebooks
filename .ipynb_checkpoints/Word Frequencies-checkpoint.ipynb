{
 "cells": [
  {
   "cell_type": "code",
   "execution_count": 1,
   "metadata": {
    "collapsed": false
   },
   "outputs": [],
   "source": [
    "import sqlite3\n",
    "import pandas as pd\n",
    "\n",
    "sql1 = '''\n",
    "SELECT d.doc_label as year,\n",
    "       word_id,\n",
    "       word_str,\n",
    "       sum(word_count) as word_count\n",
    "  FROM docword w\n",
    "       JOIN\n",
    "       doc d USING (\n",
    "           doc_id\n",
    "       )\n",
    " GROUP BY doc_label,word_id'''\n",
    "\n",
    "sql2 = '''\n",
    "SELECT d.doc_label as year,\n",
    "       sum(word_count) as word_count\n",
    "  FROM docword w\n",
    "       JOIN\n",
    "       doc d USING (\n",
    "           doc_id\n",
    "       )\n",
    " GROUP BY doc_label'''\n",
    "\n",
    "db = sqlite3.connect('../battelle.db')\n",
    "DW = pd.read_sql_query(sql1,db)\n",
    "WCY = pd.read_sql_query(sql2,db) # Word counts per year"
   ]
  },
  {
   "cell_type": "code",
   "execution_count": 2,
   "metadata": {
    "collapsed": false
   },
   "outputs": [],
   "source": [
    "DW['word_count_adj'] = 0 # Add a new column and set a default value"
   ]
  },
  {
   "cell_type": "code",
   "execution_count": 3,
   "metadata": {
    "collapsed": false
   },
   "outputs": [],
   "source": [
    "for i, year in enumerate(WCY['year']):\n",
    "    wc = WCY[WCY['year'] == year]['word_count'][i]\n",
    "    DW.loc[DW['year'] == year,'word_count_adj'] = (DW.loc[DW['year'] == year,'word_count'] / wc) * 100"
   ]
  },
  {
   "cell_type": "code",
   "execution_count": 4,
   "metadata": {
    "collapsed": false
   },
   "outputs": [],
   "source": [
    "sql3 = '''\n",
    "SELECT word_str,\n",
    "       sum(word_count) AS n\n",
    "  FROM topicword_long\n",
    " GROUP BY word_str\n",
    " ORDER BY n DESC\n",
    " LIMIT 1000'''\n",
    "TW = pd.read_sql_query(sql3,db)\n",
    "words = [word for word in TW['word_str']]"
   ]
  },
  {
   "cell_type": "code",
   "execution_count": 7,
   "metadata": {
    "collapsed": false
   },
   "outputs": [
    {
     "name": "stdout",
     "output_type": "stream",
     "text": [
      "dna not foud\n",
      "elsevier not foud\n",
      "rna not foud\n",
      "pcr not foud\n",
      "ieee not foud\n",
      "mirnas not foud\n",
      "b.v not foud\n",
      "mrna not foud\n",
      "mir not foud\n",
      "american not foud\n",
      "mirna not foud\n",
      "cdna not foud\n",
      "hcc not foud\n",
      "springer-verlag not foud\n",
      "bsa not foud\n",
      "degc not foud\n",
      "rt-pcr not foud\n",
      "g/l not foud\n",
      "springer not foud\n",
      "mg/l not foud\n",
      "hsp not foud\n",
      "kda not foud\n",
      "snps not foud\n",
      "wiley not foud\n",
      "nps not foud\n",
      "rnas not foud\n"
     ]
    },
    {
     "name": "stderr",
     "output_type": "stream",
     "text": [
      "/Users/rca2t/anaconda/lib/python3.5/site-packages/matplotlib/pyplot.py:516: RuntimeWarning: More than 20 figures have been opened. Figures created through the pyplot interface (`matplotlib.pyplot.figure`) are retained until explicitly closed and may consume too much memory. (To control this warning, see the rcParam `figure.max_open_warning`).\n",
      "  max_open_warning, RuntimeWarning)\n"
     ]
    }
   ],
   "source": [
    "#%matplotlib inline\n",
    "import matplotlib\n",
    "import matplotlib.style\n",
    "matplotlib.style.use('ggplot')\n",
    "\n",
    "t = {}\n",
    "for word in words:\n",
    "    try:\n",
    "        t[word] += 1\n",
    "    except:\n",
    "        t[word] = 1\n",
    "        try:\n",
    "            ax = DW[['year','word_count_adj']][DW['word_str']==word].plot(x='year', kind='bar', legend=False,title=word)\n",
    "            fig = ax.get_figure()\n",
    "            fig.savefig('word-plots/{}.png'.format(word))\n",
    "            fig.clear()\n",
    "        except:\n",
    "            print(word,\"not found\")\n",
    "        "
   ]
  },
  {
   "cell_type": "code",
   "execution_count": null,
   "metadata": {
    "collapsed": true
   },
   "outputs": [],
   "source": []
  }
 ],
 "metadata": {
  "kernelspec": {
   "display_name": "Python 3",
   "language": "python",
   "name": "python3"
  },
  "language_info": {
   "codemirror_mode": {
    "name": "ipython",
    "version": 3
   },
   "file_extension": ".py",
   "mimetype": "text/x-python",
   "name": "python",
   "nbconvert_exporter": "python",
   "pygments_lexer": "ipython3",
   "version": "3.5.1"
  }
 },
 "nbformat": 4,
 "nbformat_minor": 0
}
