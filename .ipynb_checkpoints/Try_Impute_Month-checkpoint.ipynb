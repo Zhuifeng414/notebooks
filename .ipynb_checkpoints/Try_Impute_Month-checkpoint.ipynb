{
 "cells": [
  {
   "cell_type": "code",
   "execution_count": 58,
   "metadata": {
    "collapsed": true
   },
   "outputs": [],
   "source": [
    "import pandas as pd\n",
    "from sklearn.linear_model import LinearRegression\n",
    "import statsmodels.formula.api as sm\n",
    "import os\n",
    "import numpy as np\n",
    "from functools import reduce\n",
    "import matplotlib as mpl\n",
    "import sqlite3 as sql\n",
    "%matplotlib inline"
   ]
  },
  {
   "cell_type": "code",
   "execution_count": 57,
   "metadata": {
    "collapsed": true
   },
   "outputs": [],
   "source": [
    "db_path = \"/home/matt/Datasets/Battelle Data/database/main.db\""
   ]
  },
  {
   "cell_type": "code",
   "execution_count": 2,
   "metadata": {
    "collapsed": true
   },
   "outputs": [],
   "source": [
    "pd.set_option('max_colwidth',250)\n",
    "pd.set_option('display.width',250)"
   ]
  },
  {
   "cell_type": "code",
   "execution_count": 3,
   "metadata": {
    "collapsed": false
   },
   "outputs": [
    {
     "data": {
      "text/plain": [
       "'/home/matt/Git/PGIP/src'"
      ]
     },
     "execution_count": 3,
     "metadata": {},
     "output_type": "execute_result"
    }
   ],
   "source": [
    "os.chdir('/home/matt/Git/PGIP/src')\n",
    "os.getcwd()"
   ]
  },
  {
   "cell_type": "code",
   "execution_count": 4,
   "metadata": {
    "collapsed": true
   },
   "outputs": [],
   "source": [
    "import pipeline as PGIP\n",
    "os.chdir('..')\n",
    "E = PGIP.Explorer('config/cache')\n",
    "P = PGIP.Pipeline('config/cache')"
   ]
  },
  {
   "cell_type": "code",
   "execution_count": 5,
   "metadata": {
    "collapsed": false
   },
   "outputs": [
    {
     "name": "stdout",
     "output_type": "stream",
     "text": [
      "Data files: ['ISI_Medline-synthetic biology.csv', 'ISI_Medline-transcriptomics.csv']\n",
      "column sample: ['PT' 'AN' 'DT' 'TI' 'FT' 'AU' 'CA' 'SO' 'VL' 'IS']\n",
      "column sample: ['PT' 'AN' 'DT' 'TI' 'FT' 'AU' 'CA' 'SO' 'VL' 'IS']\n",
      "Data files: ['ISI_Inspec-proteomics.csv', 'ISI_Inspec-transcriptomics.csv']\n",
      "column sample: ['PT' 'AN' 'DT' 'PN' 'PC' 'TI' 'AU' 'ED' 'TR' 'OP']\n",
      "column sample: ['PT' 'AN' 'DT' 'PN' 'PC' 'TI' 'AU' 'ED' 'TR' 'OP']\n",
      "Data files: ['IEEE-proteomics.csv', 'IEEE-transcriptomics.csv']\n",
      "column sample: ['Document Title' 'Authors' 'Author Affiliations' 'Publication Title'\n",
      " 'Date Added To Xplore' 'Year' 'Volume' 'Issue' 'Start Page' 'End Page']\n",
      "column sample: ['Document Title' 'Authors' 'Author Affiliations' 'Publication Title'\n",
      " 'Date Added To Xplore' 'Year' 'Volume' 'Issue' 'Start Page' 'End Page']\n",
      "Data files: ['EV-transcriptomics.xlsx', 'EV-proteomics.2013-2016.xlsx']\n",
      "column sample: ['Title' 'Accession number' 'Author' 'Author affiliation'\n",
      " 'Corresponding author' 'Source' 'Abbreviated source title' 'Sponsor'\n",
      " 'Publisher' 'Volume']\n",
      "column sample: ['Title' 'Accession number' 'Author' 'Author affiliation'\n",
      " 'Corresponding author' 'Source' 'Abbreviated source title' 'Sponsor'\n",
      " 'Publisher' 'Volume']\n",
      "Data files: ['ISI_WoS-transcriptomics.csv', 'ISI_WoS-transcriptomics1.csv']\n",
      "column sample: ['PT' 'AU' 'BA' 'BE' 'GP' 'AF' 'BF' 'CA' 'TI' 'SO']\n",
      "column sample: ['PT' 'AU' 'BA' 'BE' 'GP' 'AF' 'BF' 'CA' 'TI' 'SO']\n",
      "Data files: ['ISI_CCC-proteomics.csv', 'ISI_CCC-transcriptomics.csv']\n",
      "column sample: ['PT' 'AU' 'AF' 'CA' 'TI' 'SO' 'SE' 'ED' 'LA' 'DT']\n",
      "column sample: ['PT' 'AU' 'AF' 'CA' 'TI' 'SO' 'SE' 'ED' 'LA' 'DT']\n",
      "Data files: ['Scopus-synthetic gene.xlsx', 'Scopus-synthetic gene network.xlsx', 'Scopus-gene synthesis.xlsx']\n",
      "column sample: ['Authors' 'Title' 'Year' 'Source title' 'Volume' 'Issue' 'Art. No.'\n",
      " 'Page start' 'Page end' 'Page count']\n",
      "column sample: ['Authors' 'Title' 'Year' 'Source title' 'Volume' 'Issue' 'Art. No.'\n",
      " 'Page start' 'Page end' 'Page count']\n",
      "column sample: ['Authors' 'Title' 'Year' 'Source title' 'Volume' 'Issue' 'Art. No.'\n",
      " 'Page start' 'Page end' 'Page count']\n"
     ]
    }
   ],
   "source": [
    "E.readSampleData('sandbox')\n",
    "E.renameColumns()"
   ]
  },
  {
   "cell_type": "code",
   "execution_count": 6,
   "metadata": {
    "collapsed": true
   },
   "outputs": [],
   "source": [
    "df = pd.DataFrame()\n",
    "for source in E.data:\n",
    "    data = E.data[source].data\n",
    "    data['Source'] = source\n",
    "    df = pd.concat([df,data])"
   ]
  },
  {
   "cell_type": "code",
   "execution_count": 7,
   "metadata": {
    "collapsed": false
   },
   "outputs": [
    {
     "data": {
      "text/plain": [
       "(2385, 33)"
      ]
     },
     "execution_count": 7,
     "metadata": {},
     "output_type": "execute_result"
    }
   ],
   "source": [
    "df.shape"
   ]
  },
  {
   "cell_type": "code",
   "execution_count": 8,
   "metadata": {
    "collapsed": true
   },
   "outputs": [],
   "source": [
    "df['Month'] = df.apply(P.adders.addMonth,axis=1)"
   ]
  },
  {
   "cell_type": "code",
   "execution_count": 9,
   "metadata": {
    "collapsed": false
   },
   "outputs": [
    {
     "data": {
      "text/plain": [
       "995"
      ]
     },
     "execution_count": 9,
     "metadata": {},
     "output_type": "execute_result"
    }
   ],
   "source": [
    "df.Month.isnull().sum()"
   ]
  },
  {
   "cell_type": "code",
   "execution_count": 10,
   "metadata": {
    "collapsed": false
   },
   "outputs": [
    {
     "data": {
      "text/plain": [
       "0"
      ]
     },
     "execution_count": 10,
     "metadata": {},
     "output_type": "execute_result"
    }
   ],
   "source": [
    "df.Year.isnull().sum()"
   ]
  },
  {
   "cell_type": "code",
   "execution_count": 11,
   "metadata": {
    "collapsed": true
   },
   "outputs": [],
   "source": [
    "df['TimeSlice'] = df.apply(P.adders.addTimeSlice,axis = 1)"
   ]
  },
  {
   "cell_type": "code",
   "execution_count": 12,
   "metadata": {
    "collapsed": false
   },
   "outputs": [
    {
     "data": {
      "text/plain": [
       "995"
      ]
     },
     "execution_count": 12,
     "metadata": {},
     "output_type": "execute_result"
    }
   ],
   "source": [
    "df.TimeSlice.isnull().sum()"
   ]
  },
  {
   "cell_type": "code",
   "execution_count": 13,
   "metadata": {
    "collapsed": true
   },
   "outputs": [],
   "source": [
    "df.Issue = df.Issue.apply(P.cleaners.cleanIssue)"
   ]
  },
  {
   "cell_type": "code",
   "execution_count": 14,
   "metadata": {
    "collapsed": false
   },
   "outputs": [],
   "source": [
    "df.Volume = df.Volume.apply(P.cleaners.cleanVolume)"
   ]
  },
  {
   "cell_type": "code",
   "execution_count": 16,
   "metadata": {
    "collapsed": true
   },
   "outputs": [],
   "source": [
    "codens = set(df.CODEN.fillna('').unique())\n",
    "def trim_coden(coden,codens):\n",
    "    if pd.isnull(coden):\n",
    "        return coden\n",
    "    if len(coden) <= 5:\n",
    "        return coden\n",
    "    short = coden[0:5]\n",
    "    if short in codens:\n",
    "        return short\n",
    "    else:\n",
    "        return coden"
   ]
  },
  {
   "cell_type": "code",
   "execution_count": 17,
   "metadata": {
    "collapsed": true
   },
   "outputs": [],
   "source": [
    "df.CODEN = df.CODEN.apply(trim_coden,codens=codens)"
   ]
  },
  {
   "cell_type": "code",
   "execution_count": 18,
   "metadata": {
    "collapsed": true
   },
   "outputs": [],
   "source": [
    "def pred(row,params,target):\n",
    "    \n",
    "    if pd.isnull(row[target]):\n",
    "        row.loc['Intercept'] = 1\n",
    "        row = row[params.index]\n",
    "        if any([pd.isnull(i) for i in row]):\n",
    "            return np.nan\n",
    "        \n",
    "        p = row*params\n",
    "        p = round(p.sum(),0)\n",
    "        \n",
    "        return int(p)\n",
    "        \n",
    "    else:\n",
    "        return row.loc[target]"
   ]
  },
  {
   "cell_type": "code",
   "execution_count": 27,
   "metadata": {
    "collapsed": true
   },
   "outputs": [],
   "source": [
    "codens = df.CODEN.unique()\n",
    "issns = df.ISSN.unique()\n",
    "confidenceThreshold = .6"
   ]
  },
  {
   "cell_type": "code",
   "execution_count": null,
   "metadata": {
    "collapsed": true
   },
   "outputs": [],
   "source": [
    "primaryID = 'ISSN'\n",
    "#secondaryIDs = ['CODEN','AbbrPubTitle','PublicationTitle']\n",
    "secondaryIDs=['CODEN']"
   ]
  },
  {
   "cell_type": "code",
   "execution_count": 103,
   "metadata": {
    "collapsed": false
   },
   "outputs": [],
   "source": [
    "def impute_timeslice(df,primaryID,secondaryIDs,confidenceThreshold,verbose=False):\n",
    "    total_imputed = 0\n",
    "    imputed_indices = set()\n",
    "\n",
    "    for code in df[primaryID].unique():\n",
    "        a = df.loc[df[primaryID] == code,[primaryID]+secondaryIDs+['Issue','Volume','Year','Month','TimeSlice']]\n",
    "        altcodes = {}\n",
    "        for secondaryID in secondaryIDs:\n",
    "            altcodes[secondaryID] = a[secondaryID].notnull().unique()\n",
    "\n",
    "        locs = reduce(np.logical_or,[df[sec].isin(altcodes[sec]) for sec in secondaryIDs])\n",
    "        #df.loc[locs,primaryID] = code\n",
    "        if np.sum(locs) > 0:\n",
    "            a = df.loc[locs,[primaryID]+secondaryIDs+['Issue','Volume','Year','Month','TimeSlice']]\n",
    "\n",
    "        if a.shape[0] < 3:\n",
    "            #rint('\\n')\n",
    "            continue\n",
    "\n",
    "        count = a.TimeSlice.isnull().sum()\n",
    "\n",
    "        if count == 0:\n",
    "            #rint('\\n')\n",
    "            continue\n",
    "\n",
    "        if (a.Issue.notnull() & a.Volume.notnull() & a.TimeSlice.notnull()).sum() >= 3:\n",
    "            imputable = (a.Issue.notnull() & a.Volume.notnull() & a.TimeSlice.isnull()).sum()\n",
    "            if imputable > 0:\n",
    "                result = sm.ols(formula=\"TimeSlice ~ Volume + Issue\", data=a).fit()\n",
    "                target = 'TimeSlice'\n",
    "        elif (a.Issue.notnull() & a.Month.notnull()).sum() >= 2:\n",
    "            imputable = (a.Issue.notnull() & a.Month.isnull()).sum()\n",
    "            if imputable > 0:\n",
    "                result = sm.ols(formula=\"Month ~ Issue\", data=a).fit()\n",
    "                target = 'Month'\n",
    "        elif (a.Volume.notnull() & a.TimeSlice.notnull()).sum() >= 2:\n",
    "            imputable = (a.Volume.notnull() & a.TimeSlice.isnull()).sum()\n",
    "            if imputable > 0:\n",
    "                result = sm.ols(formula=\"TimeSlice ~ Volume\", data=a).fit()\n",
    "                target = 'TimeSlice'\n",
    "        else:\n",
    "            #print(\"imputable: 0\")\n",
    "            #rint('\\n')\n",
    "            continue\n",
    "\n",
    "        if result.rsquared < 0 or result.rsquared > 1:\n",
    "            #print(a)\n",
    "            #rint('\\n')\n",
    "            continue\n",
    "\n",
    "        if result.rsquared > confidenceThreshold:\n",
    "            p = a.apply(pred,axis =1,**{'params':result.params,'target':target})\n",
    "            new = set(a.index[a[target] != p])\n",
    "            imputed_indices = imputed_indices.union(new)\n",
    "            a.loc[:,target] = p\n",
    "            #print(a)\n",
    "            if target == 'Month':\n",
    "                a.loc[:,'TimeSlice'] = a.apply(lambda row: 12*(row.loc['Year'] - 1990) + row.loc['Month'],axis=1)\n",
    "\n",
    "            imputed = count - a.TimeSlice.isnull().sum()\n",
    "            total_imputed += imputed\n",
    "            \n",
    "            if verbose:\n",
    "                print(\"{}: {}\".format(primaryID,code))\n",
    "                print(\"sample size: {}\".format(a.shape[0]))\n",
    "                print(\"null count: {}\".format(count))\n",
    "                print(\"imputable: {}\".format(imputable))\n",
    "                print(\"R^2: {}\\n\".format(result.rsquared))\n",
    "                print(\"IMPUTED: {}\\n\".format(imputed))\n",
    "            \n",
    "    return imputed_indices"
   ]
  },
  {
   "cell_type": "markdown",
   "metadata": {},
   "source": [
    "# Let's try this on the whole db"
   ]
  },
  {
   "cell_type": "code",
   "execution_count": 99,
   "metadata": {
    "collapsed": false
   },
   "outputs": [],
   "source": [
    "df = pd.read_sql_query('select * from main',sql.connect(db_path))"
   ]
  },
  {
   "cell_type": "code",
   "execution_count": 109,
   "metadata": {
    "collapsed": false
   },
   "outputs": [
    {
     "data": {
      "text/plain": [
       "(115099, 35)"
      ]
     },
     "execution_count": 109,
     "metadata": {},
     "output_type": "execute_result"
    }
   ],
   "source": [
    "df.shape"
   ]
  },
  {
   "cell_type": "code",
   "execution_count": 110,
   "metadata": {
    "collapsed": false
   },
   "outputs": [
    {
     "data": {
      "text/plain": [
       "34917"
      ]
     },
     "execution_count": 110,
     "metadata": {},
     "output_type": "execute_result"
    }
   ],
   "source": [
    "df.duplicated(subset=['Title']).sum()"
   ]
  },
  {
   "cell_type": "code",
   "execution_count": 111,
   "metadata": {
    "collapsed": false
   },
   "outputs": [
    {
     "data": {
      "text/plain": [
       "54242"
      ]
     },
     "execution_count": 111,
     "metadata": {},
     "output_type": "execute_result"
    }
   ],
   "source": [
    "df.duplicated(subset=['DOI']).sum()"
   ]
  },
  {
   "cell_type": "code",
   "execution_count": 124,
   "metadata": {
    "collapsed": false
   },
   "outputs": [
    {
     "name": "stdout",
     "output_type": "stream",
     "text": [
      "20432\n"
     ]
    }
   ],
   "source": [
    "imputed_indices = impute_timeslice(df,primaryID='ISSN',secondaryIDs=['CODEN','Title','DOI'],confidenceThreshold=.5)\n",
    "total_imputed = len(imputed_indices)\n",
    "print(total_imputed)"
   ]
  },
  {
   "cell_type": "markdown",
   "metadata": {
    "collapsed": false
   },
   "source": [
    "# The verdict:"
   ]
  },
  {
   "cell_type": "code",
   "execution_count": 125,
   "metadata": {
    "collapsed": false
   },
   "outputs": [
    {
     "name": "stdout",
     "output_type": "stream",
     "text": [
      "48.405% missing\n",
      "17.752% imputed\n",
      "30.654% missing after imputation\n"
     ]
    }
   ],
   "source": [
    "p_missing = df.TimeSlice.isnull().sum()/df.shape[0]\n",
    "p_imputed = total_imputed/df.shape[0]\n",
    "print(\"{}% missing\".format(round(100*p_missing,3)))\n",
    "print(\"{}% imputed\".format(round(100*p_imputed,3)))\n",
    "print(\"{}% missing after imputation\".format(round(100*(p_missing-p_imputed),3)))"
   ]
  },
  {
   "cell_type": "markdown",
   "metadata": {},
   "source": [
    "## And slightly worse final results if we subset on only the entries with unique DOI's"
   ]
  },
  {
   "cell_type": "code",
   "execution_count": 126,
   "metadata": {
    "collapsed": false
   },
   "outputs": [
    {
     "data": {
      "text/plain": [
       "(60857, 35)"
      ]
     },
     "execution_count": 126,
     "metadata": {},
     "output_type": "execute_result"
    }
   ],
   "source": [
    "df2 = df[np.logical_not(df.duplicated(['DOI']))]\n",
    "imputed_indices2=imputed_indices.intersection(set(df2.index))\n",
    "total_imputed2 = len(imputed_indices2)\n",
    "df2.shape"
   ]
  },
  {
   "cell_type": "code",
   "execution_count": 127,
   "metadata": {
    "collapsed": false
   },
   "outputs": [
    {
     "name": "stdout",
     "output_type": "stream",
     "text": [
      "58.573% missing\n",
      "23.623% imputed\n",
      "34.951% missing after imputation\n"
     ]
    }
   ],
   "source": [
    "p_missing2 = df2.TimeSlice.isnull().sum()/df2.shape[0]\n",
    "p_imputed2 = total_imputed2/df2.shape[0]\n",
    "print(\"{}% missing\".format(round(100*p_missing2,3)))\n",
    "print(\"{}% imputed\".format(round(100*p_imputed2,3)))\n",
    "print(\"{}% missing after imputation\".format(round(100*(p_missing2-p_imputed2),3)))"
   ]
  },
  {
   "cell_type": "markdown",
   "metadata": {},
   "source": [
    "## functions for imputation in the db:"
   ]
  },
  {
   "cell_type": "code",
   "execution_count": 109,
   "metadata": {
    "collapsed": false
   },
   "outputs": [],
   "source": [
    "def imputeCODEN(connection,table,recordID=None):\n",
    "    if not recordID:\n",
    "        recordID = 'ROWID'\n",
    "    columns = [recordID,'CODEN','AbbrPubTitle','PublicationTitle']\n",
    "    columnString = ', '.join(columns)\n",
    "\n",
    "    codens = connection.execute('SELECT DISTINCT CODEN FROM {0}'.format(table)).fetchall()\n",
    "    codens = list(next(zip(*codens)))\n",
    "    \n",
    "    for code in codens:\n",
    "        \n",
    "        command = 'SELECT {0} FROM {1} WHERE CODEN = \"{3}\"'.format(columnString,table,code)\n",
    "        df = connection.execute(command).fetchall()\n",
    "        df = pd.DataFrame(df,columns = columns)\n",
    "        \n",
    "        abbrevs = list(df.AbbrPubTitle.unique())\n",
    "        titles = list(df.PublicationTitle.unique())\n",
    "\n",
    "        if len(abbrevs) > 1 or len(titles) > 1:\n",
    "            # Update the db\n",
    "            abbrString = '\"' + '\",\"'.join(abbrevs) + '\"'\n",
    "            titleString = '\"' + '\", \"'.join(titles) + '\"'\n",
    "            \n",
    "            command = ('UPDATE {0} SET CODEN = \"{1}\" ' +\n",
    "                      'WHERE AbbrPubTitle IN ({2}) ' +\n",
    "                      'OR PublicationTitle IN ({3})').format(table,code,abbrString,titleString)\n",
    "            \n",
    "            mem.execute(command)\n",
    "        \n",
    "\n",
    "def imputeTimeSlice(connection,table,recordID=None,confidenceThreshold = .6):\n",
    "    if not recordID:\n",
    "        recordID = 'ROWID'\n",
    "    columns = [recordID,'Issue','Volume','Year','Month','TimeSlice']\n",
    "    columnString = ', '.join(columns)\n",
    "        \n",
    "    codens = connection.execute('SELECT DISTINCT CODEN FROM {0}'.format(table)).fetchall()\n",
    "    codens = list(next(zip(*codens)))\n",
    "    \n",
    "    for code in codens:\n",
    "        command = 'SELECT {0} FROM {1} WHERE CODEN = \"{3}\"'.format(columnString,table,code)\n",
    "        df = connection.execute(command).fetchall()\n",
    "        df = pd.DataFrame(df,columns = columns) \n",
    "\n",
    "        if df.Timeslice.isnull().sum() == 0 or df.shape[0] < 2:\n",
    "            continue     \n",
    "        \n",
    "        df = imputeTimeSliceSample(df)\n",
    "        df = df[df.imputed,[recordID,'Month','TimeSlice']]\n",
    "        df = df.setindex(recordID)\n",
    "        \n",
    "        for i in df.index:\n",
    "            command = ('UPDATE {0} SET Month = {1}, TimeSlice = {2} ' + \n",
    "                      'WHERE {3} = {4}').format(table,df.loc[i,'Month'],df.loc[i,'TimeSlice'],recordID = i)\n",
    "            connection.execute(command)\n",
    "            \n",
    "        \n",
    "\n",
    "\n",
    "def imputeTimeSliceSample(dataframe):\n",
    "        a = dataframe\n",
    "        a.loc[:,'imputed'] = False\n",
    "        initial = a.loc[:,'TimeSlice']\n",
    "        \n",
    "        if a.shape[0] < 2:\n",
    "            return a\n",
    "            \n",
    "        if (a.Issue.notnull() & a.Volume.notnull() & a.TimeSlice.notnull()).sum() >= 3:\n",
    "            imputable = (a.Issue.notnull() & a.Volume.notnull() & a.TimeSlice.isnull()).sum()\n",
    "            if imputable > 0:\n",
    "                result = sm.ols(formula=\"TimeSlice ~ Volume + Issue\", data=a).fit()\n",
    "                target = 'TimeSlice'\n",
    "        elif (a.Issue.notnull() & a.Month.notnull()).sum() >= 2:\n",
    "            imputable = (a.Issue.notnull() & a.Month.isnull()).sum()\n",
    "            if imputable > 0:\n",
    "                result = sm.ols(formula=\"Month ~ Issue\", data=a).fit()\n",
    "                target = 'Month'\n",
    "        elif (a.Volume.notnull() & a.TimeSlice.notnull()).sum() >= 2:\n",
    "            imputable = (a.Volume.notnull() & a.TimeSlice.isnull()).sum()\n",
    "            if imputable > 0:\n",
    "                result = sm.ols(formula=\"TimeSlice ~ Volume\", data=a).fit()\n",
    "                target = 'TimeSlice'\n",
    "        else:\n",
    "            return a\n",
    "        \n",
    "        if result.rsquared > confidenceThreshold:\n",
    "            p = a.apply(pred,axis =1,**{'params':result.params,'target':target})\n",
    "            a.loc[:,target] = p\n",
    "            print(a)\n",
    "            if target == 'Month':\n",
    "                a.loc[:,'TimeSlice'] = a.apply(lambda row: 12*(row.loc['Year'] - 1990) + row.loc['Month'])\n",
    "            \n",
    "            a.loc[:,'imputed'] = a.TimeSlice != initial\n",
    "        \n",
    "        return imputed\n",
    "            "
   ]
  }
 ],
 "metadata": {
  "kernelspec": {
   "display_name": "Python 3",
   "language": "python",
   "name": "python3"
  },
  "language_info": {
   "codemirror_mode": {
    "name": "ipython",
    "version": 3
   },
   "file_extension": ".py",
   "mimetype": "text/x-python",
   "name": "python",
   "nbconvert_exporter": "python",
   "pygments_lexer": "ipython3",
   "version": "3.5.1"
  }
 },
 "nbformat": 4,
 "nbformat_minor": 0
}
