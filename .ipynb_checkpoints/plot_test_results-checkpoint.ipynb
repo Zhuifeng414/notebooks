{
 "cells": [
  {
   "cell_type": "code",
   "execution_count": 21,
   "metadata": {
    "collapsed": true
   },
   "outputs": [],
   "source": [
    "import pylab\n",
    "from matplotlib import pyplot as plt\n",
    "import pandas as pd\n",
    "\n",
    "%matplotlib inline\n",
    "pylab.rcParams['figure.figsize'] = (16.0, 10.0)\n",
    "\n",
    "results = pd.read_csv(\"/home/matt/Datasets/Battelle Data/data-extracted/testing_results3.csv\")\n",
    "\n",
    "results = results[results.kernels=='gaussian']\n",
    "\n",
    "results.drop('kernels',axis=1,inplace=True)\n",
    "\n",
    "results = results.set_index(['gammas','metrics']).stack().unstack(level=0)\n",
    "\n",
    "results.head()\n",
    "\n",
    "#precision = results[(results.metrics=='precision') & (results.kernels=='laplace')]\n",
    "#recall = results[(results.metrics=='recall') & (results.kernels=='laplace')]\n",
    "#f1 =  results[(results.metrics=='F1') & (results.kernels=='laplace')]\n",
    "\n",
    "for metric in results.index.levels[0]:\n",
    "    plot = results.loc[metric].plot(kind='box')\n",
    "    plot.set_ylabel(metric,size=24)\n",
    "    plot.set_xlabel(\"gamma\",size=24)\n",
    "    plot.set_ylim(bottom=0,top=1)\n",
    "    plot.set_xticklabels(labels=results.columns,rotation=90)\n",
    "    plot.grid(True)\n",
    "    fig = plot.get_figure()\n",
    "    fig.savefig(metric+'_gaussian.png',resolution=300)\n",
    "    "
   ]
  }
 ],
 "metadata": {
  "kernelspec": {
   "display_name": "Python 3",
   "language": "python",
   "name": "python3"
  },
  "language_info": {
   "codemirror_mode": {
    "name": "ipython",
    "version": 3
   },
   "file_extension": ".py",
   "mimetype": "text/x-python",
   "name": "python",
   "nbconvert_exporter": "python",
   "pygments_lexer": "ipython3",
   "version": "3.5.1"
  }
 },
 "nbformat": 4,
 "nbformat_minor": 0
}
