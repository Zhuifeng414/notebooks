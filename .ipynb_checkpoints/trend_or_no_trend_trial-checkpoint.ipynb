{
 "cells": [
  {
   "cell_type": "code",
   "execution_count": 1,
   "metadata": {
    "collapsed": true
   },
   "outputs": [],
   "source": [
    "import sqlite3 as sql\n",
    "import pandas as pd\n",
    "import os\n",
    "import matplotlib.pyplot as plt\n",
    "import functools\n",
    "import re\n",
    "from matplotlib import pyplot as plt\n",
    "import numpy as np\n",
    "from sklearn import metrics as sk_metrics\n",
    "from itertools import product\n",
    "%matplotlib inline"
   ]
  },
  {
   "cell_type": "code",
   "execution_count": 74,
   "metadata": {
    "collapsed": true
   },
   "outputs": [],
   "source": [
    "# location of trends.csv\n",
    "data_dir='/home/matt/Datasets/Battelle Data/data-extracted/'\n",
    "# location of databases\n",
    "db_dir='/home/matt/Datasets/Battelle Data/databases/'\n",
    "main_database = 'battelle.db'\n",
    "# save results of model testing here\n",
    "results_output='testing_results4.csv'"
   ]
  },
  {
   "cell_type": "markdown",
   "metadata": {},
   "source": [
    "## read the labels"
   ]
  },
  {
   "cell_type": "code",
   "execution_count": 3,
   "metadata": {
    "collapsed": false
   },
   "outputs": [],
   "source": [
    "os.chdir(data_dir)\n",
    "words = pd.read_csv(\"trends.csv\")\n",
    "words.columns = ['word_str','label']\n",
    "words.set_index('word_str',inplace=True)"
   ]
  },
  {
   "cell_type": "markdown",
   "metadata": {},
   "source": [
    "## 0-1 encode the labels"
   ]
  },
  {
   "cell_type": "code",
   "execution_count": 4,
   "metadata": {
    "collapsed": true
   },
   "outputs": [],
   "source": [
    "def zero_one(x):\n",
    "    if x > 90:\n",
    "        return 1\n",
    "    return 0"
   ]
  },
  {
   "cell_type": "code",
   "execution_count": 5,
   "metadata": {
    "collapsed": true
   },
   "outputs": [],
   "source": [
    "words.label = words.label.apply(zero_one)"
   ]
  },
  {
   "cell_type": "code",
   "execution_count": 6,
   "metadata": {
    "collapsed": false
   },
   "outputs": [
    {
     "data": {
      "text/html": [
       "<div>\n",
       "<table border=\"1\" class=\"dataframe\">\n",
       "  <thead>\n",
       "    <tr style=\"text-align: right;\">\n",
       "      <th></th>\n",
       "      <th>label</th>\n",
       "    </tr>\n",
       "    <tr>\n",
       "      <th>word_str</th>\n",
       "      <th></th>\n",
       "    </tr>\n",
       "  </thead>\n",
       "  <tbody>\n",
       "    <tr>\n",
       "      <th>ability</th>\n",
       "      <td>0</td>\n",
       "    </tr>\n",
       "    <tr>\n",
       "      <th>abiotic</th>\n",
       "      <td>1</td>\n",
       "    </tr>\n",
       "    <tr>\n",
       "      <th>absorption</th>\n",
       "      <td>0</td>\n",
       "    </tr>\n",
       "    <tr>\n",
       "      <th>abundance</th>\n",
       "      <td>1</td>\n",
       "    </tr>\n",
       "    <tr>\n",
       "      <th>abundant</th>\n",
       "      <td>1</td>\n",
       "    </tr>\n",
       "  </tbody>\n",
       "</table>\n",
       "</div>"
      ],
      "text/plain": [
       "            label\n",
       "word_str         \n",
       "ability         0\n",
       "abiotic         1\n",
       "absorption      0\n",
       "abundance       1\n",
       "abundant        1"
      ]
     },
     "execution_count": 6,
     "metadata": {},
     "output_type": "execute_result"
    }
   ],
   "source": [
    "words.head()"
   ]
  },
  {
   "cell_type": "markdown",
   "metadata": {},
   "source": [
    "## get the word counts from the db"
   ]
  },
  {
   "cell_type": "code",
   "execution_count": 7,
   "metadata": {
    "collapsed": true
   },
   "outputs": [],
   "source": [
    "os.chdir(db_dir)\n",
    "con = sql.connect(main_database)\n",
    "cur = con.cursor()"
   ]
  },
  {
   "cell_type": "code",
   "execution_count": 8,
   "metadata": {
    "collapsed": true
   },
   "outputs": [],
   "source": [
    "command = '''\n",
    "SELECT d.doc_label as year,\n",
    "       word_id,\n",
    "       word_str,\n",
    "       sum(word_count) as word_count\n",
    "  FROM docword w\n",
    "       JOIN\n",
    "       doc d USING (\n",
    "           doc_id\n",
    "       )\n",
    "  WHERE word_str in {}\n",
    " GROUP BY doc_label,word_id'''\n"
   ]
  },
  {
   "cell_type": "code",
   "execution_count": 9,
   "metadata": {
    "collapsed": false
   },
   "outputs": [
    {
     "data": {
      "text/plain": [
       "Index(['label'], dtype='object')"
      ]
     },
     "execution_count": 9,
     "metadata": {},
     "output_type": "execute_result"
    }
   ],
   "source": [
    "words.columns"
   ]
  },
  {
   "cell_type": "code",
   "execution_count": 10,
   "metadata": {
    "collapsed": false
   },
   "outputs": [],
   "source": [
    "# selector list for sql query: ('word1','word2', ...)\n",
    "id_string ='('+re.sub(\"'\",'\"',re.sub('[\\[\\]]','',str(list(words.index))))+')'"
   ]
  },
  {
   "cell_type": "code",
   "execution_count": 11,
   "metadata": {
    "collapsed": false
   },
   "outputs": [],
   "source": [
    "word_counts = pd.read_sql_query(command.format(id_string),con)"
   ]
  },
  {
   "cell_type": "code",
   "execution_count": 12,
   "metadata": {
    "collapsed": false
   },
   "outputs": [
    {
     "data": {
      "text/plain": [
       "(10957, 4)"
      ]
     },
     "execution_count": 12,
     "metadata": {},
     "output_type": "execute_result"
    }
   ],
   "source": [
    "# sanity check\n",
    "word_counts.columns\n",
    "word_counts.shape"
   ]
  },
  {
   "cell_type": "code",
   "execution_count": 13,
   "metadata": {
    "collapsed": false
   },
   "outputs": [],
   "source": [
    "# don't need the word ids\n",
    "word_counts.drop('word_id',axis=1,inplace=True)\n",
    "# reindex and reshape\n",
    "word_counts.set_index(['word_str','year'],inplace=True)\n",
    "word_counts=word_counts.unstack(level=1)\n",
    "word_counts.fillna(0,inplace=True)"
   ]
  },
  {
   "cell_type": "code",
   "execution_count": 14,
   "metadata": {
    "collapsed": false
   },
   "outputs": [
    {
     "data": {
      "text/html": [
       "<div>\n",
       "<table border=\"1\" class=\"dataframe\">\n",
       "  <thead>\n",
       "    <tr>\n",
       "      <th></th>\n",
       "      <th colspan=\"11\" halign=\"left\">word_count</th>\n",
       "    </tr>\n",
       "    <tr>\n",
       "      <th>year</th>\n",
       "      <th>2005</th>\n",
       "      <th>2006</th>\n",
       "      <th>2007</th>\n",
       "      <th>2008</th>\n",
       "      <th>2009</th>\n",
       "      <th>2010</th>\n",
       "      <th>2011</th>\n",
       "      <th>2012</th>\n",
       "      <th>2013</th>\n",
       "      <th>2014</th>\n",
       "      <th>2015</th>\n",
       "    </tr>\n",
       "    <tr>\n",
       "      <th>word_str</th>\n",
       "      <th></th>\n",
       "      <th></th>\n",
       "      <th></th>\n",
       "      <th></th>\n",
       "      <th></th>\n",
       "      <th></th>\n",
       "      <th></th>\n",
       "      <th></th>\n",
       "      <th></th>\n",
       "      <th></th>\n",
       "      <th></th>\n",
       "    </tr>\n",
       "  </thead>\n",
       "  <tbody>\n",
       "    <tr>\n",
       "      <th>ability</th>\n",
       "      <td>68</td>\n",
       "      <td>126</td>\n",
       "      <td>159</td>\n",
       "      <td>213</td>\n",
       "      <td>341</td>\n",
       "      <td>406</td>\n",
       "      <td>458</td>\n",
       "      <td>462</td>\n",
       "      <td>592</td>\n",
       "      <td>659</td>\n",
       "      <td>300</td>\n",
       "    </tr>\n",
       "    <tr>\n",
       "      <th>abiotic</th>\n",
       "      <td>12</td>\n",
       "      <td>14</td>\n",
       "      <td>18</td>\n",
       "      <td>17</td>\n",
       "      <td>25</td>\n",
       "      <td>49</td>\n",
       "      <td>57</td>\n",
       "      <td>101</td>\n",
       "      <td>133</td>\n",
       "      <td>171</td>\n",
       "      <td>109</td>\n",
       "    </tr>\n",
       "    <tr>\n",
       "      <th>absorption</th>\n",
       "      <td>31</td>\n",
       "      <td>35</td>\n",
       "      <td>47</td>\n",
       "      <td>74</td>\n",
       "      <td>140</td>\n",
       "      <td>130</td>\n",
       "      <td>154</td>\n",
       "      <td>163</td>\n",
       "      <td>167</td>\n",
       "      <td>203</td>\n",
       "      <td>76</td>\n",
       "    </tr>\n",
       "    <tr>\n",
       "      <th>abundance</th>\n",
       "      <td>25</td>\n",
       "      <td>45</td>\n",
       "      <td>63</td>\n",
       "      <td>60</td>\n",
       "      <td>93</td>\n",
       "      <td>111</td>\n",
       "      <td>149</td>\n",
       "      <td>185</td>\n",
       "      <td>252</td>\n",
       "      <td>286</td>\n",
       "      <td>192</td>\n",
       "    </tr>\n",
       "    <tr>\n",
       "      <th>abundant</th>\n",
       "      <td>14</td>\n",
       "      <td>34</td>\n",
       "      <td>36</td>\n",
       "      <td>46</td>\n",
       "      <td>82</td>\n",
       "      <td>97</td>\n",
       "      <td>126</td>\n",
       "      <td>150</td>\n",
       "      <td>196</td>\n",
       "      <td>223</td>\n",
       "      <td>136</td>\n",
       "    </tr>\n",
       "  </tbody>\n",
       "</table>\n",
       "</div>"
      ],
      "text/plain": [
       "           word_count                                                  \n",
       "year             2005 2006 2007 2008 2009 2010 2011 2012 2013 2014 2015\n",
       "word_str                                                               \n",
       "ability            68  126  159  213  341  406  458  462  592  659  300\n",
       "abiotic            12   14   18   17   25   49   57  101  133  171  109\n",
       "absorption         31   35   47   74  140  130  154  163  167  203   76\n",
       "abundance          25   45   63   60   93  111  149  185  252  286  192\n",
       "abundant           14   34   36   46   82   97  126  150  196  223  136"
      ]
     },
     "execution_count": 14,
     "metadata": {},
     "output_type": "execute_result"
    }
   ],
   "source": [
    "word_counts.head()"
   ]
  },
  {
   "cell_type": "markdown",
   "metadata": {},
   "source": [
    "## get total term frequency by year"
   ]
  },
  {
   "cell_type": "code",
   "execution_count": 15,
   "metadata": {
    "collapsed": false
   },
   "outputs": [],
   "source": [
    "# command = \"\"\"\n",
    "# SELECT SUM(word_count), doc_label\n",
    "# FROM docword\n",
    "# JOIN doc USING (doc_id)\n",
    "# GROUP BY doc_label\n",
    "# \"\"\"\n",
    "# ttf = pd.read_sql_query(command,con)\n",
    "\n",
    "\n",
    "#ttf.columns = ['count','year']\n",
    "#ttf.set_index('year',inplace=True)\n",
    "\n",
    "# make a pandas Series\n",
    "#ttf = ttf['count']"
   ]
  },
  {
   "cell_type": "code",
   "execution_count": 16,
   "metadata": {
    "collapsed": true
   },
   "outputs": [],
   "source": [
    "# apply smoothing\n",
    "word_counts = word_counts + 1"
   ]
  },
  {
   "cell_type": "code",
   "execution_count": 17,
   "metadata": {
    "collapsed": false
   },
   "outputs": [
    {
     "data": {
      "text/plain": [
       "            year\n",
       "word_count  2005     67444\n",
       "            2006     94496\n",
       "            2007    119726\n",
       "            2008    163394\n",
       "            2009    253906\n",
       "            2010    304858\n",
       "            2011    359149\n",
       "            2012    387667\n",
       "            2013    477366\n",
       "            2014    528996\n",
       "            2015    263299\n",
       "dtype: float64"
      ]
     },
     "execution_count": 17,
     "metadata": {},
     "output_type": "execute_result"
    }
   ],
   "source": [
    "# accumulate ttfs by year\n",
    "ttf = word_counts.apply(np.sum,axis=0)\n",
    "ttf"
   ]
  },
  {
   "cell_type": "code",
   "execution_count": 18,
   "metadata": {
    "collapsed": false
   },
   "outputs": [
    {
     "data": {
      "text/plain": [
       "25861"
      ]
     },
     "execution_count": 18,
     "metadata": {},
     "output_type": "execute_result"
    }
   ],
   "source": [
    "cur.execute(\"select word_id from docword where word_str = 'unigenes'\").fetchone()[0]"
   ]
  },
  {
   "cell_type": "code",
   "execution_count": 19,
   "metadata": {
    "collapsed": false
   },
   "outputs": [
    {
     "data": {
      "text/plain": [
       "<Container object of 11 artists>"
      ]
     },
     "execution_count": 19,
     "metadata": {},
     "output_type": "execute_result"
    },
    {
     "data": {
      "image/png": "[encoded data removed]",
      "text/plain": [
       "<matplotlib.figure.Figure at 0x7f8ed538d9b0>"
      ]
     },
     "metadata": {},
     "output_type": "display_data"
    }
   ],
   "source": [
    "# sanity check on unigenes\n",
    "test = word_counts.loc['unigenes']/ttf\n",
    "plt.bar(left=range(2005,2016),height=test)"
   ]
  },
  {
   "cell_type": "markdown",
   "metadata": {},
   "source": [
    "## normalize frequencies to proportions"
   ]
  },
  {
   "cell_type": "code",
   "execution_count": 20,
   "metadata": {
    "collapsed": true
   },
   "outputs": [],
   "source": [
    "word_props = word_counts.apply(lambda x: x/ttf,axis=1)\n",
    "word_props.fillna(0,inplace=True)"
   ]
  },
  {
   "cell_type": "code",
   "execution_count": 21,
   "metadata": {
    "collapsed": false
   },
   "outputs": [
    {
     "data": {
      "text/plain": [
       "<Container object of 11 artists>"
      ]
     },
     "execution_count": 21,
     "metadata": {},
     "output_type": "execute_result"
    },
    {
     "data": {
      "image/png": "[encoded data removed]",
      "text/plain": [
       "<matplotlib.figure.Figure at 0x7f8ed537f898>"
      ]
     },
     "metadata": {},
     "output_type": "display_data"
    }
   ],
   "source": [
    "# sanity check\n",
    "plt.bar(left=range(len(word_props.columns)),height=word_props.iloc[0])"
   ]
  },
  {
   "cell_type": "markdown",
   "metadata": {},
   "source": [
    "## normalize series to shapes"
   ]
  },
  {
   "cell_type": "code",
   "execution_count": 22,
   "metadata": {
    "collapsed": false
   },
   "outputs": [],
   "source": [
    "trends = word_props.apply(lambda x: x/x.sum(),axis=1)"
   ]
  },
  {
   "cell_type": "code",
   "execution_count": 25,
   "metadata": {
    "collapsed": false
   },
   "outputs": [
    {
     "data": {
      "text/plain": [
       "(1000, 11)"
      ]
     },
     "execution_count": 25,
     "metadata": {},
     "output_type": "execute_result"
    }
   ],
   "source": [
    "trends.shape"
   ]
  },
  {
   "cell_type": "code",
   "execution_count": 26,
   "metadata": {
    "collapsed": true
   },
   "outputs": [],
   "source": [
    "# take logs\n",
    "trends = trends.apply(np.log)"
   ]
  },
  {
   "cell_type": "code",
   "execution_count": 27,
   "metadata": {
    "collapsed": false
   },
   "outputs": [
    {
     "data": {
      "text/plain": [
       "(1000, 11)"
      ]
     },
     "execution_count": 27,
     "metadata": {},
     "output_type": "execute_result"
    }
   ],
   "source": [
    "trends.shape"
   ]
  },
  {
   "cell_type": "code",
   "execution_count": 28,
   "metadata": {
    "collapsed": false
   },
   "outputs": [
    {
     "data": {
      "text/html": [
       "<div>\n",
       "<table border=\"1\" class=\"dataframe\">\n",
       "  <thead>\n",
       "    <tr>\n",
       "      <th></th>\n",
       "      <th colspan=\"11\" halign=\"left\">word_count</th>\n",
       "    </tr>\n",
       "    <tr>\n",
       "      <th>year</th>\n",
       "      <th>2005</th>\n",
       "      <th>2006</th>\n",
       "      <th>2007</th>\n",
       "      <th>2008</th>\n",
       "      <th>2009</th>\n",
       "      <th>2010</th>\n",
       "      <th>2011</th>\n",
       "      <th>2012</th>\n",
       "      <th>2013</th>\n",
       "      <th>2014</th>\n",
       "      <th>2015</th>\n",
       "    </tr>\n",
       "    <tr>\n",
       "      <th>word_str</th>\n",
       "      <th></th>\n",
       "      <th></th>\n",
       "      <th></th>\n",
       "      <th></th>\n",
       "      <th></th>\n",
       "      <th></th>\n",
       "      <th></th>\n",
       "      <th></th>\n",
       "      <th></th>\n",
       "      <th></th>\n",
       "      <th></th>\n",
       "    </tr>\n",
       "  </thead>\n",
       "  <tbody>\n",
       "    <tr>\n",
       "      <th>ability</th>\n",
       "      <td>-2.601900</td>\n",
       "      <td>-2.329080</td>\n",
       "      <td>-2.334741</td>\n",
       "      <td>-2.354898</td>\n",
       "      <td>-2.326863</td>\n",
       "      <td>-2.335742</td>\n",
       "      <td>-2.379396</td>\n",
       "      <td>-2.447129</td>\n",
       "      <td>-2.407798</td>\n",
       "      <td>-2.403450</td>\n",
       "      <td>-2.490889</td>\n",
       "    </tr>\n",
       "    <tr>\n",
       "      <th>abiotic</th>\n",
       "      <td>-2.494357</td>\n",
       "      <td>-2.688516</td>\n",
       "      <td>-2.688775</td>\n",
       "      <td>-3.053801</td>\n",
       "      <td>-3.126876</td>\n",
       "      <td>-2.655831</td>\n",
       "      <td>-2.671303</td>\n",
       "      <td>-2.183182</td>\n",
       "      <td>-2.118452</td>\n",
       "      <td>-1.971495</td>\n",
       "      <td>-1.720818</td>\n",
       "    </tr>\n",
       "    <tr>\n",
       "      <th>absorption</th>\n",
       "      <td>-2.268358</td>\n",
       "      <td>-2.487834</td>\n",
       "      <td>-2.436801</td>\n",
       "      <td>-2.301472</td>\n",
       "      <td>-2.111000</td>\n",
       "      <td>-2.367445</td>\n",
       "      <td>-2.363108</td>\n",
       "      <td>-2.383076</td>\n",
       "      <td>-2.567115</td>\n",
       "      <td>-2.475657</td>\n",
       "      <td>-2.752281</td>\n",
       "    </tr>\n",
       "    <tr>\n",
       "      <th>abundance</th>\n",
       "      <td>-2.605845</td>\n",
       "      <td>-2.372560</td>\n",
       "      <td>-2.278967</td>\n",
       "      <td>-2.637935</td>\n",
       "      <td>-2.646313</td>\n",
       "      <td>-2.653991</td>\n",
       "      <td>-2.525746</td>\n",
       "      <td>-2.387044</td>\n",
       "      <td>-2.287538</td>\n",
       "      <td>-2.264143</td>\n",
       "      <td>-1.963244</td>\n",
       "    </tr>\n",
       "    <tr>\n",
       "      <th>abundant</th>\n",
       "      <td>-2.873769</td>\n",
       "      <td>-2.363731</td>\n",
       "      <td>-2.544809</td>\n",
       "      <td>-2.616538</td>\n",
       "      <td>-2.488645</td>\n",
       "      <td>-2.505400</td>\n",
       "      <td>-2.410072</td>\n",
       "      <td>-2.313388</td>\n",
       "      <td>-2.255601</td>\n",
       "      <td>-2.229856</td>\n",
       "      <td>-2.023831</td>\n",
       "    </tr>\n",
       "  </tbody>\n",
       "</table>\n",
       "</div>"
      ],
      "text/plain": [
       "           word_count                                                    \\\n",
       "year             2005      2006      2007      2008      2009      2010   \n",
       "word_str                                                                  \n",
       "ability     -2.601900 -2.329080 -2.334741 -2.354898 -2.326863 -2.335742   \n",
       "abiotic     -2.494357 -2.688516 -2.688775 -3.053801 -3.126876 -2.655831   \n",
       "absorption  -2.268358 -2.487834 -2.436801 -2.301472 -2.111000 -2.367445   \n",
       "abundance   -2.605845 -2.372560 -2.278967 -2.637935 -2.646313 -2.653991   \n",
       "abundant    -2.873769 -2.363731 -2.544809 -2.616538 -2.488645 -2.505400   \n",
       "\n",
       "                                                              \n",
       "year            2011      2012      2013      2014      2015  \n",
       "word_str                                                      \n",
       "ability    -2.379396 -2.447129 -2.407798 -2.403450 -2.490889  \n",
       "abiotic    -2.671303 -2.183182 -2.118452 -1.971495 -1.720818  \n",
       "absorption -2.363108 -2.383076 -2.567115 -2.475657 -2.752281  \n",
       "abundance  -2.525746 -2.387044 -2.287538 -2.264143 -1.963244  \n",
       "abundant   -2.410072 -2.313388 -2.255601 -2.229856 -2.023831  "
      ]
     },
     "execution_count": 28,
     "metadata": {},
     "output_type": "execute_result"
    }
   ],
   "source": [
    "trends.head()"
   ]
  },
  {
   "cell_type": "code",
   "execution_count": 29,
   "metadata": {
    "collapsed": false
   },
   "outputs": [
    {
     "data": {
      "text/html": [
       "<div>\n",
       "<table border=\"1\" class=\"dataframe\">\n",
       "  <thead>\n",
       "    <tr style=\"text-align: right;\">\n",
       "      <th></th>\n",
       "      <th>label</th>\n",
       "    </tr>\n",
       "    <tr>\n",
       "      <th>word_str</th>\n",
       "      <th></th>\n",
       "    </tr>\n",
       "  </thead>\n",
       "  <tbody>\n",
       "    <tr>\n",
       "      <th>ability</th>\n",
       "      <td>0</td>\n",
       "    </tr>\n",
       "    <tr>\n",
       "      <th>abiotic</th>\n",
       "      <td>1</td>\n",
       "    </tr>\n",
       "    <tr>\n",
       "      <th>absorption</th>\n",
       "      <td>0</td>\n",
       "    </tr>\n",
       "    <tr>\n",
       "      <th>abundance</th>\n",
       "      <td>1</td>\n",
       "    </tr>\n",
       "    <tr>\n",
       "      <th>abundant</th>\n",
       "      <td>1</td>\n",
       "    </tr>\n",
       "  </tbody>\n",
       "</table>\n",
       "</div>"
      ],
      "text/plain": [
       "            label\n",
       "word_str         \n",
       "ability         0\n",
       "abiotic         1\n",
       "absorption      0\n",
       "abundance       1\n",
       "abundant        1"
      ]
     },
     "execution_count": 29,
     "metadata": {},
     "output_type": "execute_result"
    }
   ],
   "source": [
    "words.head()"
   ]
  },
  {
   "cell_type": "code",
   "execution_count": 30,
   "metadata": {
    "collapsed": true
   },
   "outputs": [],
   "source": [
    "words.sort_index(inplace=True)\n",
    "trends.sort_index(inplace=True)"
   ]
  },
  {
   "cell_type": "markdown",
   "metadata": {},
   "source": [
    "## the model"
   ]
  },
  {
   "cell_type": "code",
   "execution_count": 77,
   "metadata": {
    "collapsed": true
   },
   "outputs": [],
   "source": [
    "def laplace_kernel(v1,v2,gamma):\n",
    "    return np.exp(-1*gamma*np.sqrt(np.sum(np.square(v1-v2))))\n",
    "def gaussian_kernel(v1,v2,gamma):\n",
    "    return np.exp(-1*gamma*(np.sum(np.square(v1-v2))))\n",
    "def lag_gauss_kernel(v1,v2,gamma):\n",
    "    v1 = (v1-np.roll(v1,1))[1:]\n",
    "    v2 = (v2-np.roll(v2,1))[1:]\n",
    "    return np.exp(-1*gamma*(np.sum(np.square(v1-v2))))"
   ]
  },
  {
   "cell_type": "code",
   "execution_count": 32,
   "metadata": {
    "collapsed": false
   },
   "outputs": [],
   "source": [
    "def classify(sequence,labels,trends,gamma,kernel):\n",
    "    scores = trends.apply(lambda v:kernel(np.array(v),np.array(sequence),gamma),axis=1)\n",
    "    pos = labels*scores\n",
    "    neg = (1-labels)*scores\n",
    "    return pos.mean()/neg.mean()"
   ]
  },
  {
   "cell_type": "markdown",
   "metadata": {},
   "source": [
    "## An example"
   ]
  },
  {
   "cell_type": "code",
   "execution_count": 33,
   "metadata": {
    "collapsed": false
   },
   "outputs": [
    {
     "name": "stdout",
     "output_type": "stream",
     "text": [
      "1\n"
     ]
    },
    {
     "data": {
      "text/plain": [
       "102138253402.67963"
      ]
     },
     "execution_count": 33,
     "metadata": {},
     "output_type": "execute_result"
    }
   ],
   "source": [
    "# a positive case\n",
    "i=92\n",
    "print(words.label.iloc[i])\n",
    "classify(trends.iloc[i],words.label,trends,gamma=50,kernel=laplace_kernel)"
   ]
  },
  {
   "cell_type": "code",
   "execution_count": 34,
   "metadata": {
    "collapsed": false
   },
   "outputs": [
    {
     "name": "stdout",
     "output_type": "stream",
     "text": [
      "0\n"
     ]
    },
    {
     "data": {
      "text/plain": [
       "3.7340305373614517e-07"
      ]
     },
     "execution_count": 34,
     "metadata": {},
     "output_type": "execute_result"
    }
   ],
   "source": [
    "# a negative case\n",
    "i=100\n",
    "print(words.label.iloc[i])\n",
    "classify(trends.iloc[i],words.label,trends,gamma=50,kernel=laplace_kernel)"
   ]
  },
  {
   "cell_type": "markdown",
   "metadata": {},
   "source": [
    "## validate parameters"
   ]
  },
  {
   "cell_type": "code",
   "execution_count": 84,
   "metadata": {
    "collapsed": false
   },
   "outputs": [],
   "source": [
    "# all the parameters to iterate over\n",
    "metrics = ['precision','recall','F1','AUC']\n",
    "kernels = ['lag_gaussian']#,'gaussian','laplace']\n",
    "gammas = list(20+np.arange(10)*1.0)\n",
    "num_trials = 3\n",
    "#results_index = product(kernels,gammas,metrics)"
   ]
  },
  {
   "cell_type": "code",
   "execution_count": 85,
   "metadata": {
    "collapsed": false
   },
   "outputs": [],
   "source": [
    "# # TRIAL 2 FOR GAUSSIAN\n",
    "# metrics = ['precision','recall','F1','AUC']\n",
    "# kernels = ['gaussian']\n",
    "# gammas = list(500+np.arange(0,44)*25)\n",
    "# #results_index = product(kernels,gammas,metrics)"
   ]
  },
  {
   "cell_type": "code",
   "execution_count": 86,
   "metadata": {
    "collapsed": true
   },
   "outputs": [],
   "source": [
    "# build a results df from these parameters\n",
    "results = pd.DataFrame(index=pd.MultiIndex.from_product([kernels,gammas,metrics],\n",
    "                                                        names=['kernels','gammas','metrics']),columns=range(num_trials))"
   ]
  },
  {
   "cell_type": "code",
   "execution_count": 87,
   "metadata": {
    "collapsed": false
   },
   "outputs": [],
   "source": [
    "# maps from names to functions\n",
    "kernel_map = {'laplace':laplace_kernel,'gaussian':gaussian_kernel,'lag_gaussian':lag_gauss_kernel}\n",
    "metric_map = {'precision':sk_metrics.precision_score,\n",
    "              'recall':sk_metrics.recall_score,\n",
    "              'F1':sk_metrics.f1_score,\n",
    "              'AUC':sk_metrics.roc_auc_score}"
   ]
  },
  {
   "cell_type": "code",
   "execution_count": 88,
   "metadata": {
    "collapsed": false,
    "scrolled": true
   },
   "outputs": [
    {
     "name": "stdout",
     "output_type": "stream",
     "text": [
      "\n",
      "('lag_gaussian', 20.0)\n",
      "precision: 0.6\trecall: 0.258620689655\tF1: 0.361445783133\tAUC: 0.878740381875\t\n",
      "precision: 0.75\trecall: 0.321428571429\tF1: 0.45\tAUC: 0.817988875878\t\n",
      "precision: 0.782608695652\trecall: 0.28125\tF1: 0.413793103448\tAUC: 0.851827330508\t\n",
      "\n",
      "('lag_gaussian', 21.0)\n",
      "precision: 0.709677419355\trecall: 0.415094339623\tF1: 0.52380952381\tAUC: 0.840042777481\t\n",
      "precision: 0.571428571429\trecall: 0.258064516129\tF1: 0.355555555556\tAUC: 0.834372458661\t\n",
      "precision: 0.692307692308\trecall: 0.295081967213\tF1: 0.413793103448\tAUC: 0.846354345291\t\n",
      "\n",
      "('lag_gaussian', 22.0)\n",
      "precision: 0.742857142857\trecall: 0.472727272727\tF1: 0.577777777778\tAUC: 0.824564007421\t\n",
      "precision: 0.8\trecall: 0.307692307692\tF1: 0.444444444444\tAUC: 0.855711947627\t\n",
      "precision: 0.791666666667\trecall: 0.316666666667\tF1: 0.452380952381\tAUC: 0.851388888889\t\n",
      "\n",
      "('lag_gaussian', 23.0)\n",
      "precision: 0.7\trecall: 0.328125\tF1: 0.446808510638\tAUC: 0.866459216102\t\n",
      "precision: 0.78125\trecall: 0.438596491228\tF1: 0.561797752809\tAUC: 0.832647462277\t\n",
      "precision: 0.85\trecall: 0.236111111111\tF1: 0.369565217391\tAUC: 0.836683723197\t\n",
      "\n",
      "('lag_gaussian', 24.0)\n",
      "precision: 0.58064516129\trecall: 0.295081967213\tF1: 0.391304347826\tAUC: 0.858426503875\t\n",
      "precision: 0.53125\trecall: 0.261538461538\tF1: 0.350515463918\tAUC: 0.817806873977\t\n",
      "precision: 0.625\trecall: 0.245901639344\tF1: 0.352941176471\tAUC: 0.868989642637\t\n",
      "\n",
      "('lag_gaussian', 25.0)\n",
      "precision: 0.702702702703\trecall: 0.464285714286\tF1: 0.559139784946\tAUC: 0.840968969555\t\n",
      "precision: 0.666666666667\trecall: 0.333333333333\tF1: 0.444444444444\tAUC: 0.816174566175\t\n",
      "precision: 0.692307692308\trecall: 0.315789473684\tF1: 0.433734939759\tAUC: 0.839145188073\t\n",
      "\n",
      "('lag_gaussian', 26.0)\n",
      "precision: 0.785714285714\trecall: 0.379310344828\tF1: 0.511627906977\tAUC: 0.89562553434\t\n",
      "precision: 0.740740740741\trecall: 0.31746031746\tF1: 0.444444444444\tAUC: 0.879579398567\t\n",
      "precision: 0.769230769231\trecall: 0.3125\tF1: 0.444444444444\tAUC: 0.872947563559\t\n",
      "\n",
      "('lag_gaussian', 27.0)\n",
      "precision: 0.705882352941\trecall: 0.428571428571\tF1: 0.533333333333\tAUC: 0.825234192037\t\n",
      "precision: 0.653846153846\trecall: 0.274193548387\tF1: 0.386363636364\tAUC: 0.831017891027\t\n",
      "precision: 0.633333333333\trecall: 0.311475409836\tF1: 0.417582417582\tAUC: 0.857809177584\t\n",
      "\n",
      "('lag_gaussian', 28.0)\n",
      "precision: 0.628571428571\trecall: 0.379310344828\tF1: 0.47311827957\tAUC: 0.813550869194\t\n",
      "precision: 0.777777777778\trecall: 0.451612903226\tF1: 0.571428571429\tAUC: 0.874627270263\t\n",
      "precision: 0.612903225806\trecall: 0.306451612903\tF1: 0.408602150538\tAUC: 0.834846841963\t\n",
      "\n",
      "('lag_gaussian', 29.0)\n",
      "precision: 0.772727272727\trecall: 0.269841269841\tF1: 0.4\tAUC: 0.797501841806\t\n",
      "precision: 0.58064516129\trecall: 0.285714285714\tF1: 0.382978723404\tAUC: 0.831826401447\t\n",
      "precision: 0.7\trecall: 0.368421052632\tF1: 0.48275862069\tAUC: 0.868818135875\t\n",
      "\n",
      "('gaussian', 20.0)\n",
      "precision: 0.795918367347\trecall: 0.6\tF1: 0.684210526316\tAUC: 0.935384615385\t\n",
      "precision: 0.795454545455\trecall: 0.593220338983\tF1: 0.679611650485\tAUC: 0.936985723328\t\n",
      "precision: 0.790697674419\trecall: 0.548387096774\tF1: 0.647619047619\tAUC: 0.93772024939\t\n",
      "\n",
      "('gaussian', 21.0)\n",
      "precision: 0.829787234043\trecall: 0.582089552239\tF1: 0.684210526316\tAUC: 0.929536865031\t\n",
      "precision: 0.767857142857\trecall: 0.661538461538\tF1: 0.710743801653\tAUC: 0.927201309329\t\n",
      "precision: 0.727272727273\trecall: 0.714285714286\tF1: 0.720720720721\tAUC: 0.938597775176\t\n",
      "\n",
      "('gaussian', 22.0)\n",
      "precision: 0.728813559322\trecall: 0.728813559322\tF1: 0.728813559322\tAUC: 0.922216752233\t\n",
      "precision: 0.71186440678\trecall: 0.75\tF1: 0.730434782609\tAUC: 0.951331967213\t\n",
      "precision: 0.8\trecall: 0.666666666667\tF1: 0.727272727273\tAUC: 0.9465522433\t\n",
      "\n",
      "('gaussian', 23.0)\n",
      "precision: 0.716981132075\trecall: 0.666666666667\tF1: 0.690909090909\tAUC: 0.922316078261\t\n",
      "precision: 0.818181818182\trecall: 0.6\tF1: 0.692307692308\tAUC: 0.931666666667\t\n",
      "precision: 0.673076923077\trecall: 0.564516129032\tF1: 0.614035087719\tAUC: 0.889739766874\t\n",
      "\n",
      "('gaussian', 24.0)\n",
      "precision: 0.609375\trecall: 0.75\tF1: 0.672413793103\tAUC: 0.935328784119\t\n",
      "precision: 0.714285714286\trecall: 0.597014925373\tF1: 0.650406504065\tAUC: 0.911536736916\t\n",
      "precision: 0.666666666667\trecall: 0.701754385965\tF1: 0.683760683761\tAUC: 0.919933578803\t\n",
      "\n",
      "('gaussian', 25.0)\n",
      "precision: 0.75\trecall: 0.65\tF1: 0.696428571429\tAUC: 0.943888888889\t\n",
      "precision: 0.735849056604\trecall: 0.629032258065\tF1: 0.678260869565\tAUC: 0.905123339658\t\n",
      "precision: 0.755102040816\trecall: 0.627118644068\tF1: 0.685185185185\tAUC: 0.917117940783\t\n",
      "\n",
      "('gaussian', 26.0)\n",
      "precision: 0.745098039216\trecall: 0.655172413793\tF1: 0.697247706422\tAUC: 0.93466799658\t\n",
      "precision: 0.767857142857\trecall: 0.641791044776\tF1: 0.69918699187\tAUC: 0.922746781116\t\n",
      "precision: 0.724137931034\trecall: 0.71186440678\tF1: 0.717948717949\tAUC: 0.925803502356\t\n",
      "\n",
      "('gaussian', 27.0)\n",
      "precision: 0.653846153846\trecall: 0.607142857143\tF1: 0.62962962963\tAUC: 0.893223067916\t\n",
      "precision: 0.725490196078\trecall: 0.627118644068\tF1: 0.672727272727\tAUC: 0.927210071032\t\n",
      "precision: 0.764705882353\trecall: 0.609375\tF1: 0.678260869565\tAUC: 0.93405720339\t\n",
      "\n",
      "('gaussian', 28.0)\n",
      "precision: 0.759259259259\trecall: 0.621212121212\tF1: 0.683333333333\tAUC: 0.911616161616\t\n",
      "precision: 0.56862745098\trecall: 0.56862745098\tF1: 0.56862745098\tAUC: 0.894164894874\t\n",
      "precision: 0.72131147541\trecall: 0.698412698413\tF1: 0.709677419355\tAUC: 0.933761971737\t\n",
      "\n",
      "('gaussian', 29.0)\n",
      "precision: 0.754098360656\trecall: 0.707692307692\tF1: 0.730158730159\tAUC: 0.940032733224\t\n",
      "precision: 0.716981132075\trecall: 0.678571428571\tF1: 0.697247706422\tAUC: 0.921472482436\t\n",
      "precision: 0.603773584906\trecall: 0.615384615385\tF1: 0.609523809524\tAUC: 0.900201612903\t\n",
      "\n",
      "('laplace', 20.0)\n",
      "precision: 0.777777777778\trecall: 0.625\tF1: 0.693069306931\tAUC: 0.929742388759\t\n",
      "precision: 0.614035087719\trecall: 0.714285714286\tF1: 0.660377358491\tAUC: 0.931213919831\t\n",
      "precision: 0.553571428571\trecall: 0.563636363636\tF1: 0.558558558559\tAUC: 0.883636363636\t\n",
      "\n",
      "('laplace', 21.0)\n",
      "precision: 0.7\trecall: 0.673076923077\tF1: 0.686274509804\tAUC: 0.9432382134\t\n",
      "precision: 0.637931034483\trecall: 0.711538461538\tF1: 0.672727272727\tAUC: 0.937577543424\t\n",
      "precision: 0.741379310345\trecall: 0.651515151515\tF1: 0.693548387097\tAUC: 0.918738668739\t\n",
      "\n",
      "('laplace', 22.0)\n",
      "precision: 0.703125\trecall: 0.714285714286\tF1: 0.708661417323\tAUC: 0.92384970866\t\n",
      "precision: 0.708333333333\trecall: 0.566666666667\tF1: 0.62962962963\tAUC: 0.902638888889\t\n",
      "precision: 0.74\trecall: 0.587301587302\tF1: 0.654867256637\tAUC: 0.922778112652\t\n",
      "\n",
      "('laplace', 23.0)\n",
      "precision: 0.703703703704\trecall: 0.655172413793\tF1: 0.678571428571\tAUC: 0.927472214306\t\n",
      "precision: 0.771929824561\trecall: 0.571428571429\tF1: 0.65671641791\tAUC: 0.925164521577\t\n",
      "precision: 0.754716981132\trecall: 0.701754385965\tF1: 0.727272727273\tAUC: 0.943541982528\t\n",
      "\n",
      "('laplace', 24.0)\n",
      "precision: 0.637931034483\trecall: 0.637931034483\tF1: 0.637931034483\tAUC: 0.92490738102\t\n",
      "precision: 0.741379310345\trecall: 0.781818181818\tF1: 0.761061946903\tAUC: 0.955621521336\t\n",
      "precision: 0.75\trecall: 0.661016949153\tF1: 0.702702702703\tAUC: 0.938814262606\t\n",
      "\n",
      "('laplace', 25.0)\n",
      "precision: 0.626865671642\trecall: 0.75\tF1: 0.682926829268\tAUC: 0.906103629977\t\n",
      "precision: 0.716666666667\trecall: 0.605633802817\tF1: 0.656488549618\tAUC: 0.915800479734\t\n",
      "precision: 0.826923076923\trecall: 0.661538461538\tF1: 0.735042735043\tAUC: 0.947823240589\t\n",
      "\n",
      "('laplace', 26.0)\n",
      "precision: 0.696428571429\trecall: 0.639344262295\tF1: 0.666666666667\tAUC: 0.924549008848\t\n",
      "precision: 0.775862068966\trecall: 0.642857142857\tF1: 0.703125\tAUC: 0.915217391304\t\n",
      "precision: 0.65\trecall: 0.672413793103\tF1: 0.661016949153\tAUC: 0.908948418353\t\n",
      "\n",
      "('laplace', 27.0)\n",
      "precision: 0.698113207547\trecall: 0.672727272727\tF1: 0.685185185185\tAUC: 0.948126159555\t\n",
      "precision: 0.714285714286\trecall: 0.645161290323\tF1: 0.677966101695\tAUC: 0.914746543779\t\n",
      "precision: 0.696428571429\trecall: 0.696428571429\tF1: 0.696428571429\tAUC: 0.920887002342\t\n",
      "\n",
      "('laplace', 28.0)\n",
      "precision: 0.615384615385\trecall: 0.744186046512\tF1: 0.673684210526\tAUC: 0.910596326124\t\n",
      "precision: 0.672413793103\trecall: 0.661016949153\tF1: 0.666666666667\tAUC: 0.92699908573\t\n",
      "precision: 0.672131147541\trecall: 0.694915254237\tF1: 0.683333333333\tAUC: 0.923623320909\t\n",
      "\n",
      "('laplace', 29.0)\n",
      "precision: 0.733333333333\trecall: 0.676923076923\tF1: 0.704\tAUC: 0.934664484452\t\n",
      "precision: 0.653846153846\trecall: 0.653846153846\tF1: 0.653846153846\tAUC: 0.92044044665\t\n",
      "precision: 0.76\trecall: 0.575757575758\tF1: 0.655172413793\tAUC: 0.911162911163\t\n"
     ]
    },
    {
     "name": "stderr",
     "output_type": "stream",
     "text": [
      "/home/matt/anaconda3/lib/python3.5/site-packages/ipykernel/kernelbase.py:212: PerformanceWarning: indexing past lexsort depth may impact performance.\n",
      "  handler(stream, idents, msg)\n"
     ]
    }
   ],
   "source": [
    "# for every combination of parameters,\n",
    "for kernel,gamma in product(kernels,gammas):\n",
    "    print()\n",
    "    print((kernel,gamma))\n",
    "    \n",
    "    # and all 10 trials,\n",
    "    for trial in results.columns:\n",
    "        # split into training and testing sets 70/30\n",
    "        train_X = trends.sample(frac=0.7)\n",
    "        train_y = words.loc[train_X.index]\n",
    "        test_index = trends.index.difference(train_X.index)\n",
    "        test_X = trends.loc[test_index]\n",
    "        test_y = words.loc[test_index]\n",
    "        # compute the score for every test sequence\n",
    "        trendiness = test_X.apply(lambda x: classify(x,labels=train_y.label,\n",
    "                                                     trends=train_X,\n",
    "                                                     gamma=gamma,\n",
    "                                                     kernel=kernel_map[kernel]),\n",
    "                                                     axis=1)\n",
    "        # convert to binary response if not evaluating using AUC\n",
    "                \n",
    "        for metric in metrics:\n",
    "            if metric != 'AUC':\n",
    "                scores = (trendiness > 1).astype('int')\n",
    "            else:\n",
    "                scores = trendiness\n",
    "            # compute the accuracy metric\n",
    "            accuracy = metric_map[metric](test_y,scores)\n",
    "            print(metric+\": \"+str(accuracy),end='\\t')\n",
    "            params = (kernel,gamma,metric)\n",
    "            results.loc[params,trial] = accuracy\n",
    "            \n",
    "        print()"
   ]
  },
  {
   "cell_type": "markdown",
   "metadata": {
    "collapsed": true
   },
   "source": [
    "# summary of the results"
   ]
  },
  {
   "cell_type": "code",
   "execution_count": 89,
   "metadata": {
    "collapsed": true
   },
   "outputs": [],
   "source": [
    "# check it out\n",
    "summary = results.apply(np.mean,axis=1)"
   ]
  },
  {
   "cell_type": "code",
   "execution_count": 90,
   "metadata": {
    "collapsed": false
   },
   "outputs": [],
   "source": [
    "summary = summary.unstack('metrics')"
   ]
  },
  {
   "cell_type": "code",
   "execution_count": 91,
   "metadata": {
    "collapsed": false
   },
   "outputs": [
    {
     "name": "stdout",
     "output_type": "stream",
     "text": [
      "Top 20.0% of scorers for AUC\n",
      "metrics               AUC        F1  precision    recall\n",
      "kernels  gammas                                         \n",
      "gaussian 20      0.936697  0.670480   0.794024  0.580536\n",
      "         21      0.931779  0.705225   0.774972  0.652638\n",
      "         22      0.940034  0.728840   0.746893  0.715160\n",
      "laplace  21      0.933185  0.684183   0.693103  0.678710\n",
      "         23      0.932060  0.687520   0.743450  0.642785\n",
      "         24      0.939781  0.700565   0.709770  0.693589\n",
      "Top 20.0% of scorers for F1\n",
      "metrics               AUC        F1  precision    recall\n",
      "kernels  gammas                                         \n",
      "gaussian 21      0.931779  0.705225   0.774972  0.652638\n",
      "         22      0.940034  0.728840   0.746893  0.715160\n",
      "         26      0.927739  0.704794   0.745698  0.669609\n",
      "laplace  23      0.932060  0.687520   0.743450  0.642785\n",
      "         24      0.939781  0.700565   0.709770  0.693589\n",
      "         25      0.923242  0.691486   0.723485  0.672391\n",
      "Top 20.0% of scorers for precision\n",
      "metrics                   AUC        F1  precision    recall\n",
      "kernels      gammas                                         \n",
      "gaussian     20      0.936697  0.670480   0.794024  0.580536\n",
      "             21      0.931779  0.705225   0.774972  0.652638\n",
      "             25      0.922043  0.686625   0.746984  0.635384\n",
      "lag_gaussian 22      0.843888  0.491534   0.778175  0.365695\n",
      "             23      0.845263  0.459390   0.777083  0.334278\n",
      "             26      0.882717  0.466839   0.765229  0.336424\n",
      "Top 20.0% of scorers for recall\n",
      "metrics               AUC        F1  precision    recall\n",
      "kernels  gammas                                         \n",
      "gaussian 22      0.940034  0.728840   0.746893  0.715160\n",
      "         24      0.922266  0.668860   0.663442  0.682923\n",
      "laplace  21      0.933185  0.684183   0.693103  0.678710\n",
      "         24      0.939781  0.700565   0.709770  0.693589\n",
      "         25      0.923242  0.691486   0.723485  0.672391\n",
      "         28      0.920406  0.674561   0.653310  0.700039\n"
     ]
    }
   ],
   "source": [
    "summary.apply(np.max)\n",
    "top_p=0.2\n",
    "for metric in summary.columns:\n",
    "    print(\"Top {}% of scorers for {}\".format(100*top_p,metric))\n",
    "    print(summary.iloc[np.where(summary[metric]>=summary[metric].quantile(1-top_p))])\n",
    "# looks like laplace with gamma~250 is a good balance; precision isn't too low, but recall is maximized,\n",
    "# which is what we care about most"
   ]
  },
  {
   "cell_type": "markdown",
   "metadata": {},
   "source": [
    "# save results"
   ]
  },
  {
   "cell_type": "code",
   "execution_count": 75,
   "metadata": {
    "collapsed": true
   },
   "outputs": [],
   "source": [
    "results.to_csv(data_dir+results_output)"
   ]
  },
  {
   "cell_type": "markdown",
   "metadata": {},
   "source": [
    "# plot results"
   ]
  },
  {
   "cell_type": "code",
   "execution_count": 76,
   "metadata": {
    "collapsed": false
   },
   "outputs": [
    {
     "data": {
      "image/png": "[encoded data removed]",
      "text/plain": [
       "<matplotlib.figure.Figure at 0x7f8ed572a9b0>"
      ]
     },
     "metadata": {},
     "output_type": "display_data"
    },
    {
     "data": {
      "image/png": "[encoded data removed]",
      "text/plain": [
       "<matplotlib.figure.Figure at 0x7f8ed4e45f98>"
      ]
     },
     "metadata": {},
     "output_type": "display_data"
    },
    {
     "data": {
      "image/png": "[encoded data removed]",
      "text/plain": [
       "<matplotlib.figure.Figure at 0x7f8ed4993e80>"
      ]
     },
     "metadata": {},
     "output_type": "display_data"
    },
    {
     "data": {
      "image/png": "[encoded data removed]",
      "text/plain": [
       "<matplotlib.figure.Figure at 0x7f8ed49b5198>"
      ]
     },
     "metadata": {},
     "output_type": "display_data"
    }
   ],
   "source": [
    "import pylab\n",
    "from matplotlib import pyplot as plt\n",
    "import pandas as pd\n",
    "\n",
    "%matplotlib inline\n",
    "pylab.rcParams['figure.figsize'] = (16.0, 10.0)\n",
    "\n",
    "results = pd.read_csv(\"/home/matt/Datasets/Battelle Data/data-extracted/testing_results4.csv\")\n",
    "\n",
    "results = results[results.kernels=='gaussian']\n",
    "\n",
    "results.drop('kernels',axis=1,inplace=True)\n",
    "\n",
    "results = results.set_index(['gammas','metrics']).stack().unstack(level=0)\n",
    "\n",
    "results.head()\n",
    "\n",
    "#precision = results[(results.metrics=='precision') & (results.kernels=='laplace')]\n",
    "#recall = results[(results.metrics=='recall') & (results.kernels=='laplace')]\n",
    "#f1 =  results[(results.metrics=='F1') & (results.kernels=='laplace')]\n",
    "\n",
    "for metric in results.index.levels[0]:\n",
    "    plot = results.loc[metric].plot(kind='box')\n",
    "    plot.set_ylabel(metric,size=24)\n",
    "    plot.set_xlabel(\"gamma\",size=24)\n",
    "    plot.set_ylim(bottom=0,top=1)\n",
    "    plot.set_xticklabels(labels=results.columns,rotation=90)\n",
    "    plot.grid(True)\n",
    "    fig = plot.get_figure()\n",
    "    fig.savefig(metric+'_gaussian.png',resolution=300)\n",
    "    "
   ]
  },
  {
   "cell_type": "markdown",
   "metadata": {},
   "source": [
    "## get series for every word"
   ]
  },
  {
   "cell_type": "code",
   "execution_count": 84,
   "metadata": {
    "collapsed": true
   },
   "outputs": [],
   "source": [
    "# get series for every word\n",
    "command = '''\n",
    "SELECT d.doc_label as year,\n",
    "       word_id,\n",
    "       word_str,\n",
    "       sum(word_count) as word_count\n",
    "  FROM docword w\n",
    "       JOIN\n",
    "       doc d USING (\n",
    "           doc_id\n",
    "       )\n",
    " GROUP BY word_id, d.doc_label'''"
   ]
  },
  {
   "cell_type": "code",
   "execution_count": 85,
   "metadata": {
    "collapsed": false
   },
   "outputs": [],
   "source": [
    "word_series = pd.read_sql_query(command,con)"
   ]
  },
  {
   "cell_type": "code",
   "execution_count": 86,
   "metadata": {
    "collapsed": false
   },
   "outputs": [],
   "source": [
    "# reindex and reshape\n",
    "word_series.set_index(['word_id','word_str','year'],inplace=True)\n",
    "word_series=word_series.unstack(level='year')\n",
    "\n",
    "word_series.fillna(0,inplace=True)\n",
    "word_series.columns = word_series.columns.get_level_values(1)"
   ]
  },
  {
   "cell_type": "code",
   "execution_count": 87,
   "metadata": {
    "collapsed": false
   },
   "outputs": [
    {
     "data": {
      "text/html": [
       "<div>\n",
       "<table border=\"1\" class=\"dataframe\">\n",
       "  <thead>\n",
       "    <tr style=\"text-align: right;\">\n",
       "      <th></th>\n",
       "      <th>year</th>\n",
       "      <th>2005</th>\n",
       "      <th>2006</th>\n",
       "      <th>2007</th>\n",
       "      <th>2008</th>\n",
       "      <th>2009</th>\n",
       "      <th>2010</th>\n",
       "      <th>2011</th>\n",
       "      <th>2012</th>\n",
       "      <th>2013</th>\n",
       "      <th>2014</th>\n",
       "      <th>2015</th>\n",
       "    </tr>\n",
       "    <tr>\n",
       "      <th>word_id</th>\n",
       "      <th>word_str</th>\n",
       "      <th></th>\n",
       "      <th></th>\n",
       "      <th></th>\n",
       "      <th></th>\n",
       "      <th></th>\n",
       "      <th></th>\n",
       "      <th></th>\n",
       "      <th></th>\n",
       "      <th></th>\n",
       "      <th></th>\n",
       "      <th></th>\n",
       "    </tr>\n",
       "  </thead>\n",
       "  <tbody>\n",
       "    <tr>\n",
       "      <th>0</th>\n",
       "      <th>Relationship</th>\n",
       "      <td>0</td>\n",
       "      <td>0</td>\n",
       "      <td>0</td>\n",
       "      <td>0</td>\n",
       "      <td>0</td>\n",
       "      <td>1</td>\n",
       "      <td>3</td>\n",
       "      <td>1</td>\n",
       "      <td>0</td>\n",
       "      <td>0</td>\n",
       "      <td>0</td>\n",
       "    </tr>\n",
       "    <tr>\n",
       "      <th>1</th>\n",
       "      <th>IGFBP7</th>\n",
       "      <td>0</td>\n",
       "      <td>0</td>\n",
       "      <td>1</td>\n",
       "      <td>0</td>\n",
       "      <td>0</td>\n",
       "      <td>10</td>\n",
       "      <td>1</td>\n",
       "      <td>9</td>\n",
       "      <td>1</td>\n",
       "      <td>0</td>\n",
       "      <td>0</td>\n",
       "    </tr>\n",
       "    <tr>\n",
       "      <th>2</th>\n",
       "      <th>cross-layer</th>\n",
       "      <td>1</td>\n",
       "      <td>0</td>\n",
       "      <td>3</td>\n",
       "      <td>4</td>\n",
       "      <td>4</td>\n",
       "      <td>3</td>\n",
       "      <td>1</td>\n",
       "      <td>6</td>\n",
       "      <td>1</td>\n",
       "      <td>0</td>\n",
       "      <td>0</td>\n",
       "    </tr>\n",
       "    <tr>\n",
       "      <th>3</th>\n",
       "      <th>instability</th>\n",
       "      <td>1</td>\n",
       "      <td>12</td>\n",
       "      <td>7</td>\n",
       "      <td>27</td>\n",
       "      <td>17</td>\n",
       "      <td>46</td>\n",
       "      <td>41</td>\n",
       "      <td>20</td>\n",
       "      <td>47</td>\n",
       "      <td>59</td>\n",
       "      <td>29</td>\n",
       "    </tr>\n",
       "    <tr>\n",
       "      <th>4</th>\n",
       "      <th>prerequisite</th>\n",
       "      <td>4</td>\n",
       "      <td>3</td>\n",
       "      <td>5</td>\n",
       "      <td>11</td>\n",
       "      <td>8</td>\n",
       "      <td>20</td>\n",
       "      <td>15</td>\n",
       "      <td>17</td>\n",
       "      <td>26</td>\n",
       "      <td>16</td>\n",
       "      <td>4</td>\n",
       "    </tr>\n",
       "  </tbody>\n",
       "</table>\n",
       "</div>"
      ],
      "text/plain": [
       "year                  2005  2006  2007  2008  2009  2010  2011  2012  2013  \\\n",
       "word_id word_str                                                             \n",
       "0       Relationship     0     0     0     0     0     1     3     1     0   \n",
       "1       IGFBP7           0     0     1     0     0    10     1     9     1   \n",
       "2       cross-layer      1     0     3     4     4     3     1     6     1   \n",
       "3       instability      1    12     7    27    17    46    41    20    47   \n",
       "4       prerequisite     4     3     5    11     8    20    15    17    26   \n",
       "\n",
       "year                  2014  2015  \n",
       "word_id word_str                  \n",
       "0       Relationship     0     0  \n",
       "1       IGFBP7           0     0  \n",
       "2       cross-layer      0     0  \n",
       "3       instability     59    29  \n",
       "4       prerequisite    16     4  "
      ]
     },
     "execution_count": 87,
     "metadata": {},
     "output_type": "execute_result"
    }
   ],
   "source": [
    "word_series.head()"
   ]
  },
  {
   "cell_type": "code",
   "execution_count": 88,
   "metadata": {
    "collapsed": true
   },
   "outputs": [],
   "source": [
    "# apply smoothing\n",
    "word_series = word_series+3"
   ]
  },
  {
   "cell_type": "code",
   "execution_count": 89,
   "metadata": {
    "collapsed": false
   },
   "outputs": [
    {
     "data": {
      "text/html": [
       "<div>\n",
       "<table border=\"1\" class=\"dataframe\">\n",
       "  <thead>\n",
       "    <tr style=\"text-align: right;\">\n",
       "      <th></th>\n",
       "      <th>year</th>\n",
       "      <th>2005</th>\n",
       "      <th>2006</th>\n",
       "      <th>2007</th>\n",
       "      <th>2008</th>\n",
       "      <th>2009</th>\n",
       "      <th>2010</th>\n",
       "      <th>2011</th>\n",
       "      <th>2012</th>\n",
       "      <th>2013</th>\n",
       "      <th>2014</th>\n",
       "      <th>2015</th>\n",
       "    </tr>\n",
       "    <tr>\n",
       "      <th>word_id</th>\n",
       "      <th>word_str</th>\n",
       "      <th></th>\n",
       "      <th></th>\n",
       "      <th></th>\n",
       "      <th></th>\n",
       "      <th></th>\n",
       "      <th></th>\n",
       "      <th></th>\n",
       "      <th></th>\n",
       "      <th></th>\n",
       "      <th></th>\n",
       "      <th></th>\n",
       "    </tr>\n",
       "  </thead>\n",
       "  <tbody>\n",
       "    <tr>\n",
       "      <th>0</th>\n",
       "      <th>Relationship</th>\n",
       "      <td>3</td>\n",
       "      <td>3</td>\n",
       "      <td>3</td>\n",
       "      <td>3</td>\n",
       "      <td>3</td>\n",
       "      <td>4</td>\n",
       "      <td>6</td>\n",
       "      <td>4</td>\n",
       "      <td>3</td>\n",
       "      <td>3</td>\n",
       "      <td>3</td>\n",
       "    </tr>\n",
       "    <tr>\n",
       "      <th>1</th>\n",
       "      <th>IGFBP7</th>\n",
       "      <td>3</td>\n",
       "      <td>3</td>\n",
       "      <td>4</td>\n",
       "      <td>3</td>\n",
       "      <td>3</td>\n",
       "      <td>13</td>\n",
       "      <td>4</td>\n",
       "      <td>12</td>\n",
       "      <td>4</td>\n",
       "      <td>3</td>\n",
       "      <td>3</td>\n",
       "    </tr>\n",
       "    <tr>\n",
       "      <th>2</th>\n",
       "      <th>cross-layer</th>\n",
       "      <td>4</td>\n",
       "      <td>3</td>\n",
       "      <td>6</td>\n",
       "      <td>7</td>\n",
       "      <td>7</td>\n",
       "      <td>6</td>\n",
       "      <td>4</td>\n",
       "      <td>9</td>\n",
       "      <td>4</td>\n",
       "      <td>3</td>\n",
       "      <td>3</td>\n",
       "    </tr>\n",
       "    <tr>\n",
       "      <th>3</th>\n",
       "      <th>instability</th>\n",
       "      <td>4</td>\n",
       "      <td>15</td>\n",
       "      <td>10</td>\n",
       "      <td>30</td>\n",
       "      <td>20</td>\n",
       "      <td>49</td>\n",
       "      <td>44</td>\n",
       "      <td>23</td>\n",
       "      <td>50</td>\n",
       "      <td>62</td>\n",
       "      <td>32</td>\n",
       "    </tr>\n",
       "    <tr>\n",
       "      <th>4</th>\n",
       "      <th>prerequisite</th>\n",
       "      <td>7</td>\n",
       "      <td>6</td>\n",
       "      <td>8</td>\n",
       "      <td>14</td>\n",
       "      <td>11</td>\n",
       "      <td>23</td>\n",
       "      <td>18</td>\n",
       "      <td>20</td>\n",
       "      <td>29</td>\n",
       "      <td>19</td>\n",
       "      <td>7</td>\n",
       "    </tr>\n",
       "  </tbody>\n",
       "</table>\n",
       "</div>"
      ],
      "text/plain": [
       "year                  2005  2006  2007  2008  2009  2010  2011  2012  2013  \\\n",
       "word_id word_str                                                             \n",
       "0       Relationship     3     3     3     3     3     4     6     4     3   \n",
       "1       IGFBP7           3     3     4     3     3    13     4    12     4   \n",
       "2       cross-layer      4     3     6     7     7     6     4     9     4   \n",
       "3       instability      4    15    10    30    20    49    44    23    50   \n",
       "4       prerequisite     7     6     8    14    11    23    18    20    29   \n",
       "\n",
       "year                  2014  2015  \n",
       "word_id word_str                  \n",
       "0       Relationship     3     3  \n",
       "1       IGFBP7           3     3  \n",
       "2       cross-layer      3     3  \n",
       "3       instability     62    32  \n",
       "4       prerequisite    19     7  "
      ]
     },
     "execution_count": 89,
     "metadata": {},
     "output_type": "execute_result"
    }
   ],
   "source": [
    "word_series.head()"
   ]
  },
  {
   "cell_type": "code",
   "execution_count": 90,
   "metadata": {
    "collapsed": false
   },
   "outputs": [
    {
     "data": {
      "text/plain": [
       "year\n",
       "2005     287189\n",
       "2006     350676\n",
       "2007     406156\n",
       "2008     506048\n",
       "2009     717093\n",
       "2010     833512\n",
       "2011     964694\n",
       "2012    1007895\n",
       "2013    1208664\n",
       "2014    1321712\n",
       "2015     719333\n",
       "dtype: float64"
      ]
     },
     "execution_count": 90,
     "metadata": {},
     "output_type": "execute_result"
    }
   ],
   "source": [
    "#accumulate ttfs\n",
    "ttf_all = word_series.apply(sum,axis=0)\n",
    "ttf_all"
   ]
  },
  {
   "cell_type": "code",
   "execution_count": 91,
   "metadata": {
    "collapsed": true
   },
   "outputs": [],
   "source": [
    "# normalize to proportions\n",
    "word_props = word_series.apply(lambda x: x/ttf_all,axis=1)\n",
    "word_props.fillna(0,inplace=True)"
   ]
  },
  {
   "cell_type": "code",
   "execution_count": 92,
   "metadata": {
    "collapsed": true
   },
   "outputs": [],
   "source": [
    "# normalize from series to shapes\n",
    "word_trends = word_props.apply(lambda x: x/x.sum(),axis=1)"
   ]
  },
  {
   "cell_type": "code",
   "execution_count": 93,
   "metadata": {
    "collapsed": false
   },
   "outputs": [
    {
     "data": {
      "text/html": [
       "<div>\n",
       "<table border=\"1\" class=\"dataframe\">\n",
       "  <thead>\n",
       "    <tr style=\"text-align: right;\">\n",
       "      <th></th>\n",
       "      <th>year</th>\n",
       "      <th>2005</th>\n",
       "      <th>2006</th>\n",
       "      <th>2007</th>\n",
       "      <th>2008</th>\n",
       "      <th>2009</th>\n",
       "      <th>2010</th>\n",
       "      <th>2011</th>\n",
       "      <th>2012</th>\n",
       "      <th>2013</th>\n",
       "      <th>2014</th>\n",
       "      <th>2015</th>\n",
       "    </tr>\n",
       "    <tr>\n",
       "      <th>word_id</th>\n",
       "      <th>word_str</th>\n",
       "      <th></th>\n",
       "      <th></th>\n",
       "      <th></th>\n",
       "      <th></th>\n",
       "      <th></th>\n",
       "      <th></th>\n",
       "      <th></th>\n",
       "      <th></th>\n",
       "      <th></th>\n",
       "      <th></th>\n",
       "      <th></th>\n",
       "    </tr>\n",
       "  </thead>\n",
       "  <tbody>\n",
       "    <tr>\n",
       "      <th>0</th>\n",
       "      <th>Relationship</th>\n",
       "      <td>0.172923</td>\n",
       "      <td>0.141617</td>\n",
       "      <td>0.122272</td>\n",
       "      <td>0.098136</td>\n",
       "      <td>0.069254</td>\n",
       "      <td>0.079442</td>\n",
       "      <td>0.102958</td>\n",
       "      <td>0.065697</td>\n",
       "      <td>0.041088</td>\n",
       "      <td>0.037574</td>\n",
       "      <td>0.069038</td>\n",
       "    </tr>\n",
       "    <tr>\n",
       "      <th>1</th>\n",
       "      <th>IGFBP7</th>\n",
       "      <td>0.129991</td>\n",
       "      <td>0.106457</td>\n",
       "      <td>0.122554</td>\n",
       "      <td>0.073772</td>\n",
       "      <td>0.052060</td>\n",
       "      <td>0.194085</td>\n",
       "      <td>0.051598</td>\n",
       "      <td>0.148158</td>\n",
       "      <td>0.041183</td>\n",
       "      <td>0.028245</td>\n",
       "      <td>0.051898</td>\n",
       "    </tr>\n",
       "    <tr>\n",
       "      <th>2</th>\n",
       "      <th>cross-layer</th>\n",
       "      <td>0.153268</td>\n",
       "      <td>0.094140</td>\n",
       "      <td>0.162562</td>\n",
       "      <td>0.152218</td>\n",
       "      <td>0.107419</td>\n",
       "      <td>0.079214</td>\n",
       "      <td>0.045628</td>\n",
       "      <td>0.098262</td>\n",
       "      <td>0.036418</td>\n",
       "      <td>0.024977</td>\n",
       "      <td>0.045894</td>\n",
       "    </tr>\n",
       "    <tr>\n",
       "      <th>3</th>\n",
       "      <th>instability</th>\n",
       "      <td>0.032506</td>\n",
       "      <td>0.099829</td>\n",
       "      <td>0.057462</td>\n",
       "      <td>0.138357</td>\n",
       "      <td>0.065092</td>\n",
       "      <td>0.137201</td>\n",
       "      <td>0.106448</td>\n",
       "      <td>0.053258</td>\n",
       "      <td>0.096547</td>\n",
       "      <td>0.109478</td>\n",
       "      <td>0.103823</td>\n",
       "    </tr>\n",
       "    <tr>\n",
       "      <th>4</th>\n",
       "      <th>prerequisite</th>\n",
       "      <td>0.111613</td>\n",
       "      <td>0.078348</td>\n",
       "      <td>0.090195</td>\n",
       "      <td>0.126683</td>\n",
       "      <td>0.070243</td>\n",
       "      <td>0.126357</td>\n",
       "      <td>0.085441</td>\n",
       "      <td>0.090865</td>\n",
       "      <td>0.109869</td>\n",
       "      <td>0.065826</td>\n",
       "      <td>0.044561</td>\n",
       "    </tr>\n",
       "  </tbody>\n",
       "</table>\n",
       "</div>"
      ],
      "text/plain": [
       "year                      2005      2006      2007      2008      2009  \\\n",
       "word_id word_str                                                         \n",
       "0       Relationship  0.172923  0.141617  0.122272  0.098136  0.069254   \n",
       "1       IGFBP7        0.129991  0.106457  0.122554  0.073772  0.052060   \n",
       "2       cross-layer   0.153268  0.094140  0.162562  0.152218  0.107419   \n",
       "3       instability   0.032506  0.099829  0.057462  0.138357  0.065092   \n",
       "4       prerequisite  0.111613  0.078348  0.090195  0.126683  0.070243   \n",
       "\n",
       "year                      2010      2011      2012      2013      2014  \\\n",
       "word_id word_str                                                         \n",
       "0       Relationship  0.079442  0.102958  0.065697  0.041088  0.037574   \n",
       "1       IGFBP7        0.194085  0.051598  0.148158  0.041183  0.028245   \n",
       "2       cross-layer   0.079214  0.045628  0.098262  0.036418  0.024977   \n",
       "3       instability   0.137201  0.106448  0.053258  0.096547  0.109478   \n",
       "4       prerequisite  0.126357  0.085441  0.090865  0.109869  0.065826   \n",
       "\n",
       "year                      2015  \n",
       "word_id word_str                \n",
       "0       Relationship  0.069038  \n",
       "1       IGFBP7        0.051898  \n",
       "2       cross-layer   0.045894  \n",
       "3       instability   0.103823  \n",
       "4       prerequisite  0.044561  "
      ]
     },
     "execution_count": 93,
     "metadata": {},
     "output_type": "execute_result"
    }
   ],
   "source": [
    "word_trends.head()"
   ]
  },
  {
   "cell_type": "markdown",
   "metadata": {},
   "source": [
    "## compute trendiness for every word"
   ]
  },
  {
   "cell_type": "code",
   "execution_count": 94,
   "metadata": {
    "collapsed": false
   },
   "outputs": [],
   "source": [
    "# new dataframe to hold stats; this gets written to a db\n",
    "word_stats = pd.DataFrame([t for t in word_series.index],columns=['word_id','word_str'])\n",
    "word_stats.set_index(['word_id'],inplace=True)"
   ]
  },
  {
   "cell_type": "code",
   "execution_count": 95,
   "metadata": {
    "collapsed": false
   },
   "outputs": [
    {
     "data": {
      "text/html": [
       "<div>\n",
       "<table border=\"1\" class=\"dataframe\">\n",
       "  <thead>\n",
       "    <tr style=\"text-align: right;\">\n",
       "      <th></th>\n",
       "      <th>word_str</th>\n",
       "    </tr>\n",
       "    <tr>\n",
       "      <th>word_id</th>\n",
       "      <th></th>\n",
       "    </tr>\n",
       "  </thead>\n",
       "  <tbody>\n",
       "    <tr>\n",
       "      <th>0</th>\n",
       "      <td>Relationship</td>\n",
       "    </tr>\n",
       "    <tr>\n",
       "      <th>1</th>\n",
       "      <td>IGFBP7</td>\n",
       "    </tr>\n",
       "    <tr>\n",
       "      <th>2</th>\n",
       "      <td>cross-layer</td>\n",
       "    </tr>\n",
       "    <tr>\n",
       "      <th>3</th>\n",
       "      <td>instability</td>\n",
       "    </tr>\n",
       "    <tr>\n",
       "      <th>4</th>\n",
       "      <td>prerequisite</td>\n",
       "    </tr>\n",
       "  </tbody>\n",
       "</table>\n",
       "</div>"
      ],
      "text/plain": [
       "             word_str\n",
       "word_id              \n",
       "0        Relationship\n",
       "1              IGFBP7\n",
       "2         cross-layer\n",
       "3         instability\n",
       "4        prerequisite"
      ]
     },
     "execution_count": 95,
     "metadata": {},
     "output_type": "execute_result"
    }
   ],
   "source": [
    "word_stats.head()"
   ]
  },
  {
   "cell_type": "code",
   "execution_count": 96,
   "metadata": {
    "collapsed": false
   },
   "outputs": [
    {
     "name": "stdout",
     "output_type": "stream",
     "text": [
      "1 loops, best of 3: 3.05 s per loop\n"
     ]
    }
   ],
   "source": [
    "# timing the classification\n",
    "%timeit trendiness = word_trends.iloc[0:100].apply(classify,axis=1,**dict(labels=words.label,trends=trends,gamma=50,kernel=laplace_kernel))\n",
    "# at this rate it should take < 3.22s*44000/(100*60) ~ 23 mins to complete"
   ]
  },
  {
   "cell_type": "code",
   "execution_count": 108,
   "metadata": {
    "collapsed": false
   },
   "outputs": [],
   "source": [
    "trendiness = word_trends.apply(classify,axis=1,**dict(\n",
    "                labels=words.label,trends=trends,gamma=160,kernel=laplace_kernel))\n",
    "\n",
    "word_stats.loc[:,'trendiness'] = pd.Series(np.log(trendiness.values),index=trendiness.index.levels[0])"
   ]
  },
  {
   "cell_type": "markdown",
   "metadata": {},
   "source": [
    "### Questions:\n",
    "    -Does another kernel perform better?\n",
    "    -How are the results affected by gamma?\n",
    "    -ROC curves for varying gamma?\n",
    "    -Does it make sense to transform the data first?\n",
    "        *smoothing: rolling average\n",
    "        *log or power transform: most kernels make more sense in this transformed space"
   ]
  },
  {
   "cell_type": "markdown",
   "metadata": {},
   "source": [
    "## Compute other relevant stats:\n",
    "    -ttf\n",
    "    -df\n",
    "    -idf"
   ]
  },
  {
   "cell_type": "code",
   "execution_count": 97,
   "metadata": {
    "collapsed": true
   },
   "outputs": [],
   "source": [
    "# ttf\n",
    "command=\"\"\"\n",
    "SELECT word_id,\n",
    "       word_str,\n",
    "       word_freq\n",
    "FROM word\n",
    "\"\"\""
   ]
  },
  {
   "cell_type": "code",
   "execution_count": 98,
   "metadata": {
    "collapsed": false
   },
   "outputs": [],
   "source": [
    "#word_stats.ttf = \n",
    "ttf_all_words = pd.read_sql_query(command,con)\n",
    "ttf_all_words.set_index('word_id',inplace=True)"
   ]
  },
  {
   "cell_type": "code",
   "execution_count": 99,
   "metadata": {
    "collapsed": false
   },
   "outputs": [],
   "source": [
    "word_stats.loc[:,'ttf'] = ttf_all_words.word_freq"
   ]
  },
  {
   "cell_type": "code",
   "execution_count": 100,
   "metadata": {
    "collapsed": false
   },
   "outputs": [
    {
     "data": {
      "text/html": [
       "<div>\n",
       "<table border=\"1\" class=\"dataframe\">\n",
       "  <thead>\n",
       "    <tr style=\"text-align: right;\">\n",
       "      <th></th>\n",
       "      <th>word_str</th>\n",
       "      <th>ttf</th>\n",
       "    </tr>\n",
       "    <tr>\n",
       "      <th>word_id</th>\n",
       "      <th></th>\n",
       "      <th></th>\n",
       "    </tr>\n",
       "  </thead>\n",
       "  <tbody>\n",
       "    <tr>\n",
       "      <th>0</th>\n",
       "      <td>Relationship</td>\n",
       "      <td>5</td>\n",
       "    </tr>\n",
       "    <tr>\n",
       "      <th>1</th>\n",
       "      <td>IGFBP7</td>\n",
       "      <td>22</td>\n",
       "    </tr>\n",
       "    <tr>\n",
       "      <th>2</th>\n",
       "      <td>cross-layer</td>\n",
       "      <td>23</td>\n",
       "    </tr>\n",
       "    <tr>\n",
       "      <th>3</th>\n",
       "      <td>instability</td>\n",
       "      <td>306</td>\n",
       "    </tr>\n",
       "    <tr>\n",
       "      <th>4</th>\n",
       "      <td>prerequisite</td>\n",
       "      <td>129</td>\n",
       "    </tr>\n",
       "  </tbody>\n",
       "</table>\n",
       "</div>"
      ],
      "text/plain": [
       "             word_str  ttf\n",
       "word_id                   \n",
       "0        Relationship    5\n",
       "1              IGFBP7   22\n",
       "2         cross-layer   23\n",
       "3         instability  306\n",
       "4        prerequisite  129"
      ]
     },
     "execution_count": 100,
     "metadata": {},
     "output_type": "execute_result"
    }
   ],
   "source": [
    "word_stats.head()"
   ]
  },
  {
   "cell_type": "code",
   "execution_count": 101,
   "metadata": {
    "collapsed": true
   },
   "outputs": [],
   "source": [
    "# df\n",
    "command=\"\"\"\n",
    "SELECT word_id, count(doc_id) as df\n",
    "FROM docword\n",
    " GROUP BY word_id\n",
    "\"\"\""
   ]
  },
  {
   "cell_type": "code",
   "execution_count": 102,
   "metadata": {
    "collapsed": true
   },
   "outputs": [],
   "source": [
    "df_all = pd.read_sql_query(command,con)\n",
    "df_all.set_index('word_id',inplace=True)"
   ]
  },
  {
   "cell_type": "code",
   "execution_count": 103,
   "metadata": {
    "collapsed": false
   },
   "outputs": [
    {
     "data": {
      "text/html": [
       "<div>\n",
       "<table border=\"1\" class=\"dataframe\">\n",
       "  <thead>\n",
       "    <tr style=\"text-align: right;\">\n",
       "      <th></th>\n",
       "      <th>df</th>\n",
       "    </tr>\n",
       "    <tr>\n",
       "      <th>word_id</th>\n",
       "      <th></th>\n",
       "    </tr>\n",
       "  </thead>\n",
       "  <tbody>\n",
       "    <tr>\n",
       "      <th>0</th>\n",
       "      <td>5</td>\n",
       "    </tr>\n",
       "    <tr>\n",
       "      <th>1</th>\n",
       "      <td>5</td>\n",
       "    </tr>\n",
       "    <tr>\n",
       "      <th>2</th>\n",
       "      <td>17</td>\n",
       "    </tr>\n",
       "    <tr>\n",
       "      <th>3</th>\n",
       "      <td>238</td>\n",
       "    </tr>\n",
       "    <tr>\n",
       "      <th>4</th>\n",
       "      <td>129</td>\n",
       "    </tr>\n",
       "  </tbody>\n",
       "</table>\n",
       "</div>"
      ],
      "text/plain": [
       "          df\n",
       "word_id     \n",
       "0          5\n",
       "1          5\n",
       "2         17\n",
       "3        238\n",
       "4        129"
      ]
     },
     "execution_count": 103,
     "metadata": {},
     "output_type": "execute_result"
    }
   ],
   "source": [
    "df_all.head()"
   ]
  },
  {
   "cell_type": "code",
   "execution_count": 104,
   "metadata": {
    "collapsed": true
   },
   "outputs": [],
   "source": [
    "word_stats.loc[:,'df'] = df_all.df"
   ]
  },
  {
   "cell_type": "code",
   "execution_count": 105,
   "metadata": {
    "collapsed": false
   },
   "outputs": [],
   "source": [
    "command=\"\"\"\n",
    "SELECT count(doc_id) \n",
    "FROM doc\"\"\"\n",
    "doc_count = cur.execute(command).fetchall()\n",
    "\n",
    "doc_count = doc_count[0][0]"
   ]
  },
  {
   "cell_type": "code",
   "execution_count": 106,
   "metadata": {
    "collapsed": false
   },
   "outputs": [],
   "source": [
    "#idf\n",
    "word_stats.loc[:,'idf'] = doc_count/df_all.df\n",
    "word_stats.loc[:,'idf'] = word_stats.idf.apply(np.log)"
   ]
  },
  {
   "cell_type": "code",
   "execution_count": 109,
   "metadata": {
    "collapsed": false
   },
   "outputs": [
    {
     "data": {
      "text/html": [
       "<div>\n",
       "<table border=\"1\" class=\"dataframe\">\n",
       "  <thead>\n",
       "    <tr style=\"text-align: right;\">\n",
       "      <th></th>\n",
       "      <th>word_str</th>\n",
       "      <th>ttf</th>\n",
       "      <th>df</th>\n",
       "      <th>idf</th>\n",
       "      <th>trendiness</th>\n",
       "    </tr>\n",
       "    <tr>\n",
       "      <th>word_id</th>\n",
       "      <th></th>\n",
       "      <th></th>\n",
       "      <th></th>\n",
       "      <th></th>\n",
       "      <th></th>\n",
       "    </tr>\n",
       "  </thead>\n",
       "  <tbody>\n",
       "    <tr>\n",
       "      <th>0</th>\n",
       "      <td>Relationship</td>\n",
       "      <td>5</td>\n",
       "      <td>5</td>\n",
       "      <td>9.397567</td>\n",
       "      <td>-6.543666</td>\n",
       "    </tr>\n",
       "    <tr>\n",
       "      <th>1</th>\n",
       "      <td>IGFBP7</td>\n",
       "      <td>22</td>\n",
       "      <td>5</td>\n",
       "      <td>9.397567</td>\n",
       "      <td>-5.646007</td>\n",
       "    </tr>\n",
       "    <tr>\n",
       "      <th>2</th>\n",
       "      <td>cross-layer</td>\n",
       "      <td>23</td>\n",
       "      <td>17</td>\n",
       "      <td>8.173791</td>\n",
       "      <td>-5.916539</td>\n",
       "    </tr>\n",
       "    <tr>\n",
       "      <th>3</th>\n",
       "      <td>instability</td>\n",
       "      <td>306</td>\n",
       "      <td>238</td>\n",
       "      <td>5.534734</td>\n",
       "      <td>-2.133269</td>\n",
       "    </tr>\n",
       "    <tr>\n",
       "      <th>4</th>\n",
       "      <td>prerequisite</td>\n",
       "      <td>129</td>\n",
       "      <td>129</td>\n",
       "      <td>6.147192</td>\n",
       "      <td>-5.958496</td>\n",
       "    </tr>\n",
       "  </tbody>\n",
       "</table>\n",
       "</div>"
      ],
      "text/plain": [
       "             word_str  ttf   df       idf  trendiness\n",
       "word_id                                              \n",
       "0        Relationship    5    5  9.397567   -6.543666\n",
       "1              IGFBP7   22    5  9.397567   -5.646007\n",
       "2         cross-layer   23   17  8.173791   -5.916539\n",
       "3         instability  306  238  5.534734   -2.133269\n",
       "4        prerequisite  129  129  6.147192   -5.958496"
      ]
     },
     "execution_count": 109,
     "metadata": {},
     "output_type": "execute_result"
    }
   ],
   "source": [
    "word_stats.head()"
   ]
  },
  {
   "cell_type": "code",
   "execution_count": 111,
   "metadata": {
    "collapsed": false
   },
   "outputs": [],
   "source": [
    "## write the stats to a db\n",
    "con2 = sql.connect(db_dir+\"word_stats.db\")\n",
    "word_stats.to_sql(\"word_stats\",con2,schema='''(\"word_id\" INTEGER PRIMARY KEY, \"word_str\" TEXT,\n",
    "  \"ttf\" INTEGER,\n",
    "  \"df\" INTEGER,\n",
    "  \"idf\" REAL)''')"
   ]
  },
  {
   "cell_type": "code",
   "execution_count": 112,
   "metadata": {
    "collapsed": true
   },
   "outputs": [],
   "source": [
    "con2.close()"
   ]
  },
  {
   "cell_type": "markdown",
   "metadata": {},
   "source": [
    "## That's all, folks!"
   ]
  },
  {
   "cell_type": "code",
   "execution_count": 115,
   "metadata": {
    "collapsed": false
   },
   "outputs": [
    {
     "data": {
      "text/plain": [
       "<matplotlib.axes._subplots.AxesSubplot at 0x7feba786bd30>"
      ]
     },
     "execution_count": 115,
     "metadata": {},
     "output_type": "execute_result"
    },
    {
     "data": {
      "image/png": "[encoded data removed]",
      "text/plain": [
       "<matplotlib.figure.Figure at 0x7feba782c550>"
      ]
     },
     "metadata": {},
     "output_type": "display_data"
    }
   ],
   "source": [
    "word_stats.trendiness.hist(bins=40)"
   ]
  }
 ],
 "metadata": {
  "kernelspec": {
   "display_name": "Python 3",
   "language": "python",
   "name": "python3"
  },
  "language_info": {
   "codemirror_mode": {
    "name": "ipython",
    "version": 3
   },
   "file_extension": ".py",
   "mimetype": "text/x-python",
   "name": "python",
   "nbconvert_exporter": "python",
   "pygments_lexer": "ipython3",
   "version": "3.5.1"
  }
 },
 "nbformat": 4,
 "nbformat_minor": 0
}
