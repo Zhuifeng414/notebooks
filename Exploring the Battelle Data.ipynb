{
 "cells": [
  {
   "cell_type": "code",
   "execution_count": 1,
   "metadata": {
    "collapsed": false,
    "scrolled": true
   },
   "outputs": [],
   "source": [
    "%matplotlib inline\n",
    "\n",
    "import sqlite3, matplotlib\n",
    "import pandas as pd\n",
    "import matplotlib.pyplot as plt\n",
    "\n",
    "matplotlib.style.use('ggplot')\n",
    "\n",
    "z = 200\n",
    "iterations = 500\n",
    "polo_path = '/Users/rca2t/Documents/Projects/TopicModels/polo_test'\n",
    "project = 'battelle'\n",
    "trial = 'trial_200'\n",
    "\n",
    "dbfile = polo_path + '/projects/{0}/trials/{1}/{0}-{1}-z{2}-i{3}.db'.format(project,trial,z,iterations)"
   ]
  },
  {
   "cell_type": "code",
   "execution_count": 2,
   "metadata": {
    "collapsed": false
   },
   "outputs": [
    {
     "data": {
      "image/png": "[encoded data removed]",
      "text/plain": [
       "<matplotlib.figure.Figure at 0x107e2e7f0>"
      ]
     },
     "metadata": {},
     "output_type": "display_data"
    },
    {
     "name": "stdout",
     "output_type": "stream",
     "text": [
      "  Mean entropy    2.32\n",
      "  Median entropy  2.36\n",
      "  Max entropy     4.31\n",
      "  Min entropy     0.36\n"
     ]
    }
   ],
   "source": [
    "with sqlite3.connect(dbfile) as conn:\n",
    "    # Plot the topic entropy for the topic model\n",
    "    df = pd.read_sql_query(\"SELECT round(topic_entropy,2) as 'h' FROM doctopic ORDER BY topic_entropy\",conn)\n",
    "    _ = plt.hist(df['h'],bins=30)\n",
    "    plt.show()\n",
    "    \n",
    "    mean_entropy   = df['h'].mean()\n",
    "    median_entropy = df['h'].median()\n",
    "    max_entropy    = df['h'].max()\n",
    "    min_entropy    = df['h'].min()\n",
    "    print('  Mean entropy   ',round(mean_entropy,2))\n",
    "    print('  Median entropy ',median_entropy)\n",
    "    print('  Max entropy    ',max_entropy)\n",
    "    print('  Min entropy    ',min_entropy)"
   ]
  },
  {
   "cell_type": "code",
   "execution_count": 3,
   "metadata": {
    "collapsed": false,
    "scrolled": false
   },
   "outputs": [
    {
     "name": "stdout",
     "output_type": "stream",
     "text": [
      "--------------------------------------------------------------------------------\n",
      "Docs with H >= 3.5\n",
      "     doc_id  doc_len  topic_entropy\n",
      "0  doc59853        5       4.308674\n",
      "1  doc59514        4       4.305525\n",
      "2  doc34158       11       4.304587\n",
      "3  doc34159       11       4.301537\n",
      "4  doc61696        2       4.298150\n",
      "5  doc63125        1       4.295687\n",
      "6  doc52607       10       4.294080\n",
      "7  doc55719       52       4.292050\n",
      "8  doc14290       72       3.524700\n",
      "9  doc45202      110       3.512297\n",
      "\n",
      "--------------------------------------------------------------------------------\n",
      "Docs with H <= 1\n",
      "       doc_id  doc_len  topic_entropy\n",
      "0    doc21050     1369       0.362810\n",
      "1    doc22088     1051       0.514231\n",
      "2    doc21901     1221       0.525142\n",
      "3    doc20612     1670       0.589536\n",
      "4    doc44060     1878       0.598778\n",
      "5    doc11601     1274       0.623198\n",
      "6     doc4477     1146       0.642546\n",
      "7    doc20491     1883       0.660943\n",
      "8    doc68160      831       0.662158\n",
      "9    doc14129     1016       0.672736\n",
      "10   doc24946      934       0.690541\n",
      "11   doc22422     1419       0.696558\n",
      "12   doc10758      486       0.704191\n",
      "13   doc16167     1041       0.719551\n",
      "14   doc22233     1418       0.737452\n",
      "15    doc6855      777       0.748948\n",
      "16   doc16272     1143       0.752482\n",
      "17    doc8782      828       0.760193\n",
      "18   doc65580      757       0.766029\n",
      "19   doc65472      597       0.767938\n",
      "20   doc24518      742       0.768311\n",
      "21    doc2264     1538       0.776353\n",
      "22   doc20986     1267       0.785263\n",
      "23   doc44510     1137       0.793313\n",
      "24   doc69570      863       0.797420\n",
      "25   doc21327     1106       0.798603\n",
      "26   doc25441      881       0.800974\n",
      "27   doc70100     1166       0.804273\n",
      "28   doc13514      819       0.807336\n",
      "29   doc69486      687       0.807416\n",
      "..        ...      ...            ...\n",
      "85   doc20937     1439       0.956117\n",
      "86   doc28571     1616       0.956347\n",
      "87   doc44006     1645       0.958610\n",
      "88   doc20857      918       0.958663\n",
      "89   doc28086     1432       0.961152\n",
      "90   doc11015     1063       0.962047\n",
      "91   doc24943     1073       0.966300\n",
      "92     doc836      909       0.966699\n",
      "93   doc25206      833       0.967389\n",
      "94   doc15464     1175       0.968001\n",
      "95   doc69244      771       0.971394\n",
      "96   doc65599      886       0.971826\n",
      "97   doc70005      843       0.972327\n",
      "98    doc2886     1249       0.972929\n",
      "99     doc331      615       0.973910\n",
      "100  doc64985      542       0.976585\n",
      "101   doc2682     1092       0.977481\n",
      "102  doc45405     1101       0.979290\n",
      "103  doc15209      962       0.981201\n",
      "104   doc5170      933       0.984795\n",
      "105  doc16348     1056       0.985621\n",
      "106   doc7857     1072       0.986402\n",
      "107  doc70042      949       0.988418\n",
      "108  doc13814     1209       0.989718\n",
      "109   doc5523     1191       0.990135\n",
      "110  doc10821     1306       0.990156\n",
      "111  doc14530     1026       0.994340\n",
      "112   doc3443     1218       0.994545\n",
      "113  doc46084      867       0.999685\n",
      "114  doc70161      729       0.999836\n",
      "\n",
      "[115 rows x 3 columns]\n"
     ]
    }
   ],
   "source": [
    "with sqlite3.connect(dbfile) as conn:\n",
    "    \n",
    "    # Get docs with higj entropy\n",
    "    max_h = 3.5 # Something a little less than what we found\n",
    "    df1 = pd.read_sql_query(\"SELECT d.doc_id,LENGTH(d.doc_content) as 'doc_len',dt.topic_entropy FROM doctopic dt JOIN doc d USING (doc_id) WHERE dt.topic_entropy >= {0} ORDER BY dt.topic_entropy DESC\".format(max_h),conn)\n",
    "    print('-' * 80)\n",
    "    print('Docs with H >=', max_h)\n",
    "    print(df1)\n",
    "    \n",
    "    # Get docs with low entropy\n",
    "    min_h = 1 # Something a little less than what we found\n",
    "    df2 = pd.read_sql_query(\"SELECT d.doc_id,LENGTH(d.doc_content) as 'doc_len',dt.topic_entropy FROM doctopic dt JOIN doc d USING (doc_id) WHERE dt.topic_entropy <= {0} ORDER BY dt.topic_entropy\".format(min_h),conn)\n",
    "    print()\n",
    "    print('-' * 80)\n",
    "    print('Docs with H <=', min_h)\n",
    "    print(df2)"
   ]
  },
  {
   "cell_type": "code",
   "execution_count": null,
   "metadata": {
    "collapsed": true
   },
   "outputs": [],
   "source": []
  }
 ],
 "metadata": {
  "kernelspec": {
   "display_name": "Python 3",
   "language": "python",
   "name": "python3"
  },
  "language_info": {
   "codemirror_mode": {
    "name": "ipython",
    "version": 3
   },
   "file_extension": ".py",
   "mimetype": "text/x-python",
   "name": "python",
   "nbconvert_exporter": "python",
   "pygments_lexer": "ipython3",
   "version": "3.5.1"
  }
 },
 "nbformat": 4,
 "nbformat_minor": 0
}
