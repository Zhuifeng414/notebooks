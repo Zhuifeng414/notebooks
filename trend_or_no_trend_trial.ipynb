{
 "cells": [
  {
   "cell_type": "code",
   "execution_count": null,
   "metadata": {
    "collapsed": true
   },
   "outputs": [],
   "source": [
    "import sqlite3 as sql\n",
    "import pandas as pd\n",
    "import os\n",
    "import matplotlib.pyplot as plt\n",
    "import functools\n",
    "import re\n",
    "from matplotlib import pyplot as plt\n",
    "import numpy as np\n",
    "from sklearn import metrics as sk_metrics\n",
    "%matplotlib inline"
   ]
  },
  {
   "cell_type": "code",
   "execution_count": 817,
   "metadata": {
    "collapsed": true
   },
   "outputs": [],
   "source": [
    "# location of trends.csv\n",
    "data_dir='/home/matt/Datasets/Battelle Data/data-extracted/'\n",
    "# location of databases\n",
    "db_dir='/home/matt/Datasets/Battelle Data/databases/'\n",
    "main_database = 'battelle.db'\n",
    "# save results of model testing here\n",
    "results_output='testing_results.csv'"
   ]
  },
  {
   "cell_type": "markdown",
   "metadata": {},
   "source": [
    "## read the labels"
   ]
  },
  {
   "cell_type": "code",
   "execution_count": 316,
   "metadata": {
    "collapsed": false
   },
   "outputs": [],
   "source": [
    "os.chdir(data_dir)\n",
    "words = pd.read_csv(\"trends.csv\")\n",
    "words.columns = ['word_str','label']\n",
    "words.set_index('word_str',inplace=True)"
   ]
  },
  {
   "cell_type": "markdown",
   "metadata": {},
   "source": [
    "## 0-1 encode the labels"
   ]
  },
  {
   "cell_type": "code",
   "execution_count": 317,
   "metadata": {
    "collapsed": true
   },
   "outputs": [],
   "source": [
    "def zero_one(x):\n",
    "    if x == 100:\n",
    "        return 1\n",
    "    return 0"
   ]
  },
  {
   "cell_type": "code",
   "execution_count": 318,
   "metadata": {
    "collapsed": true
   },
   "outputs": [],
   "source": [
    "words.label = words.label.apply(zero_one)"
   ]
  },
  {
   "cell_type": "code",
   "execution_count": 319,
   "metadata": {
    "collapsed": false
   },
   "outputs": [
    {
     "data": {
      "text/html": [
       "<div>\n",
       "<table border=\"1\" class=\"dataframe\">\n",
       "  <thead>\n",
       "    <tr style=\"text-align: right;\">\n",
       "      <th></th>\n",
       "      <th>label</th>\n",
       "    </tr>\n",
       "    <tr>\n",
       "      <th>word_str</th>\n",
       "      <th></th>\n",
       "    </tr>\n",
       "  </thead>\n",
       "  <tbody>\n",
       "    <tr>\n",
       "      <th>ability</th>\n",
       "      <td>0</td>\n",
       "    </tr>\n",
       "    <tr>\n",
       "      <th>abiotic</th>\n",
       "      <td>1</td>\n",
       "    </tr>\n",
       "    <tr>\n",
       "      <th>absorption</th>\n",
       "      <td>0</td>\n",
       "    </tr>\n",
       "    <tr>\n",
       "      <th>abundance</th>\n",
       "      <td>1</td>\n",
       "    </tr>\n",
       "    <tr>\n",
       "      <th>abundant</th>\n",
       "      <td>1</td>\n",
       "    </tr>\n",
       "  </tbody>\n",
       "</table>\n",
       "</div>"
      ],
      "text/plain": [
       "            label\n",
       "word_str         \n",
       "ability         0\n",
       "abiotic         1\n",
       "absorption      0\n",
       "abundance       1\n",
       "abundant        1"
      ]
     },
     "execution_count": 319,
     "metadata": {},
     "output_type": "execute_result"
    }
   ],
   "source": [
    "words.head()"
   ]
  },
  {
   "cell_type": "markdown",
   "metadata": {},
   "source": [
    "## get the word counts from the db"
   ]
  },
  {
   "cell_type": "code",
   "execution_count": 795,
   "metadata": {
    "collapsed": true
   },
   "outputs": [],
   "source": [
    "os.chdir(db_dir)\n",
    "con = sql.connect(main_database)\n",
    "cur = con.cursor()"
   ]
  },
  {
   "cell_type": "code",
   "execution_count": 217,
   "metadata": {
    "collapsed": true
   },
   "outputs": [],
   "source": [
    "command = '''\n",
    "SELECT d.doc_label as year,\n",
    "       word_id,\n",
    "       word_str,\n",
    "       sum(word_count) as word_count\n",
    "  FROM docword w\n",
    "       JOIN\n",
    "       doc d USING (\n",
    "           doc_id\n",
    "       )\n",
    "  WHERE word_str in {}\n",
    " GROUP BY doc_label,word_id'''\n"
   ]
  },
  {
   "cell_type": "code",
   "execution_count": 218,
   "metadata": {
    "collapsed": true
   },
   "outputs": [],
   "source": [
    "# selector list for sql query: ('word1','word2', ...)\n",
    "id_string ='('+re.sub(\"'\",'\"',re.sub('[\\[\\]]','',str(list(words.title))))+')'"
   ]
  },
  {
   "cell_type": "code",
   "execution_count": 219,
   "metadata": {
    "collapsed": false
   },
   "outputs": [],
   "source": [
    "word_counts = pd.read_sql_query(command.format(id_string),con)"
   ]
  },
  {
   "cell_type": "code",
   "execution_count": 220,
   "metadata": {
    "collapsed": false
   },
   "outputs": [
    {
     "data": {
      "text/plain": [
       "(10957, 4)"
      ]
     },
     "execution_count": 220,
     "metadata": {},
     "output_type": "execute_result"
    }
   ],
   "source": [
    "# sanity check\n",
    "word_counts.columns\n",
    "word_counts.shape"
   ]
  },
  {
   "cell_type": "code",
   "execution_count": 221,
   "metadata": {
    "collapsed": false
   },
   "outputs": [],
   "source": [
    "# don't need the word ids\n",
    "word_counts.drop('word_id',axis=1,inplace=True)\n",
    "# reindex and reshape\n",
    "word_counts.set_index(['word_str','year'],inplace=True)\n",
    "word_counts=word_counts.unstack(level=1)"
   ]
  },
  {
   "cell_type": "code",
   "execution_count": 222,
   "metadata": {
    "collapsed": false
   },
   "outputs": [
    {
     "data": {
      "text/html": [
       "<div>\n",
       "<table border=\"1\" class=\"dataframe\">\n",
       "  <thead>\n",
       "    <tr>\n",
       "      <th></th>\n",
       "      <th colspan=\"11\" halign=\"left\">word_count</th>\n",
       "    </tr>\n",
       "    <tr>\n",
       "      <th>year</th>\n",
       "      <th>2005</th>\n",
       "      <th>2006</th>\n",
       "      <th>2007</th>\n",
       "      <th>2008</th>\n",
       "      <th>2009</th>\n",
       "      <th>2010</th>\n",
       "      <th>2011</th>\n",
       "      <th>2012</th>\n",
       "      <th>2013</th>\n",
       "      <th>2014</th>\n",
       "      <th>2015</th>\n",
       "    </tr>\n",
       "    <tr>\n",
       "      <th>word_str</th>\n",
       "      <th></th>\n",
       "      <th></th>\n",
       "      <th></th>\n",
       "      <th></th>\n",
       "      <th></th>\n",
       "      <th></th>\n",
       "      <th></th>\n",
       "      <th></th>\n",
       "      <th></th>\n",
       "      <th></th>\n",
       "      <th></th>\n",
       "    </tr>\n",
       "  </thead>\n",
       "  <tbody>\n",
       "    <tr>\n",
       "      <th>ability</th>\n",
       "      <td>68</td>\n",
       "      <td>126</td>\n",
       "      <td>159</td>\n",
       "      <td>213</td>\n",
       "      <td>341</td>\n",
       "      <td>406</td>\n",
       "      <td>458</td>\n",
       "      <td>462</td>\n",
       "      <td>592</td>\n",
       "      <td>659</td>\n",
       "      <td>300</td>\n",
       "    </tr>\n",
       "    <tr>\n",
       "      <th>abiotic</th>\n",
       "      <td>12</td>\n",
       "      <td>14</td>\n",
       "      <td>18</td>\n",
       "      <td>17</td>\n",
       "      <td>25</td>\n",
       "      <td>49</td>\n",
       "      <td>57</td>\n",
       "      <td>101</td>\n",
       "      <td>133</td>\n",
       "      <td>171</td>\n",
       "      <td>109</td>\n",
       "    </tr>\n",
       "    <tr>\n",
       "      <th>absorption</th>\n",
       "      <td>31</td>\n",
       "      <td>35</td>\n",
       "      <td>47</td>\n",
       "      <td>74</td>\n",
       "      <td>140</td>\n",
       "      <td>130</td>\n",
       "      <td>154</td>\n",
       "      <td>163</td>\n",
       "      <td>167</td>\n",
       "      <td>203</td>\n",
       "      <td>76</td>\n",
       "    </tr>\n",
       "    <tr>\n",
       "      <th>abundance</th>\n",
       "      <td>25</td>\n",
       "      <td>45</td>\n",
       "      <td>63</td>\n",
       "      <td>60</td>\n",
       "      <td>93</td>\n",
       "      <td>111</td>\n",
       "      <td>149</td>\n",
       "      <td>185</td>\n",
       "      <td>252</td>\n",
       "      <td>286</td>\n",
       "      <td>192</td>\n",
       "    </tr>\n",
       "    <tr>\n",
       "      <th>abundant</th>\n",
       "      <td>14</td>\n",
       "      <td>34</td>\n",
       "      <td>36</td>\n",
       "      <td>46</td>\n",
       "      <td>82</td>\n",
       "      <td>97</td>\n",
       "      <td>126</td>\n",
       "      <td>150</td>\n",
       "      <td>196</td>\n",
       "      <td>223</td>\n",
       "      <td>136</td>\n",
       "    </tr>\n",
       "  </tbody>\n",
       "</table>\n",
       "</div>"
      ],
      "text/plain": [
       "           word_count                                                  \n",
       "year             2005 2006 2007 2008 2009 2010 2011 2012 2013 2014 2015\n",
       "word_str                                                               \n",
       "ability            68  126  159  213  341  406  458  462  592  659  300\n",
       "abiotic            12   14   18   17   25   49   57  101  133  171  109\n",
       "absorption         31   35   47   74  140  130  154  163  167  203   76\n",
       "abundance          25   45   63   60   93  111  149  185  252  286  192\n",
       "abundant           14   34   36   46   82   97  126  150  196  223  136"
      ]
     },
     "execution_count": 222,
     "metadata": {},
     "output_type": "execute_result"
    }
   ],
   "source": [
    "word_counts.head()"
   ]
  },
  {
   "cell_type": "markdown",
   "metadata": {},
   "source": [
    "## get total term frequency by year"
   ]
  },
  {
   "cell_type": "code",
   "execution_count": 148,
   "metadata": {
    "collapsed": false
   },
   "outputs": [],
   "source": [
    "command = \"\"\"\n",
    "SELECT SUM(word_count), doc_label\n",
    "FROM docword\n",
    "JOIN doc USING (doc_id)\n",
    "GROUP BY doc_label\n",
    "\"\"\"\n",
    "ttf = pd.read_sql_query(command,con)"
   ]
  },
  {
   "cell_type": "code",
   "execution_count": 155,
   "metadata": {
    "collapsed": false
   },
   "outputs": [],
   "source": [
    "ttf.columns = ['count','year']\n",
    "ttf.set_index('year',inplace=True)"
   ]
  },
  {
   "cell_type": "code",
   "execution_count": 161,
   "metadata": {
    "collapsed": false
   },
   "outputs": [],
   "source": [
    "# make a pandas Series\n",
    "ttf = ttf['count']"
   ]
  },
  {
   "cell_type": "code",
   "execution_count": 206,
   "metadata": {
    "collapsed": false
   },
   "outputs": [],
   "source": [
    "# sanity check on unigenes\n",
    "test = word_counts2.loc[cur.execute(\"select word_id from docword where word_str = 'unigenes'\").fetchone()[0]]/ttf\n",
    "plt.bar(left=range(2005,2016),height=test)"
   ]
  },
  {
   "cell_type": "markdown",
   "metadata": {},
   "source": [
    "## normalize frequencies to proportions"
   ]
  },
  {
   "cell_type": "code",
   "execution_count": 229,
   "metadata": {
    "collapsed": true
   },
   "outputs": [],
   "source": [
    "word_props = word_counts.apply(lambda x: x/ttf,axis=1)\n",
    "word_props.fillna(0,inplace=True)"
   ]
  },
  {
   "cell_type": "code",
   "execution_count": null,
   "metadata": {
    "collapsed": true
   },
   "outputs": [],
   "source": [
    "# sanity check\n",
    "plt.bar(word_props.loc[0])"
   ]
  },
  {
   "cell_type": "markdown",
   "metadata": {},
   "source": [
    "## normalize series to shapes"
   ]
  },
  {
   "cell_type": "code",
   "execution_count": 244,
   "metadata": {
    "collapsed": false
   },
   "outputs": [],
   "source": [
    "trends = word_props.apply(lambda x: x/x.sum(),axis=1)"
   ]
  },
  {
   "cell_type": "code",
   "execution_count": 254,
   "metadata": {
    "collapsed": false
   },
   "outputs": [
    {
     "data": {
      "text/html": [
       "<div>\n",
       "<table border=\"1\" class=\"dataframe\">\n",
       "  <thead>\n",
       "    <tr>\n",
       "      <th></th>\n",
       "      <th colspan=\"11\" halign=\"left\">word_count</th>\n",
       "    </tr>\n",
       "    <tr>\n",
       "      <th>year</th>\n",
       "      <th>2005</th>\n",
       "      <th>2006</th>\n",
       "      <th>2007</th>\n",
       "      <th>2008</th>\n",
       "      <th>2009</th>\n",
       "      <th>2010</th>\n",
       "      <th>2011</th>\n",
       "      <th>2012</th>\n",
       "      <th>2013</th>\n",
       "      <th>2014</th>\n",
       "      <th>2015</th>\n",
       "    </tr>\n",
       "    <tr>\n",
       "      <th>word_str</th>\n",
       "      <th></th>\n",
       "      <th></th>\n",
       "      <th></th>\n",
       "      <th></th>\n",
       "      <th></th>\n",
       "      <th></th>\n",
       "      <th></th>\n",
       "      <th></th>\n",
       "      <th></th>\n",
       "      <th></th>\n",
       "      <th></th>\n",
       "    </tr>\n",
       "  </thead>\n",
       "  <tbody>\n",
       "    <tr>\n",
       "      <th>ability</th>\n",
       "      <td>0.073113</td>\n",
       "      <td>0.095966</td>\n",
       "      <td>0.096506</td>\n",
       "      <td>0.094665</td>\n",
       "      <td>0.096796</td>\n",
       "      <td>0.096094</td>\n",
       "      <td>0.091304</td>\n",
       "      <td>0.087554</td>\n",
       "      <td>0.091251</td>\n",
       "      <td>0.091918</td>\n",
       "      <td>0.084832</td>\n",
       "    </tr>\n",
       "    <tr>\n",
       "      <th>abiotic</th>\n",
       "      <td>0.077529</td>\n",
       "      <td>0.064073</td>\n",
       "      <td>0.065649</td>\n",
       "      <td>0.045400</td>\n",
       "      <td>0.042642</td>\n",
       "      <td>0.069690</td>\n",
       "      <td>0.068281</td>\n",
       "      <td>0.115015</td>\n",
       "      <td>0.123188</td>\n",
       "      <td>0.143322</td>\n",
       "      <td>0.185211</td>\n",
       "    </tr>\n",
       "    <tr>\n",
       "      <th>absorption</th>\n",
       "      <td>0.101294</td>\n",
       "      <td>0.081012</td>\n",
       "      <td>0.086694</td>\n",
       "      <td>0.099949</td>\n",
       "      <td>0.120773</td>\n",
       "      <td>0.093509</td>\n",
       "      <td>0.093301</td>\n",
       "      <td>0.093877</td>\n",
       "      <td>0.078229</td>\n",
       "      <td>0.086050</td>\n",
       "      <td>0.065312</td>\n",
       "    </tr>\n",
       "    <tr>\n",
       "      <th>abundance</th>\n",
       "      <td>0.071390</td>\n",
       "      <td>0.091027</td>\n",
       "      <td>0.101557</td>\n",
       "      <td>0.070823</td>\n",
       "      <td>0.070113</td>\n",
       "      <td>0.069776</td>\n",
       "      <td>0.078890</td>\n",
       "      <td>0.093115</td>\n",
       "      <td>0.103164</td>\n",
       "      <td>0.105948</td>\n",
       "      <td>0.144196</td>\n",
       "    </tr>\n",
       "    <tr>\n",
       "      <th>abundant</th>\n",
       "      <td>0.053228</td>\n",
       "      <td>0.091570</td>\n",
       "      <td>0.077265</td>\n",
       "      <td>0.072293</td>\n",
       "      <td>0.082308</td>\n",
       "      <td>0.081184</td>\n",
       "      <td>0.088823</td>\n",
       "      <td>0.100520</td>\n",
       "      <td>0.106831</td>\n",
       "      <td>0.109989</td>\n",
       "      <td>0.135990</td>\n",
       "    </tr>\n",
       "  </tbody>\n",
       "</table>\n",
       "</div>"
      ],
      "text/plain": [
       "           word_count                                                    \\\n",
       "year             2005      2006      2007      2008      2009      2010   \n",
       "word_str                                                                  \n",
       "ability      0.073113  0.095966  0.096506  0.094665  0.096796  0.096094   \n",
       "abiotic      0.077529  0.064073  0.065649  0.045400  0.042642  0.069690   \n",
       "absorption   0.101294  0.081012  0.086694  0.099949  0.120773  0.093509   \n",
       "abundance    0.071390  0.091027  0.101557  0.070823  0.070113  0.069776   \n",
       "abundant     0.053228  0.091570  0.077265  0.072293  0.082308  0.081184   \n",
       "\n",
       "                                                              \n",
       "year            2011      2012      2013      2014      2015  \n",
       "word_str                                                      \n",
       "ability     0.091304  0.087554  0.091251  0.091918  0.084832  \n",
       "abiotic     0.068281  0.115015  0.123188  0.143322  0.185211  \n",
       "absorption  0.093301  0.093877  0.078229  0.086050  0.065312  \n",
       "abundance   0.078890  0.093115  0.103164  0.105948  0.144196  \n",
       "abundant    0.088823  0.100520  0.106831  0.109989  0.135990  "
      ]
     },
     "execution_count": 254,
     "metadata": {},
     "output_type": "execute_result"
    }
   ],
   "source": [
    "trends.head()"
   ]
  },
  {
   "cell_type": "code",
   "execution_count": 255,
   "metadata": {
    "collapsed": false
   },
   "outputs": [
    {
     "data": {
      "text/html": [
       "<div>\n",
       "<table border=\"1\" class=\"dataframe\">\n",
       "  <thead>\n",
       "    <tr style=\"text-align: right;\">\n",
       "      <th></th>\n",
       "      <th>label</th>\n",
       "    </tr>\n",
       "    <tr>\n",
       "      <th>word_str</th>\n",
       "      <th></th>\n",
       "    </tr>\n",
       "  </thead>\n",
       "  <tbody>\n",
       "    <tr>\n",
       "      <th>ability</th>\n",
       "      <td>50</td>\n",
       "    </tr>\n",
       "    <tr>\n",
       "      <th>abiotic</th>\n",
       "      <td>100</td>\n",
       "    </tr>\n",
       "    <tr>\n",
       "      <th>absorption</th>\n",
       "      <td>50</td>\n",
       "    </tr>\n",
       "    <tr>\n",
       "      <th>abundance</th>\n",
       "      <td>100</td>\n",
       "    </tr>\n",
       "    <tr>\n",
       "      <th>abundant</th>\n",
       "      <td>100</td>\n",
       "    </tr>\n",
       "  </tbody>\n",
       "</table>\n",
       "</div>"
      ],
      "text/plain": [
       "            label\n",
       "word_str         \n",
       "ability        50\n",
       "abiotic       100\n",
       "absorption     50\n",
       "abundance     100\n",
       "abundant      100"
      ]
     },
     "execution_count": 255,
     "metadata": {},
     "output_type": "execute_result"
    }
   ],
   "source": [
    "words.head()"
   ]
  },
  {
   "cell_type": "code",
   "execution_count": 264,
   "metadata": {
    "collapsed": true
   },
   "outputs": [],
   "source": [
    "words.sort_index(inplace=True)\n",
    "trends.sort_index(inplace=True)"
   ]
  },
  {
   "cell_type": "markdown",
   "metadata": {},
   "source": [
    "## the model"
   ]
  },
  {
   "cell_type": "code",
   "execution_count": 482,
   "metadata": {
    "collapsed": true
   },
   "outputs": [],
   "source": [
    "def laplace_kernel(v1,v2,gamma):\n",
    "    return np.exp(-1*gamma*np.sqrt(np.sum(np.square(v1-v2))))\n",
    "def gaussian_kernel(v1,v2,gamma):\n",
    "    return np.exp(-1*gamma*(np.sum(np.square(v1-v2))))"
   ]
  },
  {
   "cell_type": "code",
   "execution_count": 449,
   "metadata": {
    "collapsed": false
   },
   "outputs": [],
   "source": [
    "def classify(sequence,labels,trends,gamma,kernel):\n",
    "    scores = trends.apply(lambda v:kernel(np.array(v),np.array(sequence),gamma),axis=1)\n",
    "    pos = labels*scores\n",
    "    neg = (1-labels)*scores\n",
    "    return pos.mean()/neg.mean()"
   ]
  },
  {
   "cell_type": "markdown",
   "metadata": {},
   "source": [
    "## An example"
   ]
  },
  {
   "cell_type": "code",
   "execution_count": 678,
   "metadata": {
    "collapsed": false
   },
   "outputs": [
    {
     "name": "stdout",
     "output_type": "stream",
     "text": [
      "1\n"
     ]
    },
    {
     "data": {
      "text/plain": [
       "1.3119307852120927"
      ]
     },
     "execution_count": 678,
     "metadata": {},
     "output_type": "execute_result"
    }
   ],
   "source": [
    "# a positive case\n",
    "i=92\n",
    "print(words.label.iloc[i])\n",
    "classify(trends.iloc[i],words.label,trends,gamma=50,kernel=laplace_kernel)"
   ]
  },
  {
   "cell_type": "code",
   "execution_count": 625,
   "metadata": {
    "collapsed": false
   },
   "outputs": [
    {
     "name": "stdout",
     "output_type": "stream",
     "text": [
      "0\n"
     ]
    },
    {
     "data": {
      "text/plain": [
       "0.20647842077542944"
      ]
     },
     "execution_count": 625,
     "metadata": {},
     "output_type": "execute_result"
    }
   ],
   "source": [
    "# a negative case\n",
    "i=100\n",
    "print(words.label.iloc[i])\n",
    "classify(trends.iloc[i],words.label,trends,gamma=50,kernel=laplace_kernel)"
   ]
  },
  {
   "cell_type": "markdown",
   "metadata": {},
   "source": [
    "## validate parameters"
   ]
  },
  {
   "cell_type": "code",
   "execution_count": 844,
   "metadata": {
    "collapsed": false
   },
   "outputs": [],
   "source": [
    "# all the parameters to iterate over\n",
    "metrics = ['precision','recall','F1','AUC']\n",
    "kernels = ['laplace','gaussian']\n",
    "gammas = list(np.arange(3,33)*10)\n",
    "results_index = product(kernels,gammas,metrics)"
   ]
  },
  {
   "cell_type": "code",
   "execution_count": 845,
   "metadata": {
    "collapsed": true
   },
   "outputs": [],
   "source": [
    "# build a results df from these parameters\n",
    "results = pd.DataFrame(index=pd.MultiIndex.from_product([kernels,gammas,metrics],\n",
    "                                                        names=['kernels','gammas','metrics']),columns=range(10))"
   ]
  },
  {
   "cell_type": "code",
   "execution_count": 846,
   "metadata": {
    "collapsed": false
   },
   "outputs": [],
   "source": [
    "# maps from names to functions\n",
    "kernel_map = {'laplace':laplace_kernel,'gaussian':gaussian_kernel}\n",
    "metric_map = {'precision':sk_metrics.precision_score,\n",
    "              'recall':sk_metrics.recall_score,\n",
    "              'F1':sk_metrics.f1_score,\n",
    "              'AUC':sk_metrics.roc_auc_score}"
   ]
  },
  {
   "cell_type": "code",
   "execution_count": null,
   "metadata": {
    "collapsed": false
   },
   "outputs": [
    {
     "name": "stdout",
     "output_type": "stream",
     "text": [
      "\n",
      "('laplace', 30, 'precision')\n",
      "0.875\t1.0\t1.0\t0.875\t0.875\t0.875\t1.0\t1.0\t1.0\t1.0\t\n",
      "('laplace', 30, 'recall')\n",
      "0.135593220339\t0.15\t0.131147540984\t0.109375\t0.224489795918\t0.129032258065\t0.0727272727273\t0.10447761194"
     ]
    }
   ],
   "source": [
    "# for every combination of parameters,\n",
    "for params in results.index:\n",
    "    kernel,gamma,metric=params\n",
    "    print()\n",
    "    print(params)\n",
    "    \n",
    "    # and all 10 trials,\n",
    "    for trial in results.columns:\n",
    "        # split into training and testing sets 70/30\n",
    "        train_X = trends.sample(frac=0.7)\n",
    "        train_y = words.loc[train_X.index]\n",
    "        test_index = trends.index.difference(train_X.index)\n",
    "        test_X = trends.loc[test_index]\n",
    "        test_y = words.loc[test_index]\n",
    "        # compute the score for every test sequence\n",
    "        trendiness = test_X.apply(lambda x: classify(x,labels=train_y.label,\n",
    "                                                     trends=train_X,\n",
    "                                                     gamma=gamma,\n",
    "                                                     kernel=kernel_map[kernel]),\n",
    "                                                     axis=1)\n",
    "        # convert to binary response if not evaluating using AUC\n",
    "        if metric != 'AUC':\n",
    "            trendiness = (trendiness > 1).astype('int')\n",
    "        # compute the accuracy metric\n",
    "        accuracy = metric_map[metric](test_y,trendiness)\n",
    "        print(accuracy,end='\\t')\n",
    "            \n",
    "        results.loc[params,trial] = accuracy"
   ]
  },
  {
   "cell_type": "code",
   "execution_count": null,
   "metadata": {
    "collapsed": false
   },
   "outputs": [],
   "source": [
    "results.to_csv(data_dir+results_output)"
   ]
  },
  {
   "cell_type": "markdown",
   "metadata": {},
   "source": [
    "## get series for every word"
   ]
  },
  {
   "cell_type": "code",
   "execution_count": 400,
   "metadata": {
    "collapsed": true
   },
   "outputs": [],
   "source": [
    "# get series for every word\n",
    "command = '''\n",
    "SELECT d.doc_label as year,\n",
    "       word_id,\n",
    "       word_str,\n",
    "       sum(word_count) as word_count\n",
    "  FROM docword w\n",
    "       JOIN\n",
    "       doc d USING (\n",
    "           doc_id\n",
    "       )\n",
    " GROUP BY word_id, d.doc_label'''"
   ]
  },
  {
   "cell_type": "code",
   "execution_count": 401,
   "metadata": {
    "collapsed": false
   },
   "outputs": [],
   "source": [
    "word_series = pd.read_sql_query(command,con)"
   ]
  },
  {
   "cell_type": "code",
   "execution_count": 402,
   "metadata": {
    "collapsed": false
   },
   "outputs": [],
   "source": [
    "# reindex and reshape\n",
    "word_series.set_index(['word_id','word_str','year'],inplace=True)\n",
    "word_series=word_series.unstack(level='year')\n",
    "\n",
    "word_series.fillna(0,inplace=True)\n",
    "word_series.columns = word_series.columns.get_level_values(1)"
   ]
  },
  {
   "cell_type": "code",
   "execution_count": 531,
   "metadata": {
    "collapsed": false
   },
   "outputs": [
    {
     "data": {
      "text/html": [
       "<div>\n",
       "<table border=\"1\" class=\"dataframe\">\n",
       "  <thead>\n",
       "    <tr style=\"text-align: right;\">\n",
       "      <th></th>\n",
       "      <th>year</th>\n",
       "      <th>2005</th>\n",
       "      <th>2006</th>\n",
       "      <th>2007</th>\n",
       "      <th>2008</th>\n",
       "      <th>2009</th>\n",
       "      <th>2010</th>\n",
       "      <th>2011</th>\n",
       "      <th>2012</th>\n",
       "      <th>2013</th>\n",
       "      <th>2014</th>\n",
       "      <th>2015</th>\n",
       "    </tr>\n",
       "    <tr>\n",
       "      <th>word_id</th>\n",
       "      <th>word_str</th>\n",
       "      <th></th>\n",
       "      <th></th>\n",
       "      <th></th>\n",
       "      <th></th>\n",
       "      <th></th>\n",
       "      <th></th>\n",
       "      <th></th>\n",
       "      <th></th>\n",
       "      <th></th>\n",
       "      <th></th>\n",
       "      <th></th>\n",
       "    </tr>\n",
       "  </thead>\n",
       "  <tbody>\n",
       "    <tr>\n",
       "      <th>0</th>\n",
       "      <th>Relationship</th>\n",
       "      <td>0</td>\n",
       "      <td>0</td>\n",
       "      <td>0</td>\n",
       "      <td>0</td>\n",
       "      <td>0</td>\n",
       "      <td>1</td>\n",
       "      <td>3</td>\n",
       "      <td>1</td>\n",
       "      <td>0</td>\n",
       "      <td>0</td>\n",
       "      <td>0</td>\n",
       "    </tr>\n",
       "    <tr>\n",
       "      <th>1</th>\n",
       "      <th>IGFBP7</th>\n",
       "      <td>0</td>\n",
       "      <td>0</td>\n",
       "      <td>1</td>\n",
       "      <td>0</td>\n",
       "      <td>0</td>\n",
       "      <td>10</td>\n",
       "      <td>1</td>\n",
       "      <td>9</td>\n",
       "      <td>1</td>\n",
       "      <td>0</td>\n",
       "      <td>0</td>\n",
       "    </tr>\n",
       "    <tr>\n",
       "      <th>2</th>\n",
       "      <th>cross-layer</th>\n",
       "      <td>1</td>\n",
       "      <td>0</td>\n",
       "      <td>3</td>\n",
       "      <td>4</td>\n",
       "      <td>4</td>\n",
       "      <td>3</td>\n",
       "      <td>1</td>\n",
       "      <td>6</td>\n",
       "      <td>1</td>\n",
       "      <td>0</td>\n",
       "      <td>0</td>\n",
       "    </tr>\n",
       "    <tr>\n",
       "      <th>3</th>\n",
       "      <th>instability</th>\n",
       "      <td>1</td>\n",
       "      <td>12</td>\n",
       "      <td>7</td>\n",
       "      <td>27</td>\n",
       "      <td>17</td>\n",
       "      <td>46</td>\n",
       "      <td>41</td>\n",
       "      <td>20</td>\n",
       "      <td>47</td>\n",
       "      <td>59</td>\n",
       "      <td>29</td>\n",
       "    </tr>\n",
       "    <tr>\n",
       "      <th>4</th>\n",
       "      <th>prerequisite</th>\n",
       "      <td>4</td>\n",
       "      <td>3</td>\n",
       "      <td>5</td>\n",
       "      <td>11</td>\n",
       "      <td>8</td>\n",
       "      <td>20</td>\n",
       "      <td>15</td>\n",
       "      <td>17</td>\n",
       "      <td>26</td>\n",
       "      <td>16</td>\n",
       "      <td>4</td>\n",
       "    </tr>\n",
       "  </tbody>\n",
       "</table>\n",
       "</div>"
      ],
      "text/plain": [
       "year                  2005  2006  2007  2008  2009  2010  2011  2012  2013  \\\n",
       "word_id word_str                                                             \n",
       "0       Relationship     0     0     0     0     0     1     3     1     0   \n",
       "1       IGFBP7           0     0     1     0     0    10     1     9     1   \n",
       "2       cross-layer      1     0     3     4     4     3     1     6     1   \n",
       "3       instability      1    12     7    27    17    46    41    20    47   \n",
       "4       prerequisite     4     3     5    11     8    20    15    17    26   \n",
       "\n",
       "year                  2014  2015  \n",
       "word_id word_str                  \n",
       "0       Relationship     0     0  \n",
       "1       IGFBP7           0     0  \n",
       "2       cross-layer      0     0  \n",
       "3       instability     59    29  \n",
       "4       prerequisite    16     4  "
      ]
     },
     "execution_count": 531,
     "metadata": {},
     "output_type": "execute_result"
    }
   ],
   "source": [
    "word_series.head()"
   ]
  },
  {
   "cell_type": "code",
   "execution_count": 532,
   "metadata": {
    "collapsed": true
   },
   "outputs": [],
   "source": [
    "# normalize to proportions\n",
    "word_props = word_series.apply(lambda x: x/ttf,axis=1)\n",
    "word_props.fillna(0,inplace=True)"
   ]
  },
  {
   "cell_type": "code",
   "execution_count": 533,
   "metadata": {
    "collapsed": true
   },
   "outputs": [],
   "source": [
    "# normalize from series to shapes\n",
    "word_trends = word_props.apply(lambda x: x/x.sum(),axis=1)"
   ]
  },
  {
   "cell_type": "code",
   "execution_count": 534,
   "metadata": {
    "collapsed": false
   },
   "outputs": [
    {
     "data": {
      "text/html": [
       "<div>\n",
       "<table border=\"1\" class=\"dataframe\">\n",
       "  <thead>\n",
       "    <tr style=\"text-align: right;\">\n",
       "      <th></th>\n",
       "      <th>year</th>\n",
       "      <th>2005</th>\n",
       "      <th>2006</th>\n",
       "      <th>2007</th>\n",
       "      <th>2008</th>\n",
       "      <th>2009</th>\n",
       "      <th>2010</th>\n",
       "      <th>2011</th>\n",
       "      <th>2012</th>\n",
       "      <th>2013</th>\n",
       "      <th>2014</th>\n",
       "      <th>2015</th>\n",
       "    </tr>\n",
       "    <tr>\n",
       "      <th>word_id</th>\n",
       "      <th>word_str</th>\n",
       "      <th></th>\n",
       "      <th></th>\n",
       "      <th></th>\n",
       "      <th></th>\n",
       "      <th></th>\n",
       "      <th></th>\n",
       "      <th></th>\n",
       "      <th></th>\n",
       "      <th></th>\n",
       "      <th></th>\n",
       "      <th></th>\n",
       "    </tr>\n",
       "  </thead>\n",
       "  <tbody>\n",
       "    <tr>\n",
       "      <th>0</th>\n",
       "      <th>Relationship</th>\n",
       "      <td>0.000000</td>\n",
       "      <td>0.000000</td>\n",
       "      <td>0.000000</td>\n",
       "      <td>0.000000</td>\n",
       "      <td>0.000000</td>\n",
       "      <td>0.231080</td>\n",
       "      <td>0.583898</td>\n",
       "      <td>0.185022</td>\n",
       "      <td>0.000000</td>\n",
       "      <td>0.000000</td>\n",
       "      <td>0.000000</td>\n",
       "    </tr>\n",
       "    <tr>\n",
       "      <th>1</th>\n",
       "      <th>IGFBP7</th>\n",
       "      <td>0.000000</td>\n",
       "      <td>0.000000</td>\n",
       "      <td>0.120597</td>\n",
       "      <td>0.000000</td>\n",
       "      <td>0.000000</td>\n",
       "      <td>0.470277</td>\n",
       "      <td>0.039610</td>\n",
       "      <td>0.338890</td>\n",
       "      <td>0.030626</td>\n",
       "      <td>0.000000</td>\n",
       "      <td>0.000000</td>\n",
       "    </tr>\n",
       "    <tr>\n",
       "      <th>2</th>\n",
       "      <th>cross-layer</th>\n",
       "      <td>0.134234</td>\n",
       "      <td>0.000000</td>\n",
       "      <td>0.227327</td>\n",
       "      <td>0.221945</td>\n",
       "      <td>0.141755</td>\n",
       "      <td>0.088648</td>\n",
       "      <td>0.024889</td>\n",
       "      <td>0.141958</td>\n",
       "      <td>0.019244</td>\n",
       "      <td>0.000000</td>\n",
       "      <td>0.000000</td>\n",
       "    </tr>\n",
       "    <tr>\n",
       "      <th>3</th>\n",
       "      <th>instability</th>\n",
       "      <td>0.013817</td>\n",
       "      <td>0.117454</td>\n",
       "      <td>0.054600</td>\n",
       "      <td>0.154210</td>\n",
       "      <td>0.062014</td>\n",
       "      <td>0.139916</td>\n",
       "      <td>0.105039</td>\n",
       "      <td>0.048708</td>\n",
       "      <td>0.093101</td>\n",
       "      <td>0.105757</td>\n",
       "      <td>0.105385</td>\n",
       "    </tr>\n",
       "    <tr>\n",
       "      <th>4</th>\n",
       "      <th>prerequisite</th>\n",
       "      <td>0.122542</td>\n",
       "      <td>0.065104</td>\n",
       "      <td>0.086470</td>\n",
       "      <td>0.139297</td>\n",
       "      <td>0.064704</td>\n",
       "      <td>0.134878</td>\n",
       "      <td>0.085203</td>\n",
       "      <td>0.091796</td>\n",
       "      <td>0.114190</td>\n",
       "      <td>0.063588</td>\n",
       "      <td>0.032228</td>\n",
       "    </tr>\n",
       "  </tbody>\n",
       "</table>\n",
       "</div>"
      ],
      "text/plain": [
       "year                      2005      2006      2007      2008      2009  \\\n",
       "word_id word_str                                                         \n",
       "0       Relationship  0.000000  0.000000  0.000000  0.000000  0.000000   \n",
       "1       IGFBP7        0.000000  0.000000  0.120597  0.000000  0.000000   \n",
       "2       cross-layer   0.134234  0.000000  0.227327  0.221945  0.141755   \n",
       "3       instability   0.013817  0.117454  0.054600  0.154210  0.062014   \n",
       "4       prerequisite  0.122542  0.065104  0.086470  0.139297  0.064704   \n",
       "\n",
       "year                      2010      2011      2012      2013      2014  \\\n",
       "word_id word_str                                                         \n",
       "0       Relationship  0.231080  0.583898  0.185022  0.000000  0.000000   \n",
       "1       IGFBP7        0.470277  0.039610  0.338890  0.030626  0.000000   \n",
       "2       cross-layer   0.088648  0.024889  0.141958  0.019244  0.000000   \n",
       "3       instability   0.139916  0.105039  0.048708  0.093101  0.105757   \n",
       "4       prerequisite  0.134878  0.085203  0.091796  0.114190  0.063588   \n",
       "\n",
       "year                      2015  \n",
       "word_id word_str                \n",
       "0       Relationship  0.000000  \n",
       "1       IGFBP7        0.000000  \n",
       "2       cross-layer   0.000000  \n",
       "3       instability   0.105385  \n",
       "4       prerequisite  0.032228  "
      ]
     },
     "execution_count": 534,
     "metadata": {},
     "output_type": "execute_result"
    }
   ],
   "source": [
    "word_trends.head()"
   ]
  },
  {
   "cell_type": "markdown",
   "metadata": {},
   "source": [
    "## compute trendiness for every word"
   ]
  },
  {
   "cell_type": "code",
   "execution_count": 717,
   "metadata": {
    "collapsed": false
   },
   "outputs": [],
   "source": [
    "# new dataframe to hold stats; this gets written to a db\n",
    "word_stats = pd.DataFrame([t for t in word_series.index],columns=['word_id','word_str'])\n",
    "word_stats.set_index(['word_id'],inplace=True)"
   ]
  },
  {
   "cell_type": "code",
   "execution_count": 718,
   "metadata": {
    "collapsed": false
   },
   "outputs": [
    {
     "data": {
      "text/html": [
       "<div>\n",
       "<table border=\"1\" class=\"dataframe\">\n",
       "  <thead>\n",
       "    <tr style=\"text-align: right;\">\n",
       "      <th></th>\n",
       "      <th>word_str</th>\n",
       "    </tr>\n",
       "    <tr>\n",
       "      <th>word_id</th>\n",
       "      <th></th>\n",
       "    </tr>\n",
       "  </thead>\n",
       "  <tbody>\n",
       "    <tr>\n",
       "      <th>0</th>\n",
       "      <td>Relationship</td>\n",
       "    </tr>\n",
       "    <tr>\n",
       "      <th>1</th>\n",
       "      <td>IGFBP7</td>\n",
       "    </tr>\n",
       "    <tr>\n",
       "      <th>2</th>\n",
       "      <td>cross-layer</td>\n",
       "    </tr>\n",
       "    <tr>\n",
       "      <th>3</th>\n",
       "      <td>instability</td>\n",
       "    </tr>\n",
       "    <tr>\n",
       "      <th>4</th>\n",
       "      <td>prerequisite</td>\n",
       "    </tr>\n",
       "  </tbody>\n",
       "</table>\n",
       "</div>"
      ],
      "text/plain": [
       "             word_str\n",
       "word_id              \n",
       "0        Relationship\n",
       "1              IGFBP7\n",
       "2         cross-layer\n",
       "3         instability\n",
       "4        prerequisite"
      ]
     },
     "execution_count": 718,
     "metadata": {},
     "output_type": "execute_result"
    }
   ],
   "source": [
    "word_stats.head()"
   ]
  },
  {
   "cell_type": "code",
   "execution_count": 708,
   "metadata": {
    "collapsed": false
   },
   "outputs": [
    {
     "name": "stdout",
     "output_type": "stream",
     "text": [
      "1 loops, best of 3: 3.12 s per loop\n"
     ]
    }
   ],
   "source": [
    "# timing the classification\n",
    "%timeit trendiness = word_trends.iloc[0:100].apply(classify,axis=1,**dict(labels=words.label,trends=trends,gamma=50,kernel=laplace_kernel))\n",
    "# at this rate it should take < 3.22s*44000/(100*60) ~ 23 mins to complete"
   ]
  },
  {
   "cell_type": "code",
   "execution_count": 457,
   "metadata": {
    "collapsed": false
   },
   "outputs": [
    {
     "data": {
      "text/plain": [
       "(44326, 11)"
      ]
     },
     "execution_count": 457,
     "metadata": {},
     "output_type": "execute_result"
    }
   ],
   "source": [
    "word_stats.trendiness = word_trends.iloc.apply(classify,axis=1,**dict(\n",
    "                labels=words.label,trends=trends,gamma=50,kernel=laplace_kernel))"
   ]
  },
  {
   "cell_type": "markdown",
   "metadata": {},
   "source": [
    "### Questions:\n",
    "    -Does another kernel perform better?\n",
    "    -How are the results affected by gamma?\n",
    "    -ROC curves for varying gamma?\n",
    "    -Does it make sense to transform the data first?\n",
    "        *smoothing: rolling average\n",
    "        *log or power transform: most kernels make more sense in this transformed space"
   ]
  },
  {
   "cell_type": "markdown",
   "metadata": {},
   "source": [
    "## Compute other relevant stats:\n",
    "    -ttf\n",
    "    -df\n",
    "    -idf"
   ]
  },
  {
   "cell_type": "code",
   "execution_count": 719,
   "metadata": {
    "collapsed": true
   },
   "outputs": [],
   "source": [
    "# ttf\n",
    "command=\"\"\"\n",
    "SELECT word_id,\n",
    "       word_str,\n",
    "       word_freq\n",
    "FROM word\n",
    "\"\"\""
   ]
  },
  {
   "cell_type": "code",
   "execution_count": 726,
   "metadata": {
    "collapsed": false
   },
   "outputs": [],
   "source": [
    "#word_stats.ttf = \n",
    "ttf_all = pd.read_sql_query(command,con)\n",
    "ttf_all.set_index('word_id',inplace=True)"
   ]
  },
  {
   "cell_type": "code",
   "execution_count": 730,
   "metadata": {
    "collapsed": false
   },
   "outputs": [],
   "source": [
    "word_stats.loc[:,'ttf'] = ttf_all.word_freq"
   ]
  },
  {
   "cell_type": "code",
   "execution_count": 731,
   "metadata": {
    "collapsed": false
   },
   "outputs": [
    {
     "data": {
      "text/html": [
       "<div>\n",
       "<table border=\"1\" class=\"dataframe\">\n",
       "  <thead>\n",
       "    <tr style=\"text-align: right;\">\n",
       "      <th></th>\n",
       "      <th>word_str</th>\n",
       "      <th>ttf</th>\n",
       "    </tr>\n",
       "    <tr>\n",
       "      <th>word_id</th>\n",
       "      <th></th>\n",
       "      <th></th>\n",
       "    </tr>\n",
       "  </thead>\n",
       "  <tbody>\n",
       "    <tr>\n",
       "      <th>0</th>\n",
       "      <td>Relationship</td>\n",
       "      <td>5</td>\n",
       "    </tr>\n",
       "    <tr>\n",
       "      <th>1</th>\n",
       "      <td>IGFBP7</td>\n",
       "      <td>22</td>\n",
       "    </tr>\n",
       "    <tr>\n",
       "      <th>2</th>\n",
       "      <td>cross-layer</td>\n",
       "      <td>23</td>\n",
       "    </tr>\n",
       "    <tr>\n",
       "      <th>3</th>\n",
       "      <td>instability</td>\n",
       "      <td>306</td>\n",
       "    </tr>\n",
       "    <tr>\n",
       "      <th>4</th>\n",
       "      <td>prerequisite</td>\n",
       "      <td>129</td>\n",
       "    </tr>\n",
       "  </tbody>\n",
       "</table>\n",
       "</div>"
      ],
      "text/plain": [
       "             word_str  ttf\n",
       "word_id                   \n",
       "0        Relationship    5\n",
       "1              IGFBP7   22\n",
       "2         cross-layer   23\n",
       "3         instability  306\n",
       "4        prerequisite  129"
      ]
     },
     "execution_count": 731,
     "metadata": {},
     "output_type": "execute_result"
    }
   ],
   "source": [
    "word_stats.head()"
   ]
  },
  {
   "cell_type": "code",
   "execution_count": 776,
   "metadata": {
    "collapsed": true
   },
   "outputs": [],
   "source": [
    "# df\n",
    "command=\"\"\"\n",
    "SELECT word_id, count(doc_id) as df\n",
    "FROM docword\n",
    " GROUP BY word_id\n",
    "\"\"\""
   ]
  },
  {
   "cell_type": "code",
   "execution_count": 777,
   "metadata": {
    "collapsed": true
   },
   "outputs": [],
   "source": [
    "df_all = pd.read_sql_query(command,con)\n",
    "df_all.set_index('word_id',inplace=True)"
   ]
  },
  {
   "cell_type": "code",
   "execution_count": 803,
   "metadata": {
    "collapsed": false
   },
   "outputs": [
    {
     "data": {
      "text/html": [
       "<div>\n",
       "<table border=\"1\" class=\"dataframe\">\n",
       "  <thead>\n",
       "    <tr style=\"text-align: right;\">\n",
       "      <th></th>\n",
       "      <th>df</th>\n",
       "    </tr>\n",
       "    <tr>\n",
       "      <th>word_id</th>\n",
       "      <th></th>\n",
       "    </tr>\n",
       "  </thead>\n",
       "  <tbody>\n",
       "    <tr>\n",
       "      <th>0</th>\n",
       "      <td>5</td>\n",
       "    </tr>\n",
       "    <tr>\n",
       "      <th>1</th>\n",
       "      <td>5</td>\n",
       "    </tr>\n",
       "    <tr>\n",
       "      <th>2</th>\n",
       "      <td>17</td>\n",
       "    </tr>\n",
       "    <tr>\n",
       "      <th>3</th>\n",
       "      <td>238</td>\n",
       "    </tr>\n",
       "    <tr>\n",
       "      <th>4</th>\n",
       "      <td>129</td>\n",
       "    </tr>\n",
       "  </tbody>\n",
       "</table>\n",
       "</div>"
      ],
      "text/plain": [
       "          df\n",
       "word_id     \n",
       "0          5\n",
       "1          5\n",
       "2         17\n",
       "3        238\n",
       "4        129"
      ]
     },
     "execution_count": 803,
     "metadata": {},
     "output_type": "execute_result"
    }
   ],
   "source": [
    "df_all.head()"
   ]
  },
  {
   "cell_type": "code",
   "execution_count": 779,
   "metadata": {
    "collapsed": true
   },
   "outputs": [],
   "source": [
    "word_stats.loc[:,'df'] = df_all.df"
   ]
  },
  {
   "cell_type": "code",
   "execution_count": 781,
   "metadata": {
    "collapsed": false
   },
   "outputs": [],
   "source": [
    "command=\"\"\"\n",
    "SELECT count(doc_id) \n",
    "FROM doc\"\"\"\n",
    "doc_count = cur.execute(command).fetchall()\n",
    "\n",
    "doc_count = doc_count[0][0]"
   ]
  },
  {
   "cell_type": "code",
   "execution_count": 786,
   "metadata": {
    "collapsed": false
   },
   "outputs": [],
   "source": [
    "#idf\n",
    "word_stats.loc[:,'idf'] = doc_count/df_all.df\n",
    "word_stats.loc[:,'idf'] = word_stats.idf.apply(np.log)"
   ]
  },
  {
   "cell_type": "code",
   "execution_count": 788,
   "metadata": {
    "collapsed": false
   },
   "outputs": [
    {
     "data": {
      "text/html": [
       "<div>\n",
       "<table border=\"1\" class=\"dataframe\">\n",
       "  <thead>\n",
       "    <tr style=\"text-align: right;\">\n",
       "      <th></th>\n",
       "      <th>word_str</th>\n",
       "      <th>ttf</th>\n",
       "      <th>df</th>\n",
       "      <th>idf</th>\n",
       "    </tr>\n",
       "    <tr>\n",
       "      <th>word_id</th>\n",
       "      <th></th>\n",
       "      <th></th>\n",
       "      <th></th>\n",
       "      <th></th>\n",
       "    </tr>\n",
       "  </thead>\n",
       "  <tbody>\n",
       "    <tr>\n",
       "      <th>0</th>\n",
       "      <td>Relationship</td>\n",
       "      <td>5</td>\n",
       "      <td>5</td>\n",
       "      <td>9.397567</td>\n",
       "    </tr>\n",
       "    <tr>\n",
       "      <th>1</th>\n",
       "      <td>IGFBP7</td>\n",
       "      <td>22</td>\n",
       "      <td>5</td>\n",
       "      <td>9.397567</td>\n",
       "    </tr>\n",
       "    <tr>\n",
       "      <th>2</th>\n",
       "      <td>cross-layer</td>\n",
       "      <td>23</td>\n",
       "      <td>17</td>\n",
       "      <td>8.173791</td>\n",
       "    </tr>\n",
       "    <tr>\n",
       "      <th>3</th>\n",
       "      <td>instability</td>\n",
       "      <td>306</td>\n",
       "      <td>238</td>\n",
       "      <td>5.534734</td>\n",
       "    </tr>\n",
       "    <tr>\n",
       "      <th>4</th>\n",
       "      <td>prerequisite</td>\n",
       "      <td>129</td>\n",
       "      <td>129</td>\n",
       "      <td>6.147192</td>\n",
       "    </tr>\n",
       "  </tbody>\n",
       "</table>\n",
       "</div>"
      ],
      "text/plain": [
       "             word_str  ttf   df       idf\n",
       "word_id                                  \n",
       "0        Relationship    5    5  9.397567\n",
       "1              IGFBP7   22    5  9.397567\n",
       "2         cross-layer   23   17  8.173791\n",
       "3         instability  306  238  5.534734\n",
       "4        prerequisite  129  129  6.147192"
      ]
     },
     "execution_count": 788,
     "metadata": {},
     "output_type": "execute_result"
    }
   ],
   "source": [
    "word_stats.head()"
   ]
  },
  {
   "cell_type": "code",
   "execution_count": 800,
   "metadata": {
    "collapsed": false
   },
   "outputs": [],
   "source": [
    "## write the stats to a db\n",
    "con2 = sql.connect(\"word_stats.db\")\n",
    "word_stats.to_sql(\"word_stats\",con2,schema='''(\"word_id\" INTEGER PRIMARY KEY, \"word_str\" TEXT,\n",
    "  \"ttf\" INTEGER,\n",
    "  \"df\" INTEGER,\n",
    "  \"idf\" REAL)''')"
   ]
  },
  {
   "cell_type": "code",
   "execution_count": 801,
   "metadata": {
    "collapsed": true
   },
   "outputs": [],
   "source": [
    "con2.close()"
   ]
  },
  {
   "cell_type": "markdown",
   "metadata": {},
   "source": [
    "## That's all, folks!"
   ]
  }
 ],
 "metadata": {
  "kernelspec": {
   "display_name": "Python 3",
   "language": "python",
   "name": "python3"
  },
  "language_info": {
   "codemirror_mode": {
    "name": "ipython",
    "version": 3
   },
   "file_extension": ".py",
   "mimetype": "text/x-python",
   "name": "python",
   "nbconvert_exporter": "python",
   "pygments_lexer": "ipython3",
   "version": "3.5.1"
  }
 },
 "nbformat": 4,
 "nbformat_minor": 0
}
