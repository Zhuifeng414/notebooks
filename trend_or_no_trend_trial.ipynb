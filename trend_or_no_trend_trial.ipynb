{
 "cells": [
  {
   "cell_type": "code",
   "execution_count": null,
   "metadata": {
    "collapsed": true
   },
   "outputs": [],
   "source": [
    "import sqlite3 as sql\n",
    "import pandas as pd\n",
    "import os\n",
    "import matplotlib.pyplot as plt\n",
    "import functools\n",
    "import re\n",
    "from matplotlib import pyplot as plt\n",
    "import numpy as np\n",
    "from sklearn import metrics as sk_metrics\n",
    "%matplotlib inline"
   ]
  },
  {
   "cell_type": "code",
   "execution_count": 817,
   "metadata": {
    "collapsed": true
   },
   "outputs": [],
   "source": [
    "# location of trends.csv\n",
    "data_dir='/home/matt/Datasets/Battelle Data/data-extracted/'\n",
    "# location of databases\n",
    "db_dir='/home/matt/Datasets/Battelle Data/databases/'\n",
    "main_database = 'battelle.db'\n",
    "# save results of model testing here\n",
    "results_output='testing_results.csv'"
   ]
  },
  {
   "cell_type": "markdown",
   "metadata": {},
   "source": [
    "## read the labels"
   ]
  },
  {
   "cell_type": "code",
   "execution_count": 316,
   "metadata": {
    "collapsed": false
   },
   "outputs": [],
   "source": [
    "os.chdir(data_dir)\n",
    "words = pd.read_csv(\"trends.csv\")\n",
    "words.columns = ['word_str','label']\n",
    "words.set_index('word_str',inplace=True)"
   ]
  },
  {
   "cell_type": "markdown",
   "metadata": {},
   "source": [
    "## 0-1 encode the labels"
   ]
  },
  {
   "cell_type": "code",
   "execution_count": 317,
   "metadata": {
    "collapsed": true
   },
   "outputs": [],
   "source": [
    "def zero_one(x):\n",
    "    if x == 100:\n",
    "        return 1\n",
    "    return 0"
   ]
  },
  {
   "cell_type": "code",
   "execution_count": 318,
   "metadata": {
    "collapsed": true
   },
   "outputs": [],
   "source": [
    "words.label = words.label.apply(zero_one)"
   ]
  },
  {
   "cell_type": "code",
   "execution_count": 319,
   "metadata": {
    "collapsed": false
   },
   "outputs": [
    {
     "data": {
      "text/html": [
       "<div>\n",
       "<table border=\"1\" class=\"dataframe\">\n",
       "  <thead>\n",
       "    <tr style=\"text-align: right;\">\n",
       "      <th></th>\n",
       "      <th>label</th>\n",
       "    </tr>\n",
       "    <tr>\n",
       "      <th>word_str</th>\n",
       "      <th></th>\n",
       "    </tr>\n",
       "  </thead>\n",
       "  <tbody>\n",
       "    <tr>\n",
       "      <th>ability</th>\n",
       "      <td>0</td>\n",
       "    </tr>\n",
       "    <tr>\n",
       "      <th>abiotic</th>\n",
       "      <td>1</td>\n",
       "    </tr>\n",
       "    <tr>\n",
       "      <th>absorption</th>\n",
       "      <td>0</td>\n",
       "    </tr>\n",
       "    <tr>\n",
       "      <th>abundance</th>\n",
       "      <td>1</td>\n",
       "    </tr>\n",
       "    <tr>\n",
       "      <th>abundant</th>\n",
       "      <td>1</td>\n",
       "    </tr>\n",
       "  </tbody>\n",
       "</table>\n",
       "</div>"
      ],
      "text/plain": [
       "            label\n",
       "word_str         \n",
       "ability         0\n",
       "abiotic         1\n",
       "absorption      0\n",
       "abundance       1\n",
       "abundant        1"
      ]
     },
     "execution_count": 319,
     "metadata": {},
     "output_type": "execute_result"
    }
   ],
   "source": [
    "words.head()"
   ]
  },
  {
   "cell_type": "markdown",
   "metadata": {},
   "source": [
    "## get the word counts from the db"
   ]
  },
  {
   "cell_type": "code",
   "execution_count": 795,
   "metadata": {
    "collapsed": true
   },
   "outputs": [],
   "source": [
    "os.chdir(db_dir)\n",
    "con = sql.connect(main_database)\n",
    "cur = con.cursor()"
   ]
  },
  {
   "cell_type": "code",
   "execution_count": 217,
   "metadata": {
    "collapsed": true
   },
   "outputs": [],
   "source": [
    "command = '''\n",
    "SELECT d.doc_label as year,\n",
    "       word_id,\n",
    "       word_str,\n",
    "       sum(word_count) as word_count\n",
    "  FROM docword w\n",
    "       JOIN\n",
    "       doc d USING (\n",
    "           doc_id\n",
    "       )\n",
    "  WHERE word_str in {}\n",
    " GROUP BY doc_label,word_id'''\n"
   ]
  },
  {
   "cell_type": "code",
   "execution_count": 218,
   "metadata": {
    "collapsed": true
   },
   "outputs": [],
   "source": [
    "# selector list for sql query: ('word1','word2', ...)\n",
    "id_string ='('+re.sub(\"'\",'\"',re.sub('[\\[\\]]','',str(list(words.title))))+')'"
   ]
  },
  {
   "cell_type": "code",
   "execution_count": 219,
   "metadata": {
    "collapsed": false
   },
   "outputs": [],
   "source": [
    "word_counts = pd.read_sql_query(command.format(id_string),con)"
   ]
  },
  {
   "cell_type": "code",
   "execution_count": 220,
   "metadata": {
    "collapsed": false
   },
   "outputs": [
    {
     "data": {
      "text/plain": [
       "(10957, 4)"
      ]
     },
     "execution_count": 220,
     "metadata": {},
     "output_type": "execute_result"
    }
   ],
   "source": [
    "# sanity check\n",
    "word_counts.columns\n",
    "word_counts.shape"
   ]
  },
  {
   "cell_type": "code",
   "execution_count": 221,
   "metadata": {
    "collapsed": false
   },
   "outputs": [],
   "source": [
    "# don't need the word ids\n",
    "word_counts.drop('word_id',axis=1,inplace=True)\n",
    "# reindex and reshape\n",
    "word_counts.set_index(['word_str','year'],inplace=True)\n",
    "word_counts=word_counts.unstack(level=1)"
   ]
  },
  {
   "cell_type": "code",
   "execution_count": 222,
   "metadata": {
    "collapsed": false
   },
   "outputs": [
    {
     "data": {
      "text/html": [
       "<div>\n",
       "<table border=\"1\" class=\"dataframe\">\n",
       "  <thead>\n",
       "    <tr>\n",
       "      <th></th>\n",
       "      <th colspan=\"11\" halign=\"left\">word_count</th>\n",
       "    </tr>\n",
       "    <tr>\n",
       "      <th>year</th>\n",
       "      <th>2005</th>\n",
       "      <th>2006</th>\n",
       "      <th>2007</th>\n",
       "      <th>2008</th>\n",
       "      <th>2009</th>\n",
       "      <th>2010</th>\n",
       "      <th>2011</th>\n",
       "      <th>2012</th>\n",
       "      <th>2013</th>\n",
       "      <th>2014</th>\n",
       "      <th>2015</th>\n",
       "    </tr>\n",
       "    <tr>\n",
       "      <th>word_str</th>\n",
       "      <th></th>\n",
       "      <th></th>\n",
       "      <th></th>\n",
       "      <th></th>\n",
       "      <th></th>\n",
       "      <th></th>\n",
       "      <th></th>\n",
       "      <th></th>\n",
       "      <th></th>\n",
       "      <th></th>\n",
       "      <th></th>\n",
       "    </tr>\n",
       "  </thead>\n",
       "  <tbody>\n",
       "    <tr>\n",
       "      <th>ability</th>\n",
       "      <td>68</td>\n",
       "      <td>126</td>\n",
       "      <td>159</td>\n",
       "      <td>213</td>\n",
       "      <td>341</td>\n",
       "      <td>406</td>\n",
       "      <td>458</td>\n",
       "      <td>462</td>\n",
       "      <td>592</td>\n",
       "      <td>659</td>\n",
       "      <td>300</td>\n",
       "    </tr>\n",
       "    <tr>\n",
       "      <th>abiotic</th>\n",
       "      <td>12</td>\n",
       "      <td>14</td>\n",
       "      <td>18</td>\n",
       "      <td>17</td>\n",
       "      <td>25</td>\n",
       "      <td>49</td>\n",
       "      <td>57</td>\n",
       "      <td>101</td>\n",
       "      <td>133</td>\n",
       "      <td>171</td>\n",
       "      <td>109</td>\n",
       "    </tr>\n",
       "    <tr>\n",
       "      <th>absorption</th>\n",
       "      <td>31</td>\n",
       "      <td>35</td>\n",
       "      <td>47</td>\n",
       "      <td>74</td>\n",
       "      <td>140</td>\n",
       "      <td>130</td>\n",
       "      <td>154</td>\n",
       "      <td>163</td>\n",
       "      <td>167</td>\n",
       "      <td>203</td>\n",
       "      <td>76</td>\n",
       "    </tr>\n",
       "    <tr>\n",
       "      <th>abundance</th>\n",
       "      <td>25</td>\n",
       "      <td>45</td>\n",
       "      <td>63</td>\n",
       "      <td>60</td>\n",
       "      <td>93</td>\n",
       "      <td>111</td>\n",
       "      <td>149</td>\n",
       "      <td>185</td>\n",
       "      <td>252</td>\n",
       "      <td>286</td>\n",
       "      <td>192</td>\n",
       "    </tr>\n",
       "    <tr>\n",
       "      <th>abundant</th>\n",
       "      <td>14</td>\n",
       "      <td>34</td>\n",
       "      <td>36</td>\n",
       "      <td>46</td>\n",
       "      <td>82</td>\n",
       "      <td>97</td>\n",
       "      <td>126</td>\n",
       "      <td>150</td>\n",
       "      <td>196</td>\n",
       "      <td>223</td>\n",
       "      <td>136</td>\n",
       "    </tr>\n",
       "  </tbody>\n",
       "</table>\n",
       "</div>"
      ],
      "text/plain": [
       "           word_count                                                  \n",
       "year             2005 2006 2007 2008 2009 2010 2011 2012 2013 2014 2015\n",
       "word_str                                                               \n",
       "ability            68  126  159  213  341  406  458  462  592  659  300\n",
       "abiotic            12   14   18   17   25   49   57  101  133  171  109\n",
       "absorption         31   35   47   74  140  130  154  163  167  203   76\n",
       "abundance          25   45   63   60   93  111  149  185  252  286  192\n",
       "abundant           14   34   36   46   82   97  126  150  196  223  136"
      ]
     },
     "execution_count": 222,
     "metadata": {},
     "output_type": "execute_result"
    }
   ],
   "source": [
    "word_counts.head()"
   ]
  },
  {
   "cell_type": "markdown",
   "metadata": {},
   "source": [
    "## get total term frequency by year"
   ]
  },
  {
   "cell_type": "code",
   "execution_count": 148,
   "metadata": {
    "collapsed": false
   },
   "outputs": [],
   "source": [
    "command = \"\"\"\n",
    "SELECT SUM(word_count), doc_label\n",
    "FROM docword\n",
    "JOIN doc USING (doc_id)\n",
    "GROUP BY doc_label\n",
    "\"\"\"\n",
    "ttf = pd.read_sql_query(command,con)"
   ]
  },
  {
   "cell_type": "code",
   "execution_count": 155,
   "metadata": {
    "collapsed": false
   },
   "outputs": [],
   "source": [
    "ttf.columns = ['count','year']\n",
    "ttf.set_index('year',inplace=True)"
   ]
  },
  {
   "cell_type": "code",
   "execution_count": 161,
   "metadata": {
    "collapsed": false
   },
   "outputs": [],
   "source": [
    "# make a pandas Series\n",
    "ttf = ttf['count']"
   ]
  },
  {
   "cell_type": "code",
   "execution_count": 206,
   "metadata": {
    "collapsed": false
   },
   "outputs": [],
   "source": [
    "# sanity check on unigenes\n",
    "test = word_counts2.loc[cur.execute(\"select word_id from docword where word_str = 'unigenes'\").fetchone()[0]]/ttf\n",
    "plt.bar(left=range(2005,2016),height=test)"
   ]
  },
  {
   "cell_type": "markdown",
   "metadata": {},
   "source": [
    "## normalize frequencies to proportions"
   ]
  },
  {
   "cell_type": "code",
   "execution_count": 229,
   "metadata": {
    "collapsed": true
   },
   "outputs": [],
   "source": [
    "word_props = word_counts.apply(lambda x: x/ttf,axis=1)\n",
    "word_props.fillna(0,inplace=True)"
   ]
  },
  {
   "cell_type": "code",
   "execution_count": null,
   "metadata": {
    "collapsed": true
   },
   "outputs": [],
   "source": [
    "# sanity check\n",
    "plt.bar(word_props.loc[0])"
   ]
  },
  {
   "cell_type": "markdown",
   "metadata": {},
   "source": [
    "## normalize series to shapes"
   ]
  },
  {
   "cell_type": "code",
   "execution_count": 244,
   "metadata": {
    "collapsed": false
   },
   "outputs": [],
   "source": [
    "trends = word_props.apply(lambda x: x/x.sum(),axis=1)"
   ]
  },
  {
   "cell_type": "code",
   "execution_count": 254,
   "metadata": {
    "collapsed": false
   },
   "outputs": [
    {
     "data": {
      "text/html": [
       "<div>\n",
       "<table border=\"1\" class=\"dataframe\">\n",
       "  <thead>\n",
       "    <tr>\n",
       "      <th></th>\n",
       "      <th colspan=\"11\" halign=\"left\">word_count</th>\n",
       "    </tr>\n",
       "    <tr>\n",
       "      <th>year</th>\n",
       "      <th>2005</th>\n",
       "      <th>2006</th>\n",
       "      <th>2007</th>\n",
       "      <th>2008</th>\n",
       "      <th>2009</th>\n",
       "      <th>2010</th>\n",
       "      <th>2011</th>\n",
       "      <th>2012</th>\n",
       "      <th>2013</th>\n",
       "      <th>2014</th>\n",
       "      <th>2015</th>\n",
       "    </tr>\n",
       "    <tr>\n",
       "      <th>word_str</th>\n",
       "      <th></th>\n",
       "      <th></th>\n",
       "      <th></th>\n",
       "      <th></th>\n",
       "      <th></th>\n",
       "      <th></th>\n",
       "      <th></th>\n",
       "      <th></th>\n",
       "      <th></th>\n",
       "      <th></th>\n",
       "      <th></th>\n",
       "    </tr>\n",
       "  </thead>\n",
       "  <tbody>\n",
       "    <tr>\n",
       "      <th>ability</th>\n",
       "      <td>0.073113</td>\n",
       "      <td>0.095966</td>\n",
       "      <td>0.096506</td>\n",
       "      <td>0.094665</td>\n",
       "      <td>0.096796</td>\n",
       "      <td>0.096094</td>\n",
       "      <td>0.091304</td>\n",
       "      <td>0.087554</td>\n",
       "      <td>0.091251</td>\n",
       "      <td>0.091918</td>\n",
       "      <td>0.084832</td>\n",
       "    </tr>\n",
       "    <tr>\n",
       "      <th>abiotic</th>\n",
       "      <td>0.077529</td>\n",
       "      <td>0.064073</td>\n",
       "      <td>0.065649</td>\n",
       "      <td>0.045400</td>\n",
       "      <td>0.042642</td>\n",
       "      <td>0.069690</td>\n",
       "      <td>0.068281</td>\n",
       "      <td>0.115015</td>\n",
       "      <td>0.123188</td>\n",
       "      <td>0.143322</td>\n",
       "      <td>0.185211</td>\n",
       "    </tr>\n",
       "    <tr>\n",
       "      <th>absorption</th>\n",
       "      <td>0.101294</td>\n",
       "      <td>0.081012</td>\n",
       "      <td>0.086694</td>\n",
       "      <td>0.099949</td>\n",
       "      <td>0.120773</td>\n",
       "      <td>0.093509</td>\n",
       "      <td>0.093301</td>\n",
       "      <td>0.093877</td>\n",
       "      <td>0.078229</td>\n",
       "      <td>0.086050</td>\n",
       "      <td>0.065312</td>\n",
       "    </tr>\n",
       "    <tr>\n",
       "      <th>abundance</th>\n",
       "      <td>0.071390</td>\n",
       "      <td>0.091027</td>\n",
       "      <td>0.101557</td>\n",
       "      <td>0.070823</td>\n",
       "      <td>0.070113</td>\n",
       "      <td>0.069776</td>\n",
       "      <td>0.078890</td>\n",
       "      <td>0.093115</td>\n",
       "      <td>0.103164</td>\n",
       "      <td>0.105948</td>\n",
       "      <td>0.144196</td>\n",
       "    </tr>\n",
       "    <tr>\n",
       "      <th>abundant</th>\n",
       "      <td>0.053228</td>\n",
       "      <td>0.091570</td>\n",
       "      <td>0.077265</td>\n",
       "      <td>0.072293</td>\n",
       "      <td>0.082308</td>\n",
       "      <td>0.081184</td>\n",
       "      <td>0.088823</td>\n",
       "      <td>0.100520</td>\n",
       "      <td>0.106831</td>\n",
       "      <td>0.109989</td>\n",
       "      <td>0.135990</td>\n",
       "    </tr>\n",
       "  </tbody>\n",
       "</table>\n",
       "</div>"
      ],
      "text/plain": [
       "           word_count                                                    \\\n",
       "year             2005      2006      2007      2008      2009      2010   \n",
       "word_str                                                                  \n",
       "ability      0.073113  0.095966  0.096506  0.094665  0.096796  0.096094   \n",
       "abiotic      0.077529  0.064073  0.065649  0.045400  0.042642  0.069690   \n",
       "absorption   0.101294  0.081012  0.086694  0.099949  0.120773  0.093509   \n",
       "abundance    0.071390  0.091027  0.101557  0.070823  0.070113  0.069776   \n",
       "abundant     0.053228  0.091570  0.077265  0.072293  0.082308  0.081184   \n",
       "\n",
       "                                                              \n",
       "year            2011      2012      2013      2014      2015  \n",
       "word_str                                                      \n",
       "ability     0.091304  0.087554  0.091251  0.091918  0.084832  \n",
       "abiotic     0.068281  0.115015  0.123188  0.143322  0.185211  \n",
       "absorption  0.093301  0.093877  0.078229  0.086050  0.065312  \n",
       "abundance   0.078890  0.093115  0.103164  0.105948  0.144196  \n",
       "abundant    0.088823  0.100520  0.106831  0.109989  0.135990  "
      ]
     },
     "execution_count": 254,
     "metadata": {},
     "output_type": "execute_result"
    }
   ],
   "source": [
    "trends.head()"
   ]
  },
  {
   "cell_type": "code",
   "execution_count": 255,
   "metadata": {
    "collapsed": false
   },
   "outputs": [
    {
     "data": {
      "text/html": [
       "<div>\n",
       "<table border=\"1\" class=\"dataframe\">\n",
       "  <thead>\n",
       "    <tr style=\"text-align: right;\">\n",
       "      <th></th>\n",
       "      <th>label</th>\n",
       "    </tr>\n",
       "    <tr>\n",
       "      <th>word_str</th>\n",
       "      <th></th>\n",
       "    </tr>\n",
       "  </thead>\n",
       "  <tbody>\n",
       "    <tr>\n",
       "      <th>ability</th>\n",
       "      <td>50</td>\n",
       "    </tr>\n",
       "    <tr>\n",
       "      <th>abiotic</th>\n",
       "      <td>100</td>\n",
       "    </tr>\n",
       "    <tr>\n",
       "      <th>absorption</th>\n",
       "      <td>50</td>\n",
       "    </tr>\n",
       "    <tr>\n",
       "      <th>abundance</th>\n",
       "      <td>100</td>\n",
       "    </tr>\n",
       "    <tr>\n",
       "      <th>abundant</th>\n",
       "      <td>100</td>\n",
       "    </tr>\n",
       "  </tbody>\n",
       "</table>\n",
       "</div>"
      ],
      "text/plain": [
       "            label\n",
       "word_str         \n",
       "ability        50\n",
       "abiotic       100\n",
       "absorption     50\n",
       "abundance     100\n",
       "abundant      100"
      ]
     },
     "execution_count": 255,
     "metadata": {},
     "output_type": "execute_result"
    }
   ],
   "source": [
    "words.head()"
   ]
  },
  {
   "cell_type": "code",
   "execution_count": 264,
   "metadata": {
    "collapsed": true
   },
   "outputs": [],
   "source": [
    "words.sort_index(inplace=True)\n",
    "trends.sort_index(inplace=True)"
   ]
  },
  {
   "cell_type": "markdown",
   "metadata": {},
   "source": [
    "## the model"
   ]
  },
  {
   "cell_type": "code",
   "execution_count": 482,
   "metadata": {
    "collapsed": true
   },
   "outputs": [],
   "source": [
    "def laplace_kernel(v1,v2,gamma):\n",
    "    return np.exp(-1*gamma*np.sqrt(np.sum(np.square(v1-v2))))\n",
    "def gaussian_kernel(v1,v2,gamma):\n",
    "    return np.exp(-1*gamma*(np.sum(np.square(v1-v2))))"
   ]
  },
  {
   "cell_type": "code",
   "execution_count": 449,
   "metadata": {
    "collapsed": false
   },
   "outputs": [],
   "source": [
    "def classify(sequence,labels,trends,gamma,kernel):\n",
    "    scores = trends.apply(lambda v:kernel(np.array(v),np.array(sequence),gamma),axis=1)\n",
    "    pos = labels*scores\n",
    "    neg = (1-labels)*scores\n",
    "    return pos.mean()/neg.mean()"
   ]
  },
  {
   "cell_type": "markdown",
   "metadata": {},
   "source": [
    "## An example"
   ]
  },
  {
   "cell_type": "code",
   "execution_count": 678,
   "metadata": {
    "collapsed": false
   },
   "outputs": [
    {
     "name": "stdout",
     "output_type": "stream",
     "text": [
      "1\n"
     ]
    },
    {
     "data": {
      "text/plain": [
       "1.3119307852120927"
      ]
     },
     "execution_count": 678,
     "metadata": {},
     "output_type": "execute_result"
    }
   ],
   "source": [
    "# a positive case\n",
    "i=92\n",
    "print(words.label.iloc[i])\n",
    "classify(trends.iloc[i],words.label,trends,gamma=50,kernel=laplace_kernel)"
   ]
  },
  {
   "cell_type": "code",
   "execution_count": 625,
   "metadata": {
    "collapsed": false
   },
   "outputs": [
    {
     "name": "stdout",
     "output_type": "stream",
     "text": [
      "0\n"
     ]
    },
    {
     "data": {
      "text/plain": [
       "0.20647842077542944"
      ]
     },
     "execution_count": 625,
     "metadata": {},
     "output_type": "execute_result"
    }
   ],
   "source": [
    "# a negative case\n",
    "i=100\n",
    "print(words.label.iloc[i])\n",
    "classify(trends.iloc[i],words.label,trends,gamma=50,kernel=laplace_kernel)"
   ]
  },
  {
   "cell_type": "markdown",
   "metadata": {},
   "source": [
    "## validate parameters"
   ]
  },
  {
   "cell_type": "code",
   "execution_count": 844,
   "metadata": {
    "collapsed": false
   },
   "outputs": [],
   "source": [
    "# all the parameters to iterate over\n",
    "metrics = ['precision','recall','F1','AUC']\n",
    "kernels = ['laplace','gaussian']\n",
    "gammas = list(np.arange(3,33)*10)\n",
    "results_index = product(kernels,gammas,metrics)"
   ]
  },
  {
   "cell_type": "code",
   "execution_count": 845,
   "metadata": {
    "collapsed": true
   },
   "outputs": [],
   "source": [
    "# build a results df from these parameters\n",
    "results = pd.DataFrame(index=pd.MultiIndex.from_product([kernels,gammas,metrics],\n",
    "                                                        names=['kernels','gammas','metrics']),columns=range(10))"
   ]
  },
  {
   "cell_type": "code",
   "execution_count": 846,
   "metadata": {
    "collapsed": false
   },
   "outputs": [],
   "source": [
    "# maps from names to functions\n",
    "kernel_map = {'laplace':laplace_kernel,'gaussian':gaussian_kernel}\n",
    "metric_map = {'precision':sk_metrics.precision_score,\n",
    "              'recall':sk_metrics.recall_score,\n",
    "              'F1':sk_metrics.f1_score,\n",
    "              'AUC':sk_metrics.roc_auc_score}"
   ]
  },
  {
   "cell_type": "code",
   "execution_count": 847,
   "metadata": {
    "collapsed": false
   },
   "outputs": [
    {
     "name": "stdout",
     "output_type": "stream",
     "text": [
      "\n",
      "('laplace', 30, 'precision')\n",
      "0.875\t1.0\t1.0\t0.875\t0.875\t0.875\t1.0\t1.0\t1.0\t1.0\t\n",
      "('laplace', 30, 'recall')\n",
      "0.135593220339\t0.15\t0.131147540984\t0.109375\t0.224489795918\t0.129032258065\t0.0727272727273\t0.10447761194\t0.0967741935484\t0.188679245283\t\n",
      "('laplace', 30, 'F1')\n",
      "0.194444444444\t0.361111111111\t0.179487179487\t0.338028169014\t0.25\t0.285714285714\t0.197183098592\t0.123076923077\t0.184615384615\t0.266666666667\t\n",
      "('laplace', 30, 'AUC')\n",
      "0.97658346207\t0.945784765519\t0.947893644096\t0.925256178421\t0.935208333333\t0.917117897625\t0.949648711944\t0.93601105781\t0.952380952381\t0.950629439482\t\n",
      "('laplace', 40, 'precision')\n",
      "0.944444444444\t0.882352941176\t1.0\t0.928571428571\t0.909090909091\t0.916666666667\t0.923076923077\t1.0\t0.923076923077\t0.944444444444\t\n",
      "('laplace', 40, 'recall')\n",
      "0.230769230769\t0.258620689655\t0.254901960784\t0.38\t0.227272727273\t0.242424242424\t0.366666666667\t0.19696969697\t0.224137931034\t0.293103448276\t\n",
      "('laplace', 40, 'F1')\n",
      "0.387096774194\t0.356164383562\t0.289855072464\t0.354838709677\t0.394736842105\t0.355555555556\t0.394736842105\t0.382352941176\t0.412698412698\t0.455696202532\t\n",
      "('laplace', 40, 'AUC')\n",
      "0.921319990833\t0.96230971897\t0.934084434084\t0.946515594542\t0.939618644068\t0.945706449117\t0.933253042596\t0.945330796253\t0.943068797586\t0.969424860853\t\n",
      "('laplace', 50, 'precision')\n",
      "1.0\t1.0\t0.952380952381\t0.913043478261\t0.904761904762\t0.904761904762\t0.95\t0.933333333333\t1.0\t0.894736842105\t\n",
      "('laplace', 50, 'recall')\n",
      "0.396226415094\t0.285714285714\t0.313725490196\t0.433962264151\t0.27868852459\t0.27868852459\t0.32\t0.27397260274\t0.327586206897\t0.270833333333\t\n",
      "('laplace', 50, 'F1')\n",
      "0.459770114943\t0.506666666667\t0.433734939759\t0.418604651163\t0.458333333333\t0.506329113924\t0.609756097561\t0.439024390244\t0.533333333333\t0.6\t\n",
      "('laplace', 50, 'AUC')\n",
      "0.955138888889\t0.948936170213\t0.937102754237\t0.962072155412\t0.945214654075\t0.946921704902\t0.950769230769\t0.926688515247\t0.932546583851\t0.948208370973\t\n",
      "('laplace', 60, 'precision')\n",
      "0.885714285714\t1.0\t0.862068965517\t0.931034482759\t0.962962962963\t0.92\t0.928571428571\t0.8125\t0.884615384615\t0.935483870968\t\n",
      "('laplace', 60, 'recall')\n",
      "0.491228070175\t0.461538461538\t0.566037735849\t0.396551724138\t0.475409836066\t0.385964912281\t0.396551724138\t0.483333333333\t0.433962264151\t0.45\t\n",
      "('laplace', 60, 'F1')\n",
      "0.619047619048\t0.6\t0.646464646465\t0.659793814433\t0.588235294118\t0.53488372093\t0.568421052632\t0.629213483146\t0.606060606061\t0.528735632184\t\n",
      "('laplace', 60, 'AUC')\n",
      "0.931545373482\t0.91829787234\t0.950077242052\t0.943819463269\t0.947139255977\t0.95969045969\t0.954660313335\t0.949041699042\t0.953929539295\t0.937545008183\t\n",
      "('laplace', 70, 'precision')\n",
      "0.967741935484\t0.972222222222\t0.857142857143\t0.928571428571\t0.833333333333\t0.869565217391\t0.911764705882\t0.9\t0.833333333333\t0.853658536585\t\n",
      "('laplace', 70, 'recall')\n",
      "0.428571428571\t0.555555555556\t0.573770491803\t0.538461538462\t0.553846153846\t0.527272727273\t0.51724137931\t0.508771929825\t0.470588235294\t0.433333333333\t\n",
      "('laplace', 70, 'F1')\n",
      "0.64\t0.613861386139\t0.571428571429\t0.596153846154\t0.645161290323\t0.682352941176\t0.703296703297\t0.63829787234\t0.695652173913\t0.561797752809\t\n",
      "('laplace', 70, 'AUC')\n",
      "0.966593993952\t0.942670807453\t0.942222222222\t0.955980785889\t0.943039021164\t0.935016527182\t0.945\t0.961623467953\t0.958747037345\t0.954791666667\t\n",
      "('laplace', 80, 'precision')\n",
      "0.90243902439\t0.820512820513\t0.829787234043\t0.911764705882\t0.82\t0.772727272727\t0.918918918919\t0.888888888889\t0.966666666667\t0.869565217391\t\n",
      "('laplace', 80, 'recall')\n",
      "0.5\t0.6\t0.48275862069\t0.563636363636\t0.655172413793\t0.620689655172\t0.5625\t0.6\t0.519230769231\t0.648148148148\t\n",
      "('laplace', 80, 'F1')\n",
      "0.692307692308\t0.598130841121\t0.701754385965\t0.654545454545\t0.629213483146\t0.674157303371\t0.703703703704\t0.627450980392\t0.757894736842\t0.766355140187\t\n",
      "('laplace', 80, 'AUC')\n",
      "0.94053090061\t0.975007527853\t0.950910753218\t0.933539630072\t0.946085325832\t0.953778982234\t0.947532467532\t0.937044256732\t0.928733109267\t0.937021276596\t\n",
      "('laplace', 90, 'precision')\n",
      "0.809523809524\t0.875\t0.9\t0.755555555556\t0.840909090909\t0.821428571429\t0.914893617021\t0.974358974359\t0.944444444444\t0.777777777778\t\n",
      "('laplace', 90, 'recall')\n",
      "0.616666666667\t0.609375\t0.523076923077\t0.537313432836\t0.677966101695\t0.650793650794\t0.615384615385\t0.543859649123\t0.540983606557\t0.694915254237\t\n",
      "('laplace', 90, 'F1')\n",
      "0.641509433962\t0.628571428571\t0.646464646465\t0.639175257732\t0.652631578947\t0.672566371681\t0.796296296296\t0.715789473684\t0.735849056604\t0.684210526316\t\n",
      "('laplace', 90, 'AUC')\n",
      "0.934664885013\t0.949967511371\t0.966031366481\t0.950892857143\t0.939522797071\t0.928410117435\t0.919848959818\t0.931254429483\t0.93167569108\t0.93804835577\t\n",
      "('laplace', 100, 'precision')\n",
      "0.883720930233\t0.803921568627\t0.9\t0.8\t0.826086956522\t0.884615384615\t0.923076923077\t0.731707317073\t0.883720930233\t0.8\t\n",
      "('laplace', 100, 'recall')\n",
      "0.564516129032\t0.584905660377\t0.647887323944\t0.634615384615\t0.59649122807\t0.590909090909\t0.530303030303\t0.660714285714\t0.568965517241\t0.65\t\n",
      "('laplace', 100, 'F1')\n",
      "0.78431372549\t0.704761904762\t0.678571428571\t0.679611650485\t0.734693877551\t0.672566371681\t0.732673267327\t0.759259259259\t0.752293577982\t0.761904761905\t\n",
      "('laplace', 100, 'AUC')\n",
      "0.949947033898\t0.954305931948\t0.96245369051\t0.960243460243\t0.963872354497\t0.959801264679\t0.942850496278\t0.942634508349\t0.934900542495\t0.94233315678\t\n",
      "('laplace', 110, 'precision')\n",
      "0.795918367347\t0.72\t0.847826086957\t0.851063829787\t0.789473684211\t0.854166666667\t0.731707317073\t0.853658536585\t0.826086956522\t0.886363636364\t\n",
      "('laplace', 110, 'recall')\n",
      "0.634615384615\t0.602941176471\t0.560606060606\t0.615384615385\t0.574074074074\t0.651515151515\t0.619047619048\t0.666666666667\t0.622641509434\t0.666666666667\t\n",
      "('laplace', 110, 'F1')\n",
      "0.714285714286\t0.745098039216\t0.728813559322\t0.704761904762\t0.704918032787\t0.730158730159\t0.690265486726\t0.727272727273\t0.616822429907\t0.706896551724\t\n",
      "('laplace', 110, 'AUC')\n",
      "0.947296224099\t0.964906111541\t0.943958333333\t0.929249119002\t0.954305555556\t0.962026218296\t0.938507371477\t0.930654158215\t0.94120746763\t0.929513027295\t\n",
      "('laplace', 120, 'precision')\n",
      "0.875\t0.906976744186\t0.789473684211\t0.74\t0.847826086957\t0.75\t0.818181818182\t0.866666666667\t0.775510204082\t0.87037037037\t\n",
      "('laplace', 120, 'recall')\n",
      "0.578125\t0.541666666667\t0.591836734694\t0.585714285714\t0.677966101695\t0.628571428571\t0.692307692308\t0.625\t0.678571428571\t0.672413793103\t\n",
      "('laplace', 120, 'F1')\n",
      "0.700854700855\t0.69387755102\t0.727272727273\t0.727272727273\t0.796460176991\t0.787401574803\t0.743362831858\t0.769230769231\t0.725490196078\t0.690265486726\t\n",
      "('laplace', 120, 'AUC')\n",
      "0.963593616415\t0.962794795337\t0.961862953563\t0.947253674661\t0.919345335516\t0.962661848841\t0.926023573201\t0.951695639783\t0.935124269006\t0.948200371058\t\n",
      "('laplace', 130, 'precision')\n",
      "0.791666666667\t0.836363636364\t0.918367346939\t0.891304347826\t0.904761904762\t0.864864864865\t0.94\t0.739130434783\t0.80487804878\t0.761904761905\t\n",
      "('laplace', 130, 'recall')\n",
      "0.606060606061\t0.584615384615\t0.611111111111\t0.71186440678\t0.660714285714\t0.6\t0.774193548387\t0.660377358491\t0.655737704918\t0.764705882353\t\n",
      "('laplace', 130, 'F1')\n",
      "0.677966101695\t0.709090909091\t0.756756756757\t0.612244897959\t0.77358490566\t0.766355140187\t0.679611650485\t0.756756756757\t0.771929824561\t0.742857142857\t\n",
      "('laplace', 130, 'AUC')\n",
      "0.931892111683\t0.940098884381\t0.95014565678\t0.927839578454\t0.960333723653\t0.947705899117\t0.942986111111\t0.946882754342\t0.931478194726\t0.939591836735\t\n",
      "('laplace', 140, 'precision')\n",
      "0.826086956522\t0.755555555556\t0.744186046512\t0.833333333333\t0.8\t0.755102040816\t0.744680851064\t0.878048780488\t0.763636363636\t0.785714285714\t\n",
      "('laplace', 140, 'recall')\n",
      "0.730158730159\t0.590163934426\t0.596153846154\t0.688524590164\t0.722222222222\t0.694915254237\t0.634920634921\t0.761194029851\t0.606557377049\t0.574074074074\t\n",
      "('laplace', 140, 'F1')\n",
      "0.758064516129\t0.773109243697\t0.706896551724\t0.697247706422\t0.75\t0.730434782609\t0.730434782609\t0.689075630252\t0.725663716814\t0.692307692308\t\n",
      "('laplace', 140, 'AUC')\n",
      "0.93852700491\t0.968940162272\t0.93588910548\t0.958686440678\t0.937981381019\t0.949429156909\t0.936297099485\t0.932366494985\t0.944726166329\t0.938251635136\t\n",
      "('laplace', 150, 'precision')\n",
      "0.788461538462\t0.8\t0.847457627119\t0.735294117647\t0.728813559322\t0.824561403509\t0.733333333333\t0.813953488372\t0.809523809524\t0.779661016949\t\n",
      "('laplace', 150, 'recall')\n",
      "0.606557377049\t0.803571428571\t0.65\t0.725806451613\t0.709677419355\t0.666666666667\t0.655172413793\t0.666666666667\t0.727272727273\t0.655172413793\t\n",
      "('laplace', 150, 'F1')\n",
      "0.672727272727\t0.781818181818\t0.738738738739\t0.730769230769\t0.706896551724\t0.701030927835\t0.725663716814\t0.736842105263\t0.690265486726\t0.775510204082\t\n",
      "('laplace', 150, 'AUC')\n",
      "0.945058118547\t0.956236758475\t0.944444444444\t0.949235949236\t0.943343164826\t0.937638888889\t0.934156378601\t0.961505728314\t0.957029326957\t0.943228200371\t\n",
      "('laplace', 160, 'precision')\n",
      "0.82\t0.822222222222\t0.8\t0.82\t0.788461538462\t0.869565217391\t0.875\t0.807692307692\t0.893617021277\t0.795918367347\t\n",
      "('laplace', 160, 'recall')\n",
      "0.652777777778\t0.714285714286\t0.714285714286\t0.75\t0.741379310345\t0.811320754717\t0.767857142857\t0.614285714286\t0.704918032787\t0.661016949153\t\n",
      "('laplace', 160, 'F1')\n",
      "0.705882352941\t0.684210526316\t0.722222222222\t0.771929824561\t0.618556701031\t0.763636363636\t0.7\t0.666666666667\t0.792792792793\t0.661538461538\t\n",
      "('laplace', 160, 'AUC')\n",
      "0.926782397028\t0.948111826698\t0.936092903961\t0.953240851471\t0.938681688682\t0.925323153171\t0.931451612903\t0.949284957627\t0.925302782324\t0.923353212253\t\n",
      "('laplace', 170, 'precision')\n",
      "0.735849056604\t0.905660377358\t0.766666666667\t0.788461538462\t0.764705882353\t0.851851851852\t0.78\t0.851851851852\t0.796296296296\t0.833333333333\t\n",
      "('laplace', 170, 'recall')\n",
      "0.762711864407\t0.813559322034\t0.578125\t0.622641509434\t0.631578947368\t0.765625\t0.666666666667\t0.709677419355\t0.651515151515\t0.63768115942\t\n",
      "('laplace', 170, 'F1')\n",
      "0.752\t0.555555555556\t0.716981132075\t0.786324786325\t0.789473684211\t0.724137931034\t0.692307692308\t0.738738738739\t0.6875\t0.679245283019\t\n",
      "('laplace', 170, 'AUC')\n",
      "0.936500406614\t0.936104218362\t0.919800140926\t0.945993914807\t0.93152\t0.960102593331\t0.892361111111\t0.92592843589\t0.929357679358\t0.933858580508\t\n",
      "('laplace', 180, 'precision')\n",
      "0.7\t0.729166666667\t0.758064516129\t0.803921568627\t0.736842105263\t0.849056603774\t0.771929824561\t0.714285714286\t0.8\t0.736842105263\t\n",
      "('laplace', 180, 'recall')\n",
      "0.712328767123\t0.636363636364\t0.737704918033\t0.698412698413\t0.594202898551\t0.727272727273\t0.745454545455\t0.757142857143\t0.761904761905\t0.711538461538\t\n",
      "('laplace', 180, 'F1')\n",
      "0.779661016949\t0.619469026549\t0.666666666667\t0.8\t0.713043478261\t0.840579710145\t0.678571428571\t0.762886597938\t0.678260869565\t0.684210526316\t\n",
      "('laplace', 180, 'AUC')\n",
      "0.925792897804\t0.935935249331\t0.944086651054\t0.946409733455\t0.953600702576\t0.93167569108\t0.951413497126\t0.94061879444\t0.941041666667\t0.930681133213\t\n",
      "('laplace', 190, 'precision')\n",
      "0.829268292683\t0.727272727273\t0.803571428571\t0.786885245902\t0.7\t0.714285714286\t0.785714285714\t0.724137931034\t0.722222222222\t0.770491803279\t\n",
      "('laplace', 190, 'recall')\n",
      "0.65625\t0.783333333333\t0.661016949153\t0.808510638298\t0.666666666667\t0.78125\t0.684210526316\t0.736842105263\t0.631578947368\t0.712121212121\t\n",
      "('laplace', 190, 'F1')\n",
      "0.685714285714\t0.735042735043\t0.747826086957\t0.654545454545\t0.732673267327\t0.666666666667\t0.660377358491\t0.745762711864\t0.725806451613\t0.758064516129\t\n",
      "('laplace', 190, 'AUC')\n",
      "0.928117839607\t0.939718559838\t0.939013964092\t0.930746822034\t0.942222222222\t0.926214662572\t0.897372159091\t0.95413729128\t0.900723636068\t0.957398220332\t\n",
      "('laplace', 200, 'precision')\n",
      "0.775862068966\t0.709090909091\t0.655172413793\t0.789473684211\t0.737704918033\t0.64406779661\t0.754716981132\t0.676923076923\t0.730158730159\t0.793103448276\t\n",
      "('laplace', 200, 'recall')\n",
      "0.736111111111\t0.683333333333\t0.661016949153\t0.727272727273\t0.730769230769\t0.646153846154\t0.677966101695\t0.6875\t0.714285714286\t0.671875\t\n",
      "('laplace', 200, 'F1')\n",
      "0.752136752137\t0.739495798319\t0.788321167883\t0.717948717949\t0.779661016949\t0.682926829268\t0.719298245614\t0.765625\t0.766917293233\t0.731707317073\t\n",
      "('laplace', 200, 'AUC')\n",
      "0.933741806783\t0.929885433715\t0.924390889831\t0.908981314045\t0.946987559964\t0.937238493724\t0.958362692973\t0.968449931413\t0.947154471545\t0.935009487666\t\n",
      "('laplace', 210, 'precision')\n",
      "0.82\t0.777777777778\t0.754098360656\t0.76\t0.836363636364\t0.741379310345\t0.814814814815\t0.779661016949\t0.777777777778\t0.783333333333\t\n",
      "('laplace', 210, 'recall')\n",
      "0.627118644068\t0.741379310345\t0.767857142857\t0.708860759494\t0.661538461538\t0.6875\t0.648648648649\t0.680555555556\t0.686567164179\t0.701492537313\t\n",
      "('laplace', 210, 'F1')\n",
      "0.706896551724\t0.709090909091\t0.644628099174\t0.710280373832\t0.716666666667\t0.767857142857\t0.747663551402\t0.673684210526\t0.715596330275\t0.678899082569\t\n",
      "('laplace', 210, 'AUC')\n",
      "0.947394331528\t0.921978092371\t0.912439441436\t0.949434063358\t0.913856490872\t0.962029459902\t0.936979604308\t0.937992441227\t0.954156954157\t0.922237277928\t\n",
      "('laplace', 220, 'precision')\n",
      "0.637931034483\t0.75\t0.77358490566\t0.770491803279\t0.666666666667\t0.681818181818\t0.857142857143\t0.735849056604\t0.666666666667\t0.698412698413\t\n",
      "('laplace', 220, 'recall')\n",
      "0.754716981132\t0.641509433962\t0.714285714286\t0.706896551724\t0.650793650794\t0.634920634921\t0.625\t0.758064516129\t0.75\t0.741379310345\t\n",
      "('laplace', 220, 'F1')\n",
      "0.64\t0.673076923077\t0.75\t0.6875\t0.65625\t0.716666666667\t0.742424242424\t0.758064516129\t0.76821192053\t0.735042735043\t\n",
      "('laplace', 220, 'AUC')\n",
      "0.950555713879\t0.929900744417\t0.93045751634\t0.925791976425\t0.941734860884\t0.938029661017\t0.9285760041\t0.938819444444\t0.917593676815\t0.936703713744\t\n",
      "('laplace', 230, 'precision')\n",
      "0.698412698413\t0.75\t0.758620689655\t0.666666666667\t0.655737704918\t0.768115942029\t0.777777777778\t0.702702702703\t0.703125\t0.684210526316\t\n",
      "('laplace', 230, 'recall')\n",
      "0.671875\t0.72131147541\t0.775862068966\t0.724137931034\t0.727272727273\t0.790322580645\t0.689655172414\t0.68115942029\t0.614035087719\t0.75\t\n",
      "('laplace', 230, 'F1')\n",
      "0.730434782609\t0.633333333333\t0.678899082569\t0.697674418605\t0.72268907563\t0.684210526316\t0.796296296296\t0.648148148148\t0.733944954128\t0.695035460993\t\n",
      "('laplace', 230, 'AUC')\n",
      "0.929990966576\t0.950077700078\t0.952191508334\t0.924253512881\t0.949907235622\t0.938343801892\t0.929092993784\t0.926575698506\t0.93481871814\t0.94715692184\t\n",
      "('laplace', 240, 'precision')\n",
      "0.754716981132\t0.741379310345\t0.64406779661\t0.723076923077\t0.730158730159\t0.78431372549\t0.725806451613\t0.745762711864\t0.696428571429\t0.7\t\n",
      "('laplace', 240, 'recall')\n",
      "0.64\t0.71186440678\t0.649122807018\t0.615384615385\t0.677419354839\t0.655172413793\t0.671641791045\t0.762711864407\t0.622950819672\t0.694444444444\t\n",
      "('laplace', 240, 'F1')\n",
      "0.709677419355\t0.762589928058\t0.724409448819\t0.717948717949\t0.711538461538\t0.666666666667\t0.725490196078\t0.672413793103\t0.695652173913\t0.778761061947\t\n",
      "('laplace', 240, 'AUC')\n",
      "0.934148997502\t0.929027777778\t0.93128\t0.931938559322\t0.949674768915\t0.946209016393\t0.95194731279\t0.93424291441\t0.931629485236\t0.939786048299\t\n",
      "('laplace', 250, 'precision')\n",
      "0.754385964912\t0.796296296296\t0.714285714286\t0.724137931034\t0.731343283582\t0.738461538462\t0.727272727273\t0.716981132075\t0.75\t0.761904761905\t\n",
      "('laplace', 250, 'recall')\n",
      "0.660714285714\t0.6\t0.68253968254\t0.836363636364\t0.676470588235\t0.696428571429\t0.661538461538\t0.727272727273\t0.728813559322\t0.666666666667\t\n",
      "('laplace', 250, 'F1')\n",
      "0.660550458716\t0.727272727273\t0.661016949153\t0.701754385965\t0.673267326733\t0.756302521008\t0.714285714286\t0.654867256637\t0.690909090909\t0.742857142857\t\n",
      "('laplace', 250, 'AUC')\n",
      "0.927970931889\t0.918775222599\t0.907949522772\t0.926997521934\t0.905267599691\t0.921209432049\t0.947453161593\t0.946864564007\t0.928786510087\t0.943055555556\t\n",
      "('laplace', 260, 'precision')\n",
      "0.75\t0.65671641791\t0.639344262295\t0.65\t0.703125\t0.732142857143\t0.666666666667\t0.714285714286\t0.672413793103\t0.746031746032\t\n",
      "('laplace', 260, 'recall')\n",
      "0.720588235294\t0.813559322034\t0.707692307692\t0.689655172414\t0.753846153846\t0.740740740741\t0.862068965517\t0.617647058824\t0.672131147541\t0.745454545455\t\n",
      "('laplace', 260, 'F1')\n",
      "0.709677419355\t0.771653543307\t0.688\t0.703125\t0.725806451613\t0.719298245614\t0.690265486726\t0.743801652893\t0.725663716814\t0.765625\t\n",
      "('laplace', 260, 'AUC')\n",
      "0.941964285714\t0.9453125\t0.914595516569\t0.904001687882\t0.9275\t0.951539888683\t0.938199672668\t0.931408189862\t0.94560994561\t0.923112986404\t\n",
      "('laplace', 270, 'precision')\n",
      "0.80701754386\t0.660714285714\t0.785714285714\t0.732142857143\t0.758620689655\t0.722222222222\t0.65625\t0.65625\t0.592592592593\t0.725490196078\t\n",
      "('laplace', 270, 'recall')\n",
      "0.671428571429\t0.688524590164\t0.703703703704\t0.652173913043\t0.666666666667\t0.757575757576\t0.72131147541\t0.686567164179\t0.75\t0.625\t\n",
      "('laplace', 270, 'F1')\n",
      "0.64406779661\t0.740157480315\t0.672566371681\t0.732824427481\t0.733944954128\t0.683760683761\t0.672\t0.771929824561\t0.758620689655\t0.710280373832\t\n",
      "('laplace', 270, 'AUC')\n",
      "0.920782335937\t0.919350242234\t0.909403406921\t0.929313459801\t0.921808792373\t0.941135100921\t0.90602780091\t0.93915645483\t0.921527777778\t0.933534535976\t\n",
      "('laplace', 280, 'precision')\n",
      "0.742424242424\t0.741379310345\t0.764705882353\t0.788461538462\t0.678571428571\t0.684210526316\t0.689655172414\t0.745762711864\t0.727272727273\t0.689655172414\t\n",
      "('laplace', 280, 'recall')\n",
      "0.683333333333\t0.636363636364\t0.672131147541\t0.714285714286\t0.652777777778\t0.652173913043\t0.723076923077\t0.68115942029\t0.724137931034\t0.677966101695\t\n",
      "('laplace', 280, 'F1')\n",
      "0.623853211009\t0.736842105263\t0.714285714286\t0.72131147541\t0.677685950413\t0.743362831858\t0.730158730159\t0.719298245614\t0.688\t0.719298245614\t\n",
      "('laplace', 280, 'AUC')\n",
      "0.951644230125\t0.928645428645\t0.910860655738\t0.932430555556\t0.915548281506\t0.944293846571\t0.92422840804\t0.941805555556\t0.946357663707\t0.919028072034\t\n",
      "('laplace', 290, 'precision')\n",
      "0.783333333333\t0.611940298507\t0.823529411765\t0.595744680851\t0.693548387097\t0.672727272727\t0.782608695652\t0.759259259259\t0.775510204082\t0.677419354839\t\n",
      "('laplace', 290, 'recall')\n",
      "0.621212121212\t0.652173913043\t0.789473684211\t0.655172413793\t0.720588235294\t0.75\t0.689655172414\t0.714285714286\t0.758064516129\t0.734693877551\t\n",
      "('laplace', 290, 'F1')\n",
      "0.69918699187\t0.690909090909\t0.688\t0.683760683761\t0.72268907563\t0.683333333333\t0.752136752137\t0.703125\t0.790322580645\t0.730158730159\t\n",
      "('laplace', 290, 'AUC')\n",
      "0.942119698994\t0.926227040048\t0.908445550351\t0.940082644628\t0.941764888337\t0.899695444915\t0.898371292373\t0.919434584178\t0.939990623535\t0.93063937056\t\n",
      "('laplace', 300, 'precision')\n",
      "0.767857142857\t0.629032258065\t0.730158730159\t0.68253968254\t0.77358490566\t0.745762711864\t0.842105263158\t0.714285714286\t0.614035087719\t0.701492537313\t\n",
      "('laplace', 300, 'recall')\n",
      "0.724637681159\t0.730769230769\t0.65625\t0.781818181818\t0.683333333333\t0.671875\t0.626865671642\t0.616666666667\t0.7\t0.640625\t\n",
      "('laplace', 300, 'F1')\n",
      "0.661654135338\t0.695652173913\t0.711111111111\t0.7\t0.684684684685\t0.72\t0.702702702703\t0.699029126214\t0.706896551724\t0.714285714286\t\n",
      "('laplace', 300, 'AUC')\n",
      "0.919136506127\t0.935910167291\t0.929791666667\t0.948958333333\t0.908022228555\t0.913731461864\t0.932847222222\t0.932642842445\t0.907766332339\t0.930393680394\t\n",
      "('laplace', 310, 'precision')\n",
      "0.754098360656\t0.703703703704\t0.762711864407\t0.657142857143\t0.723076923077\t0.754716981132\t0.666666666667\t0.629032258065\t0.681818181818\t0.716981132075\t\n",
      "('laplace', 310, 'recall')\n",
      "0.661764705882\t0.716981132075\t0.776119402985\t0.767857142857\t0.710144927536\t0.666666666667\t0.786885245902\t0.648148148148\t0.686274509804\t0.822580645161\t\n",
      "('laplace', 310, 'F1')\n",
      "0.661016949153\t0.666666666667\t0.690265486726\t0.739495798319\t0.723404255319\t0.713178294574\t0.672727272727\t0.637168141593\t0.714285714286\t0.678899082569\t\n",
      "('laplace', 310, 'AUC')\n",
      "0.927124304267\t0.900408545978\t0.890205624239\t0.911358428805\t0.940779220779\t0.934426229508\t0.940866343688\t0.935277777778\t0.94224\t0.941276115189\t\n",
      "('laplace', 320, 'precision')\n",
      "0.59649122807\t0.716666666667\t0.72\t0.775862068966\t0.781818181818\t0.753846153846\t0.724137931034\t0.763636363636\t0.706896551724\t0.741379310345\t\n",
      "('laplace', 320, 'recall')\n",
      "0.694915254237\t0.569444444444\t0.765625\t0.666666666667\t0.71875\t0.637931034483\t0.666666666667\t0.72131147541\t0.741935483871\t0.755102040816\t\n",
      "('laplace', 320, 'F1')\n",
      "0.760330578512\t0.704918032787\t0.666666666667\t0.720720720721\t0.727272727273\t0.698412698413\t0.713043478261\t0.642201834862\t0.650406504065\t0.712121212121\t\n",
      "('laplace', 320, 'AUC')\n",
      "0.921393421393\t0.92511221356\t0.931527777778\t0.925427198992\t0.939050868486\t0.94031026065\t0.913055555556\t0.919410801964\t0.915717690678\t0.922040922041\t\n",
      "('gaussian', 30, 'precision')\n",
      "1.0"
     ]
    },
    {
     "name": "stderr",
     "output_type": "stream",
     "text": [
      "/home/matt/anaconda3/lib/python3.5/site-packages/ipykernel/kernelbase.py:212: PerformanceWarning: indexing past lexsort depth may impact performance.\n",
      "  handler(stream, idents, msg)\n",
      "/home/matt/anaconda3/lib/python3.5/site-packages/sklearn/metrics/classification.py:1074: UndefinedMetricWarning: Precision is ill-defined and being set to 0.0 due to no predicted samples.\n",
      "  'precision', 'predicted', average, warn_for)\n"
     ]
    },
    {
     "name": "stdout",
     "output_type": "stream",
     "text": [
      "\t0.0\t0.0\t0.0\t1.0\t1.0\t1.0\t0.0\t0.0\t0.0\t\n",
      "('gaussian', 30, 'recall')\n",
      "0.0\t0.0\t0.0\t0.0\t0.0181818181818\t0.0166666666667\t0.0\t0.0\t0.0\t0.0\t\n",
      "('gaussian', 30, 'F1')\n",
      "0.0\t0.0\t0.0363636363636\t0.0\t0.0\t0.0\t0.0\t0.0338983050847\t0.0\t0.0\t\n",
      "('gaussian', 30, 'AUC')\n",
      "0.944018566707\t0.94306206089\t0.922986111111\t0.940621118012\t0.939988290398\t0.959666946757\t0.949736460163\t0.952949907236\t0.952152777778\t0.934009819967\t\n",
      "('gaussian', 40, 'precision')\n",
      "1.0\t1.0\t1.0\t0.0\t1.0\t0.0\t0.0\t1.0\t0.0\t1.0\t\n",
      "('gaussian', 40, 'recall')\n",
      "0.0\t0.03125\t0.0135135135135\t0.0166666666667\t0.03125\t0.0\t0.016393442623\t0.0172413793103\t0.0\t0.0161290322581\t\n",
      "('gaussian', 40, 'F1')\n",
      "0.04\t0.0909090909091\t0.0967741935484\t0.0\t0.031746031746\t0.0\t0.0655737704918\t0.0\t0.031746031746\t0.0\t\n",
      "('gaussian', 40, 'AUC')\n",
      "0.904775300654\t0.952156795618\t0.935086855616\t0.932831423895\t0.928896291077\t0.93178396072\t0.929350435558\t0.950347222222\t0.942938465709\t0.935050317797\t\n",
      "('gaussian', 50, 'precision')\n",
      "0.0\t1.0\t1.0\t0.0\t1.0\t1.0\t1.0\t1.0\t1.0\t1.0\t\n",
      "('gaussian', 50, 'recall')\n",
      "0.0147058823529\t0.0175438596491\t0.0491803278689\t0.037037037037\t0.031746031746\t0.0327868852459\t0.0166666666667\t0.025\t0.0172413793103\t0.015873015873\t\n",
      "('gaussian', 50, 'F1')\n",
      "0.0357142857143\t0.0789473684211\t0.025974025974\t0.0\t0.0655737704918\t0.0298507462687\t0.0615384615385\t0.0869565217391\t0.0634920634921\t0.0\t\n",
      "('gaussian', 50, 'AUC')\n",
      "0.955176252319\t0.934267241379\t0.952798690671\t0.940783458752\t0.96106557377\t0.946579378069\t0.92968903437\t0.944599391481\t0.93235539043\t0.921273867199\t\n",
      "('gaussian', 60, 'precision')\n",
      "1.0\t1.0\t1.0\t0.0\t1.0\t1.0\t1.0\t1.0\t1.0\t0.0\t\n",
      "('gaussian', 60, 'recall')\n",
      "0.0338983050847\t0.0579710144928\t0.0357142857143\t0.0322580645161\t0.0526315789474\t0.0677966101695\t0.0327868852459\t0.0338983050847\t0.0714285714286\t0.0434782608696\t\n",
      "('gaussian', 60, 'F1')\n",
      "0.030303030303\t0.0923076923077\t0.0666666666667\t0.0967741935484\t0.0689655172414\t0.0740740740741\t0.0384615384615\t0.0\t0.0714285714286\t0.0615384615385\t\n",
      "('gaussian', 60, 'AUC')\n",
      "0.951510280624\t0.959939148073\t0.930792147277\t0.958090572034\t0.944722222222\t0.937855787476\t0.932682555781\t0.939354559238\t0.930257743123\t0.953686503107\t\n",
      "('gaussian', 70, 'precision')\n",
      "1.0\t1.0\t0.0\t1.0\t1.0\t1.0\t0.0\t1.0\t1.0\t1.0\t\n",
      "('gaussian', 70, 'recall')\n",
      "0.0555555555556\t0.05\t0.0289855072464\t0.0483870967742\t0.0166666666667\t0.0576923076923\t0.0576923076923\t0.0597014925373\t0.0131578947368\t0.051724137931\t\n",
      "('gaussian', 70, 'F1')\n",
      "0.0677966101695\t0.0882352941176\t0.0597014925373\t0.0952380952381\t0.111111111111\t0.0294117647059\t0.0789473684211\t0.0\t0.0727272727273\t0.0701754385965\t\n",
      "('gaussian', 70, 'AUC')\n",
      "0.936758351053\t0.933534535976\t0.920204757603\t0.928616639707\t0.959480519481\t0.927415177415\t0.930416666667\t0.935807922485\t0.917227751756\t0.938641069076\t\n",
      "('gaussian', 80, 'precision')\n",
      "0.0\t1.0\t0.5\t1.0\t1.0\t0.666666666667\t0.833333333333\t0.666666666667\t0.5\t1.0\t\n",
      "('gaussian', 80, 'recall')\n",
      "0.0666666666667\t0.046875\t0.0597014925373\t0.0508474576271\t0.0338983050847\t0.016393442623\t0.0625\t0.0526315789474\t0.0491803278689\t0.0416666666667\t\n",
      "('gaussian', 80, 'F1')\n",
      "0.0845070422535\t0.15873015873\t0.0615384615385\t0.131147540984\t0.0909090909091\t0.0882352941176\t0.144927536232\t0.0923076923077\t0.0625\t0.140350877193\t\n",
      "('gaussian', 80, 'AUC')\n",
      "0.93027928471\t0.944784838985\t0.925\t0.931685754471\t0.946922200057\t0.928410117435\t0.914724164724\t0.93418658636\t0.926335050149\t0.961729270021\t\n",
      "('gaussian', 90, 'precision')\n",
      "1.0\t0.75\t0.833333333333\t1.0\t0.0\t0.875\t1.0\t0.857142857143\t0.666666666667\t0.833333333333\t\n",
      "('gaussian', 90, 'recall')\n",
      "0.0566037735849\t0.0294117647059\t0.046875\t0.0483870967742\t0.0847457627119\t0.0701754385965\t0.0714285714286\t0.047619047619\t0.0892857142857\t0.0392156862745\t\n",
      "('gaussian', 90, 'F1')\n",
      "0.115942028986\t0.0519480519481\t0.056338028169\t0.0845070422535\t0.0983606557377\t0.109090909091\t0.119402985075\t0.0350877192982\t0.103896103896\t0.15873015873\t\n",
      "('gaussian', 90, 'AUC')\n",
      "0.950729508823\t0.920021949379\t0.917942476459\t0.943331643002\t0.933841150291\t0.960819770946\t0.938230265033\t0.934240524366\t0.922638722836\t0.93952\t\n",
      "('gaussian', 100, 'precision')\n",
      "1.0\t0.75\t1.0\t1.0\t1.0\t1.0\t0.833333333333\t0.8\t0.875\t0.75\t\n",
      "('gaussian', 100, 'recall')\n",
      "0.0819672131148\t0.0645161290323\t0.0985915492958\t0.109090909091\t0.0983606557377\t0.0377358490566\t0.0985915492958\t0.0689655172414\t0.109375\t0.0588235294118\t\n",
      "('gaussian', 100, 'F1')\n",
      "0.193548387097\t0.0857142857143\t0.131147540984\t0.121212121212\t0.184615384615\t0.15625\t0.121212121212\t0.173913043478\t0.0857142857143\t0.161290322581\t\n",
      "('gaussian', 100, 'AUC')\n",
      "0.933694904896\t0.971458333333\t0.942922188796\t0.945491300267\t0.924627791563\t0.946292612662\t0.924180327869\t0.919678990329\t0.924718617381\t0.942063894523\t\n",
      "('gaussian', 110, 'precision')\n",
      "1.0\t1.0\t1.0\t0.875\t0.875\t0.875\t1.0\t1.0\t1.0\t1.0\t\n",
      "('gaussian', 110, 'recall')\n",
      "0.0869565217391\t0.10447761194\t0.0645161290323\t0.101449275362\t0.0952380952381\t0.0769230769231\t0.130434782609\t0.0384615384615\t0.0923076923077\t0.0769230769231\t\n",
      "('gaussian', 110, 'F1')\n",
      "0.212121212121\t0.175\t0.133333333333\t0.114285714286\t0.179487179487\t0.138888888889\t0.13698630137\t0.21875\t0.228571428571\t0.0810810810811\t\n",
      "('gaussian', 110, 'AUC')\n",
      "0.941919191919\t0.940798498303\t0.95325695581\t0.941579655371\t0.943408443408\t0.931176973497\t0.937056288032\t0.923927986907\t0.950049099836\t0.95054200542\t\n",
      "('gaussian', 120, 'precision')\n",
      "0.666666666667\t1.0\t1.0\t1.0\t0.714285714286\t0.833333333333\t1.0\t1.0\t1.0\t0.857142857143\t\n",
      "('gaussian', 120, 'recall')\n",
      "0.115384615385\t0.115942028986\t0.0793650793651\t0.109375\t0.078125\t0.117647058824\t0.145454545455\t0.0793650793651\t0.1\t0.125\t\n",
      "('gaussian', 120, 'F1')\n",
      "0.190476190476\t0.219178082192\t0.196721311475\t0.0833333333333\t0.208955223881\t0.0666666666667\t0.0727272727273\t0.228571428571\t0.16\t0.112676056338\t\n",
      "('gaussian', 120, 'AUC')\n",
      "0.944484451718\t0.928063544936\t0.93018554617\t0.952087286528\t0.931271006242\t0.937337365497\t0.9175\t0.933980728696\t0.956682815617\t0.953043478261\t\n",
      "('gaussian', 130, 'precision')\n",
      "0.666666666667\t0.857142857143\t1.0\t0.833333333333\t0.8\t1.0\t0.833333333333\t1.0\t0.777777777778\t1.0\t\n",
      "('gaussian', 130, 'recall')\n",
      "0.126984126984\t0.0754716981132\t0.0793650793651\t0.155172413793\t0.107692307692\t0.0508474576271\t0.107142857143\t0.126984126984\t0.171875\t0.111111111111\t\n",
      "('gaussian', 130, 'F1')\n",
      "0.27397260274\t0.354838709677\t0.233766233766\t0.242424242424\t0.181818181818\t0.285714285714\t0.162162162162\t0.347826086957\t0.117647058824\t0.176470588235\t\n",
      "('gaussian', 130, 'AUC')\n",
      "0.931390709604\t0.939722724533\t0.920833333333\t0.939465761322\t0.943137389396\t0.933508423547\t0.944769330734\t0.945709745763\t0.96124386252\t0.9296\t\n",
      "('gaussian', 140, 'precision')\n",
      "0.909090909091\t0.909090909091\t0.875\t0.8\t0.916666666667\t1.0\t0.916666666667\t1.0\t0.857142857143\t0.833333333333\t\n",
      "('gaussian', 140, 'recall')\n",
      "0.204081632653\t0.134615384615\t0.118644067797\t0.116666666667\t0.181818181818\t0.169491525424\t0.103448275862\t0.118644067797\t0.188679245283\t0.09375\t\n",
      "('gaussian', 140, 'F1')\n",
      "0.189189189189\t0.225352112676\t0.290909090909\t0.151515151515\t0.173913043478\t0.208955223881\t0.242424242424\t0.117647058824\t0.254545454545\t0.276923076923\t\n",
      "('gaussian', 140, 'AUC')\n",
      "0.916333878887\t0.952403731165\t0.953820257611\t0.945988072648\t0.928398404104\t0.951341827053\t0.950036836113\t0.957324023938\t0.941628369573\t0.930819030413\t\n",
      "('gaussian', 150, 'precision')\n",
      "1.0\t0.714285714286\t0.7\t0.8\t0.916666666667\t0.875\t0.916666666667\t1.0\t0.9\t0.875\t\n",
      "('gaussian', 150, 'recall')\n",
      "0.107692307692\t0.107142857143\t0.157894736842\t0.152542372881\t0.128571428571\t0.142857142857\t0.116666666667\t0.0547945205479\t0.155172413793\t0.1\t\n",
      "('gaussian', 150, 'F1')\n",
      "0.169491525424\t0.175438596491\t0.171428571429\t0.294117647059\t0.258064516129\t0.290322580645\t0.293333333333\t0.305555555556\t0.3125\t0.333333333333\t\n",
      "('gaussian', 150, 'AUC')\n",
      "0.944345841785\t0.934372969461\t0.953263888889\t0.957335894094\t0.956894028103\t0.923553719008\t0.936308262712\t0.950698204617\t0.919791666667\t0.925858951175\t\n",
      "('gaussian', 160, 'precision')\n",
      "0.818181818182\t0.888888888889\t1.0\t0.875\t0.909090909091\t0.833333333333\t0.769230769231\t0.8\t0.888888888889\t0.777777777778\t\n",
      "('gaussian', 160, 'recall')\n",
      "0.120689655172\t0.103448275862\t0.183333333333\t0.0754716981132\t0.166666666667\t0.137254901961\t0.155172413793\t0.1875\t0.184615384615\t0.117647058824\t\n",
      "('gaussian', 160, 'F1')\n",
      "0.281690140845\t0.129032258065\t0.32\t0.293333333333\t0.193548387097\t0.28125\t0.231884057971\t0.262295081967\t0.266666666667\t0.25\t\n",
      "('gaussian', 160, 'AUC')\n",
      "0.934735213447\t0.942401012729\t0.952173913043\t0.927983683803\t0.932303864169\t0.955128205128\t0.931456628478\t0.943141772838\t0.948871228638\t0.928756957328\t\n",
      "('gaussian', 170, 'precision')\n",
      "0.818181818182\t0.75\t0.923076923077\t0.909090909091\t0.875\t0.777777777778\t0.9\t1.0\t0.818181818182\t0.846153846154\t\n",
      "('gaussian', 170, 'recall')\n",
      "0.118644067797\t0.2\t0.166666666667\t0.129032258065\t0.12962962963\t0.125\t0.122448979592\t0.183333333333\t0.109090909091\t0.122807017544\t\n",
      "('gaussian', 170, 'F1')\n",
      "0.307692307692\t0.271604938272\t0.264705882353\t0.222222222222\t0.233333333333\t0.243243243243\t0.311688311688\t0.13698630137\t0.254545454545\t0.263157894737\t\n",
      "('gaussian', 170, 'AUC')\n",
      "0.941340042373\t0.942504987176\t0.918345245831\t0.941285410522\t0.943174625501\t0.950165612767\t0.95192\t0.928717798595\t0.958145137007\t0.929452426132\t\n",
      "('gaussian', 180, 'precision')\n",
      "1.0\t1.0\t0.818181818182\t0.909090909091\t0.769230769231\t1.0\t0.857142857143\t0.9\t0.857142857143\t0.818181818182\t\n",
      "('gaussian', 180, 'recall')\n",
      "0.241379310345\t0.183333333333\t0.171875\t0.126984126984\t0.196721311475\t0.157894736842\t0.105263157895\t0.183333333333\t0.153846153846\t0.181818181818\t\n",
      "('gaussian', 180, 'F1')\n",
      "0.231884057971\t0.125\t0.264705882353\t0.228571428571\t0.301369863014\t0.253521126761\t0.27397260274\t0.315789473684\t0.25641025641\t0.225806451613\t\n",
      "('gaussian', 180, 'AUC')\n",
      "0.95760446108\t0.923927436441\t0.939797663152\t0.946955997589\t0.915286415712\t0.947826086957\t0.920296846011\t0.928429555085\t0.931819740723\t0.948412438625\t\n",
      "('gaussian', 190, 'precision')\n",
      "0.888888888889\t0.733333333333\t0.875\t1.0\t0.909090909091\t0.875\t0.916666666667\t0.833333333333\t1.0\t0.857142857143\t\n",
      "('gaussian', 190, 'recall')\n",
      "0.125\t0.179104477612\t0.133333333333\t0.183098591549\t0.180555555556\t0.1875\t0.146666666667\t0.172413793103\t0.142857142857\t0.163636363636\t\n",
      "('gaussian', 190, 'F1')\n",
      "0.25\t0.228571428571\t0.315789473684\t0.271186440678\t0.203389830508\t0.215384615385\t0.342857142857\t0.24\t0.337662337662\t0.349206349206\t\n",
      "('gaussian', 190, 'AUC')\n",
      "0.944009108566\t0.939116202946\t0.95119168357\t0.93573283859\t0.917321767417\t0.948082010582\t0.963611267959\t0.954868154158\t0.92896\t0.960965031174\t\n",
      "('gaussian', 200, 'precision')\n",
      "0.928571428571\t0.777777777778\t1.0\t1.0\t0.928571428571\t0.909090909091\t0.8\t0.846153846154\t0.833333333333\t0.933333333333\t\n",
      "('gaussian', 200, 'recall')\n",
      "0.166666666667\t0.131147540984\t0.169811320755\t0.147540983607\t0.177419354839\t0.161290322581\t0.186440677966\t0.120689655172\t0.237288135593\t0.145454545455\t\n",
      "('gaussian', 200, 'F1')\n",
      "0.277777777778\t0.272727272727\t0.260869565217\t0.384615384615\t0.298507462687\t0.346666666667\t0.208955223881\t0.315789473684\t0.338028169014\t0.177215189873\t\n",
      "('gaussian', 200, 'AUC')\n",
      "0.941148226902\t0.943281615925\t0.946428571429\t0.948942486085\t0.926930547184\t0.953551488834\t0.920785597381\t0.945840653884\t0.939571150097\t0.94792\t\n",
      "('gaussian', 210, 'precision')\n",
      "0.95\t0.882352941176\t0.916666666667\t0.928571428571\t0.818181818182\t0.833333333333\t1.0\t1.0\t0.727272727273\t1.0\t\n",
      "('gaussian', 210, 'recall')\n",
      "0.131147540984\t0.180555555556\t0.2\t0.09375\t0.152542372881\t0.144927536232\t0.178571428571\t0.123076923077\t0.155172413793\t0.211538461538\t\n",
      "('gaussian', 210, 'F1')\n",
      "0.324324324324\t0.393442622951\t0.179104477612\t0.222222222222\t0.290322580645\t0.208955223881\t0.242424242424\t0.166666666667\t0.405797101449\t0.303797468354\t\n",
      "('gaussian', 210, 'AUC')\n",
      "0.955904072016\t0.953220385486\t0.932574250634\t0.925457102672\t0.939236233209\t0.950184102231\t0.955693086715\t0.947492163009\t0.939550013554\t0.934203853955\t\n",
      "('gaussian', 220, 'precision')\n",
      "0.785714285714\t0.857142857143\t1.0\t0.818181818182\t0.916666666667\t1.0\t1.0\t1.0\t0.846153846154\t0.888888888889\t\n",
      "('gaussian', 220, 'recall')\n",
      "0.1875\t0.169230769231\t0.189189189189\t0.175438596491\t0.16393442623\t0.174603174603\t0.2\t0.241379310345\t0.186440677966\t0.180327868852\t\n",
      "('gaussian', 220, 'F1')\n",
      "0.333333333333\t0.311688311688\t0.307692307692\t0.25974025974\t0.459770114943\t0.282608695652\t0.292682926829\t0.222222222222\t0.3\t0.371428571429\t\n",
      "('gaussian', 220, 'AUC')\n",
      "0.94836246735\t0.956399437412\t0.93155180497\t0.930740037951\t0.93912\t0.949487433862\t0.946527777778\t0.938953288977\t0.940526421539\t0.946394686907\t\n",
      "('gaussian', 230, 'precision')\n",
      "1.0\t0.875\t1.0\t0.941176470588\t0.888888888889\t0.818181818182\t0.9\t0.909090909091\t0.857142857143\t0.785714285714\t\n",
      "('gaussian', 230, 'recall')\n",
      "0.133333333333\t0.174603174603\t0.266666666667\t0.277777777778\t0.214285714286\t0.169491525424\t0.270833333333\t0.220338983051\t0.188405797101\t0.224137931034\t\n",
      "('gaussian', 230, 'F1')\n",
      "0.382352941176\t0.285714285714\t0.358208955224\t0.230769230769\t0.328767123288\t0.315789473684\t0.431818181818\t0.298507462687\t0.281690140845\t0.35\t\n",
      "('gaussian', 230, 'AUC')\n",
      "0.943043478261\t0.941507552009\t0.944143630664\t0.960580463504\t0.9481679443\t0.935168441498\t0.923913043478\t0.961249032984\t0.927803677804\t0.937291280148\t\n",
      "('gaussian', 240, 'precision')\n",
      "0.875\t0.875\t0.882352941176\t0.928571428571\t0.823529411765\t0.933333333333\t1.0\t0.846153846154\t0.875\t0.933333333333\t\n",
      "('gaussian', 240, 'recall')\n",
      "0.288461538462\t0.222222222222\t0.19298245614\t0.22641509434\t0.179104477612\t0.236363636364\t0.193548387097\t0.203125\t0.211267605634\t0.155172413793\t\n",
      "('gaussian', 240, 'F1')\n",
      "0.477611940299\t0.363636363636\t0.366197183099\t0.363636363636\t0.246575342466\t0.441176470588\t0.285714285714\t0.305555555556\t0.373333333333\t0.297297297297\t\n",
      "('gaussian', 240, 'AUC')\n",
      "0.924378478664\t0.929390252479\t0.965909870361\t0.958291075051\t0.940744173729\t0.965704449153\t0.944930555556\t0.956896551724\t0.94906323185\t0.952423968684\t\n",
      "('gaussian', 250, 'precision')\n",
      "0.9\t0.833333333333\t1.0\t0.923076923077\t0.882352941176\t0.75\t0.846153846154\t0.85\t0.833333333333\t0.933333333333\t\n",
      "('gaussian', 250, 'recall')\n",
      "0.333333333333\t0.268656716418\t0.144927536232\t0.206349206349\t0.183333333333\t0.194029850746\t0.27868852459\t0.315789473684\t0.269841269841\t0.245283018868\t\n",
      "('gaussian', 250, 'F1')\n",
      "0.303797468354\t0.413793103448\t0.526315789474\t0.357142857143\t0.421052631579\t0.486486486486\t0.341463414634\t0.444444444444\t0.416666666667\t0.338028169014\t\n",
      "('gaussian', 250, 'AUC')\n",
      "0.935788539554\t0.943074950128\t0.954484605087\t0.946048237477\t0.898709036743\t0.94664645152\t0.949379244118\t0.928270042194\t0.915347222222\t0.927399370437\t\n",
      "('gaussian', 260, 'precision')\n",
      "0.928571428571\t0.944444444444\t1.0\t0.85\t0.857142857143\t0.833333333333\t0.866666666667\t0.923076923077\t0.857142857143\t1.0\t\n",
      "('gaussian', 260, 'recall')\n",
      "0.172413793103\t0.203389830508\t0.213114754098\t0.186440677966\t0.287878787879\t0.290322580645\t0.171875\t0.25\t0.36\t0.161764705882\t\n",
      "('gaussian', 260, 'F1')\n",
      "0.301369863014\t0.4\t0.303797468354\t0.342857142857\t0.342857142857\t0.405063291139\t0.375\t0.367816091954\t0.438356164384\t0.337662337662\t\n",
      "('gaussian', 260, 'AUC')\n",
      "0.936507936508\t0.932985801495\t0.94623251145\t0.949310652308\t0.92050209205\t0.948916861827\t0.927081077179\t0.957475994513\t0.937802792818\t0.95479426779\t\n",
      "('gaussian', 270, 'precision')\n",
      "0.888888888889\t0.846153846154\t0.916666666667\t0.941176470588\t0.941176470588\t0.928571428571\t0.85\t0.9375\t1.0\t0.947368421053\t\n",
      "('gaussian', 270, 'recall')\n",
      "0.209677419355\t0.127272727273\t0.2\t0.245614035088\t0.157894736842\t0.212121212121\t0.218181818182\t0.209677419355\t0.209677419355\t0.339622641509\t\n",
      "('gaussian', 270, 'F1')\n",
      "0.430769230769\t0.293333333333\t0.315789473684\t0.416666666667\t0.349206349206\t0.428571428571\t0.395348837209\t0.25974025974\t0.430107526882\t0.421052631579\t\n",
      "('gaussian', 270, 'AUC')\n",
      "0.936013249021\t0.958728652751\t0.925700090334\t0.920902777778\t0.923254638654\t0.962998102467\t0.918363338789\t0.954230653418\t0.944526295561\t0.91393442623\t\n",
      "('gaussian', 280, 'precision')\n",
      "0.866666666667\t0.9\t0.785714285714\t0.882352941176\t0.857142857143\t0.954545454545\t0.866666666667\t0.9375\t0.9\t0.933333333333\t\n",
      "('gaussian', 280, 'recall')\n",
      "0.271186440678\t0.25\t0.309090909091\t0.326530612245\t0.305084745763\t0.285714285714\t0.236363636364\t0.238805970149\t0.185714285714\t0.277777777778\t\n",
      "('gaussian', 280, 'F1')\n",
      "0.414634146341\t0.266666666667\t0.260869565217\t0.394736842105\t0.296296296296\t0.292682926829\t0.469135802469\t0.41095890411\t0.376470588235\t0.30985915493\t\n",
      "('gaussian', 280, 'AUC')\n",
      "0.923782733909\t0.945360040568\t0.94686304238\t0.941908713693\t0.943390545017\t0.937291280148\t0.942696135831\t0.937621832359\t0.930536730821\t0.925022583559\t\n",
      "('gaussian', 290, 'precision')\n",
      "1.0\t0.92\t0.809523809524\t0.846153846154\t0.833333333333\t0.941176470588\t0.809523809524\t1.0\t0.944444444444\t1.0\t\n",
      "('gaussian', 290, 'recall')\n",
      "0.254545454545\t0.293103448276\t0.21568627451\t0.202898550725\t0.274193548387\t0.224137931034\t0.25\t0.184615384615\t0.245614035088\t0.27868852459\t\n",
      "('gaussian', 290, 'F1')\n",
      "0.320987654321\t0.346666666667\t0.453333333333\t0.294117647059\t0.27027027027\t0.384615384615\t0.28125\t0.426666666667\t0.547945205479\t0.405405405405\t\n",
      "('gaussian', 290, 'AUC')\n",
      "0.927224089444\t0.956682815617\t0.924630924631\t0.962049220273\t0.961388888889\t0.940454682325\t0.952133580705\t0.954216189605\t0.939097222222\t0.952328691954\t\n",
      "('gaussian', 300, 'precision')\n",
      "0.842105263158\t0.857142857143\t0.842105263158\t0.894736842105\t0.95\t0.9\t0.944444444444\t0.823529411765\t0.85\t0.833333333333\t\n",
      "('gaussian', 300, 'recall')\n",
      "0.309090909091\t0.320754716981\t0.235294117647\t0.333333333333\t0.241379310345\t0.25\t0.37037037037\t0.237288135593\t0.3\t0.296296296296\t\n",
      "('gaussian', 300, 'F1')\n",
      "0.55421686747\t0.453333333333\t0.494117647059\t0.387096774194\t0.469135802469\t0.383561643836\t0.481927710843\t0.494117647059\t0.547945205479\t0.262295081967\t\n",
      "('gaussian', 300, 'AUC')\n",
      "0.960390581936\t0.949722203169\t0.924371924372\t0.935001973054\t0.924979669287\t0.930367359229\t0.946280991736\t0.935763888889\t0.91549488991\t0.912129127319\t\n",
      "('gaussian', 310, 'precision')\n",
      "0.894736842105\t0.833333333333\t0.954545454545\t0.904761904762\t1.0\t0.882352941176\t1.0\t0.95\t0.866666666667\t0.888888888889\t\n",
      "('gaussian', 310, 'recall')\n",
      "0.178571428571\t0.213114754098\t0.174603174603\t0.283582089552\t0.265625\t0.246575342466\t0.276923076923\t0.40350877193\t0.328125\t0.28125\t\n",
      "('gaussian', 310, 'F1')\n",
      "0.642857142857\t0.384615384615\t0.341463414634\t0.441860465116\t0.373333333333\t0.441558441558\t0.325581395349\t0.432432432432\t0.32\t0.53488372093\t\n",
      "('gaussian', 310, 'AUC')\n",
      "0.952353849906\t0.956319444444\t0.931429777059\t0.934553349876\t0.957625231911\t0.93094334508\t0.937031580296\t0.933622828784\t0.951965679724\t0.920155152225\t\n",
      "('gaussian', 320, 'precision')\n",
      "0.952380952381\t0.894736842105\t0.9375\t0.928571428571\t1.0\t0.85\t0.944444444444\t0.947368421053\t0.96\t0.95\t\n",
      "('gaussian', 320, 'recall')\n",
      "0.379310344828\t0.327586206897\t0.271186440678\t0.254237288136\t0.265625\t0.253731343284\t0.253521126761\t0.245283018868\t0.295081967213\t0.25\t\n",
      "('gaussian', 320, 'F1')\n",
      "0.533333333333\t0.325\t0.438356164384\t0.413793103448\t0.345679012346\t0.360655737705\t0.328767123288\t0.454545454545\t0.394736842105\t0.511627906977\t\n",
      "('gaussian', 320, 'AUC')\n",
      "0.941001855288\t0.921705491548\t0.968265217734\t0.95027093765\t0.962394067797\t0.966420034149\t0.93766030208\t0.920617055085\t0.947014051522\t0.96785606745\t"
     ]
    },
    {
     "name": "stderr",
     "output_type": "stream",
     "text": [
      "/home/matt/anaconda3/lib/python3.5/site-packages/sklearn/metrics/classification.py:1074: UndefinedMetricWarning: F-score is ill-defined and being set to 0.0 due to no predicted samples.\n",
      "  'precision', 'predicted', average, warn_for)\n"
     ]
    }
   ],
   "source": [
    "# for every combination of parameters,\n",
    "for params in results.index:\n",
    "    kernel,gamma,metric=params\n",
    "    print()\n",
    "    print(params)\n",
    "    \n",
    "    # and all 10 trials,\n",
    "    for trial in results.columns:\n",
    "        # split into training and testing sets 70/30\n",
    "        train_X = trends.sample(frac=0.7)\n",
    "        train_y = words.loc[train_X.index]\n",
    "        test_index = trends.index.difference(train_X.index)\n",
    "        test_X = trends.loc[test_index]\n",
    "        test_y = words.loc[test_index]\n",
    "        # compute the score for every test sequence\n",
    "        trendiness = test_X.apply(lambda x: classify(x,labels=train_y.label,\n",
    "                                                     trends=train_X,\n",
    "                                                     gamma=gamma,\n",
    "                                                     kernel=kernel_map[kernel]),\n",
    "                                                     axis=1)\n",
    "        # convert to binary response if not evaluating using AUC\n",
    "        if metric != 'AUC':\n",
    "            trendiness = (trendiness > 1).astype('int')\n",
    "        # compute the accuracy metric\n",
    "        accuracy = metric_map[metric](test_y,trendiness)\n",
    "        print(accuracy,end='\\t')\n",
    "            \n",
    "        results.loc[params,trial] = accuracy"
   ]
  },
  {
   "cell_type": "code",
   "execution_count": 848,
   "metadata": {
    "collapsed": false
   },
   "outputs": [],
   "source": [
    "results.to_csv(data_dir+results_output)"
   ]
  },
  {
   "cell_type": "code",
   "execution_count": 854,
   "metadata": {
    "collapsed": true
   },
   "outputs": [],
   "source": [
    "# check it out\n",
    "summary = results.apply(np.mean,axis=1)"
   ]
  },
  {
   "cell_type": "code",
   "execution_count": 862,
   "metadata": {
    "collapsed": false
   },
   "outputs": [],
   "source": [
    "summary = summary.unstack('metrics')"
   ]
  },
  {
   "cell_type": "code",
   "execution_count": 880,
   "metadata": {
    "collapsed": false
   },
   "outputs": [
    {
     "name": "stdout",
     "output_type": "stream",
     "text": [
      "Top 20.0% of scorers for AUC\n",
      "metrics               AUC        F1  precision    recall\n",
      "kernels  gammas                                         \n",
      "gaussian 190     0.944386  0.275405   0.888846  0.161417\n",
      "         240     0.948773  0.352073   0.897227  0.210866\n",
      "         290     0.947021  0.373126   0.910416  0.242348\n",
      "         320     0.948321  0.410649   0.936500  0.279556\n",
      "laplace  50      0.945360  0.496555   0.945302  0.317940\n",
      "         60      0.944575  0.598086   0.912295  0.454058\n",
      "         70      0.950569  0.634800   0.892733  0.510741\n",
      "         80      0.945018  0.680551   0.870127  0.575214\n",
      "         100     0.951334  0.726065   0.843685  0.602931\n",
      "         110     0.944162  0.706929   0.815627  0.621416\n",
      "         120     0.947856  0.736149   0.824001  0.627217\n",
      "         150     0.947188  0.726026   0.786106  0.686656\n",
      "Top 20.0% of scorers for F1\n",
      "metrics              AUC        F1  precision    recall\n",
      "kernels gammas                                         \n",
      "laplace 100     0.951334  0.726065   0.843685  0.602931\n",
      "        120     0.947856  0.736149   0.824001  0.627217\n",
      "        130     0.941895  0.724715   0.845324  0.662938\n",
      "        140     0.944109  0.725323   0.788634  0.659888\n",
      "        150     0.947188  0.726026   0.786106  0.686656\n",
      "        170     0.931153  0.712226   0.807468  0.683978\n",
      "        180     0.940126  0.722335   0.760011  0.708233\n",
      "        200     0.939020  0.744404   0.726627  0.693628\n",
      "        220     0.933816  0.712724   0.723856  0.697757\n",
      "        240     0.937988  0.716515   0.724571  0.670071\n",
      "        260     0.932324  0.724292   0.693073  0.732338\n",
      "        290     0.924677  0.714362   0.717562  0.708532\n",
      "Top 20.0% of scorers for precision\n",
      "metrics               AUC        F1  precision    recall\n",
      "kernels  gammas                                         \n",
      "gaussian 110     0.941372  0.161851   0.962500  0.086769\n",
      "         120     0.938464  0.153931   0.907143  0.106566\n",
      "         220     0.942806  0.314117   0.911275  0.186804\n",
      "         260     0.941161  0.361478   0.906038  0.229720\n",
      "         270     0.935865  0.374059   0.919750  0.212974\n",
      "         290     0.947021  0.373126   0.910416  0.242348\n",
      "         310     0.940600  0.423859   0.917529  0.265188\n",
      "         320     0.948321  0.410649   0.936500  0.279556\n",
      "laplace  30      0.943651  0.238033   0.950000  0.134230\n",
      "         40      0.944063  0.378373   0.937172  0.267487\n",
      "         50      0.945360  0.496555   0.945302  0.317940\n",
      "         60      0.944575  0.598086   0.912295  0.454058\n",
      "Top 20.0% of scorers for recall\n",
      "metrics              AUC        F1  precision    recall\n",
      "kernels gammas                                         \n",
      "laplace 160     0.935763  0.708744   0.829248  0.713213\n",
      "        180     0.940126  0.722335   0.760011  0.708233\n",
      "        190     0.931567  0.711248   0.756385  0.712178\n",
      "        200     0.939020  0.744404   0.726627  0.693628\n",
      "        220     0.933816  0.712724   0.723856  0.697757\n",
      "        230     0.938241  0.702067   0.716537  0.714563\n",
      "        250     0.927433  0.698308   0.741507  0.693681\n",
      "        260     0.932324  0.724292   0.693073  0.732338\n",
      "        270     0.924204  0.712015   0.709701  0.692295\n",
      "        290     0.924677  0.714362   0.717562  0.708532\n",
      "        310     0.926396  0.689711   0.704995  0.724342\n",
      "        320     0.925305  0.699609   0.728073  0.693835\n"
     ]
    }
   ],
   "source": [
    "summary.apply(np.max)\n",
    "top_p=0.2\n",
    "for metric in summary.columns:\n",
    "    print(\"Top {}% of scorers for {}\".format(100*top_p,metric))\n",
    "    print(summary.iloc[np.where(summary[metric]>=summary[metric].quantile(1-top_p))])\n",
    "# looks like laplace with gamma~250 is a good balance; precision isn't too low, but recall is maximized,\n",
    "# which is what we care about most"
   ]
  },
  {
   "cell_type": "markdown",
   "metadata": {},
   "source": [
    "## get series for every word"
   ]
  },
  {
   "cell_type": "code",
   "execution_count": 400,
   "metadata": {
    "collapsed": true
   },
   "outputs": [],
   "source": [
    "# get series for every word\n",
    "command = '''\n",
    "SELECT d.doc_label as year,\n",
    "       word_id,\n",
    "       word_str,\n",
    "       sum(word_count) as word_count\n",
    "  FROM docword w\n",
    "       JOIN\n",
    "       doc d USING (\n",
    "           doc_id\n",
    "       )\n",
    " GROUP BY word_id, d.doc_label'''"
   ]
  },
  {
   "cell_type": "code",
   "execution_count": 401,
   "metadata": {
    "collapsed": false
   },
   "outputs": [],
   "source": [
    "word_series = pd.read_sql_query(command,con)"
   ]
  },
  {
   "cell_type": "code",
   "execution_count": 402,
   "metadata": {
    "collapsed": false
   },
   "outputs": [],
   "source": [
    "# reindex and reshape\n",
    "word_series.set_index(['word_id','word_str','year'],inplace=True)\n",
    "word_series=word_series.unstack(level='year')\n",
    "\n",
    "word_series.fillna(0,inplace=True)\n",
    "word_series.columns = word_series.columns.get_level_values(1)"
   ]
  },
  {
   "cell_type": "code",
   "execution_count": 531,
   "metadata": {
    "collapsed": false
   },
   "outputs": [
    {
     "data": {
      "text/html": [
       "<div>\n",
       "<table border=\"1\" class=\"dataframe\">\n",
       "  <thead>\n",
       "    <tr style=\"text-align: right;\">\n",
       "      <th></th>\n",
       "      <th>year</th>\n",
       "      <th>2005</th>\n",
       "      <th>2006</th>\n",
       "      <th>2007</th>\n",
       "      <th>2008</th>\n",
       "      <th>2009</th>\n",
       "      <th>2010</th>\n",
       "      <th>2011</th>\n",
       "      <th>2012</th>\n",
       "      <th>2013</th>\n",
       "      <th>2014</th>\n",
       "      <th>2015</th>\n",
       "    </tr>\n",
       "    <tr>\n",
       "      <th>word_id</th>\n",
       "      <th>word_str</th>\n",
       "      <th></th>\n",
       "      <th></th>\n",
       "      <th></th>\n",
       "      <th></th>\n",
       "      <th></th>\n",
       "      <th></th>\n",
       "      <th></th>\n",
       "      <th></th>\n",
       "      <th></th>\n",
       "      <th></th>\n",
       "      <th></th>\n",
       "    </tr>\n",
       "  </thead>\n",
       "  <tbody>\n",
       "    <tr>\n",
       "      <th>0</th>\n",
       "      <th>Relationship</th>\n",
       "      <td>0</td>\n",
       "      <td>0</td>\n",
       "      <td>0</td>\n",
       "      <td>0</td>\n",
       "      <td>0</td>\n",
       "      <td>1</td>\n",
       "      <td>3</td>\n",
       "      <td>1</td>\n",
       "      <td>0</td>\n",
       "      <td>0</td>\n",
       "      <td>0</td>\n",
       "    </tr>\n",
       "    <tr>\n",
       "      <th>1</th>\n",
       "      <th>IGFBP7</th>\n",
       "      <td>0</td>\n",
       "      <td>0</td>\n",
       "      <td>1</td>\n",
       "      <td>0</td>\n",
       "      <td>0</td>\n",
       "      <td>10</td>\n",
       "      <td>1</td>\n",
       "      <td>9</td>\n",
       "      <td>1</td>\n",
       "      <td>0</td>\n",
       "      <td>0</td>\n",
       "    </tr>\n",
       "    <tr>\n",
       "      <th>2</th>\n",
       "      <th>cross-layer</th>\n",
       "      <td>1</td>\n",
       "      <td>0</td>\n",
       "      <td>3</td>\n",
       "      <td>4</td>\n",
       "      <td>4</td>\n",
       "      <td>3</td>\n",
       "      <td>1</td>\n",
       "      <td>6</td>\n",
       "      <td>1</td>\n",
       "      <td>0</td>\n",
       "      <td>0</td>\n",
       "    </tr>\n",
       "    <tr>\n",
       "      <th>3</th>\n",
       "      <th>instability</th>\n",
       "      <td>1</td>\n",
       "      <td>12</td>\n",
       "      <td>7</td>\n",
       "      <td>27</td>\n",
       "      <td>17</td>\n",
       "      <td>46</td>\n",
       "      <td>41</td>\n",
       "      <td>20</td>\n",
       "      <td>47</td>\n",
       "      <td>59</td>\n",
       "      <td>29</td>\n",
       "    </tr>\n",
       "    <tr>\n",
       "      <th>4</th>\n",
       "      <th>prerequisite</th>\n",
       "      <td>4</td>\n",
       "      <td>3</td>\n",
       "      <td>5</td>\n",
       "      <td>11</td>\n",
       "      <td>8</td>\n",
       "      <td>20</td>\n",
       "      <td>15</td>\n",
       "      <td>17</td>\n",
       "      <td>26</td>\n",
       "      <td>16</td>\n",
       "      <td>4</td>\n",
       "    </tr>\n",
       "  </tbody>\n",
       "</table>\n",
       "</div>"
      ],
      "text/plain": [
       "year                  2005  2006  2007  2008  2009  2010  2011  2012  2013  \\\n",
       "word_id word_str                                                             \n",
       "0       Relationship     0     0     0     0     0     1     3     1     0   \n",
       "1       IGFBP7           0     0     1     0     0    10     1     9     1   \n",
       "2       cross-layer      1     0     3     4     4     3     1     6     1   \n",
       "3       instability      1    12     7    27    17    46    41    20    47   \n",
       "4       prerequisite     4     3     5    11     8    20    15    17    26   \n",
       "\n",
       "year                  2014  2015  \n",
       "word_id word_str                  \n",
       "0       Relationship     0     0  \n",
       "1       IGFBP7           0     0  \n",
       "2       cross-layer      0     0  \n",
       "3       instability     59    29  \n",
       "4       prerequisite    16     4  "
      ]
     },
     "execution_count": 531,
     "metadata": {},
     "output_type": "execute_result"
    }
   ],
   "source": [
    "word_series.head()"
   ]
  },
  {
   "cell_type": "code",
   "execution_count": 532,
   "metadata": {
    "collapsed": true
   },
   "outputs": [],
   "source": [
    "# normalize to proportions\n",
    "word_props = word_series.apply(lambda x: x/ttf,axis=1)\n",
    "word_props.fillna(0,inplace=True)"
   ]
  },
  {
   "cell_type": "code",
   "execution_count": 533,
   "metadata": {
    "collapsed": true
   },
   "outputs": [],
   "source": [
    "# normalize from series to shapes\n",
    "word_trends = word_props.apply(lambda x: x/x.sum(),axis=1)"
   ]
  },
  {
   "cell_type": "code",
   "execution_count": 881,
   "metadata": {
    "collapsed": false
   },
   "outputs": [
    {
     "data": {
      "text/html": [
       "<div>\n",
       "<table border=\"1\" class=\"dataframe\">\n",
       "  <thead>\n",
       "    <tr style=\"text-align: right;\">\n",
       "      <th></th>\n",
       "      <th>year</th>\n",
       "      <th>2005</th>\n",
       "      <th>2006</th>\n",
       "      <th>2007</th>\n",
       "      <th>2008</th>\n",
       "      <th>2009</th>\n",
       "      <th>2010</th>\n",
       "      <th>2011</th>\n",
       "      <th>2012</th>\n",
       "      <th>2013</th>\n",
       "      <th>2014</th>\n",
       "      <th>2015</th>\n",
       "    </tr>\n",
       "    <tr>\n",
       "      <th>word_id</th>\n",
       "      <th>word_str</th>\n",
       "      <th></th>\n",
       "      <th></th>\n",
       "      <th></th>\n",
       "      <th></th>\n",
       "      <th></th>\n",
       "      <th></th>\n",
       "      <th></th>\n",
       "      <th></th>\n",
       "      <th></th>\n",
       "      <th></th>\n",
       "      <th></th>\n",
       "    </tr>\n",
       "  </thead>\n",
       "  <tbody>\n",
       "    <tr>\n",
       "      <th>0</th>\n",
       "      <th>Relationship</th>\n",
       "      <td>0.000000</td>\n",
       "      <td>0.000000</td>\n",
       "      <td>0.000000</td>\n",
       "      <td>0.000000</td>\n",
       "      <td>0.000000</td>\n",
       "      <td>0.231080</td>\n",
       "      <td>0.583898</td>\n",
       "      <td>0.185022</td>\n",
       "      <td>0.000000</td>\n",
       "      <td>0.000000</td>\n",
       "      <td>0.000000</td>\n",
       "    </tr>\n",
       "    <tr>\n",
       "      <th>1</th>\n",
       "      <th>IGFBP7</th>\n",
       "      <td>0.000000</td>\n",
       "      <td>0.000000</td>\n",
       "      <td>0.120597</td>\n",
       "      <td>0.000000</td>\n",
       "      <td>0.000000</td>\n",
       "      <td>0.470277</td>\n",
       "      <td>0.039610</td>\n",
       "      <td>0.338890</td>\n",
       "      <td>0.030626</td>\n",
       "      <td>0.000000</td>\n",
       "      <td>0.000000</td>\n",
       "    </tr>\n",
       "    <tr>\n",
       "      <th>2</th>\n",
       "      <th>cross-layer</th>\n",
       "      <td>0.134234</td>\n",
       "      <td>0.000000</td>\n",
       "      <td>0.227327</td>\n",
       "      <td>0.221945</td>\n",
       "      <td>0.141755</td>\n",
       "      <td>0.088648</td>\n",
       "      <td>0.024889</td>\n",
       "      <td>0.141958</td>\n",
       "      <td>0.019244</td>\n",
       "      <td>0.000000</td>\n",
       "      <td>0.000000</td>\n",
       "    </tr>\n",
       "    <tr>\n",
       "      <th>3</th>\n",
       "      <th>instability</th>\n",
       "      <td>0.013817</td>\n",
       "      <td>0.117454</td>\n",
       "      <td>0.054600</td>\n",
       "      <td>0.154210</td>\n",
       "      <td>0.062014</td>\n",
       "      <td>0.139916</td>\n",
       "      <td>0.105039</td>\n",
       "      <td>0.048708</td>\n",
       "      <td>0.093101</td>\n",
       "      <td>0.105757</td>\n",
       "      <td>0.105385</td>\n",
       "    </tr>\n",
       "    <tr>\n",
       "      <th>4</th>\n",
       "      <th>prerequisite</th>\n",
       "      <td>0.122542</td>\n",
       "      <td>0.065104</td>\n",
       "      <td>0.086470</td>\n",
       "      <td>0.139297</td>\n",
       "      <td>0.064704</td>\n",
       "      <td>0.134878</td>\n",
       "      <td>0.085203</td>\n",
       "      <td>0.091796</td>\n",
       "      <td>0.114190</td>\n",
       "      <td>0.063588</td>\n",
       "      <td>0.032228</td>\n",
       "    </tr>\n",
       "  </tbody>\n",
       "</table>\n",
       "</div>"
      ],
      "text/plain": [
       "year                      2005      2006      2007      2008      2009  \\\n",
       "word_id word_str                                                         \n",
       "0       Relationship  0.000000  0.000000  0.000000  0.000000  0.000000   \n",
       "1       IGFBP7        0.000000  0.000000  0.120597  0.000000  0.000000   \n",
       "2       cross-layer   0.134234  0.000000  0.227327  0.221945  0.141755   \n",
       "3       instability   0.013817  0.117454  0.054600  0.154210  0.062014   \n",
       "4       prerequisite  0.122542  0.065104  0.086470  0.139297  0.064704   \n",
       "\n",
       "year                      2010      2011      2012      2013      2014  \\\n",
       "word_id word_str                                                         \n",
       "0       Relationship  0.231080  0.583898  0.185022  0.000000  0.000000   \n",
       "1       IGFBP7        0.470277  0.039610  0.338890  0.030626  0.000000   \n",
       "2       cross-layer   0.088648  0.024889  0.141958  0.019244  0.000000   \n",
       "3       instability   0.139916  0.105039  0.048708  0.093101  0.105757   \n",
       "4       prerequisite  0.134878  0.085203  0.091796  0.114190  0.063588   \n",
       "\n",
       "year                      2015  \n",
       "word_id word_str                \n",
       "0       Relationship  0.000000  \n",
       "1       IGFBP7        0.000000  \n",
       "2       cross-layer   0.000000  \n",
       "3       instability   0.105385  \n",
       "4       prerequisite  0.032228  "
      ]
     },
     "execution_count": 881,
     "metadata": {},
     "output_type": "execute_result"
    }
   ],
   "source": [
    "word_trends.head()"
   ]
  },
  {
   "cell_type": "markdown",
   "metadata": {},
   "source": [
    "## compute trendiness for every word"
   ]
  },
  {
   "cell_type": "code",
   "execution_count": 882,
   "metadata": {
    "collapsed": false
   },
   "outputs": [],
   "source": [
    "# new dataframe to hold stats; this gets written to a db\n",
    "word_stats = pd.DataFrame([t for t in word_series.index],columns=['word_id','word_str'])\n",
    "word_stats.set_index(['word_id'],inplace=True)"
   ]
  },
  {
   "cell_type": "code",
   "execution_count": 883,
   "metadata": {
    "collapsed": false
   },
   "outputs": [
    {
     "data": {
      "text/html": [
       "<div>\n",
       "<table border=\"1\" class=\"dataframe\">\n",
       "  <thead>\n",
       "    <tr style=\"text-align: right;\">\n",
       "      <th></th>\n",
       "      <th>word_str</th>\n",
       "    </tr>\n",
       "    <tr>\n",
       "      <th>word_id</th>\n",
       "      <th></th>\n",
       "    </tr>\n",
       "  </thead>\n",
       "  <tbody>\n",
       "    <tr>\n",
       "      <th>0</th>\n",
       "      <td>Relationship</td>\n",
       "    </tr>\n",
       "    <tr>\n",
       "      <th>1</th>\n",
       "      <td>IGFBP7</td>\n",
       "    </tr>\n",
       "    <tr>\n",
       "      <th>2</th>\n",
       "      <td>cross-layer</td>\n",
       "    </tr>\n",
       "    <tr>\n",
       "      <th>3</th>\n",
       "      <td>instability</td>\n",
       "    </tr>\n",
       "    <tr>\n",
       "      <th>4</th>\n",
       "      <td>prerequisite</td>\n",
       "    </tr>\n",
       "  </tbody>\n",
       "</table>\n",
       "</div>"
      ],
      "text/plain": [
       "             word_str\n",
       "word_id              \n",
       "0        Relationship\n",
       "1              IGFBP7\n",
       "2         cross-layer\n",
       "3         instability\n",
       "4        prerequisite"
      ]
     },
     "execution_count": 883,
     "metadata": {},
     "output_type": "execute_result"
    }
   ],
   "source": [
    "word_stats.head()"
   ]
  },
  {
   "cell_type": "code",
   "execution_count": 851,
   "metadata": {
    "collapsed": false
   },
   "outputs": [
    {
     "name": "stdout",
     "output_type": "stream",
     "text": [
      "1 loops, best of 3: 3.08 s per loop\n"
     ]
    }
   ],
   "source": [
    "# timing the classification\n",
    "%timeit trendiness = word_trends.iloc[0:100].apply(classify,axis=1,**dict(labels=words.label,trends=trends,gamma=50,kernel=laplace_kernel))\n",
    "# at this rate it should take < 3.22s*44000/(100*60) ~ 23 mins to complete"
   ]
  },
  {
   "cell_type": "code",
   "execution_count": 884,
   "metadata": {
    "collapsed": false
   },
   "outputs": [],
   "source": [
    "trendiness = word_trends.apply(classify,axis=1,**dict(\n",
    "                labels=words.label,trends=trends,gamma=230,kernel=laplace_kernel))\n",
    "\n",
    "word_stats.loc[:,'trendiness'] = pd.Series(trendiness.values,index=trendiness.index.levels[0])"
   ]
  },
  {
   "cell_type": "markdown",
   "metadata": {},
   "source": [
    "### Questions:\n",
    "    -Does another kernel perform better?\n",
    "    -How are the results affected by gamma?\n",
    "    -ROC curves for varying gamma?\n",
    "    -Does it make sense to transform the data first?\n",
    "        *smoothing: rolling average\n",
    "        *log or power transform: most kernels make more sense in this transformed space"
   ]
  },
  {
   "cell_type": "markdown",
   "metadata": {},
   "source": [
    "## Compute other relevant stats:\n",
    "    -ttf\n",
    "    -df\n",
    "    -idf"
   ]
  },
  {
   "cell_type": "code",
   "execution_count": 885,
   "metadata": {
    "collapsed": true
   },
   "outputs": [],
   "source": [
    "# ttf\n",
    "command=\"\"\"\n",
    "SELECT word_id,\n",
    "       word_str,\n",
    "       word_freq\n",
    "FROM word\n",
    "\"\"\""
   ]
  },
  {
   "cell_type": "code",
   "execution_count": 933,
   "metadata": {
    "collapsed": false
   },
   "outputs": [],
   "source": [
    "#word_stats.ttf = \n",
    "ttf_all = pd.read_sql_query(command,con)\n",
    "ttf_all.set_index('word_id',inplace=True)"
   ]
  },
  {
   "cell_type": "code",
   "execution_count": 934,
   "metadata": {
    "collapsed": false
   },
   "outputs": [],
   "source": [
    "word_stats.loc[:,'ttf'] = ttf_all.word_freq"
   ]
  },
  {
   "cell_type": "code",
   "execution_count": 935,
   "metadata": {
    "collapsed": false
   },
   "outputs": [
    {
     "data": {
      "text/html": [
       "<div>\n",
       "<table border=\"1\" class=\"dataframe\">\n",
       "  <thead>\n",
       "    <tr style=\"text-align: right;\">\n",
       "      <th></th>\n",
       "      <th>word_str</th>\n",
       "      <th>ttf</th>\n",
       "      <th>trendiness</th>\n",
       "    </tr>\n",
       "    <tr>\n",
       "      <th>word_id</th>\n",
       "      <th></th>\n",
       "      <th></th>\n",
       "      <th></th>\n",
       "    </tr>\n",
       "  </thead>\n",
       "  <tbody>\n",
       "    <tr>\n",
       "      <th>0</th>\n",
       "      <td>Relationship</td>\n",
       "      <td>5</td>\n",
       "      <td>2.549906e-16</td>\n",
       "    </tr>\n",
       "    <tr>\n",
       "      <th>1</th>\n",
       "      <td>IGFBP7</td>\n",
       "      <td>22</td>\n",
       "      <td>4.015195e-07</td>\n",
       "    </tr>\n",
       "    <tr>\n",
       "      <th>2</th>\n",
       "      <td>cross-layer</td>\n",
       "      <td>23</td>\n",
       "      <td>2.309019e-05</td>\n",
       "    </tr>\n",
       "    <tr>\n",
       "      <th>3</th>\n",
       "      <td>instability</td>\n",
       "      <td>306</td>\n",
       "      <td>1.735031e-02</td>\n",
       "    </tr>\n",
       "    <tr>\n",
       "      <th>4</th>\n",
       "      <td>prerequisite</td>\n",
       "      <td>129</td>\n",
       "      <td>8.000635e-05</td>\n",
       "    </tr>\n",
       "  </tbody>\n",
       "</table>\n",
       "</div>"
      ],
      "text/plain": [
       "             word_str  ttf    trendiness\n",
       "word_id                                 \n",
       "0        Relationship    5  2.549906e-16\n",
       "1              IGFBP7   22  4.015195e-07\n",
       "2         cross-layer   23  2.309019e-05\n",
       "3         instability  306  1.735031e-02\n",
       "4        prerequisite  129  8.000635e-05"
      ]
     },
     "execution_count": 935,
     "metadata": {},
     "output_type": "execute_result"
    }
   ],
   "source": [
    "word_stats.head()"
   ]
  },
  {
   "cell_type": "code",
   "execution_count": 936,
   "metadata": {
    "collapsed": true
   },
   "outputs": [],
   "source": [
    "# df\n",
    "command=\"\"\"\n",
    "SELECT word_id, count(doc_id) as df\n",
    "FROM docword\n",
    " GROUP BY word_id\n",
    "\"\"\""
   ]
  },
  {
   "cell_type": "code",
   "execution_count": 937,
   "metadata": {
    "collapsed": true
   },
   "outputs": [],
   "source": [
    "df_all = pd.read_sql_query(command,con)\n",
    "df_all.set_index('word_id',inplace=True)"
   ]
  },
  {
   "cell_type": "code",
   "execution_count": 938,
   "metadata": {
    "collapsed": false
   },
   "outputs": [
    {
     "data": {
      "text/html": [
       "<div>\n",
       "<table border=\"1\" class=\"dataframe\">\n",
       "  <thead>\n",
       "    <tr style=\"text-align: right;\">\n",
       "      <th></th>\n",
       "      <th>df</th>\n",
       "    </tr>\n",
       "    <tr>\n",
       "      <th>word_id</th>\n",
       "      <th></th>\n",
       "    </tr>\n",
       "  </thead>\n",
       "  <tbody>\n",
       "    <tr>\n",
       "      <th>0</th>\n",
       "      <td>5</td>\n",
       "    </tr>\n",
       "    <tr>\n",
       "      <th>1</th>\n",
       "      <td>5</td>\n",
       "    </tr>\n",
       "    <tr>\n",
       "      <th>2</th>\n",
       "      <td>17</td>\n",
       "    </tr>\n",
       "    <tr>\n",
       "      <th>3</th>\n",
       "      <td>238</td>\n",
       "    </tr>\n",
       "    <tr>\n",
       "      <th>4</th>\n",
       "      <td>129</td>\n",
       "    </tr>\n",
       "  </tbody>\n",
       "</table>\n",
       "</div>"
      ],
      "text/plain": [
       "          df\n",
       "word_id     \n",
       "0          5\n",
       "1          5\n",
       "2         17\n",
       "3        238\n",
       "4        129"
      ]
     },
     "execution_count": 938,
     "metadata": {},
     "output_type": "execute_result"
    }
   ],
   "source": [
    "df_all.head()"
   ]
  },
  {
   "cell_type": "code",
   "execution_count": 939,
   "metadata": {
    "collapsed": true
   },
   "outputs": [],
   "source": [
    "word_stats.loc[:,'df'] = df_all.df"
   ]
  },
  {
   "cell_type": "code",
   "execution_count": 940,
   "metadata": {
    "collapsed": false
   },
   "outputs": [],
   "source": [
    "command=\"\"\"\n",
    "SELECT count(doc_id) \n",
    "FROM doc\"\"\"\n",
    "doc_count = cur.execute(command).fetchall()\n",
    "\n",
    "doc_count = doc_count[0][0]"
   ]
  },
  {
   "cell_type": "code",
   "execution_count": 941,
   "metadata": {
    "collapsed": false
   },
   "outputs": [],
   "source": [
    "#idf\n",
    "word_stats.loc[:,'idf'] = doc_count/df_all.df\n",
    "word_stats.loc[:,'idf'] = word_stats.idf.apply(np.log)"
   ]
  },
  {
   "cell_type": "code",
   "execution_count": 942,
   "metadata": {
    "collapsed": false
   },
   "outputs": [
    {
     "data": {
      "text/html": [
       "<div>\n",
       "<table border=\"1\" class=\"dataframe\">\n",
       "  <thead>\n",
       "    <tr style=\"text-align: right;\">\n",
       "      <th></th>\n",
       "      <th>word_str</th>\n",
       "      <th>ttf</th>\n",
       "      <th>trendiness</th>\n",
       "      <th>df</th>\n",
       "      <th>idf</th>\n",
       "    </tr>\n",
       "    <tr>\n",
       "      <th>word_id</th>\n",
       "      <th></th>\n",
       "      <th></th>\n",
       "      <th></th>\n",
       "      <th></th>\n",
       "      <th></th>\n",
       "    </tr>\n",
       "  </thead>\n",
       "  <tbody>\n",
       "    <tr>\n",
       "      <th>0</th>\n",
       "      <td>Relationship</td>\n",
       "      <td>5</td>\n",
       "      <td>2.549906e-16</td>\n",
       "      <td>5</td>\n",
       "      <td>9.397567</td>\n",
       "    </tr>\n",
       "    <tr>\n",
       "      <th>1</th>\n",
       "      <td>IGFBP7</td>\n",
       "      <td>22</td>\n",
       "      <td>4.015195e-07</td>\n",
       "      <td>5</td>\n",
       "      <td>9.397567</td>\n",
       "    </tr>\n",
       "    <tr>\n",
       "      <th>2</th>\n",
       "      <td>cross-layer</td>\n",
       "      <td>23</td>\n",
       "      <td>2.309019e-05</td>\n",
       "      <td>17</td>\n",
       "      <td>8.173791</td>\n",
       "    </tr>\n",
       "    <tr>\n",
       "      <th>3</th>\n",
       "      <td>instability</td>\n",
       "      <td>306</td>\n",
       "      <td>1.735031e-02</td>\n",
       "      <td>238</td>\n",
       "      <td>5.534734</td>\n",
       "    </tr>\n",
       "    <tr>\n",
       "      <th>4</th>\n",
       "      <td>prerequisite</td>\n",
       "      <td>129</td>\n",
       "      <td>8.000635e-05</td>\n",
       "      <td>129</td>\n",
       "      <td>6.147192</td>\n",
       "    </tr>\n",
       "  </tbody>\n",
       "</table>\n",
       "</div>"
      ],
      "text/plain": [
       "             word_str  ttf    trendiness   df       idf\n",
       "word_id                                                \n",
       "0        Relationship    5  2.549906e-16    5  9.397567\n",
       "1              IGFBP7   22  4.015195e-07    5  9.397567\n",
       "2         cross-layer   23  2.309019e-05   17  8.173791\n",
       "3         instability  306  1.735031e-02  238  5.534734\n",
       "4        prerequisite  129  8.000635e-05  129  6.147192"
      ]
     },
     "execution_count": 942,
     "metadata": {},
     "output_type": "execute_result"
    }
   ],
   "source": [
    "word_stats.head()"
   ]
  },
  {
   "cell_type": "code",
   "execution_count": 943,
   "metadata": {
    "collapsed": false
   },
   "outputs": [],
   "source": [
    "## write the stats to a db\n",
    "con2 = sql.connect(db_dir+\"word_stats.db\")\n",
    "word_stats.to_sql(\"word_stats\",con2,schema='''(\"word_id\" INTEGER PRIMARY KEY, \"word_str\" TEXT,\n",
    "  \"ttf\" INTEGER,\n",
    "  \"df\" INTEGER,\n",
    "  \"idf\" REAL)''')"
   ]
  },
  {
   "cell_type": "code",
   "execution_count": 944,
   "metadata": {
    "collapsed": true
   },
   "outputs": [],
   "source": [
    "con2.close()"
   ]
  },
  {
   "cell_type": "markdown",
   "metadata": {},
   "source": [
    "## That's all, folks!"
   ]
  }
 ],
 "metadata": {
  "kernelspec": {
   "display_name": "Python 3",
   "language": "python",
   "name": "python3"
  },
  "language_info": {
   "codemirror_mode": {
    "name": "ipython",
    "version": 3
   },
   "file_extension": ".py",
   "mimetype": "text/x-python",
   "name": "python",
   "nbconvert_exporter": "python",
   "pygments_lexer": "ipython3",
   "version": "3.5.1"
  }
 },
 "nbformat": 4,
 "nbformat_minor": 0
}
