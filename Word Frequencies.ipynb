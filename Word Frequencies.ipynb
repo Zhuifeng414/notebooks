{
 "cells": [
  {
   "cell_type": "code",
   "execution_count": 2,
   "metadata": {
    "collapsed": false
   },
   "outputs": [],
   "source": [
    "import sqlite3\n",
    "import pandas as pd\n",
    "\n",
    "sql1 = '''\n",
    "SELECT d.doc_label as year,\n",
    "       word_id,\n",
    "       word_str,\n",
    "       sum(word_count) as word_count\n",
    "  FROM docword w\n",
    "       JOIN\n",
    "       doc d USING (\n",
    "           doc_id\n",
    "       )\n",
    " GROUP BY doc_label,word_id'''\n",
    "\n",
    "sql2 = '''\n",
    "SELECT d.doc_label as year,\n",
    "       sum(word_count) as word_count\n",
    "  FROM docword w\n",
    "       JOIN\n",
    "       doc d USING (\n",
    "           doc_id\n",
    "       )\n",
    " GROUP BY doc_label'''\n",
    "\n",
    "db = sqlite3.connect('../battelle.db')\n",
    "DW = pd.read_sql_query(sql1,db)\n",
    "WCY = pd.read_sql_query(sql2,db) # Word counts per year"
   ]
  },
  {
   "cell_type": "code",
   "execution_count": 3,
   "metadata": {
    "collapsed": false
   },
   "outputs": [],
   "source": [
    "DW['word_count_adj'] = 0 # Add a new column and set a default value"
   ]
  },
  {
   "cell_type": "code",
   "execution_count": 4,
   "metadata": {
    "collapsed": false
   },
   "outputs": [],
   "source": [
    "for i, year in enumerate(WCY['year']):\n",
    "    wc = WCY[WCY['year'] == year]['word_count'][i]\n",
    "    DW.loc[DW['year'] == year,'word_count_adj'] = (DW.loc[DW['year'] == year,'word_count'] / wc) * 100"
   ]
  },
  {
   "cell_type": "code",
   "execution_count": 10,
   "metadata": {
    "collapsed": false
   },
   "outputs": [],
   "source": [
    "'''\n",
    "# Checking for years in which a word count does not exist (meaning = 0)\n",
    "x = 0\n",
    "max = 10000\n",
    "for i, year in enumerate(WCY['year']):\n",
    "    for word_str in DW['word_str']:\n",
    "        if DW.loc[(DW['year'] == year) & (DW['word_str'] == word_str)].empty:\n",
    "            print('No {} for {}'.format(word_str,year))\n",
    "        x = x + 1 \n",
    "        if x == max: break\n",
    "    if x == max: break\n",
    "'''"
   ]
  },
  {
   "cell_type": "code",
   "execution_count": 4,
   "metadata": {
    "collapsed": false
   },
   "outputs": [],
   "source": [
    "sql3 = '''\n",
    "SELECT word_str,\n",
    "       sum(word_count) AS n\n",
    "  FROM topicword_long\n",
    " GROUP BY word_str\n",
    " ORDER BY n DESC\n",
    " LIMIT 1000'''\n",
    "TW = pd.read_sql_query(sql3,db)\n",
    "words = [word for word in TW['word_str']]"
   ]
  },
  {
   "cell_type": "code",
   "execution_count": 8,
   "metadata": {
    "collapsed": false
   },
   "outputs": [
    {
     "name": "stdout",
     "output_type": "stream",
     "text": [
      "dna not found\n",
      "elsevier not found\n",
      "rna not found\n",
      "pcr not found\n",
      "ieee not found\n",
      "mirnas not found\n",
      "b.v not found\n",
      "mrna not found\n",
      "mir not found\n",
      "american not found\n",
      "mirna not found\n",
      "cdna not found\n",
      "hcc not found\n",
      "springer-verlag not found\n",
      "bsa not found\n",
      "degc not found\n",
      "rt-pcr not found\n",
      "g/l not found\n",
      "springer not found\n",
      "mg/l not found\n",
      "hsp not found\n",
      "kda not found\n",
      "snps not found\n",
      "wiley not found\n",
      "nps not found\n",
      "rnas not found\n"
     ]
    },
    {
     "name": "stderr",
     "output_type": "stream",
     "text": [
      "/Users/rca2t/anaconda/lib/python3.5/site-packages/matplotlib/pyplot.py:516: RuntimeWarning: More than 20 figures have been opened. Figures created through the pyplot interface (`matplotlib.pyplot.figure`) are retained until explicitly closed and may consume too much memory. (To control this warning, see the rcParam `figure.max_open_warning`).\n",
      "  max_open_warning, RuntimeWarning)\n"
     ]
    }
   ],
   "source": [
    "#%matplotlib inline\n",
    "import matplotlib\n",
    "import matplotlib.style\n",
    "matplotlib.style.use('ggplot')\n",
    "\n",
    "t = {}\n",
    "for word in words:\n",
    "    try:\n",
    "        t[word] += 1\n",
    "    except:\n",
    "        t[word] = 1\n",
    "        try:\n",
    "            ax = DW[['year','word_count_adj']][DW['word_str']==word].plot(x='year', kind='bar', legend=False,title=word)\n",
    "            fig = ax.get_figure()\n",
    "            fig.savefig('word-plots/{}.png'.format(word))\n",
    "            fig.clear()\n",
    "        except:\n",
    "            print(word,\"not found\")\n",
    "        "
   ]
  },
  {
   "cell_type": "code",
   "execution_count": null,
   "metadata": {
    "collapsed": true
   },
   "outputs": [],
   "source": []
  }
 ],
 "metadata": {
  "kernelspec": {
   "display_name": "Python 3",
   "language": "python",
   "name": "python3"
  },
  "language_info": {
   "codemirror_mode": {
    "name": "ipython",
    "version": 3
   },
   "file_extension": ".py",
   "mimetype": "text/x-python",
   "name": "python",
   "nbconvert_exporter": "python",
   "pygments_lexer": "ipython3",
   "version": "3.5.1"
  }
 },
 "nbformat": 4,
 "nbformat_minor": 0
}
