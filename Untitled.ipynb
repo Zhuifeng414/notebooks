{
 "cells": [
  {
   "cell_type": "code",
   "execution_count": 1,
   "metadata": {
    "collapsed": true
   },
   "outputs": [],
   "source": [
    "import numpy as np"
   ]
  },
  {
   "cell_type": "code",
   "execution_count": 2,
   "metadata": {
    "collapsed": false
   },
   "outputs": [
    {
     "data": {
      "text/plain": [
       "array([3, 1, 2])"
      ]
     },
     "execution_count": 2,
     "metadata": {},
     "output_type": "execute_result"
    }
   ],
   "source": [
    "np.roll([1,2,3],1)"
   ]
  },
  {
   "cell_type": "code",
   "execution_count": 3,
   "metadata": {
    "collapsed": true
   },
   "outputs": [],
   "source": [
    "v = [1,2,3]\n",
    "x = np.roll(v,1)"
   ]
  },
  {
   "cell_type": "code",
   "execution_count": 5,
   "metadata": {
    "collapsed": false
   },
   "outputs": [
    {
     "data": {
      "text/plain": [
       "array([1, 1])"
      ]
     },
     "execution_count": 5,
     "metadata": {},
     "output_type": "execute_result"
    }
   ],
   "source": [
    "(v-x)[1:]"
   ]
  },
  {
   "cell_type": "code",
   "execution_count": 6,
   "metadata": {
    "collapsed": true
   },
   "outputs": [],
   "source": [
    "def lags(v):\n",
    "    return (v-np.roll(v,1))[1:]"
   ]
  },
  {
   "cell_type": "code",
   "execution_count": 16,
   "metadata": {
    "collapsed": false
   },
   "outputs": [
    {
     "data": {
      "text/plain": [
       "(1, 3)"
      ]
     },
     "execution_count": 16,
     "metadata": {},
     "output_type": "execute_result"
    }
   ],
   "source": [
    "np.rollaxis(np.array([[1,2,3]]),1,1).shape"
   ]
  },
  {
   "cell_type": "code",
   "execution_count": 12,
   "metadata": {
    "collapsed": false
   },
   "outputs": [
    {
     "name": "stdout",
     "output_type": "stream",
     "text": [
      "Help on function rollaxis in module numpy.core.numeric:\n",
      "\n",
      "rollaxis(a, axis, start=0)\n",
      "    Roll the specified axis backwards, until it lies in a given position.\n",
      "    \n",
      "    Parameters\n",
      "    ----------\n",
      "    a : ndarray\n",
      "        Input array.\n",
      "    axis : int\n",
      "        The axis to roll backwards.  The positions of the other axes do not\n",
      "        change relative to one another.\n",
      "    start : int, optional\n",
      "        The axis is rolled until it lies before this position.  The default,\n",
      "        0, results in a \"complete\" roll.\n",
      "    \n",
      "    Returns\n",
      "    -------\n",
      "    res : ndarray\n",
      "        For Numpy >= 1.10 a view of `a` is always returned. For earlier\n",
      "        Numpy versions a view of `a` is returned only if the order of the\n",
      "        axes is changed, otherwise the input array is returned.\n",
      "    \n",
      "    See Also\n",
      "    --------\n",
      "    roll : Roll the elements of an array by a number of positions along a\n",
      "        given axis.\n",
      "    \n",
      "    Examples\n",
      "    --------\n",
      "    >>> a = np.ones((3,4,5,6))\n",
      "    >>> np.rollaxis(a, 3, 1).shape\n",
      "    (3, 6, 4, 5)\n",
      "    >>> np.rollaxis(a, 2).shape\n",
      "    (5, 3, 4, 6)\n",
      "    >>> np.rollaxis(a, 1, 4).shape\n",
      "    (3, 5, 6, 4)\n",
      "\n"
     ]
    }
   ],
   "source": [
    "help(np.rollaxis)"
   ]
  },
  {
   "cell_type": "code",
   "execution_count": null,
   "metadata": {
    "collapsed": true
   },
   "outputs": [],
   "source": []
  }
 ],
 "metadata": {
  "kernelspec": {
   "display_name": "Python 3",
   "language": "python",
   "name": "python3"
  },
  "language_info": {
   "codemirror_mode": {
    "name": "ipython",
    "version": 3
   },
   "file_extension": ".py",
   "mimetype": "text/x-python",
   "name": "python",
   "nbconvert_exporter": "python",
   "pygments_lexer": "ipython3",
   "version": "3.5.1"
  }
 },
 "nbformat": 4,
 "nbformat_minor": 0
}
