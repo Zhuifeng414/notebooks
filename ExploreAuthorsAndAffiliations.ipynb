{
 "cells": [
  {
   "cell_type": "code",
   "execution_count": 1,
   "metadata": {
    "collapsed": true
   },
   "outputs": [],
   "source": [
    "import pandas as pd\n",
    "import numpy as np\n",
    "import os\n",
    "import re\n",
    "import functools"
   ]
  },
  {
   "cell_type": "code",
   "execution_count": 2,
   "metadata": {
    "collapsed": true
   },
   "outputs": [],
   "source": [
    "pd.set_option('max_colwidth',250)\n",
    "pd.set_option('display.width',250)"
   ]
  },
  {
   "cell_type": "code",
   "execution_count": 3,
   "metadata": {
    "collapsed": false
   },
   "outputs": [
    {
     "data": {
      "text/plain": [
       "'/home/matt/Git/PGIP/sandbox'"
      ]
     },
     "execution_count": 3,
     "metadata": {},
     "output_type": "execute_result"
    }
   ],
   "source": [
    "os.getcwd()"
   ]
  },
  {
   "cell_type": "code",
   "execution_count": 4,
   "metadata": {
    "collapsed": true
   },
   "outputs": [],
   "source": [
    "os.chdir('..')\n",
    "os.chdir('src')"
   ]
  },
  {
   "cell_type": "code",
   "execution_count": 5,
   "metadata": {
    "collapsed": true
   },
   "outputs": [],
   "source": [
    "import pipeline as PGIP"
   ]
  },
  {
   "cell_type": "code",
   "execution_count": 6,
   "metadata": {
    "collapsed": true
   },
   "outputs": [],
   "source": [
    "os.chdir('..')"
   ]
  },
  {
   "cell_type": "code",
   "execution_count": 7,
   "metadata": {
    "collapsed": true
   },
   "outputs": [],
   "source": [
    "E = PGIP.Explorer('config/cache')"
   ]
  },
  {
   "cell_type": "code",
   "execution_count": 8,
   "metadata": {
    "collapsed": false
   },
   "outputs": [],
   "source": [
    "P = PGIP.Pipeline('config/cache')"
   ]
  },
  {
   "cell_type": "markdown",
   "metadata": {},
   "source": [
    "# Read sample Data"
   ]
  },
  {
   "cell_type": "code",
   "execution_count": 11,
   "metadata": {
    "collapsed": false
   },
   "outputs": [
    {
     "name": "stdout",
     "output_type": "stream",
     "text": [
      "Data files: ['ISI_CCC-proteomics.csv', 'ISI_CCC-transcriptomics.csv']\n",
      "column sample: ['PT' 'AU' 'AF' 'CA' 'TI' 'SO' 'SE' 'ED' 'LA' 'DT']\n",
      "column sample: ['PT' 'AU' 'AF' 'CA' 'TI' 'SO' 'SE' 'ED' 'LA' 'DT']\n",
      "Data files: ['EV-transcriptomics.xlsx', 'EV-proteomics.2013-2016.xlsx']\n",
      "column sample: ['Title' 'Accession number' 'Author' 'Author affiliation'\n",
      " 'Corresponding author' 'Source' 'Abbreviated source title' 'Sponsor'\n",
      " 'Publisher' 'Volume']\n",
      "column sample: ['Title' 'Accession number' 'Author' 'Author affiliation'\n",
      " 'Corresponding author' 'Source' 'Abbreviated source title' 'Sponsor'\n",
      " 'Publisher' 'Volume']\n",
      "Data files: ['Scopus-gene synthesis.xlsx', 'Scopus-synthetic gene.xlsx', 'Scopus-synthetic gene network.xlsx']\n",
      "column sample: ['Authors' 'Title' 'Year' 'Source title' 'Volume' 'Issue' 'Art. No.'\n",
      " 'Page start' 'Page end' 'Page count']\n",
      "column sample: ['Authors' 'Title' 'Year' 'Source title' 'Volume' 'Issue' 'Art. No.'\n",
      " 'Page start' 'Page end' 'Page count']\n",
      "column sample: ['Authors' 'Title' 'Year' 'Source title' 'Volume' 'Issue' 'Art. No.'\n",
      " 'Page start' 'Page end' 'Page count']\n",
      "Data files: ['IEEE-transcriptomics.csv', 'IEEE-proteomics.csv']\n",
      "column sample: ['Document Title' 'Authors' 'Author Affiliations' 'Publication Title'\n",
      " 'Date Added To Xplore' 'Year' 'Volume' 'Issue' 'Start Page' 'End Page']\n",
      "column sample: ['Document Title' 'Authors' 'Author Affiliations' 'Publication Title'\n",
      " 'Date Added To Xplore' 'Year' 'Volume' 'Issue' 'Start Page' 'End Page']\n",
      "Data files: ['ISI_Inspec-transcriptomics.csv', 'ISI_Inspec-proteomics.csv']\n",
      "column sample: ['PT' 'AN' 'DT' 'PN' 'PC' 'TI' 'AU' 'ED' 'TR' 'OP']\n",
      "column sample: ['PT' 'AN' 'DT' 'PN' 'PC' 'TI' 'AU' 'ED' 'TR' 'OP']\n",
      "Data files: ['ISI_WoS-transcriptomics1.csv', 'ISI_WoS-transcriptomics.csv']\n",
      "column sample: ['PT' 'AU' 'BA' 'BE' 'GP' 'AF' 'BF' 'CA' 'TI' 'SO']\n",
      "column sample: ['PT' 'AU' 'BA' 'BE' 'GP' 'AF' 'BF' 'CA' 'TI' 'SO']\n",
      "Data files: ['ISI_Medline-synthetic biology.csv', 'ISI_Medline-transcriptomics.csv']\n",
      "column sample: ['PT' 'AN' 'DT' 'TI' 'FT' 'AU' 'CA' 'SO' 'VL' 'IS']\n",
      "column sample: ['PT' 'AN' 'DT' 'TI' 'FT' 'AU' 'CA' 'SO' 'VL' 'IS']\n"
     ]
    }
   ],
   "source": [
    "E.readSampleData('sandbox')"
   ]
  },
  {
   "cell_type": "code",
   "execution_count": 12,
   "metadata": {
    "collapsed": true
   },
   "outputs": [],
   "source": [
    "E.renameColumns()"
   ]
  },
  {
   "cell_type": "code",
   "execution_count": 138,
   "metadata": {
    "collapsed": false
   },
   "outputs": [],
   "source": [
    "def parseAuthorAffiliationsEV(row):\n",
    "    aus = row.loc['Authors']\n",
    "    afs = row.loc['Affiliations']\n",
    "    aus = aus.split(';')\n",
    "    afs = afs.split(';')\n",
    "\n",
    "    inst = dict()\n",
    "    auth = dict()\n",
    "    df = pd.DataFrame(columns = ['Author','Institution'])\n",
    "    \n",
    "    for af in afs:\n",
    "        n = re.findall('\\([0-9]+\\)',af)[0]        \n",
    "        afClean = re.sub('\\([0-9]+\\)','',af).strip()\n",
    "\n",
    "        afClean = re.split('[,\\(\\)]',afClean)\n",
    "\n",
    "        remove = []\n",
    "        for string in afClean:\n",
    "            if len(string.strip()) < 8:\n",
    "                remove = remove + [string]\n",
    "                continue\n",
    "            if len(re.findall('[a-zA-Z]+',string)) < 2:\n",
    "                remove = remove + [string]\n",
    "                continue\n",
    "            if len(re.findall('[0-9]+',string)) > 0:\n",
    "                remove = remove + [string]\n",
    "                continue\n",
    "\n",
    "        afClean = [string for string in afClean if string not in remove]\n",
    "        inst[n] = afClean\n",
    "\n",
    "    for au in aus:\n",
    "        n = re.findall('\\([,0-9]+\\)',au)[0]\n",
    "        n = re.findall('[0-9]',n)\n",
    "        n = ['('+i+')' for i in n]\n",
    "        auClean = re.sub('\\([,0-9]+\\)','',au).strip()\n",
    "        \n",
    "        for i in n:\n",
    "            for ins in inst[i]:\n",
    "                df = pd.concat([df,pd.DataFrame({'Author':[auClean],'Institution':[ins]})])\n",
    "    \n",
    "    return df\n",
    "        "
   ]
  },
  {
   "cell_type": "code",
   "execution_count": 233,
   "metadata": {
    "collapsed": false
   },
   "outputs": [],
   "source": [
    "def getAbbrevs(data,column):\n",
    "    strings = data[column].values\n",
    "    abbrevs = []\n",
    "    for string in strings:\n",
    "        words = str(string).split()\n",
    "        for word in words:\n",
    "            if word.strip().endswith('.'):\n",
    "                abbrevs = abbrevs + [word]\n",
    "                \n",
    "    abbrevs = pd.Series(abbrevs).unique()\n",
    "    abbrevs = sorted(list(abbrevs))\n",
    "    return abbrevs"
   ]
  },
  {
   "cell_type": "code",
   "execution_count": 234,
   "metadata": {
    "collapsed": true
   },
   "outputs": [],
   "source": [
    "abbreviations = dict()"
   ]
  },
  {
   "cell_type": "code",
   "execution_count": 235,
   "metadata": {
    "collapsed": false
   },
   "outputs": [],
   "source": [
    "for column in ['Authors','Affiliations','PublicationTitle']:\n",
    "    abbreviations[column] = dict()\n",
    "    for source in E.sources:\n",
    "        s = E.data[source].data[[column]]\n",
    "        abbrevs = getAbbrevs(s,column)\n",
    "        abbreviations[column][source] = abbrevs "
   ]
  },
  {
   "cell_type": "code",
   "execution_count": 238,
   "metadata": {
    "collapsed": false
   },
   "outputs": [
    {
     "data": {
      "text/plain": [
       "{'EV': [],\n",
       " 'IEEE': [\"'09.\", '2009.'],\n",
       " 'ISI_CCC': [],\n",
       " 'ISI_Inspec': ['(BICOB-2013).',\n",
       "  '2012.',\n",
       "  '2013).',\n",
       "  '2013.',\n",
       "  '2014.',\n",
       "  'Applications.',\n",
       "  'Bioinformatics.',\n",
       "  'Biology.',\n",
       "  'Databases.',\n",
       "  'Engineering.',\n",
       "  'Intelligence.',\n",
       "  'Technology.',\n",
       "  'Theories.',\n",
       "  'TrAC.',\n",
       "  'World.'],\n",
       " 'ISI_Medline': ['University.', 'bao.', 'cancer.', 'journal.', 'physiology.'],\n",
       " 'ISI_WoS': [],\n",
       " 'Scopus': ['A.S.', 'G.']}"
      ]
     },
     "execution_count": 238,
     "metadata": {},
     "output_type": "execute_result"
    }
   ],
   "source": [
    "abbreviations['PublicationTitle']"
   ]
  },
  {
   "cell_type": "code",
   "execution_count": 237,
   "metadata": {
    "collapsed": false
   },
   "outputs": [],
   "source": [
    "import json\n",
    "os.getcwd()\n",
    "json.dump(abbreviations,open('config/cache/abbreviations.json','w'))"
   ]
  },
  {
   "cell_type": "code",
   "execution_count": 39,
   "metadata": {
    "collapsed": false
   },
   "outputs": [
    {
     "data": {
      "text/html": [
       "<div>\n",
       "<table border=\"1\" class=\"dataframe\">\n",
       "  <thead>\n",
       "    <tr style=\"text-align: right;\">\n",
       "      <th></th>\n",
       "      <th>Authors</th>\n",
       "      <th>Affiliations</th>\n",
       "      <th>AuthorsWithAffiliations</th>\n",
       "      <th>PublicationDate</th>\n",
       "    </tr>\n",
       "  </thead>\n",
       "  <tbody>\n",
       "    <tr>\n",
       "      <th>0</th>\n",
       "      <td>Yinghai Lv; Xiaolu Su; Fuli Ren; Hong-qiang Kan; Ying Kong</td>\n",
       "      <td>NaN</td>\n",
       "      <td>Yinghai Lv; Fuli Ren; Hong-qiang Kan; Coll. of Chem. &amp; Environ. Eng., Shandong Univ. of Sci. &amp; Technol., Qingdao, China.Xiaolu Su; Sch. of Med. Lab. Sci. &amp; Life Sci., WenZhou Med. Coll., Wenzhou, China.Ying Kong; State Key Lab. of Heavy Oil Proce...</td>\n",
       "      <td>Aug.</td>\n",
       "    </tr>\n",
       "    <tr>\n",
       "      <th>1</th>\n",
       "      <td>Yang Wang; Rui Gao; Pei-Pei Wang; Jia Jian; Xian-Li Jiang; Chao Yan; Xiao Lin; Li Wu; Guo-Qiang Chen; Qiong Wu</td>\n",
       "      <td>NaN</td>\n",
       "      <td>Yang Wang; Rui Gao; Pei-Pei Wang; Xian-Li Jiang; Chao Yan; Xiao Lin; Li Wu; Qiong Wu; Minist. of Educ. Key Lab. of Bioinf., Tsinghua Univ., Beijing, China.Jia Jian; Guo-Qiang Chen; Protein Sci. Lab. of the Minist. of Educ., Tsinghua Univ., Beijin...</td>\n",
       "      <td>Jan.</td>\n",
       "    </tr>\n",
       "    <tr>\n",
       "      <th>2</th>\n",
       "      <td>Dawei Deng; Dongyin Zhang; Yang Li; Achilefu, S.; Yueqing Gu</td>\n",
       "      <td>NaN</td>\n",
       "      <td>Dawei Deng; Dongyin Zhang; Yang Li; Yueqing Gu; Dept. of Biomed. Eng., China Pharm. Univ., Nanjing, China.Achilefu, S.; Dept. of Radiol., Washington Univ., St. Louis, MO, USA.</td>\n",
       "      <td>15 Nov.</td>\n",
       "    </tr>\n",
       "    <tr>\n",
       "      <th>3</th>\n",
       "      <td>Gehrmann, T.; Loog, M.; Reinders, M.J.T.; de Ridder, D.</td>\n",
       "      <td>NaN</td>\n",
       "      <td>Gehrmann, T.; Reinders, M.J.T.; de Ridder, D.; Delft Bioinf. Lab., Delft Univ. of Technol., Delft, Netherlands.Loog, M.; Pattern Recognition Lab., Delft Univ. of Technol., Delft, Netherlands.</td>\n",
       "      <td>2013</td>\n",
       "    </tr>\n",
       "    <tr>\n",
       "      <th>4</th>\n",
       "      <td>Li Wang; Yongqian Zhang; Hong Qing; Yajun Wang; Mei Zhang; Changgen Feng; Yulin Deng</td>\n",
       "      <td>NaN</td>\n",
       "      <td>Li Wang; Yajun Wang; Changgen Feng; Sch. of Mechatron. Eng., Beijing Inst. of Technol., Beijing, China.Yongqian Zhang; Hong Qing; Mei Zhang; Yulin Deng; Sch. of Life Sci., Beijing Inst. of Technol., Beijing, China.</td>\n",
       "      <td>2012</td>\n",
       "    </tr>\n",
       "    <tr>\n",
       "      <th>5</th>\n",
       "      <td>Junshan Yang; Zexuan Zhu; Shan He; Zhen Ji</td>\n",
       "      <td>NaN</td>\n",
       "      <td>Junshan Yang; Zexuan Zhu; Zhen Ji; Shenzhen City Key Lab. of Embedded Syst. Design Coll. of Comput. Sci. &amp; Software Eng., Shenzhen Univ., Shenzhen, China.Shan He; Sch. of Comput. Sci., Univ. of Birmingham, Birmingham, UK.</td>\n",
       "      <td>2013</td>\n",
       "    </tr>\n",
       "    <tr>\n",
       "      <th>6</th>\n",
       "      <td>Xiuquan Du; Jiaxing Cheng; Tingting Zheng; Zheng Duan; Fulan Qian</td>\n",
       "      <td>NaN</td>\n",
       "      <td>Xiuquan Du; Key Lab. of Intell. Comput. &amp; Signal Process. of Minist. of Educ., Anhui Univ., Hefei, China.Jiaxing Cheng; Inst. of Inf. Eng., Anhui Xinhua Univ., Hefei, China.Zheng Duan; Fulan Qian; Sch. of Comput. Sci. &amp; Technol., Anhui Univ., Hef...</td>\n",
       "      <td>July</td>\n",
       "    </tr>\n",
       "    <tr>\n",
       "      <th>7</th>\n",
       "      <td>Liang Qianjin; Wang Pengcheng; Bai Yanrong</td>\n",
       "      <td>NaN</td>\n",
       "      <td>Liang Qianjin; Wang Pengcheng; Bai Yanrong; Beijing Key Lab. of Gene Eng. Drugs &amp; Biol. Technol., Beijing Normal Univ., Beijing, China.</td>\n",
       "      <td>2012</td>\n",
       "    </tr>\n",
       "    <tr>\n",
       "      <th>8</th>\n",
       "      <td>Jia Meng; Xiaodong Cui; Hui Liu; Lin Zhang; Shaowu Zhang; Rao, M.K.; Yidong Chen; Yufei Huang</td>\n",
       "      <td>NaN</td>\n",
       "      <td>Jia Meng; Dept. of Biol. Sci., Xi'an Jiaotong-Liverpool Univ., Suzhou, China.Xiaodong Cui; Yufei Huang; Dept. of ECE, Univ. of Texas at San Antonio, San Antonio, TX, USA.Hui Liu; Lin Zhang; Sch. of Inf. &amp; Electr. Eng., China Univ. of Min. &amp; Techn...</td>\n",
       "      <td>2013</td>\n",
       "    </tr>\n",
       "    <tr>\n",
       "      <th>9</th>\n",
       "      <td>Zhi-Ping Liu; Jiguang Wang; Yu-Qing Qiu; Leung, R.K.K.; Xiang-Sun Zhang; Tsui, S.K.W.; Luonan Chen</td>\n",
       "      <td>NaN</td>\n",
       "      <td>Zhi-Ping Liu; Jiguang Wang; Luonan Chen; Key Lab. of Syst. Biol., Shanghai Inst. for Biol. Sci., Shanghai, China.Xiang-Sun Zhang; Nat. Center for Math. &amp; Interdiscipl. Sci., Beijing, China.Yu-Qing Qiu; Acad. of Math. &amp; Syst. Sci., Beijing, China....</td>\n",
       "      <td>2012</td>\n",
       "    </tr>\n",
       "  </tbody>\n",
       "</table>\n",
       "</div>"
      ],
      "text/plain": [
       "                                                                                                          Authors  Affiliations  \\\n",
       "0                                                      Yinghai Lv; Xiaolu Su; Fuli Ren; Hong-qiang Kan; Ying Kong           NaN   \n",
       "1  Yang Wang; Rui Gao; Pei-Pei Wang; Jia Jian; Xian-Li Jiang; Chao Yan; Xiao Lin; Li Wu; Guo-Qiang Chen; Qiong Wu           NaN   \n",
       "2                                                    Dawei Deng; Dongyin Zhang; Yang Li; Achilefu, S.; Yueqing Gu           NaN   \n",
       "3                                                         Gehrmann, T.; Loog, M.; Reinders, M.J.T.; de Ridder, D.           NaN   \n",
       "4                            Li Wang; Yongqian Zhang; Hong Qing; Yajun Wang; Mei Zhang; Changgen Feng; Yulin Deng           NaN   \n",
       "5                                                                      Junshan Yang; Zexuan Zhu; Shan He; Zhen Ji           NaN   \n",
       "6                                               Xiuquan Du; Jiaxing Cheng; Tingting Zheng; Zheng Duan; Fulan Qian           NaN   \n",
       "7                                                                      Liang Qianjin; Wang Pengcheng; Bai Yanrong           NaN   \n",
       "8                   Jia Meng; Xiaodong Cui; Hui Liu; Lin Zhang; Shaowu Zhang; Rao, M.K.; Yidong Chen; Yufei Huang           NaN   \n",
       "9              Zhi-Ping Liu; Jiguang Wang; Yu-Qing Qiu; Leung, R.K.K.; Xiang-Sun Zhang; Tsui, S.K.W.; Luonan Chen           NaN   \n",
       "\n",
       "                                                                                                                                                                                                                                     AuthorsWithAffiliations  \\\n",
       "0  Yinghai Lv; Fuli Ren; Hong-qiang Kan; Coll. of Chem. & Environ. Eng., Shandong Univ. of Sci. & Technol., Qingdao, China.Xiaolu Su; Sch. of Med. Lab. Sci. & Life Sci., WenZhou Med. Coll., Wenzhou, China.Ying Kong; State Key Lab. of Heavy Oil Proce...   \n",
       "1  Yang Wang; Rui Gao; Pei-Pei Wang; Xian-Li Jiang; Chao Yan; Xiao Lin; Li Wu; Qiong Wu; Minist. of Educ. Key Lab. of Bioinf., Tsinghua Univ., Beijing, China.Jia Jian; Guo-Qiang Chen; Protein Sci. Lab. of the Minist. of Educ., Tsinghua Univ., Beijin...   \n",
       "2                                                                            Dawei Deng; Dongyin Zhang; Yang Li; Yueqing Gu; Dept. of Biomed. Eng., China Pharm. Univ., Nanjing, China.Achilefu, S.; Dept. of Radiol., Washington Univ., St. Louis, MO, USA.   \n",
       "3                                                            Gehrmann, T.; Reinders, M.J.T.; de Ridder, D.; Delft Bioinf. Lab., Delft Univ. of Technol., Delft, Netherlands.Loog, M.; Pattern Recognition Lab., Delft Univ. of Technol., Delft, Netherlands.   \n",
       "4                                     Li Wang; Yajun Wang; Changgen Feng; Sch. of Mechatron. Eng., Beijing Inst. of Technol., Beijing, China.Yongqian Zhang; Hong Qing; Mei Zhang; Yulin Deng; Sch. of Life Sci., Beijing Inst. of Technol., Beijing, China.   \n",
       "5                              Junshan Yang; Zexuan Zhu; Zhen Ji; Shenzhen City Key Lab. of Embedded Syst. Design Coll. of Comput. Sci. & Software Eng., Shenzhen Univ., Shenzhen, China.Shan He; Sch. of Comput. Sci., Univ. of Birmingham, Birmingham, UK.   \n",
       "6  Xiuquan Du; Key Lab. of Intell. Comput. & Signal Process. of Minist. of Educ., Anhui Univ., Hefei, China.Jiaxing Cheng; Inst. of Inf. Eng., Anhui Xinhua Univ., Hefei, China.Zheng Duan; Fulan Qian; Sch. of Comput. Sci. & Technol., Anhui Univ., Hef...   \n",
       "7                                                                                                                    Liang Qianjin; Wang Pengcheng; Bai Yanrong; Beijing Key Lab. of Gene Eng. Drugs & Biol. Technol., Beijing Normal Univ., Beijing, China.   \n",
       "8  Jia Meng; Dept. of Biol. Sci., Xi'an Jiaotong-Liverpool Univ., Suzhou, China.Xiaodong Cui; Yufei Huang; Dept. of ECE, Univ. of Texas at San Antonio, San Antonio, TX, USA.Hui Liu; Lin Zhang; Sch. of Inf. & Electr. Eng., China Univ. of Min. & Techn...   \n",
       "9  Zhi-Ping Liu; Jiguang Wang; Luonan Chen; Key Lab. of Syst. Biol., Shanghai Inst. for Biol. Sci., Shanghai, China.Xiang-Sun Zhang; Nat. Center for Math. & Interdiscipl. Sci., Beijing, China.Yu-Qing Qiu; Acad. of Math. & Syst. Sci., Beijing, China....   \n",
       "\n",
       "  PublicationDate  \n",
       "0            Aug.  \n",
       "1            Jan.  \n",
       "2         15 Nov.  \n",
       "3            2013  \n",
       "4            2012  \n",
       "5            2013  \n",
       "6            July  \n",
       "7            2012  \n",
       "8            2013  \n",
       "9            2012  "
      ]
     },
     "execution_count": 39,
     "metadata": {},
     "output_type": "execute_result"
    }
   ],
   "source": [
    "source = 'ISI_Inspec'\n",
    "b = E.sampleColumns(source,['Authors','Affiliations','AuthorsWithAffiliations','PublicationDate'],10)\n",
    "b"
   ]
  },
  {
   "cell_type": "code",
   "execution_count": 40,
   "metadata": {
    "collapsed": false
   },
   "outputs": [],
   "source": [
    "b['Source'] = source"
   ]
  },
  {
   "cell_type": "code",
   "execution_count": 41,
   "metadata": {
    "collapsed": false
   },
   "outputs": [
    {
     "data": {
      "text/plain": [
       "[8, 1, 11, nan, nan, nan, 7, nan, nan, nan]"
      ]
     },
     "execution_count": 41,
     "metadata": {},
     "output_type": "execute_result"
    }
   ],
   "source": [
    "[P.adders.addMonth(b.loc[i,:]) for i in range(0,b.shape[0])]"
   ]
  },
  {
   "cell_type": "code",
   "execution_count": null,
   "metadata": {
    "collapsed": true
   },
   "outputs": [],
   "source": []
  },
  {
   "cell_type": "code",
   "execution_count": null,
   "metadata": {
    "collapsed": true
   },
   "outputs": [],
   "source": [
    "E.tryMap(P.cleaners.cleanPublicationDate,'PublicationDate','IEEE')"
   ]
  }
 ],
 "metadata": {
  "kernelspec": {
   "display_name": "Python 3",
   "language": "python",
   "name": "python3"
  },
  "language_info": {
   "codemirror_mode": {
    "name": "ipython",
    "version": 3
   },
   "file_extension": ".py",
   "mimetype": "text/x-python",
   "name": "python",
   "nbconvert_exporter": "python",
   "pygments_lexer": "ipython3",
   "version": "3.4.4"
  }
 },
 "nbformat": 4,
 "nbformat_minor": 0
}
