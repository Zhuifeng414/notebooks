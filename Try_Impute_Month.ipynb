{
 "cells": [
  {
   "cell_type": "code",
   "execution_count": 76,
   "metadata": {
    "collapsed": true
   },
   "outputs": [],
   "source": [
    "import pandas as pd\n",
    "from sklearn.linear_model import LinearRegression\n",
    "import statsmodels.formula.api as sm\n",
    "import os\n",
    "import numpy as np\n",
    "from functools import reduce\n",
    "import matplotlib as mpl\n",
    "%matplotlib inline"
   ]
  },
  {
   "cell_type": "code",
   "execution_count": null,
   "metadata": {
    "collapsed": true
   },
   "outputs": [],
   "source": [
    "pd.set_option('max_colwidth',250)\n",
    "pd.set_option('display.width',250)"
   ]
  },
  {
   "cell_type": "code",
   "execution_count": 12,
   "metadata": {
    "collapsed": false
   },
   "outputs": [
    {
     "data": {
      "text/plain": [
       "'/home/matt/Git/PGIP/src'"
      ]
     },
     "execution_count": 12,
     "metadata": {},
     "output_type": "execute_result"
    }
   ],
   "source": [
    "os.chdir('/home/matt/Git/PGIP/src')\n",
    "os.getcwd()"
   ]
  },
  {
   "cell_type": "code",
   "execution_count": null,
   "metadata": {
    "collapsed": true
   },
   "outputs": [],
   "source": [
    "import pipeline as PGIP\n",
    "os.chdir('..')\n",
    "E = PGIP.Explorer('config/cache')\n",
    "P = PGIP.Pipeline('config/cache')"
   ]
  },
  {
   "cell_type": "code",
   "execution_count": null,
   "metadata": {
    "collapsed": true
   },
   "outputs": [],
   "source": [
    "E.readSampleData('sandbox')\n",
    "E.renameColumns()"
   ]
  },
  {
   "cell_type": "code",
   "execution_count": 27,
   "metadata": {
    "collapsed": true
   },
   "outputs": [],
   "source": [
    "df = pd.DataFrame()\n",
    "for source in E.data:\n",
    "    data = E.data[source].data\n",
    "    data['Source'] = source\n",
    "    df = pd.concat([df,data])"
   ]
  },
  {
   "cell_type": "code",
   "execution_count": 28,
   "metadata": {
    "collapsed": false
   },
   "outputs": [
    {
     "data": {
      "text/plain": [
       "(2385, 33)"
      ]
     },
     "execution_count": 28,
     "metadata": {},
     "output_type": "execute_result"
    }
   ],
   "source": [
    "df.shape"
   ]
  },
  {
   "cell_type": "code",
   "execution_count": null,
   "metadata": {
    "collapsed": true
   },
   "outputs": [],
   "source": [
    "df['Month'] = df.apply(P.adders.addMonth,axis=1)"
   ]
  },
  {
   "cell_type": "code",
   "execution_count": 80,
   "metadata": {
    "collapsed": false
   },
   "outputs": [
    {
     "data": {
      "text/plain": [
       "995"
      ]
     },
     "execution_count": 80,
     "metadata": {},
     "output_type": "execute_result"
    }
   ],
   "source": [
    "df.Month.isnull().sum()"
   ]
  },
  {
   "cell_type": "code",
   "execution_count": 79,
   "metadata": {
    "collapsed": false
   },
   "outputs": [
    {
     "data": {
      "text/plain": [
       "0"
      ]
     },
     "execution_count": 79,
     "metadata": {},
     "output_type": "execute_result"
    }
   ],
   "source": [
    "df.Year.isnull().sum()"
   ]
  },
  {
   "cell_type": "code",
   "execution_count": null,
   "metadata": {
    "collapsed": true
   },
   "outputs": [],
   "source": [
    "df['TimeSlice'] = df.apply(P.adders.addTimeSlice,axis = 1)"
   ]
  },
  {
   "cell_type": "code",
   "execution_count": null,
   "metadata": {
    "collapsed": true
   },
   "outputs": [],
   "source": [
    "df.TimeSlice.isnull().sum()"
   ]
  },
  {
   "cell_type": "code",
   "execution_count": null,
   "metadata": {
    "collapsed": true
   },
   "outputs": [],
   "source": [
    "df.Issue = df.Issue.apply(P.cleaners.cleanIssue)"
   ]
  },
  {
   "cell_type": "code",
   "execution_count": 57,
   "metadata": {
    "collapsed": false
   },
   "outputs": [],
   "source": [
    "df.Volume = df.Volume.apply(P.cleaners.cleanVolume)"
   ]
  },
  {
   "cell_type": "code",
   "execution_count": 92,
   "metadata": {
    "collapsed": true
   },
   "outputs": [],
   "source": [
    "def pred(row,params,target):\n",
    "    \n",
    "    if pd.isnull(row[target]):\n",
    "        row.loc['Intercept'] = 1\n",
    "        row = row[params.index]\n",
    "        if any([pd.isnull(i) for i in row]):\n",
    "            return np.nan\n",
    "        \n",
    "        p = row*params\n",
    "        p = round(p.sum(),0)\n",
    "        \n",
    "        return int(p)\n",
    "        \n",
    "    else:\n",
    "        return row.loc[target]"
   ]
  },
  {
   "cell_type": "code",
   "execution_count": 105,
   "metadata": {
    "collapsed": false
   },
   "outputs": [
    {
     "name": "stdout",
     "output_type": "stream",
     "text": [
      "         AbbrPubTitle      PublicationTitle  Issue  Volume  Year  Month  TimeSlice\n",
      "2    Mar. Biotechnol.  Marine Biotechnology     30      17  2015      6        306\n",
      "41   Mar. Biotechnol.  Marine Biotechnology    NaN     NaN  2015      5        305\n",
      "44   Mar. Biotechnol.  Marine Biotechnology     20      17  2015    NaN        304\n",
      "106  Mar. Biotechnol.  Marine Biotechnology     10      16  2014    NaN        290\n",
      "137  Mar. Biotechnol.  Marine Biotechnology     20      15  2013    NaN        280\n",
      "159  Mar. Biotechnol.  Marine Biotechnology     60      14  2012    NaN        276\n",
      "168  Mar. Biotechnol.  Marine Biotechnology     10      14  2012      2        266\n",
      "184  Mar. Biotechnol.  Marine Biotechnology     60      15  2013     12        288\n",
      "187  Mar. Biotechnol.  Marine Biotechnology     20      15  2013    NaN        280\n",
      "189  Mar. Biotechnol.  Marine Biotechnology     30      15  2013    NaN        282\n",
      "235  Mar. Biotechnol.  Marine Biotechnology     30      11  2009      6        234\n",
      "239  Mar. Biotechnol.  Marine Biotechnology     20      13  2011      4        256\n",
      "600  Mar. Biotechnol.  Marine Biotechnology     10      16  2014    NaN        290\n",
      "688  Mar. Biotechnol.  Marine Biotechnology    NaN     NaN  2015      5        305\n",
      "\n",
      "    AbbrPubTitle PublicationTitle  Issue  Volume  Year  Month  TimeSlice\n",
      "5     Food Chem.   Food Chemistry    NaN     172  2015      4        304\n",
      "457   Food Chem.   Food Chemistry    NaN     151  2014      5        293\n",
      "570   Food Chem.   Food Chemistry    NaN     147  2014    NaN        287\n",
      "588   Food Chem.   Food Chemistry    NaN     172  2014      4        292\n",
      "608   Food Chem.   Food Chemistry    NaN     190  2016      6        318\n",
      "657   Food Chem.   Food Chemistry    NaN     176  2015      6        306\n",
      "658   Food Chem.   Food Chemistry    NaN     176  2015      6        306\n",
      "\n",
      "       AbbrPubTitle                 PublicationTitle  Issue  Volume  Year  Month  TimeSlice\n",
      "6    J. Biol. Chem.  Journal of Biological Chemistry    220     290  2015      5        305\n",
      "32   J. Biol. Chem.  Journal of Biological Chemistry    210     290  2015      5        305\n",
      "36   J. Biol. Chem.  Journal of Biological Chemistry     20     290  2015      1        301\n",
      "64   J. Biol. Chem.  Journal of Biological Chemistry    200     289  2014      5        293\n",
      "148  J. Biol. Chem.  Journal of Biological Chemistry     10     288  2013      1        277\n",
      "164  J. Biol. Chem.  Journal of Biological Chemistry    460     287  2012     11        275\n",
      "464  J. Biol. Chem.  Journal of Biological Chemistry    520     289  2014     12        300\n",
      "486  J. Biol. Chem.  Journal of Biological Chemistry     40     289  2014      1        289\n",
      "500  J. Biol. Chem.  Journal of Biological Chemistry     90     288  2013      3        279\n",
      "567  J. Biol. Chem.  Journal of Biological Chemistry    210     289  2014    NaN        293\n",
      "628  J. Biol. Chem.  Journal of Biological Chemistry    190     290  2015      5        305\n",
      "653  J. Biol. Chem.  Journal of Biological Chemistry    120     290  2015      3        303\n",
      "675  J. Biol. Chem.  Journal of Biological Chemistry    170     290  2015      4        304\n",
      "683  J. Biol. Chem.  Journal of Biological Chemistry    180     290  2015      5        305\n",
      "\n",
      "                        AbbrPubTitle                                 PublicationTitle  Issue  Volume  Year  Month  TimeSlice\n",
      "12   World J. Microbiol. Biotechnol.  World Journal of Microbiology and Biotechnology     30      31  2015    NaN        303\n",
      "54   World J. Microbiol. Biotechnol.  World Journal of Microbiology and Biotechnology     70      30  2014      6        294\n",
      "77   World J. Microbiol. Biotechnol.  World Journal of Microbiology and Biotechnology     10      30  2014      1        289\n",
      "115  World J. Microbiol. Biotechnol.  World Journal of Microbiology and Biotechnology     20      30  2014      2        290\n",
      "210  World J. Microbiol. Biotechnol.  World Journal of Microbiology and Biotechnology    100      27  2011     10        262\n",
      "401  World J. Microbiol. Biotechnol.  World Journal of Microbiology and Biotechnology     90      29  2013      9        285\n",
      "439  World J. Microbiol. Biotechnol.  World Journal of Microbiology and Biotechnology    110      30  2014     10        298\n",
      "538  World J. Microbiol. Biotechnol.  World Journal of Microbiology and Biotechnology     20      30  2014      2        290\n",
      "558  World J. Microbiol. Biotechnol.  World Journal of Microbiology and Biotechnology    120      30  2014    NaN        299\n",
      "575  World J. Microbiol. Biotechnol.  World Journal of Microbiology and Biotechnology    NaN     NaN  2014      8        296\n",
      "582  World J. Microbiol. Biotechnol.  World Journal of Microbiology and Biotechnology     60      30  2014      6        294\n",
      "691  World J. Microbiol. Biotechnol.  World Journal of Microbiology and Biotechnology    NaN     NaN  2015      2        302\n",
      "\n",
      "                     AbbrPubTitle                        PublicationTitle  Issue  Volume  Year  Month  TimeSlice\n",
      "13   Appl. Microbiol. Biotechnol.  Applied Microbiology and Biotechnology    NaN     NaN  2015      7        307\n",
      "68   Appl. Microbiol. Biotechnol.  Applied Microbiology and Biotechnology     10      98  2014    NaN        281\n",
      "72   Appl. Microbiol. Biotechnol.  Applied Microbiology and Biotechnology     20      99  2014    NaN        285\n",
      "81   Appl. Microbiol. Biotechnol.  Applied Microbiology and Biotechnology    230      98  2014     11        299\n",
      "84   Appl. Microbiol. Biotechnol.  Applied Microbiology and Biotechnology    120      98  2014      6        294\n",
      "100  Appl. Microbiol. Biotechnol.  Applied Microbiology and Biotechnology    210      98  2014    NaN        294\n",
      "101  Appl. Microbiol. Biotechnol.  Applied Microbiology and Biotechnology    220      98  2014    NaN        295\n",
      "104  Appl. Microbiol. Biotechnol.  Applied Microbiology and Biotechnology    120      98  2014      6        294\n",
      "107  Appl. Microbiol. Biotechnol.  Applied Microbiology and Biotechnology     30      99  2014    NaN        286\n",
      "117  Appl. Microbiol. Biotechnol.  Applied Microbiology and Biotechnology     10      95  2012      7        271\n",
      "142  Appl. Microbiol. Biotechnol.  Applied Microbiology and Biotechnology    110      97  2013      6        282\n",
      "176  Appl. Microbiol. Biotechnol.  Applied Microbiology and Biotechnology    180      97  2013      9        285\n",
      "180  Appl. Microbiol. Biotechnol.  Applied Microbiology and Biotechnology     40      96  2012     11        275\n",
      "192  Appl. Microbiol. Biotechnol.  Applied Microbiology and Biotechnology    150      97  2013      8        284\n",
      "205  Appl. Microbiol. Biotechnol.  Applied Microbiology and Biotechnology     60      83  2009      7        235\n",
      "211  Appl. Microbiol. Biotechnol.  Applied Microbiology and Biotechnology     10      87  2010      6        246\n",
      "227  Appl. Microbiol. Biotechnol.  Applied Microbiology and Biotechnology     40      85  2010      1        241\n",
      "233  Appl. Microbiol. Biotechnol.  Applied Microbiology and Biotechnology     60      86  2010      5        245\n",
      "238  Appl. Microbiol. Biotechnol.  Applied Microbiology and Biotechnology     10      91  2011      7        259\n",
      "240  Appl. Microbiol. Biotechnol.  Applied Microbiology and Biotechnology     60      92  2011     12        264\n",
      "308  Appl. Microbiol. Biotechnol.  Applied Microbiology and Biotechnology     80      97  2013      4        280\n",
      "389  Appl. Microbiol. Biotechnol.  Applied Microbiology and Biotechnology     20      97  2013      1        277\n",
      "395  Appl. Microbiol. Biotechnol.  Applied Microbiology and Biotechnology    180      97  2013      9        285\n",
      "458  Appl. Microbiol. Biotechnol.  Applied Microbiology and Biotechnology    230      98  2014     11        299\n",
      "465  Appl. Microbiol. Biotechnol.  Applied Microbiology and Biotechnology     20      99  2014    NaN        285\n",
      "494  Appl. Microbiol. Biotechnol.  Applied Microbiology and Biotechnology    140      97  2013      7        283\n",
      "495  Appl. Microbiol. Biotechnol.  Applied Microbiology and Biotechnology    190      97  2013    NaN        290\n",
      "501  Appl. Microbiol. Biotechnol.  Applied Microbiology and Biotechnology    130      97  2013      7        283\n",
      "504  Appl. Microbiol. Biotechnol.  Applied Microbiology and Biotechnology     20      97  2013      1        277\n",
      "524  Appl. Microbiol. Biotechnol.  Applied Microbiology and Biotechnology     50      98  2014      3        291\n",
      "554  Appl. Microbiol. Biotechnol.  Applied Microbiology and Biotechnology     30      99  2014    NaN        286\n",
      "587  Appl. Microbiol. Biotechnol.  Applied Microbiology and Biotechnology     20      99  2014    NaN        285\n",
      "606  Appl. Microbiol. Biotechnol.  Applied Microbiology and Biotechnology    190      98  2014    NaN        293\n",
      "682  Appl. Microbiol. Biotechnol.  Applied Microbiology and Biotechnology    NaN     NaN  2015      7        307\n",
      "\n",
      "       AbbrPubTitle          PublicationTitle  Issue  Volume  Year  Month  TimeSlice\n",
      "16   J. Biotechnol.  Journal of Biotechnology    NaN     198  2015      3        303\n",
      "67   J. Biotechnol.  Journal of Biotechnology    NaN     184  2014      8        296\n",
      "70   J. Biotechnol.  Journal of Biotechnology    NaN     184  2014      8        296\n",
      "99   J. Biotechnol.  Journal of Biotechnology    NaN     187  2014     10        298\n",
      "112  J. Biotechnol.  Journal of Biotechnology    NaN     189  2014     11        299\n",
      "130  J. Biotechnol.  Journal of Biotechnology     10     168  2013    NaN        286\n",
      "149  J. Biotechnol.  Journal of Biotechnology     30     166  2013      7        283\n",
      "203  J. Biotechnol.  Journal of Biotechnology     40     148  2010      8        248\n",
      "225  J. Biotechnol.  Journal of Biotechnology     30     135  2008      6        222\n",
      "\n",
      "                  AbbrPubTitle                        PublicationTitle  Issue  Volume  Year  Month  TimeSlice\n",
      "18   Appl. Environ. Microbiol.  Applied and Environmental Microbiology     30      81  2015    NaN        302\n",
      "40   Appl. Environ. Microbiol.  Applied and Environmental Microbiology     70      81  2015    NaN        304\n",
      "91   Appl. Environ. Microbiol.  Applied and Environmental Microbiology    170      80  2014      9        297\n",
      "95   Appl. Environ. Microbiol.  Applied and Environmental Microbiology     30      80  2014      2        290\n",
      "146  Appl. Environ. Microbiol.  Applied and Environmental Microbiology     90      79  2013      5        281\n",
      "171  Appl. Environ. Microbiol.  Applied and Environmental Microbiology     40      78  2012      2        266\n",
      "253  Appl. Environ. Microbiol.  Applied and Environmental Microbiology     10      72  2006      1        193\n",
      "258  Appl. Environ. Microbiol.  Applied and Environmental Microbiology     10      72  2006      1        193\n",
      "480  Appl. Environ. Microbiol.  Applied and Environmental Microbiology    130      80  2014    NaN        295\n",
      "492  Appl. Environ. Microbiol.  Applied and Environmental Microbiology     10      79  2013      1        277\n",
      "591  Appl. Environ. Microbiol.  Applied and Environmental Microbiology     90      80  2014      5        293\n",
      "620  Appl. Environ. Microbiol.  Applied and Environmental Microbiology     10      81  2015    NaN        301\n",
      "\n",
      "         AbbrPubTitle        PublicationTitle  Issue  Volume  Year  Month  TimeSlice\n",
      "128  Biotechnol. Adv.  Biotechnology Advances     60      31  2013     11        287\n",
      "151  Biotechnol. Adv.  Biotechnology Advances     20      31  2013      3        279\n",
      "163  Biotechnol. Adv.  Biotechnology Advances     80      31  2013     12        288\n",
      "397  Biotechnol. Adv.  Biotechnology Advances     80      31  2013     12        288\n",
      "459  Biotechnol. Adv.  Biotechnology Advances     60      32  2014    NaN        295\n",
      "507  Biotechnol. Adv.  Biotechnology Advances     60      31  2013     11        287\n",
      "\n",
      "            AbbrPubTitle                  PublicationTitle  Issue  Volume  Year  Month  TimeSlice\n",
      "154  Theor. Appl. Genet.  Theoretical and Applied Genetics     50     124  2012    NaN        267\n",
      "173  Theor. Appl. Genet.  Theoretical and Applied Genetics     50     126  2013    NaN        280\n",
      "182  Theor. Appl. Genet.  Theoretical and Applied Genetics     60     125  2012     10        274\n",
      "186  Theor. Appl. Genet.  Theoretical and Applied Genetics     30     124  2012    NaN        266\n",
      "209  Theor. Appl. Genet.  Theoretical and Applied Genetics     10     119  2009      6        234\n",
      "213  Theor. Appl. Genet.  Theoretical and Applied Genetics     30     123  2011      8        260\n",
      "\n",
      "          AbbrPubTitle           PublicationTitle  Issue  Volume  Year  Month  TimeSlice\n",
      "237  Mass Spectrom Rev  Mass Spectrometry Reviews     60      27  2008     11        227\n",
      "289  Mass Spectrom Rev  Mass Spectrometry Reviews     40      32  2013      7        283\n",
      "306  Mass Spectrom Rev  Mass Spectrometry Reviews     50      32  2013      9        285\n",
      "487  Mass Spectrom Rev  Mass Spectrometry Reviews    NaN     NaN  2014    NaN        NaN\n",
      "552  Mass Spectrom Rev  Mass Spectrometry Reviews    NaN     NaN  2014    NaN        NaN\n",
      "\n",
      "     AbbrPubTitle               PublicationTitle  Issue  Volume  Year  Month  TimeSlice\n",
      "276  J. Sep. Sci.  Journal of Separation Science    130      36  2013      7        283\n",
      "281  J. Sep. Sci.  Journal of Separation Science    180      36  2013      9        285\n",
      "505  J. Sep. Sci.  Journal of Separation Science     30      36  2013      2        278\n",
      "603  J. Sep. Sci.  Journal of Separation Science    120      37  2014    NaN        294\n",
      "702  J. Sep. Sci.  Journal of Separation Science    220      37  2014     11        299\n",
      "\n",
      "         AbbrPubTitle        PublicationTitle  Issue  Volume  Year  Month  TimeSlice\n",
      "301  Anal. Chim. Acta  Analytica Chimica Acta    NaN     774  2013      4        280\n",
      "317  Anal. Chim. Acta  Analytica Chimica Acta    NaN     788  2013      7        283\n",
      "421  Anal. Chim. Acta  Analytica Chimica Acta    NaN     829  2014      6        294\n",
      "517  Anal. Chim. Acta  Analytica Chimica Acta    NaN     852  2014     12        300\n",
      "536  Anal. Chim. Acta  Analytica Chimica Acta     10     826  2014    NaN        293\n",
      "541  Anal. Chim. Acta  Analytica Chimica Acta     10     834  2014    NaN        295\n",
      "586  Anal. Chim. Acta  Analytica Chimica Acta    NaN     834  2014    NaN        295\n",
      "607  Anal. Chim. Acta  Analytica Chimica Acta    NaN     826  2014    NaN        293\n",
      "624  Anal. Chim. Acta  Analytica Chimica Acta    NaN     871  2015      4        304\n",
      "647  Anal. Chim. Acta  Analytica Chimica Acta     10     863  2015    NaN        302\n",
      "674  Anal. Chim. Acta  Analytica Chimica Acta    NaN     880  2015      6        306\n",
      "\n",
      "             AbbrPubTitle                        PublicationTitle  Issue  Volume  Year  Month  TimeSlice\n",
      "316  Anal. Bioanal. Chem.  Analytical and Bioanalytical Chemistry     10     406  2013      1        277\n",
      "356  Anal. Bioanal. Chem.  Analytical and Bioanalytical Chemistry    160     405  2013      6        282\n",
      "406  Anal. Bioanal. Chem.  Analytical and Bioanalytical Chemistry    170     405  2013      7        283\n",
      "409  Anal. Bioanal. Chem.  Analytical and Bioanalytical Chemistry     30     407  2014     10        298\n",
      "530  Anal. Bioanal. Chem.  Analytical and Bioanalytical Chemistry    130     406  2014      5        293\n",
      "542  Anal. Bioanal. Chem.  Analytical and Bioanalytical Chemistry    250     406  2014    NaN        306\n",
      "566  Anal. Bioanal. Chem.  Analytical and Bioanalytical Chemistry    170     406  2014      7        295\n",
      "577  Anal. Bioanal. Chem.  Analytical and Bioanalytical Chemistry    170     406  2014      7        295\n",
      "684  Anal. Bioanal. Chem.  Analytical and Bioanalytical Chemistry     70     407  2015      2        302\n",
      "\n",
      "          AbbrPubTitle                          PublicationTitle  Issue  Volume  Year  Month  TimeSlice\n",
      "405  J. Am. Chem. Soc.  Journal of the American Chemical Society    190     135  2013      5        281\n",
      "508  J. Am. Chem. Soc.  Journal of the American Chemical Society    340     136  2014    NaN        301\n",
      "511  J. Am. Chem. Soc.  Journal of the American Chemical Society     90     136  2014      3        291\n",
      "543  J. Am. Chem. Soc.  Journal of the American Chemical Society    340     136  2014      8        296\n",
      "602  J. Am. Chem. Soc.  Journal of the American Chemical Society     80     136  2014      2        290\n",
      "656  J. Am. Chem. Soc.  Journal of the American Chemical Society    500     136  2015     12        312\n",
      "\n"
     ]
    }
   ],
   "source": [
    "codens = df.CODEN.unique()\n",
    "confidenceThreshold = .6\n",
    "\n",
    "\n",
    "for code in codens:    \n",
    "    a = df.loc[df.CODEN == code,['AbbrPubTitle','PublicationTitle','Issue','Volume','Year','Month','TimeSlice']]\n",
    "    abbrevs = a.AbbrPubTitle.unique()\n",
    "    titles = a.PublicationTitle.unique()\n",
    "    \n",
    "    if len(abbrevs) > 1:\n",
    "        df.loc[df.AbbrPubTitle.isin(abbrevs) | df.PublicationTitle.isin(titles),'CODEN'] = code\n",
    "        a = df.loc[df.CODEN == code,['AbbrPubTitle','Issue','Volume','Year','Month','TimeSlice','Source']]\n",
    "    if a.shape[0] < 2:\n",
    "        continue\n",
    "        \n",
    "    count = a.TimeSlice.isnull().sum()\n",
    "    #print(count)\n",
    "    if count == 0:\n",
    "        continue\n",
    "    \n",
    "    if (a.Issue.notnull() & a.Volume.notnull() & a.TimeSlice.notnull()).sum() >= 3:\n",
    "        imputable = (a.Issue.notnull() & a.Volume.notnull() & a.TimeSlice.isnull()).sum()\n",
    "        if imputable > 0:\n",
    "            result = sm.ols(formula=\"TimeSlice ~ Volume + Issue\", data=a).fit()\n",
    "            target = 'TimeSlice'\n",
    "    elif (a.Issue.notnull() & a.Month.notnull()).sum() >= 2:\n",
    "        imputable = (a.Issue.notnull() & a.Month.isnull()).sum()\n",
    "        if imputable > 0:\n",
    "            result = sm.ols(formula=\"Month ~ Issue\", data=a).fit()\n",
    "            target = 'Month'\n",
    "    elif (a.Volume.notnull() & a.TimeSlice.notnull()).sum() >= 2:\n",
    "        imputable = (a.Volume.notnull() & a.TimeSlice.isnull()).sum()\n",
    "        if imputable > 0:\n",
    "            result = sm.ols(formula=\"TimeSlice ~ Volume\", data=a).fit()\n",
    "            target = 'TimeSlice'\n",
    "    else:\n",
    "        continue\n",
    "    \n",
    "    if result.rsquared > confidenceThreshold:\n",
    "        p = a.apply(pred,axis =1,**{'params':result.params,'target':target})\n",
    "        a.loc[:,target] = p\n",
    "        print(a)\n",
    "        if target == 'Month':\n",
    "            a.loc[:,'TimeSlice'] = a.apply(lambda row: 12*(row.loc['Year'] - 1990) + row.loc['Month'])\n",
    "        "
   ]
  },
  {
   "cell_type": "code",
   "execution_count": 103,
   "metadata": {
    "collapsed": false
   },
   "outputs": [
    {
     "data": {
      "text/plain": [
       "Int64Index([2, 41, 44, 106, 137, 159, 168, 184, 187, 189, 235, 239, 600, 688], dtype='int64')"
      ]
     },
     "execution_count": 103,
     "metadata": {},
     "output_type": "execute_result"
    }
   ],
   "source": [
    "a."
   ]
  },
  {
   "cell_type": "code",
   "execution_count": 69,
   "metadata": {
    "collapsed": false
   },
   "outputs": [
    {
     "data": {
      "text/plain": [
       "Index(['Intercept', 'Volume', 'Issue'], dtype='object')"
      ]
     },
     "execution_count": 69,
     "metadata": {},
     "output_type": "execute_result"
    }
   ],
   "source": [
    "result.params.index"
   ]
  },
  {
   "cell_type": "code",
   "execution_count": 39,
   "metadata": {
    "collapsed": false
   },
   "outputs": [
    {
     "ename": "IndentationError",
     "evalue": "unexpected indent (<ipython-input-39-b35025a86a67>, line 3)",
     "output_type": "error",
     "traceback": [
      "\u001b[1;36m  File \u001b[1;32m\"<ipython-input-39-b35025a86a67>\"\u001b[1;36m, line \u001b[1;32m3\u001b[0m\n\u001b[1;33m    if (a.Issue.notnull() & a.Volume.notnull() & a.month.notnull()).sum() >= 3:\u001b[0m\n\u001b[1;37m    ^\u001b[0m\n\u001b[1;31mIndentationError\u001b[0m\u001b[1;31m:\u001b[0m unexpected indent\n"
     ]
    }
   ],
   "source": [
    "\n",
    "    #print(a)\n",
    "    if (a.Issue.notnull() & a.Volume.notnull() & a.month.notnull()).sum() >= 3:\n",
    "        if (a.Issue.notnull() & a.Volume.notnull() & a.month.isnull()).sum() > 0:\n",
    "            result = LinearRegression()\n",
    "            #print(a)\n",
    "            #result.fit(a.loc[a.Issue.notnull() & a.Volume.notnull() & a.month.isnull(),['Issue','Volume']],a.loc[a.Issue.notnull() & a.Volume.notnull() & a.month.isnull(),'month'])\n",
    "            print('sad')\n",
    "            #a.loc[:,'month'] = result.predict()\n",
    "            #print(result.predict(a.loc[(a.Issue.notnull() & a.Volume.notnull() & a.Month.isnull()),:]))\n",
    "    elif (a.Issue.notnull() & a.Month.notnull()).sum() >= 2:\n",
    "        if (a.Issue.notnull() & a.Month.isnull()).sum() > 0:\n",
    "            #result = sm.ols(formula=\"Month ~ Issue\", data=a).fit()\n",
    "            print('soup')\n",
    "            print(result.rsquared)\n",
    "            a.loc[:,['Month']] = a.apply(pred,(result.params,'Month'))\n",
    "    elif (a.Volume.notnull() & a.month.notnull()).sum() >= 2:\n",
    "        if (a.Volume.notnull() & a.month.isnull()).sum() > 0:\n",
    "            #result = sm.ols(formula=\"month ~ Volume\", data=a).fit()\n",
    "            print('laf')\n",
    "            print(result.rsquared)\n",
    "            #a.loc[:,'month'] = result.predict()\n",
    "    else:\n",
    "        continue"
   ]
  },
  {
   "cell_type": "code",
   "execution_count": 73,
   "metadata": {
    "collapsed": false
   },
   "outputs": [
    {
     "data": {
      "text/plain": [
       "True"
      ]
     },
     "execution_count": 73,
     "metadata": {},
     "output_type": "execute_result"
    }
   ],
   "source": []
  },
  {
   "cell_type": "code",
   "execution_count": 109,
   "metadata": {
    "collapsed": false
   },
   "outputs": [],
   "source": [
    "def imputeCODEN(connection,table,recordID=None):\n",
    "    if not recordID:\n",
    "        recordID = 'ROWID'\n",
    "    columns = [recordID,'CODEN','AbbrPubTitle','PublicationTitle']\n",
    "    columnString = ', '.join(columns)\n",
    "\n",
    "    codens = connection.execute('SELECT DISTINCT CODEN FROM {0}'.format(table)).fetchall()\n",
    "    codens = list(next(zip(*codens)))\n",
    "    \n",
    "    for code in codens:\n",
    "        \n",
    "        command = 'SELECT {0} FROM {1} WHERE CODEN = \"{3}\"'.format(columnString,table,code)\n",
    "        df = connection.execute(command).fetchall()\n",
    "        df = pd.DataFrame(df,columns = columns)\n",
    "        \n",
    "        abbrevs = list(df.AbbrPubTitle.unique())\n",
    "        titles = list(df.PublicationTitle.unique())\n",
    "\n",
    "        if len(abbrevs) > 1 or len(titles) > 1:\n",
    "            # Update the db\n",
    "            abbrString = '\"' + '\",\"'.join(abbrevs) + '\"'\n",
    "            titleString = '\"' + '\", \"'.join(titles) + '\"'\n",
    "            \n",
    "            command = ('UPDATE {0} SET CODEN = \"{1}\" ' +\n",
    "                      'WHERE AbbrPubTitle IN ({2}) ' +\n",
    "                      'OR PublicationTitle IN ({3})').format(table,code,abbrString,titleString)\n",
    "            \n",
    "            mem.execute(command)\n",
    "        \n",
    "\n",
    "def imputeTimeSlice(connection,table,recordID=None,confidenceThreshold = .6):\n",
    "    if not recordID:\n",
    "        recordID = 'ROWID'\n",
    "    columns = [recordID,'Issue','Volume','Year','Month','TimeSlice']\n",
    "    columnString = ', '.join(columns)\n",
    "        \n",
    "    codens = connection.execute('SELECT DISTINCT CODEN FROM {0}'.format(table)).fetchall()\n",
    "    codens = list(next(zip(*codens)))\n",
    "    \n",
    "    for code in codens:\n",
    "        command = 'SELECT {0} FROM {1} WHERE CODEN = \"{3}\"'.format(columnString,table,code)\n",
    "        df = connection.execute(command).fetchall()\n",
    "        df = pd.DataFrame(df,columns = columns) \n",
    "\n",
    "        if df.Timeslice.isnull().sum() == 0 or df.shape[0] < 2:\n",
    "            continue     \n",
    "        \n",
    "        df = imputeTimeSliceSample(df)\n",
    "        df = df[df.imputed,[recordID,'Month','TimeSlice']]\n",
    "        df = df.setindex(recordID)\n",
    "        \n",
    "        for i in df.index:\n",
    "            command = ('UPDATE {0} SET Month = {1}, TimeSlice = {2} ' + \n",
    "                      'WHERE {3} = {4}').format(table,df.loc[i,'Month'],df.loc[i,'TimeSlice'],recordID = i)\n",
    "            connection.execute(command)\n",
    "            \n",
    "        \n",
    "\n",
    "\n",
    "def imputeTimeSliceSample(dataframe):\n",
    "        a = dataframe\n",
    "        a.loc[:,'imputed'] = False\n",
    "        initial = a.loc[:,'TimeSlice']\n",
    "        \n",
    "        if a.shape[0] < 2:\n",
    "            return a\n",
    "            \n",
    "        if (a.Issue.notnull() & a.Volume.notnull() & a.TimeSlice.notnull()).sum() >= 3:\n",
    "            imputable = (a.Issue.notnull() & a.Volume.notnull() & a.TimeSlice.isnull()).sum()\n",
    "            if imputable > 0:\n",
    "                result = sm.ols(formula=\"TimeSlice ~ Volume + Issue\", data=a).fit()\n",
    "                target = 'TimeSlice'\n",
    "        elif (a.Issue.notnull() & a.Month.notnull()).sum() >= 2:\n",
    "            imputable = (a.Issue.notnull() & a.Month.isnull()).sum()\n",
    "            if imputable > 0:\n",
    "                result = sm.ols(formula=\"Month ~ Issue\", data=a).fit()\n",
    "                target = 'Month'\n",
    "        elif (a.Volume.notnull() & a.TimeSlice.notnull()).sum() >= 2:\n",
    "            imputable = (a.Volume.notnull() & a.TimeSlice.isnull()).sum()\n",
    "            if imputable > 0:\n",
    "                result = sm.ols(formula=\"TimeSlice ~ Volume\", data=a).fit()\n",
    "                target = 'TimeSlice'\n",
    "        else:\n",
    "            return a\n",
    "        \n",
    "        if result.rsquared > confidenceThreshold:\n",
    "            p = a.apply(pred,axis =1,**{'params':result.params,'target':target})\n",
    "            a.loc[:,target] = p\n",
    "            print(a)\n",
    "            if target == 'Month':\n",
    "                a.loc[:,'TimeSlice'] = a.apply(lambda row: 12*(row.loc['Year'] - 1990) + row.loc['Month'])\n",
    "            \n",
    "            a.loc[:,'imputed'] = a.TimeSlice != initial\n",
    "        \n",
    "        return imputed\n",
    "            "
   ]
  },
  {
   "cell_type": "code",
   "execution_count": 110,
   "metadata": {
    "collapsed": false
   },
   "outputs": [
    {
     "data": {
      "text/plain": [
       "'/home/matt/Git/PGIP'"
      ]
     },
     "execution_count": 110,
     "metadata": {},
     "output_type": "execute_result"
    }
   ],
   "source": [
    "os.getcwd()"
   ]
  },
  {
   "cell_type": "code",
   "execution_count": 111,
   "metadata": {
    "collapsed": false
   },
   "outputs": [
    {
     "ename": "NameError",
     "evalue": "name 'alchemy' is not defined",
     "output_type": "error",
     "traceback": [
      "\u001b[1;31m---------------------------------------------------------------------------\u001b[0m",
      "\u001b[1;31mNameError\u001b[0m                                 Traceback (most recent call last)",
      "\u001b[1;32m<ipython-input-111-9faa0900609e>\u001b[0m in \u001b[0;36m<module>\u001b[1;34m()\u001b[0m\n\u001b[1;32m----> 1\u001b[1;33m \u001b[0mc\u001b[0m \u001b[1;33m=\u001b[0m \u001b[0malchemy\u001b[0m\u001b[1;33m.\u001b[0m\u001b[0mcreate_engine\u001b[0m\u001b[1;33m(\u001b[0m\u001b[1;34m'sqlite3:////database/main.db'\u001b[0m\u001b[1;33m)\u001b[0m\u001b[1;33m\u001b[0m\u001b[0m\n\u001b[0m",
      "\u001b[1;31mNameError\u001b[0m: name 'alchemy' is not defined"
     ]
    }
   ],
   "source": [
    "c = alchemy.create_engine('sqlite3:////database/main.db')"
   ]
  },
  {
   "cell_type": "code",
   "execution_count": null,
   "metadata": {
    "collapsed": true
   },
   "outputs": [],
   "source": []
  }
 ],
 "metadata": {
  "kernelspec": {
   "display_name": "Python 3",
   "language": "python",
   "name": "python3"
  },
  "language_info": {
   "codemirror_mode": {
    "name": "ipython",
    "version": 3
   },
   "file_extension": ".py",
   "mimetype": "text/x-python",
   "name": "python",
   "nbconvert_exporter": "python",
   "pygments_lexer": "ipython3",
   "version": "3.4.4"
  }
 },
 "nbformat": 4,
 "nbformat_minor": 0
}
