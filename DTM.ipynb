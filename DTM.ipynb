{
 "cells": [
  {
   "cell_type": "code",
   "execution_count": 66,
   "metadata": {
    "collapsed": true
   },
   "outputs": [],
   "source": [
    "import os\n",
    "import sqlite3 as sql\n",
    "import pandas as pd\n",
    "import json\n",
    "from sys import argv\n",
    "import argparse"
   ]
  },
  {
   "cell_type": "code",
   "execution_count": 99,
   "metadata": {
    "collapsed": false
   },
   "outputs": [],
   "source": [
    "pipeline = importlib.import_module('pipeline')"
   ]
  },
  {
   "cell_type": "code",
   "execution_count": 104,
   "metadata": {
    "collapsed": false
   },
   "outputs": [
    {
     "ename": "TypeError",
     "evalue": "'module' object is not subscriptable",
     "output_type": "error",
     "traceback": [
      "\u001b[1;31m---------------------------------------------------------------------------\u001b[0m",
      "\u001b[1;31mTypeError\u001b[0m                                 Traceback (most recent call last)",
      "\u001b[1;32m<ipython-input-104-4b4556311364>\u001b[0m in \u001b[0;36m<module>\u001b[1;34m()\u001b[0m\n\u001b[0;32m      1\u001b[0m \u001b[0mos\u001b[0m\u001b[1;33m.\u001b[0m\u001b[0mpath\u001b[0m\u001b[1;33m.\u001b[0m\u001b[0mbasename\u001b[0m\u001b[1;33m(\u001b[0m\u001b[1;34m'asdf.asd'\u001b[0m\u001b[1;33m)\u001b[0m\u001b[1;33m\u001b[0m\u001b[0m\n\u001b[1;32m----> 2\u001b[1;33m \u001b[0mpipeline\u001b[0m\u001b[1;33m[\u001b[0m\u001b[1;34m'Pipeline'\u001b[0m\u001b[1;33m]\u001b[0m\u001b[1;33m\u001b[0m\u001b[0m\n\u001b[0m",
      "\u001b[1;31mTypeError\u001b[0m: 'module' object is not subscriptable"
     ]
    }
   ],
   "source": [
    "os.path.basename('asdf.asd')\n",
    "pipeline['Pipeline']"
   ]
  },
  {
   "cell_type": "code",
   "execution_count": 94,
   "metadata": {
    "collapsed": false
   },
   "outputs": [
    {
     "name": "stdout",
     "output_type": "stream",
     "text": [
      "Help on built-in function __import__ in module builtins:\n",
      "\n",
      "__import__(...)\n",
      "    __import__(name, globals=None, locals=None, fromlist=(), level=0) -> module\n",
      "    \n",
      "    Import a module. Because this function is meant for use by the Python\n",
      "    interpreter and not for general use it is better to use\n",
      "    importlib.import_module() to programmatically import a module.\n",
      "    \n",
      "    The globals argument is only used to determine the context;\n",
      "    they are not modified.  The locals argument is unused.  The fromlist\n",
      "    should be a list of names to emulate ``from name import ...'', or an\n",
      "    empty list to emulate ``import name''.\n",
      "    When importing a module from a package, note that __import__('A.B', ...)\n",
      "    returns package A when fromlist is empty, but its submodule B when\n",
      "    fromlist is not empty.  Level is used to determine whether to perform \n",
      "    absolute or relative imports. 0 is absolute while a positive number\n",
      "    is the number of parent directories to search relative to the current module.\n",
      "\n"
     ]
    }
   ],
   "source": [
    "os.path.split('pthyon.pt')\n",
    "help(__import__)\n",
    "import importlib"
   ]
  },
  {
   "cell_type": "code",
   "execution_count": 97,
   "metadata": {
    "collapsed": false
   },
   "outputs": [
    {
     "name": "stdout",
     "output_type": "stream",
     "text": [
      "Help on function import_module in module importlib:\n",
      "\n",
      "import_module(name, package=None)\n",
      "    Import a module.\n",
      "    \n",
      "    The 'package' argument is required when performing a relative import. It\n",
      "    specifies the package to use as the anchor point from which to resolve the\n",
      "    relative import to an absolute import.\n",
      "\n"
     ]
    }
   ],
   "source": [
    "help(importlib.import_module)"
   ]
  },
  {
   "cell_type": "code",
   "execution_count": null,
   "metadata": {
    "collapsed": true
   },
   "outputs": [],
   "source": [
    "def print_helpfile():\n",
    "    print(\n",
    "    \"\"\"\n",
    "    This script takes word frequencies from a sqlite database and runs the Dynamic Topic Model by calling\n",
    "    David Blei's C executable.\n",
    "    \n",
    "    To execute it on the command line, run:\n",
    "        DTM.py --config /path/to/config_file.json\n",
    "        \n",
    "    the configuration file has the following structure:\n",
    "    {\n",
    "        \"corpus_db\":\"/path/to/corpus.db   # this is currently assumed to be a a sqlite db\n",
    "        \"doc_table\":\"name_of_doc_table\"   # this must have an ID column and a timestamp column\n",
    "        \"word_table\":\"name_of_word_table\" # this must have an ID column\n",
    "        \"doc_word_table\":\"name_of_doc_word_table\" # this must have doc ID and word ID columns and a count column\n",
    "        \"word_ID_column\":\"name_of_word_ID_column\"\n",
    "        \"doc_ID_column\":\"name_of_doc_ID_column\"\n",
    "        \"dtm_executable\":\"/path/to/dtm/main\"\n",
    "        \"dtm_args\":                       # see the example \n",
    "            {\n",
    "                \"mode\":\"fit\"\n",
    "                \"model\":\"dtm\"\n",
    "                \"ntopics\":100\n",
    "                \"lda_sequence_min_iter\":6\n",
    "                \"lda_sequence_max_iter\":20\n",
    "                \"lda_max_em_iter\":10\n",
    "                \"alpha\":0.01\n",
    "                \"top_chain_var\":0.005\n",
    "                \"rng_seed\":0\n",
    "                \"initialize_lda\":\"false\"\n",
    "            }\n",
    "    }\n",
    "        \n",
    "    \"\"\")\n",
    "    exit()"
   ]
  },
  {
   "cell_type": "code",
   "execution_count": 44,
   "metadata": {
    "collapsed": false
   },
   "outputs": [
    {
     "data": {
      "text/plain": [
       "['/home/matt/anaconda3/lib/python3.5/site-packages/ipykernel/__main__.py',\n",
       " '-f',\n",
       " '/run/user/1000/jupyter/kernel-afd76853-fae9-4c86-a5ab-ea30b1122ff3.json']"
      ]
     },
     "execution_count": 44,
     "metadata": {},
     "output_type": "execute_result"
    }
   ],
   "source": [
    "flag_actions = {'--config':read_config,'--help':print_helpfile}\n",
    "\n",
    "if '--help' in sys.argv:\n",
    "    print_helpfile()\n",
    "\n",
    "for arg in sys.argv:\n",
    "    "
   ]
  },
  {
   "cell_type": "code",
   "execution_count": 3,
   "metadata": {
    "collapsed": true
   },
   "outputs": [],
   "source": [
    "db_dir = '/home/matt/Datasets/Battelle Data/databases'\n",
    "doc_table = 'doc'\n",
    "word_table = 'word'\n",
    "doc_word_table = 'doc_word'\n",
    "docID_col = 'R'"
   ]
  },
  {
   "cell_type": "code",
   "execution_count": 4,
   "metadata": {
    "collapsed": true
   },
   "outputs": [],
   "source": [
    "os.chdir(db_dir)"
   ]
  },
  {
   "cell_type": "code",
   "execution_count": 5,
   "metadata": {
    "collapsed": false
   },
   "outputs": [
    {
     "data": {
      "text/plain": [
       "['sources.db', 't3.db', 'battelle-corpus.db', 'battelle.db']"
      ]
     },
     "execution_count": 5,
     "metadata": {},
     "output_type": "execute_result"
    }
   ],
   "source": [
    "df = pd.read_sql()"
   ]
  },
  {
   "cell_type": "code",
   "execution_count": 6,
   "metadata": {
    "collapsed": false
   },
   "outputs": [
    {
     "name": "stdout",
     "output_type": "stream",
     "text": [
      "Help on function read_sql_query in module pandas.io.sql:\n",
      "\n",
      "read_sql_query(sql, con, index_col=None, coerce_float=True, params=None, parse_dates=None, chunksize=None)\n",
      "    Read SQL query into a DataFrame.\n",
      "    \n",
      "    Returns a DataFrame corresponding to the result set of the query\n",
      "    string. Optionally provide an `index_col` parameter to use one of the\n",
      "    columns as the index, otherwise default integer index will be used.\n",
      "    \n",
      "    Parameters\n",
      "    ----------\n",
      "    sql : string SQL query or SQLAlchemy Selectable (select or text object)\n",
      "        to be executed.\n",
      "    con : SQLAlchemy connectable(engine/connection) or database string URI\n",
      "        or sqlite3 DBAPI2 connection\n",
      "        Using SQLAlchemy makes it possible to use any DB supported by that\n",
      "        library.\n",
      "        If a DBAPI2 object, only sqlite3 is supported.\n",
      "    index_col : string or list of strings, optional, default: None\n",
      "        Column(s) to set as index(MultiIndex)\n",
      "    coerce_float : boolean, default True\n",
      "        Attempt to convert values to non-string, non-numeric objects (like\n",
      "        decimal.Decimal) to floating point, useful for SQL result sets\n",
      "    params : list, tuple or dict, optional, default: None\n",
      "        List of parameters to pass to execute method.  The syntax used\n",
      "        to pass parameters is database driver dependent. Check your\n",
      "        database driver documentation for which of the five syntax styles,\n",
      "        described in PEP 249's paramstyle, is supported.\n",
      "        Eg. for psycopg2, uses %(name)s so use params={'name' : 'value'}\n",
      "    parse_dates : list or dict, default: None\n",
      "        - List of column names to parse as dates\n",
      "        - Dict of ``{column_name: format string}`` where format string is\n",
      "          strftime compatible in case of parsing string times or is one of\n",
      "          (D, s, ns, ms, us) in case of parsing integer timestamps\n",
      "        - Dict of ``{column_name: arg dict}``, where the arg dict corresponds\n",
      "          to the keyword arguments of :func:`pandas.to_datetime`\n",
      "          Especially useful with databases without native Datetime support,\n",
      "          such as SQLite\n",
      "    chunksize : int, default None\n",
      "        If specified, return an iterator where `chunksize` is the number of\n",
      "        rows to include in each chunk.\n",
      "    \n",
      "    Returns\n",
      "    -------\n",
      "    DataFrame\n",
      "    \n",
      "    Notes\n",
      "    -----\n",
      "    Any datetime values with time zone information parsed via the `parse_dates`\n",
      "    parameter will be converted to UTC\n",
      "    \n",
      "    See also\n",
      "    --------\n",
      "    read_sql_table : Read SQL database table into a DataFrame\n",
      "    read_sql\n",
      "\n"
     ]
    }
   ],
   "source": [
    "help(pd.read_sql_query)"
   ]
  },
  {
   "cell_type": "code",
   "execution_count": 9,
   "metadata": {
    "collapsed": false
   },
   "outputs": [],
   "source": [
    "con = sql.connect('battelle-corpus.db')"
   ]
  },
  {
   "cell_type": "code",
   "execution_count": 26,
   "metadata": {
    "collapsed": false
   },
   "outputs": [],
   "source": [
    "cur = con.cursor()"
   ]
  },
  {
   "cell_type": "code",
   "execution_count": 35,
   "metadata": {
    "collapsed": false
   },
   "outputs": [
    {
     "ename": "OperationalError",
     "evalue": "near \"doc\": syntax error",
     "output_type": "error",
     "traceback": [
      "\u001b[1;31m---------------------------------------------------------------------------\u001b[0m",
      "\u001b[1;31mOperationalError\u001b[0m                          Traceback (most recent call last)",
      "\u001b[1;32m<ipython-input-35-bfb2600c06e0>\u001b[0m in \u001b[0;36m<module>\u001b[1;34m()\u001b[0m\n\u001b[1;32m----> 1\u001b[1;33m \u001b[0mdf\u001b[0m \u001b[1;33m=\u001b[0m \u001b[0mcur\u001b[0m\u001b[1;33m.\u001b[0m\u001b[0mexecute\u001b[0m\u001b[1;33m(\u001b[0m\u001b[1;34m\"SELECT * from docword NATURAL_JOIN doc\"\u001b[0m\u001b[1;33m)\u001b[0m\u001b[1;33m.\u001b[0m\u001b[0mfetchall\u001b[0m\u001b[1;33m(\u001b[0m\u001b[1;33m)\u001b[0m\u001b[1;33m\u001b[0m\u001b[0m\n\u001b[0m",
      "\u001b[1;31mOperationalError\u001b[0m: near \"doc\": syntax error"
     ]
    }
   ],
   "source": [
    "df = cur.execute(\"SELECT * from docword  doc\").fetchall()"
   ]
  },
  {
   "cell_type": "code",
   "execution_count": 31,
   "metadata": {
    "collapsed": false
   },
   "outputs": [
    {
     "ename": "OperationalError",
     "evalue": "near \".\": syntax error",
     "output_type": "error",
     "traceback": [
      "\u001b[1;31m---------------------------------------------------------------------------\u001b[0m",
      "\u001b[1;31mOperationalError\u001b[0m                          Traceback (most recent call last)",
      "\u001b[1;32m<ipython-input-31-5181b2ca7fdb>\u001b[0m in \u001b[0;36m<module>\u001b[1;34m()\u001b[0m\n\u001b[1;32m----> 1\u001b[1;33m \u001b[0mtables\u001b[0m \u001b[1;33m=\u001b[0m \u001b[0mcur\u001b[0m\u001b[1;33m.\u001b[0m\u001b[0mexecute\u001b[0m\u001b[1;33m(\u001b[0m\u001b[1;34mr\".tables\"\u001b[0m\u001b[1;33m)\u001b[0m\u001b[1;33m\u001b[0m\u001b[0m\n\u001b[0m",
      "\u001b[1;31mOperationalError\u001b[0m: near \".\": syntax error"
     ]
    }
   ],
   "source": [
    "tables = cur.execute(r\".tables\")\n"
   ]
  },
  {
   "cell_type": "code",
   "execution_count": 33,
   "metadata": {
    "collapsed": false
   },
   "outputs": [
    {
     "data": {
      "text/plain": [
       "(0, 1, 1246, 'Therefore', 1)"
      ]
     },
     "execution_count": 33,
     "metadata": {},
     "output_type": "execute_result"
    }
   ],
   "source": [
    "df[0]"
   ]
  },
  {
   "cell_type": "code",
   "execution_count": 38,
   "metadata": {
    "collapsed": true
   },
   "outputs": [],
   "source": [
    "tables = cur.execute(\"select * from sqlite_master where type = 'table'\").fetchall()"
   ]
  },
  {
   "cell_type": "code",
   "execution_count": 39,
   "metadata": {
    "collapsed": false
   },
   "outputs": [
    {
     "data": {
      "text/plain": [
       "[('table',\n",
       "  'doc',\n",
       "  'doc',\n",
       "  2,\n",
       "  'CREATE TABLE doc (doc_index INTEGER,doc_id INTEGER PRIMARY KEY,doc_label TEXT,doc_str TEXT)'),\n",
       " ('table',\n",
       "  'docword',\n",
       "  'docword',\n",
       "  86785,\n",
       "  'CREATE TABLE docword (doc_index INTEGER,doc_id INTEGER,word_id INTEGER,word_str TEXT,word_count INTEGER)'),\n",
       " ('table',\n",
       "  'word',\n",
       "  'word',\n",
       "  86252,\n",
       "  'CREATE TABLE word (word_id INTEGER PRIMARY KEY,word_str TEXT,word_freq INTEGER,word_stem TEXT)'),\n",
       " ('table',\n",
       "  'bigram',\n",
       "  'bigram',\n",
       "  178204,\n",
       "  'CREATE TABLE bigram (word_str_1 TEXT,word_str_2 TEXT,bigram_score REAL)')]"
      ]
     },
     "execution_count": 39,
     "metadata": {},
     "output_type": "execute_result"
    }
   ],
   "source": [
    "tables"
   ]
  },
  {
   "cell_type": "code",
   "execution_count": 40,
   "metadata": {
    "collapsed": true
   },
   "outputs": [],
   "source": [
    "times = cur.execute(\"select doc_label from doc\").fetchall()"
   ]
  },
  {
   "cell_type": "code",
   "execution_count": 45,
   "metadata": {
    "collapsed": false
   },
   "outputs": [
    {
     "data": {
      "text/plain": [
       "<function posix.execv>"
      ]
     },
     "execution_count": 45,
     "metadata": {},
     "output_type": "execute_result"
    }
   ],
   "source": [
    "os.execv"
   ]
  },
  {
   "cell_type": "code",
   "execution_count": 46,
   "metadata": {
    "collapsed": true
   },
   "outputs": [],
   "source": [
    "bashCommand = \"ls\"\n",
    "import subprocess\n",
    "process = subprocess.Popen(bashCommand.split(), stdout=subprocess.PIPE)\n",
    "output = process.communicate()[0]"
   ]
  },
  {
   "cell_type": "code",
   "execution_count": 51,
   "metadata": {
    "collapsed": false
   },
   "outputs": [],
   "source": [
    "import logging"
   ]
  },
  {
   "cell_type": "code",
   "execution_count": 52,
   "metadata": {
    "collapsed": true
   },
   "outputs": [],
   "source": [
    "logger = logging.getLogger(__name__)"
   ]
  },
  {
   "cell_type": "code",
   "execution_count": 55,
   "metadata": {
    "collapsed": false
   },
   "outputs": [
    {
     "name": "stderr",
     "output_type": "stream",
     "text": [
      "WARNING:__main__:foo\n"
     ]
    }
   ],
   "source": [
    "logger.warning(\"foo\")"
   ]
  },
  {
   "cell_type": "code",
   "execution_count": 56,
   "metadata": {
    "collapsed": false
   },
   "outputs": [
    {
     "data": {
      "text/plain": [
       "'__main__'"
      ]
     },
     "execution_count": 56,
     "metadata": {},
     "output_type": "execute_result"
    }
   ],
   "source": [
    "__name__"
   ]
  },
  {
   "cell_type": "code",
   "execution_count": 65,
   "metadata": {
    "collapsed": false
   },
   "outputs": [
    {
     "data": {
      "text/plain": [
       "111"
      ]
     },
     "execution_count": 65,
     "metadata": {},
     "output_type": "execute_result"
    }
   ],
   "source": [
    "d = dict(a=111)\n",
    "globals().update(d)\n",
    "a"
   ]
  },
  {
   "cell_type": "code",
   "execution_count": 63,
   "metadata": {
    "collapsed": true
   },
   "outputs": [],
   "source": [
    "d.update(dict(b=222))"
   ]
  },
  {
   "cell_type": "code",
   "execution_count": 64,
   "metadata": {
    "collapsed": false
   },
   "outputs": [
    {
     "data": {
      "text/plain": [
       "{'a': 111, 'b': 222}"
      ]
     },
     "execution_count": 64,
     "metadata": {},
     "output_type": "execute_result"
    }
   ],
   "source": [
    "d"
   ]
  },
  {
   "cell_type": "code",
   "execution_count": null,
   "metadata": {
    "collapsed": true
   },
   "outputs": [],
   "source": []
  }
 ],
 "metadata": {
  "kernelspec": {
   "display_name": "Python 3",
   "language": "python",
   "name": "python3"
  },
  "language_info": {
   "codemirror_mode": {
    "name": "ipython",
    "version": 3
   },
   "file_extension": ".py",
   "mimetype": "text/x-python",
   "name": "python",
   "nbconvert_exporter": "python",
   "pygments_lexer": "ipython3",
   "version": "3.5.1"
  }
 },
 "nbformat": 4,
 "nbformat_minor": 0
}
