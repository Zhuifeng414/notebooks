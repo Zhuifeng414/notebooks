{
 "cells": [
  {
   "cell_type": "code",
   "execution_count": 5,
   "metadata": {
    "collapsed": false
   },
   "outputs": [],
   "source": [
    "import gensim as gs\n",
    "from gensim import corpora as cor\n",
    "import os\n",
    "import json\n",
    "from pandas import to_datetime\n",
    "from text_pipeline import *"
   ]
  },
  {
   "cell_type": "code",
   "execution_count": 6,
   "metadata": {
    "collapsed": true
   },
   "outputs": [],
   "source": [
    "os.chdir('/home/matt/Desktop/sandbox/DTM_test/')"
   ]
  },
  {
   "cell_type": "code",
   "execution_count": 7,
   "metadata": {
    "collapsed": true
   },
   "outputs": [],
   "source": [
    "dtmpath = 'dtm/dtm/main'\n",
    "processorconfigpath = 'complete_unigrams_config.json'\n",
    "docdir='data'"
   ]
  },
  {
   "cell_type": "code",
   "execution_count": 8,
   "metadata": {
    "collapsed": true
   },
   "outputs": [],
   "source": [
    "class RecordIter:\n",
    "    #iterates over individual records in a file, in this case a json with records in a slot labelled 'Reviews'\n",
    "    def __init__(self, filepath, encodings=['iso-8859-1','utf-16le']):\n",
    "        with open(filepath,'r') as readfile:\n",
    "            data = json.load(readfile)\n",
    "            self.data = data['Reviews']\n",
    "            self.docs = iter(self.data)\n",
    "            \n",
    "    def __iter__(self):\n",
    "        return self\n",
    "    \n",
    "    def __next__(self):\n",
    "        try:\n",
    "            nextdoc = next(self.docs)\n",
    "        except:\n",
    "            raise StopIteration\n",
    "        else:\n",
    "            return nextdoc\n"
   ]
  },
  {
   "cell_type": "code",
   "execution_count": 9,
   "metadata": {
    "collapsed": false
   },
   "outputs": [],
   "source": [
    "docs = DocIter(docdir,recursive=True,recordIter=RecordIter)\n",
    "processor = Processor(processorconfigpath)\n",
    "id2word = cor.Dictionary()"
   ]
  },
  {
   "cell_type": "code",
   "execution_count": 10,
   "metadata": {
    "collapsed": false
   },
   "outputs": [],
   "source": [
    "corpus = []\n",
    "months = []\n",
    "years = []"
   ]
  },
  {
   "cell_type": "code",
   "execution_count": 11,
   "metadata": {
    "collapsed": false
   },
   "outputs": [],
   "source": [
    "for doc in docs:\n",
    "    \n",
    "    #print(doc)\n",
    "    #doc = docs.__next__()\n",
    "    \n",
    "    try:\n",
    "        date = to_datetime(doc['Date'])\n",
    "        #print(date)\n",
    "    except:\n",
    "        continue\n",
    "    else:\n",
    "        months.append(date.month)\n",
    "        years.append(date.year)\n",
    "        \n",
    "        tokens = gs.utils.simple_preprocess(doc['Content'])\n",
    "        #tokens = [str(token) for token in tokens]\n",
    "        id2word.add_documents([tokens])\n",
    "        bow = id2word.doc2bow(tokens)\n",
    "        corpus.append(bow)"
   ]
  },
  {
   "cell_type": "code",
   "execution_count": 12,
   "metadata": {
    "collapsed": true
   },
   "outputs": [],
   "source": [
    "# class gensim.models.dtmmodel.DtmModel(dtm_path, corpus=None, time_slices=None, \n",
    "#                                       num_topics=100, id2word=None, prefix=None, \n",
    "#                                       lda_sequence_min_iter=6, lda_sequence_max_iter=20, \n",
    "#                                       lda_max_em_iter=10, alpha=0.01, top_chain_var=0.005, \n",
    "#                                       rng_seed=0, initialize_lda=False)\n",
    "#\n",
    "#    Bases: gensim.utils.SaveLoad\n",
    "#\n",
    "#    Class for DTM training using DTM binary. Communication between DTM and Python takes place by passing around data files on disk and executing the DTM binary as a subprocess.\n",
    "#\n",
    "#    dtm_path is path to the dtm executable, e.g. C:/dtm/dtm-win64.exe.\n",
    "#\n",
    "#    corpus is a gensim corpus, aka a stream of sparse document vectors.\n",
    "#\n",
    "#    id2word is a mapping between tokens ids and token.\n",
    "#\n",
    "#    lda_sequence_min_iter min iteration of LDA.\n",
    "#\n",
    "#    lda_sequence_max_iter max iteration of LDA.\n",
    "#\n",
    "#    lda_max_em_iter max em optiimzatiion iterations in LDA.\n",
    "#\n",
    "#    alpha is a hyperparameter that affects sparsity of the document-topics for the LDA models in each timeslice.\n",
    "#\n",
    "#    top_chain_var is a hyperparameter that affects.\n",
    "#\n",
    "#    rng_seed is the random seed.\n",
    "#\n",
    "#    initialize_lda initialize DTM with LDA."
   ]
  },
  {
   "cell_type": "code",
   "execution_count": 13,
   "metadata": {
    "collapsed": true
   },
   "outputs": [],
   "source": [
    "# So this DTM model has this idiotic way of representing timeslices as # docs in each slice; the \n",
    "# docs have to be SORTED by time first.\n",
    "# So I made up some timeslices here following that format rather than sort for now\n",
    "timeslices = [(len(corpus)//11)]*11\n",
    "\n",
    "timeslices[10] = len(corpus) - sum(timeslices[0:10])"
   ]
  },
  {
   "cell_type": "code",
   "execution_count": 14,
   "metadata": {
    "collapsed": false,
    "scrolled": true
   },
   "outputs": [
    {
     "ename": "CalledProcessError",
     "evalue": "Command '['dtm/dtm/main', '--ntopics=40', '--model=dtm', '--mode=fit', '--initialize_lda=false', '--corpus_prefix=/tmp/76c91d_train', '--outname=/tmp/76c91d_train_out', '--alpha=0.01', '--lda_max_em_iter=10', '--lda_sequence_min_iter=6', '--lda_sequence_max_iter=20', '--top_chain_var=0.005', '--rng_seed=0']' returned non-zero exit status -11",
     "output_type": "error",
     "traceback": [
      "\u001b[1;31m---------------------------------------------------------------------------\u001b[0m",
      "\u001b[1;31mCalledProcessError\u001b[0m                        Traceback (most recent call last)",
      "\u001b[1;32m<ipython-input-14-fd22653cec2d>\u001b[0m in \u001b[0;36m<module>\u001b[1;34m()\u001b[0m\n\u001b[1;32m----> 1\u001b[1;33m \u001b[0mDTM\u001b[0m \u001b[1;33m=\u001b[0m \u001b[0mgs\u001b[0m\u001b[1;33m.\u001b[0m\u001b[0mmodels\u001b[0m\u001b[1;33m.\u001b[0m\u001b[0mwrappers\u001b[0m\u001b[1;33m.\u001b[0m\u001b[0mDtmModel\u001b[0m\u001b[1;33m(\u001b[0m\u001b[0mdtm_path\u001b[0m\u001b[1;33m=\u001b[0m\u001b[0mdtmpath\u001b[0m\u001b[1;33m,\u001b[0m\u001b[0mcorpus\u001b[0m\u001b[1;33m=\u001b[0m\u001b[0mcorpus\u001b[0m\u001b[1;33m,\u001b[0m\u001b[0mid2word\u001b[0m\u001b[1;33m=\u001b[0m\u001b[0mid2word\u001b[0m\u001b[1;33m,\u001b[0m\u001b[0mtime_slices\u001b[0m\u001b[1;33m=\u001b[0m\u001b[0mtimeslices\u001b[0m\u001b[1;33m,\u001b[0m\u001b[0mnum_topics\u001b[0m\u001b[1;33m=\u001b[0m\u001b[1;36m40\u001b[0m\u001b[1;33m)\u001b[0m\u001b[1;33m\u001b[0m\u001b[0m\n\u001b[0m",
      "\u001b[1;32m/home/matt/anaconda3/lib/python3.5/site-packages/gensim/models/wrappers/dtmmodel.py\u001b[0m in \u001b[0;36m__init__\u001b[1;34m(self, dtm_path, corpus, time_slices, mode, model, num_topics, id2word, prefix, lda_sequence_min_iter, lda_sequence_max_iter, lda_max_em_iter, alpha, top_chain_var, rng_seed, initialize_lda)\u001b[0m\n\u001b[0;32m    123\u001b[0m \u001b[1;33m\u001b[0m\u001b[0m\n\u001b[0;32m    124\u001b[0m         \u001b[1;32mif\u001b[0m \u001b[0mcorpus\u001b[0m \u001b[1;32mis\u001b[0m \u001b[1;32mnot\u001b[0m \u001b[1;32mNone\u001b[0m\u001b[1;33m:\u001b[0m\u001b[1;33m\u001b[0m\u001b[0m\n\u001b[1;32m--> 125\u001b[1;33m             \u001b[0mself\u001b[0m\u001b[1;33m.\u001b[0m\u001b[0mtrain\u001b[0m\u001b[1;33m(\u001b[0m\u001b[0mcorpus\u001b[0m\u001b[1;33m,\u001b[0m \u001b[0mtime_slices\u001b[0m\u001b[1;33m,\u001b[0m \u001b[0mmode\u001b[0m\u001b[1;33m,\u001b[0m \u001b[0mmodel\u001b[0m\u001b[1;33m)\u001b[0m\u001b[1;33m\u001b[0m\u001b[0m\n\u001b[0m\u001b[0;32m    126\u001b[0m \u001b[1;33m\u001b[0m\u001b[0m\n\u001b[0;32m    127\u001b[0m     \u001b[1;32mdef\u001b[0m \u001b[0mfout_liklihoods\u001b[0m\u001b[1;33m(\u001b[0m\u001b[0mself\u001b[0m\u001b[1;33m)\u001b[0m\u001b[1;33m:\u001b[0m\u001b[1;33m\u001b[0m\u001b[0m\n",
      "\u001b[1;32m/home/matt/anaconda3/lib/python3.5/site-packages/gensim/models/wrappers/dtmmodel.py\u001b[0m in \u001b[0;36mtrain\u001b[1;34m(self, corpus, time_slices, mode, model)\u001b[0m\n\u001b[0;32m    196\u001b[0m         \u001b[0mcmd\u001b[0m \u001b[1;33m=\u001b[0m \u001b[1;33m[\u001b[0m\u001b[0mself\u001b[0m\u001b[1;33m.\u001b[0m\u001b[0mdtm_path\u001b[0m\u001b[1;33m]\u001b[0m \u001b[1;33m+\u001b[0m \u001b[0marguments\u001b[0m\u001b[1;33m.\u001b[0m\u001b[0msplit\u001b[0m\u001b[1;33m(\u001b[0m\u001b[1;33m)\u001b[0m\u001b[1;33m\u001b[0m\u001b[0m\n\u001b[0;32m    197\u001b[0m         \u001b[0mlogger\u001b[0m\u001b[1;33m.\u001b[0m\u001b[0minfo\u001b[0m\u001b[1;33m(\u001b[0m\u001b[1;34m\"Running command %s\"\u001b[0m \u001b[1;33m%\u001b[0m \u001b[0mcmd\u001b[0m\u001b[1;33m)\u001b[0m\u001b[1;33m\u001b[0m\u001b[0m\n\u001b[1;32m--> 198\u001b[1;33m         \u001b[0mcheck_output\u001b[0m\u001b[1;33m(\u001b[0m\u001b[0mcmd\u001b[0m\u001b[1;33m,\u001b[0m \u001b[0mstderr\u001b[0m\u001b[1;33m=\u001b[0m\u001b[0mPIPE\u001b[0m\u001b[1;33m)\u001b[0m\u001b[1;33m\u001b[0m\u001b[0m\n\u001b[0m\u001b[0;32m    199\u001b[0m \u001b[1;33m\u001b[0m\u001b[0m\n\u001b[0;32m    200\u001b[0m         \u001b[0mself\u001b[0m\u001b[1;33m.\u001b[0m\u001b[0mem_steps\u001b[0m \u001b[1;33m=\u001b[0m \u001b[0mnp\u001b[0m\u001b[1;33m.\u001b[0m\u001b[0mloadtxt\u001b[0m\u001b[1;33m(\u001b[0m\u001b[0mself\u001b[0m\u001b[1;33m.\u001b[0m\u001b[0mfem_steps\u001b[0m\u001b[1;33m(\u001b[0m\u001b[1;33m)\u001b[0m\u001b[1;33m)\u001b[0m\u001b[1;33m\u001b[0m\u001b[0m\n",
      "\u001b[1;32m/home/matt/anaconda3/lib/python3.5/site-packages/gensim/utils.py\u001b[0m in \u001b[0;36mcheck_output\u001b[1;34m(*popenargs, **kwargs)\u001b[0m\n\u001b[0;32m   1161\u001b[0m             \u001b[0merror\u001b[0m \u001b[1;33m=\u001b[0m \u001b[0msubprocess\u001b[0m\u001b[1;33m.\u001b[0m\u001b[0mCalledProcessError\u001b[0m\u001b[1;33m(\u001b[0m\u001b[0mretcode\u001b[0m\u001b[1;33m,\u001b[0m \u001b[0mcmd\u001b[0m\u001b[1;33m)\u001b[0m\u001b[1;33m\u001b[0m\u001b[0m\n\u001b[0;32m   1162\u001b[0m             \u001b[0merror\u001b[0m\u001b[1;33m.\u001b[0m\u001b[0moutput\u001b[0m \u001b[1;33m=\u001b[0m \u001b[0moutput\u001b[0m\u001b[1;33m\u001b[0m\u001b[0m\n\u001b[1;32m-> 1163\u001b[1;33m             \u001b[1;32mraise\u001b[0m \u001b[0merror\u001b[0m\u001b[1;33m\u001b[0m\u001b[0m\n\u001b[0m\u001b[0;32m   1164\u001b[0m         \u001b[1;32mreturn\u001b[0m \u001b[0moutput\u001b[0m\u001b[1;33m\u001b[0m\u001b[0m\n\u001b[0;32m   1165\u001b[0m     \u001b[1;32mexcept\u001b[0m \u001b[0mKeyboardInterrupt\u001b[0m\u001b[1;33m:\u001b[0m\u001b[1;33m\u001b[0m\u001b[0m\n",
      "\u001b[1;31mCalledProcessError\u001b[0m: Command '['dtm/dtm/main', '--ntopics=40', '--model=dtm', '--mode=fit', '--initialize_lda=false', '--corpus_prefix=/tmp/76c91d_train', '--outname=/tmp/76c91d_train_out', '--alpha=0.01', '--lda_max_em_iter=10', '--lda_sequence_min_iter=6', '--lda_sequence_max_iter=20', '--top_chain_var=0.005', '--rng_seed=0']' returned non-zero exit status -11"
     ]
    }
   ],
   "source": [
    "DTM = gs.models.wrappers.DtmModel(dtm_path=dtmpath,corpus=corpus,id2word=id2word,time_slices=timeslices,num_topics=40)"
   ]
  }
 ],
 "metadata": {
  "kernelspec": {
   "display_name": "Python 3",
   "language": "python",
   "name": "python3"
  },
  "language_info": {
   "codemirror_mode": {
    "name": "ipython",
    "version": 3
   },
   "file_extension": ".py",
   "mimetype": "text/x-python",
   "name": "python",
   "nbconvert_exporter": "python",
   "pygments_lexer": "ipython3",
   "version": "3.5.1"
  }
 },
 "nbformat": 4,
 "nbformat_minor": 0
}
