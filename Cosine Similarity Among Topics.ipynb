{
 "cells": [
  {
   "cell_type": "code",
   "execution_count": null,
   "metadata": {
    "collapsed": false
   },
   "outputs": [],
   "source": [
    "import sqlite3\n",
    "from sklearn.metrics.pairwise import cosine_similarity\n",
    "\n",
    "print(\"BOO\")\n",
    "distance = {}\n",
    "dbfile = '/Users/rca2t/Documents/Projects/Battelle/models/battelle-model-z200-i1000-1454178333.db'\n",
    "with sqlite3.connect(dbfile) as conn:\n",
    "    cur = conn.cursor()\n",
    "    for i in range(200):\n",
    "        A = 't{}'.format(i)\n",
    "        distance[A] = {}\n",
    "        for j in range(i,200):\n",
    "            B = 't{}'.format(j)\n",
    "            sql = \"SELECT t{}, t{} from topicword ORDER BY word_id\".format(i,j)\n",
    "            for r in cur.execute(sql):\n",
    "                a = r[0]\n",
    "                b = r[1]\n",
    "                distance[A][B] = abs(a-b)\n",
    "                \n",
    "for a in distance:\n",
    "    for b in distance[a]:\n",
    "        print(a,b,distance[a][b])\n"
   ]
  },
  {
   "cell_type": "code",
   "execution_count": null,
   "metadata": {
    "collapsed": true
   },
   "outputs": [],
   "source": []
  }
 ],
 "metadata": {
  "kernelspec": {
   "display_name": "Python 3",
   "language": "python",
   "name": "python3"
  },
  "language_info": {
   "codemirror_mode": {
    "name": "ipython",
    "version": 3
   },
   "file_extension": ".py",
   "mimetype": "text/x-python",
   "name": "python",
   "nbconvert_exporter": "python",
   "pygments_lexer": "ipython3",
   "version": "3.5.1"
  }
 },
 "nbformat": 4,
 "nbformat_minor": 0
}
