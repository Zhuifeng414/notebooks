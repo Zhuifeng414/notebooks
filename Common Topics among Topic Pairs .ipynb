{
 "cells": [
  {
   "cell_type": "code",
   "execution_count": 3,
   "metadata": {
    "collapsed": false
   },
   "outputs": [],
   "source": [
    "import sqlite3\n",
    "import pandas as pd\n",
    "\n",
    "db = sqlite3.connect('../battelle.db')\n",
    "cur = db.cursor()"
   ]
  },
  {
   "cell_type": "code",
   "execution_count": 18,
   "metadata": {
    "collapsed": false
   },
   "outputs": [],
   "source": [
    "TP = pd.read_sql_query(\"SELECT topic_id1, topic_id2, js_div FROM topicpair\",db)\n",
    "tp_desc = TP.describe()"
   ]
  },
  {
   "cell_type": "code",
   "execution_count": 17,
   "metadata": {
    "collapsed": false
   },
   "outputs": [],
   "source": [
    "thresh = tp_desc['js_div'][4] # This is the 25th percential mark\n",
    "z = 200\n",
    "\n",
    "sql = '''\n",
    "SELECT topic_id2, js_div FROM topicpair WHERE topic_id1 = ? AND js_div <= {0}\n",
    "INTERSECT\n",
    "SELECT topic_id2, js_div FROM topicpair WHERE topic_id1 = ? AND js_div <= {0}\n",
    "ORDER BY js_div\n",
    "'''.format(thresh)\n",
    "\n",
    "for i in range(z):\n",
    "    for j in range(i+1,z):\n",
    "        for r in cur.execute(sql,[i,j]):\n",
    "            print(i,j,r)"
   ]
  },
  {
   "cell_type": "markdown",
   "metadata": {},
   "source": [
    "This code seems to show that there are very fews (1?) topics that two topics are similar to by the J-S Divergence metric. Which is weird."
   ]
  },
  {
   "cell_type": "code",
   "execution_count": null,
   "metadata": {
    "collapsed": true
   },
   "outputs": [],
   "source": []
  }
 ],
 "metadata": {
  "kernelspec": {
   "display_name": "Python 3",
   "language": "python",
   "name": "python3"
  },
  "language_info": {
   "codemirror_mode": {
    "name": "ipython",
    "version": 3
   },
   "file_extension": ".py",
   "mimetype": "text/x-python",
   "name": "python",
   "nbconvert_exporter": "python",
   "pygments_lexer": "ipython3",
   "version": "3.5.1"
  }
 },
 "nbformat": 4,
 "nbformat_minor": 0
}
